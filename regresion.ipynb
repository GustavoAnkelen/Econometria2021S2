{
 "cells": [
  {
   "cell_type": "code",
   "execution_count": 1,
   "metadata": {},
   "outputs": [
    {
     "name": "stderr",
     "output_type": "stream",
     "text": [
      "\n",
      "Attaching package: 'olsrr'\n",
      "\n",
      "\n",
      "The following object is masked from 'package:datasets':\n",
      "\n",
      "    rivers\n",
      "\n",
      "\n",
      "\n",
      "Attaching package: 'MASS'\n",
      "\n",
      "\n",
      "The following object is masked from 'package:olsrr':\n",
      "\n",
      "    cement\n",
      "\n",
      "\n",
      "Warning message:\n",
      "\"package 'psych' was built under R version 4.1.2\"\n",
      "Warning message:\n",
      "\"package 'fitdistrplus' was built under R version 4.1.2\"\n",
      "Loading required package: survival\n",
      "\n",
      "\n",
      "Attaching package: 'ggplot2'\n",
      "\n",
      "\n",
      "The following objects are masked from 'package:psych':\n",
      "\n",
      "    %+%, alpha\n",
      "\n",
      "\n",
      "Warning message:\n",
      "\"package 'Hmisc' was built under R version 4.1.2\"\n",
      "\n",
      "Attaching package: 'Hmisc'\n",
      "\n",
      "\n",
      "The following object is masked from 'package:psych':\n",
      "\n",
      "    describe\n",
      "\n",
      "\n",
      "The following objects are masked from 'package:base':\n",
      "\n",
      "    format.pval, units\n",
      "\n",
      "\n"
     ]
    }
   ],
   "source": [
    "library(readr)\n",
    "library(readxl)\n",
    "library(olsrr)\n",
    "library(MASS)\n",
    "library(normtest)\n",
    "library(nortest)\n",
    "library(psych)\n",
    "library(fitdistrplus)\n",
    "library(lattice)\n",
    "library(survival)\n",
    "library(Formula)\n",
    "library(ggplot2)\n",
    "library(\"Hmisc\")"
   ]
  },
  {
   "cell_type": "code",
   "execution_count": 2,
   "metadata": {},
   "outputs": [],
   "source": [
    "casen <- read_excel('CASEN_DB.xlsx')"
   ]
  },
  {
   "cell_type": "code",
   "execution_count": 3,
   "metadata": {},
   "outputs": [
    {
     "data": {
      "text/html": [
       "<table class=\"dataframe\">\n",
       "<caption>A tibble: 6 × 13</caption>\n",
       "<thead>\n",
       "\t<tr><th scope=col>X1</th><th scope=col>X2</th><th scope=col>X3</th><th scope=col>X4</th><th scope=col>X5</th><th scope=col>X6</th><th scope=col>V1</th><th scope=col>V2</th><th scope=col>Z1</th><th scope=col>E1</th><th scope=col>E2</th><th scope=col>R</th><th scope=col>O</th></tr>\n",
       "\t<tr><th scope=col>&lt;dbl&gt;</th><th scope=col>&lt;dbl&gt;</th><th scope=col>&lt;dbl&gt;</th><th scope=col>&lt;dbl&gt;</th><th scope=col>&lt;dbl&gt;</th><th scope=col>&lt;dbl&gt;</th><th scope=col>&lt;dbl&gt;</th><th scope=col>&lt;dbl&gt;</th><th scope=col>&lt;dbl&gt;</th><th scope=col>&lt;dbl&gt;</th><th scope=col>&lt;dbl&gt;</th><th scope=col>&lt;dbl&gt;</th><th scope=col>&lt;dbl&gt;</th></tr>\n",
       "</thead>\n",
       "<tbody>\n",
       "\t<tr><td>119410</td><td>260000</td><td>854170</td><td> 83340</td><td> 778376</td><td>100000</td><td>1</td><td>0</td><td>1</td><td>1</td><td>0</td><td>1</td><td>1</td></tr>\n",
       "\t<tr><td> 79610</td><td>100000</td><td>975000</td><td>125000</td><td> 585961</td><td>110000</td><td>0</td><td>1</td><td>1</td><td>1</td><td>0</td><td>0</td><td>0</td></tr>\n",
       "\t<tr><td> 39800</td><td>700000</td><td>662500</td><td>250000</td><td>2838385</td><td>120000</td><td>1</td><td>0</td><td>1</td><td>1</td><td>0</td><td>0</td><td>1</td></tr>\n",
       "\t<tr><td> 39800</td><td>700000</td><td>662500</td><td>250000</td><td>2838385</td><td>120000</td><td>1</td><td>0</td><td>1</td><td>1</td><td>0</td><td>0</td><td>1</td></tr>\n",
       "\t<tr><td>119410</td><td>320000</td><td>500000</td><td> 83330</td><td> 789907</td><td>100000</td><td>1</td><td>0</td><td>1</td><td>1</td><td>0</td><td>0</td><td>1</td></tr>\n",
       "\t<tr><td> 79610</td><td>700000</td><td>733330</td><td> 83330</td><td>1131115</td><td>120000</td><td>1</td><td>0</td><td>1</td><td>1</td><td>0</td><td>0</td><td>1</td></tr>\n",
       "</tbody>\n",
       "</table>\n"
      ],
      "text/latex": [
       "A tibble: 6 × 13\n",
       "\\begin{tabular}{lllllllllllll}\n",
       " X1 & X2 & X3 & X4 & X5 & X6 & V1 & V2 & Z1 & E1 & E2 & R & O\\\\\n",
       " <dbl> & <dbl> & <dbl> & <dbl> & <dbl> & <dbl> & <dbl> & <dbl> & <dbl> & <dbl> & <dbl> & <dbl> & <dbl>\\\\\n",
       "\\hline\n",
       "\t 119410 & 260000 & 854170 &  83340 &  778376 & 100000 & 1 & 0 & 1 & 1 & 0 & 1 & 1\\\\\n",
       "\t  79610 & 100000 & 975000 & 125000 &  585961 & 110000 & 0 & 1 & 1 & 1 & 0 & 0 & 0\\\\\n",
       "\t  39800 & 700000 & 662500 & 250000 & 2838385 & 120000 & 1 & 0 & 1 & 1 & 0 & 0 & 1\\\\\n",
       "\t  39800 & 700000 & 662500 & 250000 & 2838385 & 120000 & 1 & 0 & 1 & 1 & 0 & 0 & 1\\\\\n",
       "\t 119410 & 320000 & 500000 &  83330 &  789907 & 100000 & 1 & 0 & 1 & 1 & 0 & 0 & 1\\\\\n",
       "\t  79610 & 700000 & 733330 &  83330 & 1131115 & 120000 & 1 & 0 & 1 & 1 & 0 & 0 & 1\\\\\n",
       "\\end{tabular}\n"
      ],
      "text/markdown": [
       "\n",
       "A tibble: 6 × 13\n",
       "\n",
       "| X1 &lt;dbl&gt; | X2 &lt;dbl&gt; | X3 &lt;dbl&gt; | X4 &lt;dbl&gt; | X5 &lt;dbl&gt; | X6 &lt;dbl&gt; | V1 &lt;dbl&gt; | V2 &lt;dbl&gt; | Z1 &lt;dbl&gt; | E1 &lt;dbl&gt; | E2 &lt;dbl&gt; | R &lt;dbl&gt; | O &lt;dbl&gt; |\n",
       "|---|---|---|---|---|---|---|---|---|---|---|---|---|\n",
       "| 119410 | 260000 | 854170 |  83340 |  778376 | 100000 | 1 | 0 | 1 | 1 | 0 | 1 | 1 |\n",
       "|  79610 | 100000 | 975000 | 125000 |  585961 | 110000 | 0 | 1 | 1 | 1 | 0 | 0 | 0 |\n",
       "|  39800 | 700000 | 662500 | 250000 | 2838385 | 120000 | 1 | 0 | 1 | 1 | 0 | 0 | 1 |\n",
       "|  39800 | 700000 | 662500 | 250000 | 2838385 | 120000 | 1 | 0 | 1 | 1 | 0 | 0 | 1 |\n",
       "| 119410 | 320000 | 500000 |  83330 |  789907 | 100000 | 1 | 0 | 1 | 1 | 0 | 0 | 1 |\n",
       "|  79610 | 700000 | 733330 |  83330 | 1131115 | 120000 | 1 | 0 | 1 | 1 | 0 | 0 | 1 |\n",
       "\n"
      ],
      "text/plain": [
       "  X1     X2     X3     X4     X5      X6     V1 V2 Z1 E1 E2 R O\n",
       "1 119410 260000 854170  83340  778376 100000 1  0  1  1  0  1 1\n",
       "2  79610 100000 975000 125000  585961 110000 0  1  1  1  0  0 0\n",
       "3  39800 700000 662500 250000 2838385 120000 1  0  1  1  0  0 1\n",
       "4  39800 700000 662500 250000 2838385 120000 1  0  1  1  0  0 1\n",
       "5 119410 320000 500000  83330  789907 100000 1  0  1  1  0  0 1\n",
       "6  79610 700000 733330  83330 1131115 120000 1  0  1  1  0  0 1"
      ]
     },
     "metadata": {},
     "output_type": "display_data"
    }
   ],
   "source": [
    "head(casen)"
   ]
  },
  {
   "cell_type": "markdown",
   "metadata": {},
   "source": [
    "### Modelo FULL"
   ]
  },
  {
   "cell_type": "code",
   "execution_count": 4,
   "metadata": {},
   "outputs": [],
   "source": [
    "modelo1 <- lm(X1 ~ X2+X3+X4+X5+X6+V1+V2+Z1+E1+E2+R+O, data=casen)"
   ]
  },
  {
   "cell_type": "markdown",
   "metadata": {},
   "source": [
    "### Creacion de modelo con metodo Ascendente (Para modelo Lin-Lin)\n"
   ]
  },
  {
   "cell_type": "code",
   "execution_count": 5,
   "metadata": {},
   "outputs": [],
   "source": [
    "fit1 <- lm(X1 ~ X2+X3+X4+X5+X6+V1+V2+Z1+E1+E2+R+O, data=casen)\n",
    "fit2 <- lm(X1 ~ 1, data= casen)"
   ]
  },
  {
   "cell_type": "code",
   "execution_count": 6,
   "metadata": {},
   "outputs": [
    {
     "name": "stdout",
     "output_type": "stream",
     "text": [
      "Start:  AIC=4037.07\n",
      "X1 ~ 1\n",
      "\n",
      "       Df  Sum of Sq        RSS    AIC\n",
      "+ X3    1 7.1027e+10 3.2296e+11 4001.7\n",
      "+ X4    1 6.7081e+10 3.2690e+11 4004.0\n",
      "+ X6    1 3.0477e+10 3.6351e+11 4023.9\n",
      "+ X5    1 6.8011e+09 3.8718e+11 4035.8\n",
      "<none>               3.9398e+11 4037.1\n",
      "+ R     1 3.2136e+09 3.9077e+11 4037.5\n",
      "+ V1    1 2.5278e+09 3.9145e+11 4037.9\n",
      "+ Z1    1 2.5040e+09 3.9148e+11 4037.9\n",
      "+ E2    1 2.3923e+09 3.9159e+11 4037.9\n",
      "+ V2    1 1.7621e+09 3.9222e+11 4038.2\n",
      "+ X2    1 1.5572e+09 3.9243e+11 4038.3\n",
      "+ O     1 4.0949e+08 3.9357e+11 4038.9\n",
      "+ E1    1 1.5346e+07 3.9397e+11 4039.1\n",
      "\n",
      "Step:  AIC=4001.7\n",
      "X1 ~ X3\n",
      "\n",
      "       Df  Sum of Sq        RSS    AIC\n",
      "+ X4    1 3.7759e+10 2.8520e+11 3980.3\n",
      "+ X6    1 1.6993e+10 3.0596e+11 3993.5\n",
      "+ R     1 3.9698e+09 3.1899e+11 4001.4\n",
      "<none>               3.2296e+11 4001.7\n",
      "+ V2    1 2.0793e+09 3.2088e+11 4002.5\n",
      "+ Z1    1 1.4544e+09 3.2150e+11 4002.8\n",
      "+ X5    1 1.4018e+09 3.2155e+11 4002.9\n",
      "+ O     1 9.3870e+08 3.2202e+11 4003.1\n",
      "+ X2    1 3.4728e+08 3.2261e+11 4003.5\n",
      "+ E2    1 3.1036e+08 3.2265e+11 4003.5\n",
      "+ V1    1 2.6549e+08 3.2269e+11 4003.5\n",
      "+ E1    1 1.1249e+08 3.2284e+11 4003.6\n",
      "\n",
      "Step:  AIC=3980.32\n",
      "X1 ~ X3 + X4\n",
      "\n",
      "       Df  Sum of Sq        RSS    AIC\n",
      "+ X6    1 1.3389e+10 2.7181e+11 3973.3\n",
      "+ R     1 4.6518e+09 2.8055e+11 3979.2\n",
      "<none>               2.8520e+11 3980.3\n",
      "+ V2    1 2.3298e+09 2.8287e+11 3980.8\n",
      "+ E1    1 9.9164e+08 2.8421e+11 3981.7\n",
      "+ X2    1 8.6867e+08 2.8433e+11 3981.7\n",
      "+ O     1 7.0764e+08 2.8449e+11 3981.9\n",
      "+ E2    1 6.1765e+08 2.8458e+11 3981.9\n",
      "+ Z1    1 3.5017e+08 2.8485e+11 3982.1\n",
      "+ V1    1 1.4795e+08 2.8505e+11 3982.2\n",
      "+ X5    1 2.6378e+06 2.8519e+11 3982.3\n",
      "\n",
      "Step:  AIC=3973.28\n",
      "X1 ~ X3 + X4 + X6\n",
      "\n",
      "       Df  Sum of Sq        RSS    AIC\n",
      "+ R     1 2951249959 2.6886e+11 3973.2\n",
      "<none>               2.7181e+11 3973.3\n",
      "+ V2    1 2587247067 2.6922e+11 3973.5\n",
      "+ O     1 1458150944 2.7035e+11 3974.3\n",
      "+ X2    1  920478540 2.7089e+11 3974.6\n",
      "+ E2    1  913002439 2.7090e+11 3974.6\n",
      "+ E1    1  475153822 2.7133e+11 3975.0\n",
      "+ V1    1  375150859 2.7143e+11 3975.0\n",
      "+ Z1    1  364811048 2.7144e+11 3975.0\n",
      "+ X5    1  314327352 2.7149e+11 3975.1\n",
      "\n",
      "Step:  AIC=3973.23\n",
      "X1 ~ X3 + X4 + X6 + R\n",
      "\n",
      "       Df  Sum of Sq        RSS    AIC\n",
      "<none>               2.6886e+11 3973.2\n",
      "+ V2    1 2700965202 2.6616e+11 3973.3\n",
      "+ O     1 1656463079 2.6720e+11 3974.1\n",
      "+ E2    1  913550255 2.6794e+11 3974.6\n",
      "+ Z1    1  640502313 2.6822e+11 3974.8\n",
      "+ X2    1  589961104 2.6827e+11 3974.8\n",
      "+ E1    1  556407389 2.6830e+11 3974.8\n",
      "+ V1    1  404614013 2.6845e+11 3974.9\n",
      "+ X5    1  253934933 2.6860e+11 3975.1\n"
     ]
    }
   ],
   "source": [
    "modelo2 <- step(fit2, direction=\"forward\", scope=list(upper=fit1, lower=fit2))"
   ]
  },
  {
   "cell_type": "markdown",
   "metadata": {},
   "source": [
    "## Método Descendente (Para modelo Lin-Lin)"
   ]
  },
  {
   "cell_type": "code",
   "execution_count": 7,
   "metadata": {},
   "outputs": [
    {
     "name": "stdout",
     "output_type": "stream",
     "text": [
      "Start:  AIC=3983.85\n",
      "X1 ~ X2 + X3 + X4 + X5 + X6 + V1 + V2 + Z1 + E1 + E2 + R + O\n",
      "\n",
      "       Df  Sum of Sq        RSS    AIC\n",
      "- X2    1 1.0894e+07 2.6129e+11 3981.9\n",
      "- E2    1 8.0651e+07 2.6136e+11 3981.9\n",
      "- E1    1 3.1484e+08 2.6159e+11 3982.1\n",
      "- X5    1 4.9746e+08 2.6178e+11 3982.2\n",
      "- Z1    1 6.9884e+08 2.6198e+11 3982.4\n",
      "- V1    1 8.9077e+08 2.6217e+11 3982.5\n",
      "- O     1 1.9185e+09 2.6320e+11 3983.2\n",
      "<none>               2.6128e+11 3983.9\n",
      "- R     1 3.4667e+09 2.6475e+11 3984.3\n",
      "- V2    1 3.5735e+09 2.6485e+11 3984.4\n",
      "- X6    1 1.2074e+10 2.7335e+11 3990.3\n",
      "- X3    1 3.4171e+10 2.9545e+11 4005.0\n",
      "- X4    1 3.4989e+10 2.9627e+11 4005.5\n",
      "\n",
      "Step:  AIC=3981.86\n",
      "X1 ~ X3 + X4 + X5 + X6 + V1 + V2 + Z1 + E1 + E2 + R + O\n",
      "\n",
      "       Df  Sum of Sq        RSS    AIC\n",
      "- E2    1 8.7557e+07 2.6138e+11 3979.9\n",
      "- E1    1 3.1317e+08 2.6160e+11 3980.1\n",
      "- Z1    1 6.9261e+08 2.6198e+11 3980.4\n",
      "- V1    1 8.8035e+08 2.6217e+11 3980.5\n",
      "- X5    1 1.0363e+09 2.6233e+11 3980.6\n",
      "- O     1 1.9176e+09 2.6321e+11 3981.2\n",
      "<none>               2.6129e+11 3981.9\n",
      "- R     1 3.5677e+09 2.6486e+11 3982.4\n",
      "- V2    1 3.7002e+09 2.6499e+11 3982.5\n",
      "- X6    1 1.2316e+10 2.7361e+11 3988.5\n",
      "- X3    1 3.5433e+10 2.9672e+11 4003.8\n",
      "- X4    1 3.5541e+10 2.9683e+11 4003.8\n",
      "\n",
      "Step:  AIC=3979.92\n",
      "X1 ~ X3 + X4 + X5 + X6 + V1 + V2 + Z1 + E1 + R + O\n",
      "\n",
      "       Df  Sum of Sq        RSS    AIC\n",
      "- Z1    1 6.6572e+08 2.6204e+11 3978.4\n",
      "- E1    1 8.0014e+08 2.6218e+11 3978.5\n",
      "- V1    1 8.7587e+08 2.6225e+11 3978.6\n",
      "- X5    1 1.1059e+09 2.6248e+11 3978.7\n",
      "- O     1 1.9384e+09 2.6332e+11 3979.3\n",
      "<none>               2.6138e+11 3979.9\n",
      "- R     1 3.5892e+09 2.6497e+11 3980.5\n",
      "- V2    1 3.9411e+09 2.6532e+11 3980.7\n",
      "- X6    1 1.2230e+10 2.7361e+11 3986.5\n",
      "- X4    1 3.5938e+10 2.9732e+11 4002.1\n",
      "- X3    1 3.7186e+10 2.9856e+11 4002.9\n",
      "\n",
      "Step:  AIC=3978.4\n",
      "X1 ~ X3 + X4 + X5 + X6 + V1 + V2 + E1 + R + O\n",
      "\n",
      "       Df  Sum of Sq        RSS    AIC\n",
      "- E1    1 5.5231e+08 2.6260e+11 3976.8\n",
      "- V1    1 5.7144e+08 2.6261e+11 3976.8\n",
      "- X5    1 1.0144e+09 2.6306e+11 3977.1\n",
      "- O     1 2.1024e+09 2.6415e+11 3977.9\n",
      "<none>               2.6204e+11 3978.4\n",
      "- R     1 3.2801e+09 2.6532e+11 3978.7\n",
      "- V2    1 3.8333e+09 2.6588e+11 3979.1\n",
      "- X6    1 1.2527e+10 2.7457e+11 3985.2\n",
      "- X4    1 3.6604e+10 2.9865e+11 4001.0\n",
      "- X3    1 3.6875e+10 2.9892e+11 4001.2\n",
      "\n",
      "Step:  AIC=3976.8\n",
      "X1 ~ X3 + X4 + X5 + X6 + V1 + V2 + R + O\n",
      "\n",
      "       Df  Sum of Sq        RSS    AIC\n",
      "- V1    1 4.8058e+08 2.6308e+11 3975.1\n",
      "- X5    1 1.1189e+09 2.6371e+11 3975.6\n",
      "- O     1 2.2109e+09 2.6481e+11 3976.4\n",
      "<none>               2.6260e+11 3976.8\n",
      "- R     1 3.1945e+09 2.6579e+11 3977.1\n",
      "- V2    1 3.6467e+09 2.6624e+11 3977.4\n",
      "- X6    1 1.3236e+10 2.7583e+11 3984.0\n",
      "- X4    1 3.6063e+10 2.9866e+11 3999.0\n",
      "- X3    1 3.6733e+10 2.9933e+11 3999.4\n",
      "\n",
      "Step:  AIC=3975.14\n",
      "X1 ~ X3 + X4 + X5 + X6 + V2 + R + O\n",
      "\n",
      "       Df  Sum of Sq        RSS    AIC\n",
      "- X5    1 1.1876e+09 2.6426e+11 3974.0\n",
      "- O     1 2.1265e+09 2.6520e+11 3974.7\n",
      "<none>               2.6308e+11 3975.1\n",
      "- R     1 3.1859e+09 2.6626e+11 3975.4\n",
      "- V2    1 3.7818e+09 2.6686e+11 3975.8\n",
      "- X6    1 1.3627e+10 2.7670e+11 3982.6\n",
      "- X4    1 3.5810e+10 2.9889e+11 3997.1\n",
      "- X3    1 3.6383e+10 2.9946e+11 3997.5\n",
      "\n",
      "Step:  AIC=3973.99\n",
      "X1 ~ X3 + X4 + X6 + V2 + R + O\n",
      "\n",
      "       Df  Sum of Sq        RSS    AIC\n",
      "- O     1 1.8928e+09 2.6616e+11 3973.3\n",
      "<none>               2.6426e+11 3974.0\n",
      "- V2    1 2.9373e+09 2.6720e+11 3974.1\n",
      "- R     1 3.2867e+09 2.6755e+11 3974.3\n",
      "- X6    1 1.2702e+10 2.7696e+11 3980.8\n",
      "- X4    1 3.4634e+10 2.9890e+11 3995.1\n",
      "- X3    1 3.5429e+10 2.9969e+11 3995.6\n",
      "\n",
      "Step:  AIC=3973.33\n",
      "X1 ~ X3 + X4 + X6 + V2 + R\n",
      "\n",
      "       Df  Sum of Sq        RSS    AIC\n",
      "- V2    1 2.7010e+09 2.6886e+11 3973.2\n",
      "<none>               2.6616e+11 3973.3\n",
      "- R     1 3.0650e+09 2.6922e+11 3973.5\n",
      "- X6    1 1.1906e+10 2.7806e+11 3979.6\n",
      "- X3    1 3.4968e+10 3.0112e+11 3994.5\n",
      "- X4    1 3.5083e+10 3.0124e+11 3994.6\n",
      "\n",
      "Step:  AIC=3973.23\n",
      "X1 ~ X3 + X4 + X6 + R\n",
      "\n",
      "       Df  Sum of Sq        RSS    AIC\n",
      "<none>               2.6886e+11 3973.2\n",
      "- R     1 2.9512e+09 2.7181e+11 3973.3\n",
      "- X6    1 1.1688e+10 2.8055e+11 3979.2\n",
      "- X3    1 3.4840e+10 3.0370e+11 3994.1\n",
      "- X4    1 3.4842e+10 3.0370e+11 3994.1\n"
     ]
    }
   ],
   "source": [
    "modelo3 <- step(fit1, direction= 'backward')"
   ]
  },
  {
   "cell_type": "markdown",
   "metadata": {},
   "source": [
    "## Creacion de modelo con metodo Ascendente (Para modelo Log-Lin)"
   ]
  },
  {
   "cell_type": "code",
   "execution_count": 8,
   "metadata": {},
   "outputs": [],
   "source": [
    "fit3 <- lm(log(X1) ~ X2+X3+X4+X5+X6+V1+V2+Z1+E1+E2+R+O, data=casen)\n",
    "fit4 <- lm(log(X1) ~ 1, data= casen)"
   ]
  },
  {
   "cell_type": "code",
   "execution_count": 9,
   "metadata": {},
   "outputs": [
    {
     "name": "stdout",
     "output_type": "stream",
     "text": [
      "Start:  AIC=-280.7\n",
      "log(X1) ~ 1\n",
      "\n",
      "       Df Sum of Sq    RSS     AIC\n",
      "+ X3    1    5.3966 36.397 -304.69\n",
      "+ X4    1    4.8383 36.955 -301.83\n",
      "+ X6    1    2.5533 39.240 -290.55\n",
      "+ R     1    0.5275 41.266 -281.08\n",
      "+ Z1    1    0.4628 41.331 -280.79\n",
      "<none>              41.793 -280.70\n",
      "+ X2    1    0.4129 41.380 -280.56\n",
      "+ V1    1    0.2566 41.537 -279.86\n",
      "+ V2    1    0.2351 41.558 -279.76\n",
      "+ E2    1    0.1618 41.632 -279.43\n",
      "+ X5    1    0.1523 41.641 -279.38\n",
      "+ O     1    0.0930 41.700 -279.12\n",
      "+ E1    1    0.0010 41.792 -278.70\n",
      "\n",
      "Step:  AIC=-304.69\n",
      "log(X1) ~ X3\n",
      "\n",
      "       Df Sum of Sq    RSS     AIC\n",
      "+ X4    1   2.66848 33.728 -317.00\n",
      "+ X6    1   1.47291 34.924 -310.46\n",
      "+ R     1   0.61064 35.786 -305.87\n",
      "<none>              36.397 -304.69\n",
      "+ Z1    1   0.33269 36.064 -304.42\n",
      "+ V2    1   0.26672 36.130 -304.07\n",
      "+ X2    1   0.21340 36.183 -303.79\n",
      "+ O     1   0.15656 36.240 -303.50\n",
      "+ V1    1   0.04449 36.352 -302.92\n",
      "+ E2    1   0.01672 36.380 -302.78\n",
      "+ E1    1   0.00070 36.396 -302.69\n",
      "+ X5    1   0.00005 36.397 -302.69\n",
      "\n",
      "Step:  AIC=-317\n",
      "log(X1) ~ X3 + X4\n",
      "\n",
      "       Df Sum of Sq    RSS     AIC\n",
      "+ X6    1   1.18994 32.538 -321.76\n",
      "+ R     1   0.68099 33.047 -318.84\n",
      "<none>              33.728 -317.00\n",
      "+ X2    1   0.30640 33.422 -316.72\n",
      "+ V2    1   0.29041 33.438 -316.63\n",
      "+ Z1    1   0.17207 33.556 -315.97\n",
      "+ O     1   0.13087 33.597 -315.73\n",
      "+ X5    1   0.11715 33.611 -315.66\n",
      "+ E1    1   0.04065 33.688 -315.23\n",
      "+ E2    1   0.03614 33.692 -315.21\n",
      "+ V1    1   0.03106 33.697 -315.18\n",
      "\n",
      "Step:  AIC=-321.76\n",
      "log(X1) ~ X3 + X4 + X6\n",
      "\n",
      "       Df Sum of Sq    RSS     AIC\n",
      "+ R     1   0.48412 32.054 -322.57\n",
      "<none>              32.538 -321.76\n",
      "+ V2    1   0.31742 32.221 -321.60\n",
      "+ X2    1   0.31552 32.223 -321.59\n",
      "+ X5    1   0.24725 32.291 -321.19\n",
      "+ O     1   0.22233 32.316 -321.05\n",
      "+ Z1    1   0.17511 32.363 -320.77\n",
      "+ V1    1   0.05967 32.479 -320.10\n",
      "+ E2    1   0.05790 32.480 -320.09\n",
      "+ E1    1   0.01208 32.526 -319.83\n",
      "\n",
      "Step:  AIC=-322.57\n",
      "log(X1) ~ X3 + X4 + X6 + R\n",
      "\n",
      "       Df Sum of Sq    RSS     AIC\n",
      "<none>              32.054 -322.57\n",
      "+ V2    1   0.33356 31.721 -322.54\n",
      "+ O     1   0.25371 31.800 -322.07\n",
      "+ Z1    1   0.24906 31.805 -322.04\n",
      "+ X2    1   0.23558 31.819 -321.96\n",
      "+ X5    1   0.22507 31.829 -321.90\n",
      "+ V1    1   0.06443 31.990 -320.95\n",
      "+ E2    1   0.05795 31.996 -320.91\n",
      "+ E1    1   0.01762 32.037 -320.68\n"
     ]
    }
   ],
   "source": [
    "modelo4 <- step(fit4, direction=\"forward\", scope=list(upper=fit3, lower=fit4))"
   ]
  },
  {
   "cell_type": "markdown",
   "metadata": {},
   "source": [
    "## Modelo Descentente (Para modelo Log-Lin)"
   ]
  },
  {
   "cell_type": "code",
   "execution_count": 10,
   "metadata": {},
   "outputs": [
    {
     "name": "stdout",
     "output_type": "stream",
     "text": [
      "Start:  AIC=-315.02\n",
      "log(X1) ~ X2 + X3 + X4 + X5 + X6 + V1 + V2 + Z1 + E1 + E2 + R + \n",
      "    O\n",
      "\n",
      "       Df Sum of Sq    RSS     AIC\n",
      "- E2    1   0.00278 30.648 -317.01\n",
      "- X2    1   0.00554 30.651 -316.99\n",
      "- E1    1   0.01765 30.663 -316.91\n",
      "- V1    1   0.10404 30.750 -316.39\n",
      "- X5    1   0.23127 30.877 -315.61\n",
      "- Z1    1   0.25284 30.898 -315.48\n",
      "- O     1   0.30794 30.954 -315.14\n",
      "<none>              30.646 -315.02\n",
      "- V2    1   0.47622 31.122 -314.12\n",
      "- R     1   0.56980 31.215 -313.56\n",
      "- X6    1   1.16318 31.809 -310.02\n",
      "- X4    1   2.62599 33.272 -301.57\n",
      "- X3    1   2.78627 33.432 -300.66\n",
      "\n",
      "Step:  AIC=-317.01\n",
      "log(X1) ~ X2 + X3 + X4 + X5 + X6 + V1 + V2 + Z1 + E1 + R + O\n",
      "\n",
      "       Df Sum of Sq    RSS     AIC\n",
      "- X2    1   0.00642 30.655 -318.97\n",
      "- E1    1   0.03984 30.688 -318.76\n",
      "- V1    1   0.10407 30.752 -318.37\n",
      "- X5    1   0.23170 30.880 -317.59\n",
      "- Z1    1   0.25069 30.899 -317.47\n",
      "- O     1   0.30952 30.958 -317.12\n",
      "<none>              30.648 -317.01\n",
      "- V2    1   0.49309 31.141 -316.01\n",
      "- R     1   0.57027 31.219 -315.54\n",
      "- X6    1   1.16439 31.813 -312.00\n",
      "- X4    1   2.64358 33.292 -303.45\n",
      "- X3    1   2.88180 33.530 -302.11\n",
      "\n",
      "Step:  AIC=-318.97\n",
      "log(X1) ~ X3 + X4 + X5 + X6 + V1 + V2 + Z1 + E1 + R + O\n",
      "\n",
      "       Df Sum of Sq    RSS     AIC\n",
      "- E1    1   0.04165 30.696 -320.71\n",
      "- V1    1   0.10034 30.755 -320.35\n",
      "- Z1    1   0.24736 30.902 -319.46\n",
      "- O     1   0.30946 30.964 -319.08\n",
      "<none>              30.655 -318.97\n",
      "- X5    1   0.49854 31.153 -317.93\n",
      "- V2    1   0.52285 31.178 -317.79\n",
      "- R     1   0.59435 31.249 -317.36\n",
      "- X6    1   1.19537 31.850 -313.78\n",
      "- X4    1   2.70920 33.364 -305.05\n",
      "- X3    1   3.04484 33.700 -303.16\n",
      "\n",
      "Step:  AIC=-320.71\n",
      "log(X1) ~ X3 + X4 + X5 + X6 + V1 + V2 + Z1 + R + O\n",
      "\n",
      "       Df Sum of Sq    RSS     AIC\n",
      "- V1    1   0.08524 30.782 -322.19\n",
      "- Z1    1   0.21662 30.913 -321.39\n",
      "- O     1   0.32441 31.021 -320.74\n",
      "<none>              30.696 -320.71\n",
      "- V2    1   0.50334 31.200 -319.65\n",
      "- X5    1   0.51505 31.211 -319.58\n",
      "- R     1   0.57855 31.275 -319.20\n",
      "- X6    1   1.26233 31.959 -315.14\n",
      "- X4    1   2.67044 33.367 -307.03\n",
      "- X3    1   3.02950 33.726 -305.02\n",
      "\n",
      "Step:  AIC=-322.19\n",
      "log(X1) ~ X3 + X4 + X5 + X6 + V2 + Z1 + R + O\n",
      "\n",
      "       Df Sum of Sq    RSS     AIC\n",
      "- Z1    1   0.16760 30.949 -323.17\n",
      "- O     1   0.31501 31.097 -322.28\n",
      "<none>              30.782 -322.19\n",
      "- V2    1   0.47045 31.252 -321.34\n",
      "- X5    1   0.52707 31.309 -321.00\n",
      "- R     1   0.56652 31.348 -320.76\n",
      "- X6    1   1.31448 32.096 -316.33\n",
      "- X4    1   2.65468 33.436 -308.64\n",
      "- X3    1   2.94447 33.726 -307.02\n",
      "\n",
      "Step:  AIC=-323.17\n",
      "log(X1) ~ X3 + X4 + X5 + X6 + V2 + R + O\n",
      "\n",
      "       Df Sum of Sq    RSS     AIC\n",
      "<none>              30.949 -323.17\n",
      "- O     1   0.34665 31.296 -323.08\n",
      "- X5    1   0.48515 31.434 -322.25\n",
      "- R     1   0.50933 31.459 -322.10\n",
      "- V2    1   0.59416 31.543 -321.59\n",
      "- X6    1   1.32294 32.272 -317.30\n",
      "- X4    1   2.78564 33.735 -308.97\n",
      "- X3    1   2.95698 33.906 -308.01\n"
     ]
    }
   ],
   "source": [
    "modelo5 <- step(fit3, direction=\"backward\")"
   ]
  },
  {
   "cell_type": "code",
   "execution_count": 11,
   "metadata": {},
   "outputs": [
    {
     "data": {
      "text/plain": [
       "\n",
       "Call:\n",
       "lm(formula = log(X1) ~ X3 + X4 + X5 + X6 + V2 + R + O, data = casen)\n",
       "\n",
       "Residuals:\n",
       "     Min       1Q   Median       3Q      Max \n",
       "-1.00296 -0.21262  0.05752  0.26571  0.89896 \n",
       "\n",
       "Coefficients:\n",
       "              Estimate Std. Error t value Pr(>|t|)    \n",
       "(Intercept)  1.073e+01  1.311e-01  81.859  < 2e-16 ***\n",
       "X3           2.487e-07  5.997e-08   4.147 5.18e-05 ***\n",
       "X4           1.791e-06  4.449e-07   4.025 8.38e-05 ***\n",
       "X5          -1.108e-07  6.597e-08  -1.680  0.09474 .  \n",
       "X6           9.251e-07  3.335e-07   2.774  0.00612 ** \n",
       "V2           1.185e-01  6.377e-02   1.859  0.06467 .  \n",
       "R            1.054e-01  6.121e-02   1.721  0.08695 .  \n",
       "O            1.409e-01  9.922e-02   1.420  0.15737    \n",
       "---\n",
       "Signif. codes:  0 '***' 0.001 '**' 0.01 '*' 0.05 '.' 0.1 ' ' 1\n",
       "\n",
       "Residual standard error: 0.4147 on 180 degrees of freedom\n",
       "Multiple R-squared:  0.2595,\tAdjusted R-squared:  0.2307 \n",
       "F-statistic:  9.01 on 7 and 180 DF,  p-value: 1.634e-09\n"
      ]
     },
     "metadata": {},
     "output_type": "display_data"
    }
   ],
   "source": [
    "summary(modelo5)"
   ]
  },
  {
   "cell_type": "markdown",
   "metadata": {},
   "source": [
    "## Creacion de modelo con metodo Ascendente (Para modelo Log-Log, con logaritmo de variables cuantitativas)\n"
   ]
  },
  {
   "cell_type": "code",
   "execution_count": 12,
   "metadata": {},
   "outputs": [],
   "source": [
    "fit5 <- lm(log(X1) ~ log(X2)+log(X3)+log(X4)+log(X5)+log(X6)+V1+V2+Z1+E1+E2+R+O, data=casen)\n",
    "fit6 <- lm(log(X1) ~ 1, data= casen)"
   ]
  },
  {
   "cell_type": "code",
   "execution_count": 13,
   "metadata": {},
   "outputs": [
    {
     "name": "stdout",
     "output_type": "stream",
     "text": [
      "Start:  AIC=-280.7\n",
      "log(X1) ~ 1\n",
      "\n",
      "          Df Sum of Sq    RSS     AIC\n",
      "+ log(X4)  1    6.9128 34.881 -312.69\n",
      "+ log(X3)  1    3.7051 38.088 -296.15\n",
      "+ log(X6)  1    2.7702 39.023 -291.59\n",
      "+ R        1    0.5275 41.266 -281.08\n",
      "+ Z1       1    0.4628 41.331 -280.79\n",
      "<none>                 41.793 -280.70\n",
      "+ log(X5)  1    0.3872 41.406 -280.45\n",
      "+ log(X2)  1    0.3372 41.456 -280.22\n",
      "+ V1       1    0.2566 41.537 -279.86\n",
      "+ V2       1    0.2351 41.558 -279.76\n",
      "+ E2       1    0.1618 41.632 -279.43\n",
      "+ O        1    0.0930 41.700 -279.12\n",
      "+ E1       1    0.0010 41.792 -278.70\n",
      "\n",
      "Step:  AIC=-312.69\n",
      "log(X1) ~ log(X4)\n",
      "\n",
      "          Df Sum of Sq    RSS     AIC\n",
      "+ log(X6)  1   1.79031 33.090 -320.59\n",
      "+ log(X3)  1   1.46687 33.414 -318.77\n",
      "+ R        1   0.64831 34.232 -314.22\n",
      "+ V2       1   0.39989 34.481 -312.86\n",
      "<none>                 34.881 -312.69\n",
      "+ log(X2)  1   0.26542 34.615 -312.12\n",
      "+ E2       1   0.21893 34.662 -311.87\n",
      "+ V1       1   0.18846 34.692 -311.71\n",
      "+ E1       1   0.15389 34.727 -311.52\n",
      "+ O        1   0.10137 34.779 -311.24\n",
      "+ Z1       1   0.08188 34.799 -311.13\n",
      "+ log(X5)  1   0.01788 34.863 -310.78\n",
      "\n",
      "Step:  AIC=-320.59\n",
      "log(X1) ~ log(X4) + log(X6)\n",
      "\n",
      "          Df Sum of Sq    RSS     AIC\n",
      "+ log(X3)  1   0.86835 32.222 -323.59\n",
      "+ R        1   0.53529 32.555 -321.66\n",
      "+ V2       1   0.41585 32.674 -320.97\n",
      "<none>                 33.090 -320.59\n",
      "+ log(X2)  1   0.30014 32.790 -320.31\n",
      "+ E2       1   0.19367 32.897 -319.70\n",
      "+ V1       1   0.16202 32.928 -319.52\n",
      "+ O        1   0.12714 32.963 -319.32\n",
      "+ Z1       1   0.04950 33.041 -318.88\n",
      "+ E1       1   0.03924 33.051 -318.82\n",
      "+ log(X5)  1   0.02400 33.066 -318.73\n",
      "\n",
      "Step:  AIC=-323.59\n",
      "log(X1) ~ log(X4) + log(X6) + log(X3)\n",
      "\n",
      "          Df Sum of Sq    RSS     AIC\n",
      "+ R        1   0.57050 31.651 -324.95\n",
      "+ V2       1   0.40861 31.813 -323.99\n",
      "<none>                 32.222 -323.59\n",
      "+ log(X2)  1   0.26785 31.954 -323.16\n",
      "+ O        1   0.13590 32.086 -322.39\n",
      "+ E2       1   0.11902 32.103 -322.29\n",
      "+ V1       1   0.08924 32.133 -322.12\n",
      "+ Z1       1   0.06620 32.156 -321.98\n",
      "+ log(X5)  1   0.06092 32.161 -321.95\n",
      "+ E1       1   0.05486 32.167 -321.91\n",
      "\n",
      "Step:  AIC=-324.95\n",
      "log(X1) ~ log(X4) + log(X6) + log(X3) + R\n",
      "\n",
      "          Df Sum of Sq    RSS     AIC\n",
      "+ V2       1   0.43150 31.220 -325.53\n",
      "<none>                 31.651 -324.95\n",
      "+ log(X2)  1   0.17874 31.473 -324.02\n",
      "+ O        1   0.16921 31.482 -323.96\n",
      "+ E2       1   0.12269 31.529 -323.68\n",
      "+ Z1       1   0.11989 31.531 -323.67\n",
      "+ V1       1   0.09973 31.552 -323.55\n",
      "+ E1       1   0.06723 31.584 -323.35\n",
      "+ log(X5)  1   0.05109 31.600 -323.26\n",
      "\n",
      "Step:  AIC=-325.53\n",
      "log(X1) ~ log(X4) + log(X6) + log(X3) + R + V2\n",
      "\n",
      "          Df Sum of Sq    RSS     AIC\n",
      "<none>                 31.220 -325.53\n",
      "+ log(X5)  1  0.212021 31.008 -324.81\n",
      "+ O        1  0.198431 31.021 -324.73\n",
      "+ log(X2)  1  0.141155 31.079 -324.38\n",
      "+ E1       1  0.083741 31.136 -324.04\n",
      "+ E2       1  0.078749 31.141 -324.01\n",
      "+ Z1       1  0.045630 31.174 -323.81\n",
      "+ V1       1  0.033939 31.186 -323.74\n"
     ]
    }
   ],
   "source": [
    "modelo6 <- step(fit6, direction='forward',scope=list(upper=fit5, lower=fit6))"
   ]
  },
  {
   "cell_type": "markdown",
   "metadata": {},
   "source": [
    "### Modelo Descendente (Log-Log)"
   ]
  },
  {
   "cell_type": "code",
   "execution_count": 14,
   "metadata": {},
   "outputs": [
    {
     "name": "stdout",
     "output_type": "stream",
     "text": [
      "Start:  AIC=-315.65\n",
      "log(X1) ~ log(X2) + log(X3) + log(X4) + log(X5) + log(X6) + V1 + \n",
      "    V2 + Z1 + E1 + E2 + R + O\n",
      "\n",
      "          Df Sum of Sq    RSS     AIC\n",
      "- E2       1    0.0076 30.552 -317.60\n",
      "- log(X2)  1    0.0201 30.564 -317.52\n",
      "- E1       1    0.0414 30.585 -317.39\n",
      "- log(X5)  1    0.0601 30.604 -317.28\n",
      "- V1       1    0.0802 30.624 -317.16\n",
      "- Z1       1    0.1317 30.676 -316.84\n",
      "- O        1    0.2022 30.746 -316.41\n",
      "<none>                 30.544 -315.65\n",
      "- V2       1    0.4649 31.009 -314.81\n",
      "- R        1    0.6329 31.177 -313.79\n",
      "- log(X3)  1    1.0015 31.545 -311.58\n",
      "- log(X6)  1    1.0429 31.587 -311.34\n",
      "- log(X4)  1    4.3459 34.890 -292.64\n",
      "\n",
      "Step:  AIC=-317.6\n",
      "log(X1) ~ log(X2) + log(X3) + log(X4) + log(X5) + log(X6) + V1 + \n",
      "    V2 + Z1 + E1 + R + O\n",
      "\n",
      "          Df Sum of Sq    RSS     AIC\n",
      "- log(X2)  1    0.0211 30.573 -319.47\n",
      "- log(X5)  1    0.0627 30.614 -319.22\n",
      "- V1       1    0.0794 30.631 -319.11\n",
      "- E1       1    0.0967 30.648 -319.01\n",
      "- Z1       1    0.1290 30.681 -318.81\n",
      "- O        1    0.2046 30.756 -318.35\n",
      "<none>                 30.552 -317.60\n",
      "- V2       1    0.4890 31.041 -316.62\n",
      "- R        1    0.6338 31.185 -315.74\n",
      "- log(X6)  1    1.0353 31.587 -313.34\n",
      "- log(X3)  1    1.0541 31.606 -313.22\n",
      "- log(X4)  1    4.3970 34.949 -294.32\n",
      "\n",
      "Step:  AIC=-319.47\n",
      "log(X1) ~ log(X3) + log(X4) + log(X5) + log(X6) + V1 + V2 + Z1 + \n",
      "    E1 + R + O\n",
      "\n",
      "          Df Sum of Sq    RSS     AIC\n",
      "- V1       1    0.0673 30.640 -321.06\n",
      "- E1       1    0.0999 30.673 -320.86\n",
      "- Z1       1    0.1220 30.695 -320.72\n",
      "- O        1    0.1998 30.772 -320.25\n",
      "- log(X5)  1    0.2293 30.802 -320.07\n",
      "<none>                 30.573 -319.47\n",
      "- V2       1    0.5437 31.116 -318.16\n",
      "- R        1    0.6861 31.259 -317.30\n",
      "- log(X6)  1    1.0946 31.667 -314.86\n",
      "- log(X3)  1    1.1010 31.674 -314.82\n",
      "- log(X4)  1    4.6764 35.249 -294.71\n",
      "\n",
      "Step:  AIC=-321.06\n",
      "log(X1) ~ log(X3) + log(X4) + log(X5) + log(X6) + V2 + Z1 + E1 + \n",
      "    R + O\n",
      "\n",
      "          Df Sum of Sq    RSS     AIC\n",
      "- E1       1    0.0800 30.720 -322.57\n",
      "- Z1       1    0.0869 30.727 -322.52\n",
      "- O        1    0.1948 30.835 -321.87\n",
      "- log(X5)  1    0.2522 30.892 -321.52\n",
      "<none>                 30.640 -321.06\n",
      "- V2       1    0.5562 31.196 -319.68\n",
      "- R        1    0.6748 31.315 -318.96\n",
      "- log(X3)  1    1.0419 31.682 -316.77\n",
      "- log(X6)  1    1.1228 31.763 -316.29\n",
      "- log(X4)  1    4.6655 35.306 -296.41\n",
      "\n",
      "Step:  AIC=-322.57\n",
      "log(X1) ~ log(X3) + log(X4) + log(X5) + log(X6) + V2 + Z1 + R + \n",
      "    O\n",
      "\n",
      "          Df Sum of Sq    RSS     AIC\n",
      "- Z1       1    0.0624 30.782 -324.19\n",
      "- O        1    0.2096 30.930 -323.29\n",
      "- log(X5)  1    0.2683 30.988 -322.93\n",
      "<none>                 30.720 -322.57\n",
      "- V2       1    0.5612 31.281 -321.16\n",
      "- R        1    0.6526 31.373 -320.62\n",
      "- log(X3)  1    1.0201 31.740 -318.43\n",
      "- log(X6)  1    1.2690 31.989 -316.96\n",
      "- log(X4)  1    4.5855 35.306 -298.41\n",
      "\n",
      "Step:  AIC=-324.19\n",
      "log(X1) ~ log(X3) + log(X4) + log(X5) + log(X6) + V2 + R + O\n",
      "\n",
      "          Df Sum of Sq    RSS     AIC\n",
      "- O        1    0.2254 31.008 -324.81\n",
      "- log(X5)  1    0.2390 31.021 -324.73\n",
      "<none>                 30.782 -324.19\n",
      "- R        1    0.6171 31.400 -322.45\n",
      "- V2       1    0.6404 31.423 -322.31\n",
      "- log(X3)  1    0.9954 31.778 -320.20\n",
      "- log(X6)  1    1.2930 32.075 -318.45\n",
      "- log(X4)  1    4.8319 35.614 -298.77\n",
      "\n",
      "Step:  AIC=-324.81\n",
      "log(X1) ~ log(X3) + log(X4) + log(X5) + log(X6) + V2 + R\n",
      "\n",
      "          Df Sum of Sq    RSS     AIC\n",
      "- log(X5)  1    0.2120 31.220 -325.53\n",
      "<none>                 31.008 -324.81\n",
      "- R        1    0.5781 31.586 -323.34\n",
      "- V2       1    0.5924 31.600 -323.26\n",
      "- log(X3)  1    0.9768 31.985 -320.98\n",
      "- log(X6)  1    1.2581 32.266 -319.34\n",
      "- log(X4)  1    4.8079 35.816 -299.71\n",
      "\n",
      "Step:  AIC=-325.53\n",
      "log(X1) ~ log(X3) + log(X4) + log(X6) + V2 + R\n",
      "\n",
      "          Df Sum of Sq    RSS     AIC\n",
      "<none>                 31.220 -325.53\n",
      "- V2       1    0.4315 31.651 -324.95\n",
      "- R        1    0.5934 31.813 -323.99\n",
      "- log(X3)  1    0.8967 32.117 -322.21\n",
      "- log(X6)  1    1.1030 32.323 -321.01\n",
      "- log(X4)  1    4.6103 35.830 -301.64\n"
     ]
    }
   ],
   "source": [
    "modelo7 <-step(fit5, direction='backward')"
   ]
  },
  {
   "cell_type": "markdown",
   "metadata": {},
   "source": [
    "--------------------------\n",
    "-------------------"
   ]
  },
  {
   "cell_type": "markdown",
   "metadata": {},
   "source": [
    "### Comparando los diferentes ajustes obtenidos\n",
    "Como no todos estan formulados en torno a la misma variable endógena, compararemos los $R^2$, $R^2$ ajustado y CP de Mallow."
   ]
  },
  {
   "cell_type": "markdown",
   "metadata": {},
   "source": [
    "#### Modelos con variables lineales"
   ]
  },
  {
   "cell_type": "code",
   "execution_count": 15,
   "metadata": {},
   "outputs": [
    {
     "data": {
      "text/plain": [
       "\n",
       "Call:\n",
       "lm(formula = X1 ~ X2 + X3 + X4 + X5 + X6 + V1 + V2 + Z1 + E1 + \n",
       "    E2 + R + O, data = casen)\n",
       "\n",
       "Residuals:\n",
       "   Min     1Q Median     3Q    Max \n",
       "-85694 -25388  -2116  20917 123244 \n",
       "\n",
       "Coefficients:\n",
       "              Estimate Std. Error t value Pr(>|t|)    \n",
       "(Intercept)  2.503e+04  1.729e+04   1.448  0.14940    \n",
       "X2          -2.207e-03  2.583e-02  -0.085  0.93202    \n",
       "X3           2.801e-02  5.855e-03   4.784 3.63e-06 ***\n",
       "X4           2.039e-01  4.213e-02   4.841 2.83e-06 ***\n",
       "X5          -4.716e-03  8.170e-03  -0.577  0.56453    \n",
       "X6           9.017e-02  3.171e-02   2.844  0.00499 ** \n",
       "V1           7.284e+03  9.430e+03   0.772  0.44091    \n",
       "V2           1.265e+04  8.177e+03   1.547  0.12365    \n",
       "Z1          -4.686e+03  6.849e+03  -0.684  0.49478    \n",
       "E1           3.604e+03  7.848e+03   0.459  0.64665    \n",
       "E2          -2.555e+03  1.099e+04  -0.232  0.81648    \n",
       "R            8.825e+03  5.792e+03   1.524  0.12936    \n",
       "O            1.053e+04  9.288e+03   1.134  0.25853    \n",
       "---\n",
       "Signif. codes:  0 '***' 0.001 '**' 0.01 '*' 0.05 '.' 0.1 ' ' 1\n",
       "\n",
       "Residual standard error: 38640 on 175 degrees of freedom\n",
       "Multiple R-squared:  0.3368,\tAdjusted R-squared:  0.2914 \n",
       "F-statistic: 7.407 on 12 and 175 DF,  p-value: 6.068e-11\n"
      ]
     },
     "metadata": {},
     "output_type": "display_data"
    }
   ],
   "source": [
    "summary(modelo1)"
   ]
  },
  {
   "cell_type": "code",
   "execution_count": 16,
   "metadata": {},
   "outputs": [
    {
     "data": {
      "text/plain": [
       "\n",
       "\tJarque-Bera test for normality\n",
       "\n",
       "data:  residuals(modelo1)\n",
       "JB = 6.3508, p-value = 0.036\n"
      ]
     },
     "metadata": {},
     "output_type": "display_data"
    }
   ],
   "source": [
    "jb.norm.test(residuals(modelo1))"
   ]
  },
  {
   "cell_type": "code",
   "execution_count": 17,
   "metadata": {},
   "outputs": [
    {
     "data": {
      "text/plain": [
       "\n",
       "\tLilliefors (Kolmogorov-Smirnov) normality test\n",
       "\n",
       "data:  residuals(modelo1)\n",
       "D = 0.054173, p-value = 0.1956\n"
      ]
     },
     "metadata": {},
     "output_type": "display_data"
    }
   ],
   "source": [
    "lillie.test(residuals(modelo1))"
   ]
  },
  {
   "cell_type": "markdown",
   "metadata": {},
   "source": [
    "----------------------------"
   ]
  },
  {
   "cell_type": "code",
   "execution_count": 18,
   "metadata": {},
   "outputs": [
    {
     "data": {
      "text/plain": [
       "\n",
       "Call:\n",
       "lm(formula = X1 ~ X3 + X4 + X6 + R, data = casen)\n",
       "\n",
       "Residuals:\n",
       "    Min      1Q  Median      3Q     Max \n",
       "-103535  -26177    -755   25488  126196 \n",
       "\n",
       "Coefficients:\n",
       "             Estimate Std. Error t value Pr(>|t|)    \n",
       "(Intercept) 3.993e+04  7.078e+03   5.642 6.30e-08 ***\n",
       "X3          2.684e-02  5.512e-03   4.870 2.41e-06 ***\n",
       "X4          1.962e-01  4.028e-02   4.870 2.41e-06 ***\n",
       "X6          8.547e-02  3.030e-02   2.821  0.00532 ** \n",
       "R           8.007e+03  5.649e+03   1.417  0.15809    \n",
       "---\n",
       "Signif. codes:  0 '***' 0.001 '**' 0.01 '*' 0.05 '.' 0.1 ' ' 1\n",
       "\n",
       "Residual standard error: 38330 on 183 degrees of freedom\n",
       "Multiple R-squared:  0.3176,\tAdjusted R-squared:  0.3027 \n",
       "F-statistic: 21.29 on 4 and 183 DF,  p-value: 1.964e-14\n"
      ]
     },
     "metadata": {},
     "output_type": "display_data"
    }
   ],
   "source": [
    "summary(modelo2)"
   ]
  },
  {
   "cell_type": "code",
   "execution_count": 19,
   "metadata": {},
   "outputs": [
    {
     "data": {
      "text/plain": [
       "\n",
       "\tJarque-Bera test for normality\n",
       "\n",
       "data:  residuals(modelo2)\n",
       "JB = 5.0115, p-value = 0.063\n"
      ]
     },
     "metadata": {},
     "output_type": "display_data"
    }
   ],
   "source": [
    "jb.norm.test(residuals(modelo2))"
   ]
  },
  {
   "cell_type": "code",
   "execution_count": 20,
   "metadata": {},
   "outputs": [
    {
     "data": {
      "text/plain": [
       "\n",
       "\tLilliefors (Kolmogorov-Smirnov) normality test\n",
       "\n",
       "data:  residuals(modelo2)\n",
       "D = 0.052156, p-value = 0.2422\n"
      ]
     },
     "metadata": {},
     "output_type": "display_data"
    }
   ],
   "source": [
    "lillie.test(residuals(modelo2))"
   ]
  },
  {
   "cell_type": "markdown",
   "metadata": {},
   "source": [
    "--------------------------------------"
   ]
  },
  {
   "cell_type": "code",
   "execution_count": 21,
   "metadata": {},
   "outputs": [
    {
     "data": {
      "text/plain": [
       "\n",
       "Call:\n",
       "lm(formula = X1 ~ X3 + X4 + X6 + R, data = casen)\n",
       "\n",
       "Residuals:\n",
       "    Min      1Q  Median      3Q     Max \n",
       "-103535  -26177    -755   25488  126196 \n",
       "\n",
       "Coefficients:\n",
       "             Estimate Std. Error t value Pr(>|t|)    \n",
       "(Intercept) 3.993e+04  7.078e+03   5.642 6.30e-08 ***\n",
       "X3          2.684e-02  5.512e-03   4.870 2.41e-06 ***\n",
       "X4          1.962e-01  4.028e-02   4.870 2.41e-06 ***\n",
       "X6          8.547e-02  3.030e-02   2.821  0.00532 ** \n",
       "R           8.007e+03  5.649e+03   1.417  0.15809    \n",
       "---\n",
       "Signif. codes:  0 '***' 0.001 '**' 0.01 '*' 0.05 '.' 0.1 ' ' 1\n",
       "\n",
       "Residual standard error: 38330 on 183 degrees of freedom\n",
       "Multiple R-squared:  0.3176,\tAdjusted R-squared:  0.3027 \n",
       "F-statistic: 21.29 on 4 and 183 DF,  p-value: 1.964e-14\n"
      ]
     },
     "metadata": {},
     "output_type": "display_data"
    }
   ],
   "source": [
    "summary(modelo3)"
   ]
  },
  {
   "cell_type": "code",
   "execution_count": 22,
   "metadata": {},
   "outputs": [
    {
     "data": {
      "text/plain": [
       "\n",
       "\tJarque-Bera test for normality\n",
       "\n",
       "data:  residuals(modelo3)\n",
       "JB = 5.0115, p-value = 0.0545\n"
      ]
     },
     "metadata": {},
     "output_type": "display_data"
    }
   ],
   "source": [
    "jb.norm.test(residuals(modelo3))"
   ]
  },
  {
   "cell_type": "code",
   "execution_count": 23,
   "metadata": {},
   "outputs": [
    {
     "data": {
      "text/plain": [
       "\n",
       "\tLilliefors (Kolmogorov-Smirnov) normality test\n",
       "\n",
       "data:  residuals(modelo3)\n",
       "D = 0.052156, p-value = 0.2422\n"
      ]
     },
     "metadata": {},
     "output_type": "display_data"
    }
   ],
   "source": [
    "lillie.test(residuals(modelo3))"
   ]
  },
  {
   "cell_type": "markdown",
   "metadata": {},
   "source": [
    "-------------------------------"
   ]
  },
  {
   "cell_type": "markdown",
   "metadata": {},
   "source": [
    "#### Modelos con Variables logaritmicas"
   ]
  },
  {
   "cell_type": "code",
   "execution_count": 24,
   "metadata": {},
   "outputs": [
    {
     "data": {
      "text/plain": [
       "\n",
       "Call:\n",
       "lm(formula = log(X1) ~ X3 + X4 + X6 + R, data = casen)\n",
       "\n",
       "Residuals:\n",
       "     Min       1Q   Median       3Q      Max \n",
       "-1.18421 -0.19996  0.06507  0.28857  0.93786 \n",
       "\n",
       "Coefficients:\n",
       "             Estimate Std. Error t value Pr(>|t|)    \n",
       "(Intercept) 1.086e+01  7.728e-02 140.572  < 2e-16 ***\n",
       "X3          2.356e-07  6.019e-08   3.915 0.000127 ***\n",
       "X4          1.649e-06  4.398e-07   3.748 0.000239 ***\n",
       "X6          7.878e-07  3.309e-07   2.381 0.018289 *  \n",
       "R           1.025e-01  6.168e-02   1.662 0.098127 .  \n",
       "---\n",
       "Signif. codes:  0 '***' 0.001 '**' 0.01 '*' 0.05 '.' 0.1 ' ' 1\n",
       "\n",
       "Residual standard error: 0.4185 on 183 degrees of freedom\n",
       "Multiple R-squared:  0.233,\tAdjusted R-squared:  0.2163 \n",
       "F-statistic:  13.9 on 4 and 183 DF,  p-value: 6.396e-10\n"
      ]
     },
     "metadata": {},
     "output_type": "display_data"
    }
   ],
   "source": [
    "summary(modelo4)"
   ]
  },
  {
   "cell_type": "code",
   "execution_count": 25,
   "metadata": {},
   "outputs": [
    {
     "data": {
      "text/plain": [
       "\n",
       "\tJarque-Bera test for normality\n",
       "\n",
       "data:  residuals(modelo4)\n",
       "JB = 9.7598, p-value = 0.0145\n"
      ]
     },
     "metadata": {},
     "output_type": "display_data"
    }
   ],
   "source": [
    "jb.norm.test(residuals(modelo4))"
   ]
  },
  {
   "cell_type": "code",
   "execution_count": 26,
   "metadata": {},
   "outputs": [
    {
     "data": {
      "text/plain": [
       "\n",
       "\tLilliefors (Kolmogorov-Smirnov) normality test\n",
       "\n",
       "data:  residuals(modelo4)\n",
       "D = 0.10012, p-value = 9.36e-05\n"
      ]
     },
     "metadata": {},
     "output_type": "display_data"
    }
   ],
   "source": [
    "lillie.test(residuals(modelo4))"
   ]
  },
  {
   "cell_type": "markdown",
   "metadata": {},
   "source": [
    "-----------------------"
   ]
  },
  {
   "cell_type": "code",
   "execution_count": 27,
   "metadata": {},
   "outputs": [
    {
     "data": {
      "text/plain": [
       "\n",
       "Call:\n",
       "lm(formula = log(X1) ~ X3 + X4 + X5 + X6 + V2 + R + O, data = casen)\n",
       "\n",
       "Residuals:\n",
       "     Min       1Q   Median       3Q      Max \n",
       "-1.00296 -0.21262  0.05752  0.26571  0.89896 \n",
       "\n",
       "Coefficients:\n",
       "              Estimate Std. Error t value Pr(>|t|)    \n",
       "(Intercept)  1.073e+01  1.311e-01  81.859  < 2e-16 ***\n",
       "X3           2.487e-07  5.997e-08   4.147 5.18e-05 ***\n",
       "X4           1.791e-06  4.449e-07   4.025 8.38e-05 ***\n",
       "X5          -1.108e-07  6.597e-08  -1.680  0.09474 .  \n",
       "X6           9.251e-07  3.335e-07   2.774  0.00612 ** \n",
       "V2           1.185e-01  6.377e-02   1.859  0.06467 .  \n",
       "R            1.054e-01  6.121e-02   1.721  0.08695 .  \n",
       "O            1.409e-01  9.922e-02   1.420  0.15737    \n",
       "---\n",
       "Signif. codes:  0 '***' 0.001 '**' 0.01 '*' 0.05 '.' 0.1 ' ' 1\n",
       "\n",
       "Residual standard error: 0.4147 on 180 degrees of freedom\n",
       "Multiple R-squared:  0.2595,\tAdjusted R-squared:  0.2307 \n",
       "F-statistic:  9.01 on 7 and 180 DF,  p-value: 1.634e-09\n"
      ]
     },
     "metadata": {},
     "output_type": "display_data"
    }
   ],
   "source": [
    "summary(modelo5)"
   ]
  },
  {
   "cell_type": "code",
   "execution_count": 28,
   "metadata": {},
   "outputs": [
    {
     "data": {
      "text/plain": [
       "\n",
       "\tJarque-Bera test for normality\n",
       "\n",
       "data:  residuals(modelo5)\n",
       "JB = 6.3735, p-value = 0.0335\n"
      ]
     },
     "metadata": {},
     "output_type": "display_data"
    }
   ],
   "source": [
    "jb.norm.test(residuals(modelo5))"
   ]
  },
  {
   "cell_type": "code",
   "execution_count": 29,
   "metadata": {},
   "outputs": [
    {
     "data": {
      "text/plain": [
       "\n",
       "\tLilliefors (Kolmogorov-Smirnov) normality test\n",
       "\n",
       "data:  residuals(modelo5)\n",
       "D = 0.079991, p-value = 0.0052\n"
      ]
     },
     "metadata": {},
     "output_type": "display_data"
    }
   ],
   "source": [
    "lillie.test(residuals(modelo5))"
   ]
  },
  {
   "cell_type": "markdown",
   "metadata": {},
   "source": [
    "-----------"
   ]
  },
  {
   "cell_type": "code",
   "execution_count": 30,
   "metadata": {},
   "outputs": [
    {
     "data": {
      "text/plain": [
       "\n",
       "Call:\n",
       "lm(formula = log(X1) ~ log(X4) + log(X6) + log(X3) + R + V2, \n",
       "    data = casen)\n",
       "\n",
       "Residuals:\n",
       "     Min       1Q   Median       3Q      Max \n",
       "-1.10651 -0.23122  0.03684  0.29787  0.87634 \n",
       "\n",
       "Coefficients:\n",
       "            Estimate Std. Error t value Pr(>|t|)    \n",
       "(Intercept)  5.02944    0.86062   5.844 2.31e-08 ***\n",
       "log(X4)      0.28740    0.05544   5.184 5.73e-07 ***\n",
       "log(X6)      0.14104    0.05562   2.536   0.0121 *  \n",
       "log(X3)      0.09999    0.04374   2.286   0.0234 *  \n",
       "R            0.11288    0.06069   1.860   0.0645 .  \n",
       "V2           0.09724    0.06131   1.586   0.1145    \n",
       "---\n",
       "Signif. codes:  0 '***' 0.001 '**' 0.01 '*' 0.05 '.' 0.1 ' ' 1\n",
       "\n",
       "Residual standard error: 0.4142 on 182 degrees of freedom\n",
       "Multiple R-squared:  0.253,\tAdjusted R-squared:  0.2325 \n",
       "F-statistic: 12.33 on 5 and 182 DF,  p-value: 2.641e-10\n"
      ]
     },
     "metadata": {},
     "output_type": "display_data"
    }
   ],
   "source": [
    "summary(modelo6)"
   ]
  },
  {
   "cell_type": "code",
   "execution_count": 31,
   "metadata": {},
   "outputs": [
    {
     "data": {
      "text/plain": [
       "\n",
       "\tLilliefors (Kolmogorov-Smirnov) normality test\n",
       "\n",
       "data:  residuals(modelo6)\n",
       "D = 0.088829, p-value = 0.001018\n"
      ]
     },
     "metadata": {},
     "output_type": "display_data"
    }
   ],
   "source": [
    "lillie.test(residuals(modelo6))"
   ]
  },
  {
   "cell_type": "code",
   "execution_count": 32,
   "metadata": {},
   "outputs": [
    {
     "data": {
      "text/plain": [
       "\n",
       "\tJarque-Bera test for normality\n",
       "\n",
       "data:  residuals(modelo6)\n",
       "JB = 7.3209, p-value = 0.0305\n"
      ]
     },
     "metadata": {},
     "output_type": "display_data"
    }
   ],
   "source": [
    "jb.norm.test(residuals(modelo6))"
   ]
  },
  {
   "cell_type": "markdown",
   "metadata": {},
   "source": [
    "---------------------------------"
   ]
  },
  {
   "cell_type": "code",
   "execution_count": 33,
   "metadata": {},
   "outputs": [
    {
     "data": {
      "text/plain": [
       "\n",
       "Call:\n",
       "lm(formula = log(X1) ~ log(X3) + log(X4) + log(X6) + V2 + R, \n",
       "    data = casen)\n",
       "\n",
       "Residuals:\n",
       "     Min       1Q   Median       3Q      Max \n",
       "-1.10651 -0.23122  0.03684  0.29787  0.87634 \n",
       "\n",
       "Coefficients:\n",
       "            Estimate Std. Error t value Pr(>|t|)    \n",
       "(Intercept)  5.02944    0.86062   5.844 2.31e-08 ***\n",
       "log(X3)      0.09999    0.04374   2.286   0.0234 *  \n",
       "log(X4)      0.28740    0.05544   5.184 5.73e-07 ***\n",
       "log(X6)      0.14104    0.05562   2.536   0.0121 *  \n",
       "V2           0.09724    0.06131   1.586   0.1145    \n",
       "R            0.11288    0.06069   1.860   0.0645 .  \n",
       "---\n",
       "Signif. codes:  0 '***' 0.001 '**' 0.01 '*' 0.05 '.' 0.1 ' ' 1\n",
       "\n",
       "Residual standard error: 0.4142 on 182 degrees of freedom\n",
       "Multiple R-squared:  0.253,\tAdjusted R-squared:  0.2325 \n",
       "F-statistic: 12.33 on 5 and 182 DF,  p-value: 2.641e-10\n"
      ]
     },
     "metadata": {},
     "output_type": "display_data"
    }
   ],
   "source": [
    "summary(modelo7)"
   ]
  },
  {
   "cell_type": "code",
   "execution_count": 34,
   "metadata": {},
   "outputs": [
    {
     "data": {
      "text/plain": [
       "\n",
       "\tJarque-Bera test for normality\n",
       "\n",
       "data:  residuals(modelo7)\n",
       "JB = 7.3209, p-value = 0.0285\n"
      ]
     },
     "metadata": {},
     "output_type": "display_data"
    }
   ],
   "source": [
    "jb.norm.test(residuals(modelo7))"
   ]
  },
  {
   "cell_type": "code",
   "execution_count": 35,
   "metadata": {},
   "outputs": [
    {
     "data": {
      "text/plain": [
       "\n",
       "\tLilliefors (Kolmogorov-Smirnov) normality test\n",
       "\n",
       "data:  residuals(modelo7)\n",
       "D = 0.088829, p-value = 0.001018\n"
      ]
     },
     "metadata": {},
     "output_type": "display_data"
    }
   ],
   "source": [
    "lillie.test(residuals(modelo7))"
   ]
  },
  {
   "cell_type": "markdown",
   "metadata": {},
   "source": [
    "------------------------------"
   ]
  },
  {
   "cell_type": "markdown",
   "metadata": {},
   "source": [
    "# Comparación de mejores subconjuntos"
   ]
  },
  {
   "cell_type": "code",
   "execution_count": 36,
   "metadata": {},
   "outputs": [],
   "source": [
    "res <- ols_step_all_possible(modelo1)"
   ]
  },
  {
   "cell_type": "code",
   "execution_count": 37,
   "metadata": {},
   "outputs": [
    {
     "data": {
      "text/html": [
       "<table class=\"dataframe\">\n",
       "<caption>A ols_step_all_possible: 6 × 14</caption>\n",
       "<thead>\n",
       "\t<tr><th></th><th scope=col>mindex</th><th scope=col>n</th><th scope=col>predictors</th><th scope=col>rsquare</th><th scope=col>adjr</th><th scope=col>predrsq</th><th scope=col>cp</th><th scope=col>aic</th><th scope=col>sbic</th><th scope=col>sbc</th><th scope=col>msep</th><th scope=col>fpe</th><th scope=col>apc</th><th scope=col>hsp</th></tr>\n",
       "\t<tr><th></th><th scope=col>&lt;int&gt;</th><th scope=col>&lt;int&gt;</th><th scope=col>&lt;chr&gt;</th><th scope=col>&lt;dbl&gt;</th><th scope=col>&lt;dbl&gt;</th><th scope=col>&lt;dbl&gt;</th><th scope=col>&lt;dbl&gt;</th><th scope=col>&lt;dbl&gt;</th><th scope=col>&lt;dbl&gt;</th><th scope=col>&lt;dbl&gt;</th><th scope=col>&lt;dbl&gt;</th><th scope=col>&lt;dbl&gt;</th><th scope=col>&lt;dbl&gt;</th><th scope=col>&lt;dbl&gt;</th></tr>\n",
       "</thead>\n",
       "<tbody>\n",
       "\t<tr><th scope=row>2</th><td>1</td><td>1</td><td>X3</td><td>0.180278497</td><td>0.175871392</td><td> 0.156973125</td><td>32.31030</td><td>4537.217</td><td>4003.138</td><td>4546.926</td><td>326428710374</td><td>1754793375</td><td>0.8373499</td><td> 9385524</td></tr>\n",
       "\t<tr><th scope=row>3</th><td>2</td><td>1</td><td>X4</td><td>0.170265093</td><td>0.165804152</td><td> 0.139091794</td><td>34.95266</td><td>4539.499</td><td>4005.373</td><td>4549.209</td><td>330416238581</td><td>1776229259</td><td>0.8475787</td><td> 9500174</td></tr>\n",
       "\t<tr><th scope=row>5</th><td>3</td><td>1</td><td>X6</td><td>0.077356480</td><td>0.072396031</td><td>-0.002955105</td><td>59.46964</td><td>4559.453</td><td>4024.917</td><td>4569.162</td><td>367414217259</td><td>1975120489</td><td>0.9424853</td><td>10563945</td></tr>\n",
       "\t<tr><th scope=row>4</th><td>4</td><td>1</td><td>X5</td><td>0.017262477</td><td>0.011978941</td><td>-0.010643202</td><td>75.32740</td><td>4571.316</td><td>4036.543</td><td>4581.025</td><td>391344793608</td><td>2103764862</td><td>1.0038717</td><td>11252000</td></tr>\n",
       "\t<tr><th scope=row>11</th><td>5</td><td>1</td><td>R </td><td>0.008156601</td><td>0.002824110</td><td>-0.013336445</td><td>77.73029</td><td>4573.050</td><td>4038.243</td><td>4582.759</td><td>394970926464</td><td>2123257982</td><td>1.0131734</td><td>11356259</td></tr>\n",
       "\t<tr><th scope=row>6</th><td>6</td><td>1</td><td>V1</td><td>0.006416043</td><td>0.001074194</td><td>-0.014239594</td><td>78.18959</td><td>4573.379</td><td>4038.566</td><td>4583.089</td><td>395664050074</td><td>2126984029</td><td>1.0149514</td><td>11376188</td></tr>\n",
       "</tbody>\n",
       "</table>\n"
      ],
      "text/latex": [
       "A ols\\_step\\_all\\_possible: 6 × 14\n",
       "\\begin{tabular}{r|llllllllllllll}\n",
       "  & mindex & n & predictors & rsquare & adjr & predrsq & cp & aic & sbic & sbc & msep & fpe & apc & hsp\\\\\n",
       "  & <int> & <int> & <chr> & <dbl> & <dbl> & <dbl> & <dbl> & <dbl> & <dbl> & <dbl> & <dbl> & <dbl> & <dbl> & <dbl>\\\\\n",
       "\\hline\n",
       "\t2 & 1 & 1 & X3 & 0.180278497 & 0.175871392 &  0.156973125 & 32.31030 & 4537.217 & 4003.138 & 4546.926 & 326428710374 & 1754793375 & 0.8373499 &  9385524\\\\\n",
       "\t3 & 2 & 1 & X4 & 0.170265093 & 0.165804152 &  0.139091794 & 34.95266 & 4539.499 & 4005.373 & 4549.209 & 330416238581 & 1776229259 & 0.8475787 &  9500174\\\\\n",
       "\t5 & 3 & 1 & X6 & 0.077356480 & 0.072396031 & -0.002955105 & 59.46964 & 4559.453 & 4024.917 & 4569.162 & 367414217259 & 1975120489 & 0.9424853 & 10563945\\\\\n",
       "\t4 & 4 & 1 & X5 & 0.017262477 & 0.011978941 & -0.010643202 & 75.32740 & 4571.316 & 4036.543 & 4581.025 & 391344793608 & 2103764862 & 1.0038717 & 11252000\\\\\n",
       "\t11 & 5 & 1 & R  & 0.008156601 & 0.002824110 & -0.013336445 & 77.73029 & 4573.050 & 4038.243 & 4582.759 & 394970926464 & 2123257982 & 1.0131734 & 11356259\\\\\n",
       "\t6 & 6 & 1 & V1 & 0.006416043 & 0.001074194 & -0.014239594 & 78.18959 & 4573.379 & 4038.566 & 4583.089 & 395664050074 & 2126984029 & 1.0149514 & 11376188\\\\\n",
       "\\end{tabular}\n"
      ],
      "text/markdown": [
       "\n",
       "A ols_step_all_possible: 6 × 14\n",
       "\n",
       "| <!--/--> | mindex &lt;int&gt; | n &lt;int&gt; | predictors &lt;chr&gt; | rsquare &lt;dbl&gt; | adjr &lt;dbl&gt; | predrsq &lt;dbl&gt; | cp &lt;dbl&gt; | aic &lt;dbl&gt; | sbic &lt;dbl&gt; | sbc &lt;dbl&gt; | msep &lt;dbl&gt; | fpe &lt;dbl&gt; | apc &lt;dbl&gt; | hsp &lt;dbl&gt; |\n",
       "|---|---|---|---|---|---|---|---|---|---|---|---|---|---|---|\n",
       "| 2 | 1 | 1 | X3 | 0.180278497 | 0.175871392 |  0.156973125 | 32.31030 | 4537.217 | 4003.138 | 4546.926 | 326428710374 | 1754793375 | 0.8373499 |  9385524 |\n",
       "| 3 | 2 | 1 | X4 | 0.170265093 | 0.165804152 |  0.139091794 | 34.95266 | 4539.499 | 4005.373 | 4549.209 | 330416238581 | 1776229259 | 0.8475787 |  9500174 |\n",
       "| 5 | 3 | 1 | X6 | 0.077356480 | 0.072396031 | -0.002955105 | 59.46964 | 4559.453 | 4024.917 | 4569.162 | 367414217259 | 1975120489 | 0.9424853 | 10563945 |\n",
       "| 4 | 4 | 1 | X5 | 0.017262477 | 0.011978941 | -0.010643202 | 75.32740 | 4571.316 | 4036.543 | 4581.025 | 391344793608 | 2103764862 | 1.0038717 | 11252000 |\n",
       "| 11 | 5 | 1 | R  | 0.008156601 | 0.002824110 | -0.013336445 | 77.73029 | 4573.050 | 4038.243 | 4582.759 | 394970926464 | 2123257982 | 1.0131734 | 11356259 |\n",
       "| 6 | 6 | 1 | V1 | 0.006416043 | 0.001074194 | -0.014239594 | 78.18959 | 4573.379 | 4038.566 | 4583.089 | 395664050074 | 2126984029 | 1.0149514 | 11376188 |\n",
       "\n"
      ],
      "text/plain": [
       "   mindex n predictors rsquare     adjr        predrsq      cp       aic     \n",
       "2  1      1 X3         0.180278497 0.175871392  0.156973125 32.31030 4537.217\n",
       "3  2      1 X4         0.170265093 0.165804152  0.139091794 34.95266 4539.499\n",
       "5  3      1 X6         0.077356480 0.072396031 -0.002955105 59.46964 4559.453\n",
       "4  4      1 X5         0.017262477 0.011978941 -0.010643202 75.32740 4571.316\n",
       "11 5      1 R          0.008156601 0.002824110 -0.013336445 77.73029 4573.050\n",
       "6  6      1 V1         0.006416043 0.001074194 -0.014239594 78.18959 4573.379\n",
       "   sbic     sbc      msep         fpe        apc       hsp     \n",
       "2  4003.138 4546.926 326428710374 1754793375 0.8373499  9385524\n",
       "3  4005.373 4549.209 330416238581 1776229259 0.8475787  9500174\n",
       "5  4024.917 4569.162 367414217259 1975120489 0.9424853 10563945\n",
       "4  4036.543 4581.025 391344793608 2103764862 1.0038717 11252000\n",
       "11 4038.243 4582.759 394970926464 2123257982 1.0131734 11356259\n",
       "6  4038.566 4583.089 395664050074 2126984029 1.0149514 11376188"
      ]
     },
     "metadata": {},
     "output_type": "display_data"
    }
   ],
   "source": [
    "head(res)"
   ]
  },
  {
   "cell_type": "code",
   "execution_count": 83,
   "metadata": {},
   "outputs": [
    {
     "data": {
      "text/plain": [
       "mejor\n",
       "FALSE  TRUE \n",
       " 4094     1 "
      ]
     },
     "metadata": {},
     "output_type": "display_data"
    }
   ],
   "source": [
    "RAJ <- res$adjr\n",
    "mejor <- (RAJ == max(res$adjr))\n",
    "table(mejor)"
   ]
  },
  {
   "cell_type": "code",
   "execution_count": 84,
   "metadata": {},
   "outputs": [
    {
     "data": {
      "text/html": [
       "<table class=\"dataframe\">\n",
       "<caption>A ols_step_all_possible: 1 × 14</caption>\n",
       "<thead>\n",
       "\t<tr><th></th><th scope=col>mindex</th><th scope=col>n</th><th scope=col>predictors</th><th scope=col>rsquare</th><th scope=col>adjr</th><th scope=col>predrsq</th><th scope=col>cp</th><th scope=col>aic</th><th scope=col>sbic</th><th scope=col>sbc</th><th scope=col>msep</th><th scope=col>fpe</th><th scope=col>apc</th><th scope=col>hsp</th></tr>\n",
       "\t<tr><th></th><th scope=col>&lt;int&gt;</th><th scope=col>&lt;int&gt;</th><th scope=col>&lt;chr&gt;</th><th scope=col>&lt;dbl&gt;</th><th scope=col>&lt;dbl&gt;</th><th scope=col>&lt;dbl&gt;</th><th scope=col>&lt;dbl&gt;</th><th scope=col>&lt;dbl&gt;</th><th scope=col>&lt;dbl&gt;</th><th scope=col>&lt;dbl&gt;</th><th scope=col>&lt;dbl&gt;</th><th scope=col>&lt;dbl&gt;</th><th scope=col>&lt;dbl&gt;</th><th scope=col>&lt;dbl&gt;</th></tr>\n",
       "</thead>\n",
       "<tbody>\n",
       "\t<tr><th scope=row>2128</th><td>1586</td><td>6</td><td>X3 X4 X6 V2 R O</td><td>0.3292508</td><td>0.307016</td><td>0.2470236</td><td>2.999086</td><td>4509.51</td><td>3976.851</td><td>4535.401</td><td>274524681202</td><td>1514381129</td><td>0.7226303</td><td>8111215</td></tr>\n",
       "</tbody>\n",
       "</table>\n"
      ],
      "text/latex": [
       "A ols\\_step\\_all\\_possible: 1 × 14\n",
       "\\begin{tabular}{r|llllllllllllll}\n",
       "  & mindex & n & predictors & rsquare & adjr & predrsq & cp & aic & sbic & sbc & msep & fpe & apc & hsp\\\\\n",
       "  & <int> & <int> & <chr> & <dbl> & <dbl> & <dbl> & <dbl> & <dbl> & <dbl> & <dbl> & <dbl> & <dbl> & <dbl> & <dbl>\\\\\n",
       "\\hline\n",
       "\t2128 & 1586 & 6 & X3 X4 X6 V2 R O & 0.3292508 & 0.307016 & 0.2470236 & 2.999086 & 4509.51 & 3976.851 & 4535.401 & 274524681202 & 1514381129 & 0.7226303 & 8111215\\\\\n",
       "\\end{tabular}\n"
      ],
      "text/markdown": [
       "\n",
       "A ols_step_all_possible: 1 × 14\n",
       "\n",
       "| <!--/--> | mindex &lt;int&gt; | n &lt;int&gt; | predictors &lt;chr&gt; | rsquare &lt;dbl&gt; | adjr &lt;dbl&gt; | predrsq &lt;dbl&gt; | cp &lt;dbl&gt; | aic &lt;dbl&gt; | sbic &lt;dbl&gt; | sbc &lt;dbl&gt; | msep &lt;dbl&gt; | fpe &lt;dbl&gt; | apc &lt;dbl&gt; | hsp &lt;dbl&gt; |\n",
       "|---|---|---|---|---|---|---|---|---|---|---|---|---|---|---|\n",
       "| 2128 | 1586 | 6 | X3 X4 X6 V2 R O | 0.3292508 | 0.307016 | 0.2470236 | 2.999086 | 4509.51 | 3976.851 | 4535.401 | 274524681202 | 1514381129 | 0.7226303 | 8111215 |\n",
       "\n"
      ],
      "text/plain": [
       "     mindex n predictors      rsquare   adjr     predrsq   cp       aic    \n",
       "2128 1586   6 X3 X4 X6 V2 R O 0.3292508 0.307016 0.2470236 2.999086 4509.51\n",
       "     sbic     sbc      msep         fpe        apc       hsp    \n",
       "2128 3976.851 4535.401 274524681202 1514381129 0.7226303 8111215"
      ]
     },
     "metadata": {},
     "output_type": "display_data"
    }
   ],
   "source": [
    "subset(res,mejor==TRUE)"
   ]
  },
  {
   "cell_type": "code",
   "execution_count": 85,
   "metadata": {},
   "outputs": [
    {
     "data": {
      "text/plain": [
       "\n",
       "Call:\n",
       "lm(formula = X1 ~ X3 + X4 + X6 + V2 + R + O, data = casen)\n",
       "\n",
       "Residuals:\n",
       "   Min     1Q Median     3Q    Max \n",
       "-99763 -26860     26  22105 120649 \n",
       "\n",
       "Coefficients:\n",
       "             Estimate Std. Error t value Pr(>|t|)    \n",
       "(Intercept) 2.516e+04  1.182e+04   2.129   0.0346 *  \n",
       "X3          2.708e-02  5.498e-03   4.926 1.88e-06 ***\n",
       "X4          1.957e-01  4.017e-02   4.870 2.42e-06 ***\n",
       "X6          8.950e-02  3.035e-02   2.950   0.0036 ** \n",
       "V2          8.024e+03  5.657e+03   1.418   0.1578    \n",
       "R           8.460e+03  5.639e+03   1.500   0.1353    \n",
       "O           1.038e+04  9.114e+03   1.139   0.2564    \n",
       "---\n",
       "Signif. codes:  0 '***' 0.001 '**' 0.01 '*' 0.05 '.' 0.1 ' ' 1\n",
       "\n",
       "Residual standard error: 38210 on 181 degrees of freedom\n",
       "Multiple R-squared:  0.3293,\tAdjusted R-squared:  0.307 \n",
       "F-statistic: 14.81 on 6 and 181 DF,  p-value: 9.652e-14\n"
      ]
     },
     "metadata": {},
     "output_type": "display_data"
    }
   ],
   "source": [
    "modelo8 <- lm(X1 ~ X3 + X4 +X6 +V2 +R +O, data=casen)\n",
    "summary(modelo8)"
   ]
  },
  {
   "cell_type": "code",
   "execution_count": 41,
   "metadata": {},
   "outputs": [
    {
     "data": {
      "text/plain": [
       "\n",
       "\tJarque-Bera test for normality\n",
       "\n",
       "data:  residuals(modelo8)\n",
       "JB = 3.4644, p-value = 0.1305\n"
      ]
     },
     "metadata": {},
     "output_type": "display_data"
    }
   ],
   "source": [
    "jb.norm.test(residuals(modelo8))"
   ]
  },
  {
   "cell_type": "markdown",
   "metadata": {},
   "source": [
    "--------------------\n",
    "# Modelos de regresión sin intercepto"
   ]
  },
  {
   "cell_type": "code",
   "execution_count": 42,
   "metadata": {},
   "outputs": [
    {
     "data": {
      "text/plain": [
       "\n",
       "Call:\n",
       "lm(formula = X1 ~ X2 + X3 + X4 + X5 + X6 + V1 + V2 + Z1 + E1 + \n",
       "    E2 + R + O - 1, data = casen)\n",
       "\n",
       "Residuals:\n",
       "   Min     1Q Median     3Q    Max \n",
       "-88073 -24371   -219  22456 116659 \n",
       "\n",
       "Coefficients:\n",
       "     Estimate Std. Error t value Pr(>|t|)    \n",
       "X2  8.770e-03  2.477e-02   0.354  0.72375    \n",
       "X3  3.097e-02  5.502e-03   5.629 7.04e-08 ***\n",
       "X4  2.183e-01  4.107e-02   5.314 3.21e-07 ***\n",
       "X5 -5.507e-03  8.177e-03  -0.673  0.50152    \n",
       "X6  9.522e-02  3.161e-02   3.012  0.00298 ** \n",
       "V1  1.157e+04  8.982e+03   1.288  0.19946    \n",
       "V2  1.844e+04  7.154e+03   2.578  0.01075 *  \n",
       "Z1 -2.032e+03  6.620e+03  -0.307  0.75929    \n",
       "E1  8.068e+03  7.239e+03   1.115  0.26656    \n",
       "E2  2.391e+03  1.048e+04   0.228  0.81983    \n",
       "R   1.051e+04  5.691e+03   1.847  0.06645 .  \n",
       "O   1.759e+04  7.927e+03   2.220  0.02773 *  \n",
       "---\n",
       "Signif. codes:  0 '***' 0.001 '**' 0.01 '*' 0.05 '.' 0.1 ' ' 1\n",
       "\n",
       "Residual standard error: 38760 on 176 degrees of freedom\n",
       "Multiple R-squared:  0.8794,\tAdjusted R-squared:  0.8712 \n",
       "F-statistic:   107 on 12 and 176 DF,  p-value: < 2.2e-16\n"
      ]
     },
     "metadata": {},
     "output_type": "display_data"
    }
   ],
   "source": [
    "modeloSI_1 <- lm(X1 ~ X2+X3+X4+X5+X6+V1+V2+Z1+E1+E2+R+O-1, data=casen)\n",
    "summary(modeloSI_1)"
   ]
  },
  {
   "cell_type": "code",
   "execution_count": 43,
   "metadata": {},
   "outputs": [],
   "source": [
    "fitSI_1 <- lm(X1 ~ X2+X3+X4+X5+X6+V1+V2+Z1+E1+E2+R+O-1, data=casen)\n",
    "fitSI_2 <- lm(X1 ~ -1, data=casen)"
   ]
  },
  {
   "cell_type": "code",
   "execution_count": 44,
   "metadata": {},
   "outputs": [
    {
     "name": "stdout",
     "output_type": "stream",
     "text": [
      "Start:  AIC=4357.79\n",
      "X1 ~ -1\n",
      "\n",
      "       Df  Sum of Sq        RSS    AIC\n",
      "+ X3    1 1.6377e+12 5.5502e+11 4101.5\n",
      "+ O     1 1.6242e+12 5.6856e+11 4106.0\n",
      "+ X4    1 1.5730e+12 6.1973e+11 4122.2\n",
      "+ X5    1 1.5198e+12 6.7294e+11 4137.7\n",
      "+ X2    1 1.4049e+12 7.8786e+11 4167.4\n",
      "+ X6    1 1.3517e+12 8.4104e+11 4179.6\n",
      "+ E1    1 1.2678e+12 9.2497e+11 4197.5\n",
      "+ Z1    1 1.2320e+12 9.6076e+11 4204.7\n",
      "+ V2    1 1.0992e+12 1.0935e+12 4229.0\n",
      "+ R     1 9.1955e+11 1.2732e+12 4257.6\n",
      "+ V1    1 3.9319e+11 1.7996e+12 4322.6\n",
      "+ E2    1 1.7917e+11 2.0136e+12 4343.8\n",
      "<none>               2.1927e+12 4357.8\n",
      "\n",
      "Step:  AIC=4101.49\n",
      "X1 ~ X3 - 1\n",
      "\n",
      "       Df  Sum of Sq        RSS    AIC\n",
      "+ O     1 1.7841e+11 3.7660e+11 4030.6\n",
      "+ X4    1 1.6531e+11 3.8971e+11 4037.0\n",
      "+ X5    1 1.2333e+11 4.3168e+11 4056.2\n",
      "+ X2    1 1.2240e+11 4.3261e+11 4056.7\n",
      "+ X6    1 1.1673e+11 4.3828e+11 4059.1\n",
      "+ E1    1 1.0003e+11 4.5498e+11 4066.1\n",
      "+ V2    1 8.7516e+10 4.6750e+11 4071.2\n",
      "+ Z1    1 8.4069e+10 4.7095e+11 4072.6\n",
      "+ R     1 7.6576e+10 4.7844e+11 4075.6\n",
      "+ V1    1 2.9020e+10 5.2600e+11 4093.4\n",
      "+ E2    1 1.4703e+10 5.4031e+11 4098.4\n",
      "<none>               5.5502e+11 4101.5\n",
      "\n",
      "Step:  AIC=4030.59\n",
      "X1 ~ X3 + O - 1\n",
      "\n",
      "       Df  Sum of Sq        RSS    AIC\n",
      "+ X4    1 6.2892e+10 3.1371e+11 3998.2\n",
      "+ X6    1 4.2739e+10 3.3387e+11 4009.9\n",
      "+ R     1 1.8018e+10 3.5859e+11 4023.4\n",
      "+ X5    1 1.6288e+10 3.6032e+11 4024.3\n",
      "+ V2    1 1.6267e+10 3.6034e+11 4024.3\n",
      "+ E1    1 9.6974e+09 3.6691e+11 4027.7\n",
      "+ X2    1 9.4988e+09 3.6711e+11 4027.8\n",
      "+ Z1    1 6.0012e+09 3.7060e+11 4029.6\n",
      "<none>               3.7660e+11 4030.6\n",
      "+ V1    1 1.3235e+09 3.7528e+11 4031.9\n",
      "+ E2    1 7.4558e+08 3.7586e+11 4032.2\n",
      "\n",
      "Step:  AIC=3998.24\n",
      "X1 ~ X3 + O + X4 - 1\n",
      "\n",
      "       Df  Sum of Sq        RSS    AIC\n",
      "+ X6    1 2.7902e+10 2.8581e+11 3982.7\n",
      "+ R     1 1.4104e+10 2.9961e+11 3991.6\n",
      "+ V2    1 1.1241e+10 3.0247e+11 3993.4\n",
      "+ E1    1 9.1666e+09 3.0455e+11 3994.7\n",
      "+ Z1    1 4.3803e+09 3.0933e+11 3997.6\n",
      "+ X5    1 3.3466e+09 3.1037e+11 3998.2\n",
      "<none>               3.1371e+11 3998.2\n",
      "+ X2    1 2.7794e+09 3.1093e+11 3998.6\n",
      "+ V1    1 6.7108e+08 3.1304e+11 3999.8\n",
      "+ E2    1 2.9300e+07 3.1368e+11 4000.2\n",
      "\n",
      "Step:  AIC=3982.73\n",
      "X1 ~ X3 + O + X4 + X6 - 1\n",
      "\n",
      "       Df  Sum of Sq        RSS    AIC\n",
      "+ V2    1 8459073206 2.7735e+11 3979.1\n",
      "+ R     1 7476472139 2.7833e+11 3979.7\n",
      "+ E1    1 3979761640 2.8183e+11 3982.1\n",
      "<none>               2.8581e+11 3982.7\n",
      "+ Z1    1 1751479923 2.8406e+11 3983.6\n",
      "+ X2    1  695422851 2.8512e+11 3984.3\n",
      "+ X5    1  335970782 2.8548e+11 3984.5\n",
      "+ E2    1  106647129 2.8570e+11 3984.7\n",
      "+ V1    1   22213327 2.8579e+11 3984.7\n",
      "\n",
      "Step:  AIC=3979.08\n",
      "X1 ~ X3 + O + X4 + X6 + V2 - 1\n",
      "\n",
      "       Df  Sum of Sq        RSS    AIC\n",
      "+ R     1 6469996461 2.7088e+11 3976.6\n",
      "+ V1    1 4823142158 2.7253e+11 3977.8\n",
      "+ E1    1 3013030914 2.7434e+11 3979.0\n",
      "<none>               2.7735e+11 3979.1\n",
      "+ Z1    1 1884954770 2.7547e+11 3979.8\n",
      "+ X2    1  228155559 2.7712e+11 3980.9\n",
      "+ X5    1  205426375 2.7715e+11 3980.9\n",
      "+ E2    1   28398944 2.7732e+11 3981.1\n",
      "\n",
      "Step:  AIC=3976.64\n",
      "X1 ~ X3 + O + X4 + X6 + V2 + R - 1\n",
      "\n",
      "       Df  Sum of Sq        RSS    AIC\n",
      "+ V1    1 3598085636 2.6728e+11 3976.1\n",
      "<none>               2.7088e+11 3976.6\n",
      "+ E1    1 2519584710 2.6836e+11 3976.9\n",
      "+ Z1    1  721101267 2.7016e+11 3978.1\n",
      "+ X5    1  278051417 2.7060e+11 3978.4\n",
      "+ X2    1  202649933 2.7068e+11 3978.5\n",
      "+ E2    1   74705950 2.7081e+11 3978.6\n",
      "\n",
      "Step:  AIC=3976.13\n",
      "X1 ~ X3 + O + X4 + X6 + V2 + R + V1 - 1\n",
      "\n",
      "       Df  Sum of Sq        RSS    AIC\n",
      "<none>               2.6728e+11 3976.1\n",
      "+ E1    1 1983373554 2.6530e+11 3976.7\n",
      "+ X5    1  421176653 2.6686e+11 3977.8\n",
      "+ E2    1  252716703 2.6703e+11 3977.9\n",
      "+ Z1    1    8094418 2.6728e+11 3978.1\n",
      "+ X2    1     116727 2.6728e+11 3978.1\n"
     ]
    }
   ],
   "source": [
    "modeloSI_2 <- step(fitSI_2, direction=\"forward\", scope=list(upper=fitSI_1, lower=fitSI_2))"
   ]
  },
  {
   "cell_type": "code",
   "execution_count": 45,
   "metadata": {},
   "outputs": [
    {
     "name": "stdout",
     "output_type": "stream",
     "text": [
      "Start:  AIC=3984.09\n",
      "X1 ~ X2 + X3 + X4 + X5 + X6 + V1 + V2 + Z1 + E1 + E2 + R + O - \n",
      "    1\n",
      "\n",
      "       Df  Sum of Sq        RSS    AIC\n",
      "- E2    1 7.8165e+07 2.6449e+11 3982.1\n",
      "- Z1    1 1.4149e+08 2.6455e+11 3982.2\n",
      "- X2    1 1.8829e+08 2.6460e+11 3982.2\n",
      "- X5    1 6.8144e+08 2.6509e+11 3982.6\n",
      "- E1    1 1.8662e+09 2.6628e+11 3983.4\n",
      "- V1    1 2.4920e+09 2.6690e+11 3983.9\n",
      "<none>               2.6441e+11 3984.1\n",
      "- R     1 5.1242e+09 2.6953e+11 3985.7\n",
      "- O     1 7.4011e+09 2.7181e+11 3987.3\n",
      "- V2    1 9.9855e+09 2.7439e+11 3989.1\n",
      "- X6    1 1.3631e+10 2.7804e+11 3991.5\n",
      "- X4    1 4.2428e+10 3.0684e+11 4010.1\n",
      "- X3    1 4.7603e+10 3.1201e+11 4013.2\n",
      "\n",
      "Step:  AIC=3982.15\n",
      "X1 ~ X2 + X3 + X4 + X5 + X6 + V1 + V2 + Z1 + E1 + R + O - 1\n",
      "\n",
      "       Df  Sum of Sq        RSS    AIC\n",
      "- Z1    1 1.3532e+08 2.6462e+11 3980.2\n",
      "- X2    1 2.5400e+08 2.6474e+11 3980.3\n",
      "- X5    1 6.8768e+08 2.6518e+11 3980.6\n",
      "- E1    1 2.0406e+09 2.6653e+11 3981.6\n",
      "- V1    1 2.6177e+09 2.6711e+11 3982.0\n",
      "<none>               2.6449e+11 3982.1\n",
      "- R     1 5.2211e+09 2.6971e+11 3983.8\n",
      "- O     1 7.8992e+09 2.7239e+11 3985.7\n",
      "- V2    1 1.0053e+10 2.7454e+11 3987.2\n",
      "- X6    1 1.4261e+10 2.7875e+11 3990.0\n",
      "- X4    1 4.2513e+10 3.0700e+11 4008.2\n",
      "- X3    1 4.7530e+10 3.1202e+11 4011.2\n",
      "\n",
      "Step:  AIC=3980.24\n",
      "X1 ~ X2 + X3 + X4 + X5 + X6 + V1 + V2 + E1 + R + O - 1\n",
      "\n",
      "       Df  Sum of Sq        RSS    AIC\n",
      "- X2    1 2.3782e+08 2.6486e+11 3978.4\n",
      "- X5    1 6.7041e+08 2.6529e+11 3978.7\n",
      "- E1    1 1.9085e+09 2.6653e+11 3979.6\n",
      "- V1    1 2.5473e+09 2.6717e+11 3980.0\n",
      "<none>               2.6462e+11 3980.2\n",
      "- R     1 5.0870e+09 2.6971e+11 3981.8\n",
      "- O     1 7.7739e+09 2.7240e+11 3983.7\n",
      "- V2    1 9.9612e+09 2.7458e+11 3985.2\n",
      "- X6    1 1.4297e+10 2.7892e+11 3988.1\n",
      "- X4    1 4.2517e+10 3.0714e+11 4006.3\n",
      "- X3    1 4.7618e+10 3.1224e+11 4009.4\n",
      "\n",
      "Step:  AIC=3978.41\n",
      "X1 ~ X3 + X4 + X5 + X6 + V1 + V2 + E1 + R + O - 1\n",
      "\n",
      "       Df  Sum of Sq        RSS    AIC\n",
      "- X5    1 4.4001e+08 2.6530e+11 3976.7\n",
      "- E1    1 2.0022e+09 2.6686e+11 3977.8\n",
      "<none>               2.6486e+11 3978.4\n",
      "- V1    1 3.1958e+09 2.6806e+11 3978.7\n",
      "- R     1 4.9920e+09 2.6985e+11 3979.9\n",
      "- O     1 8.9870e+09 2.7385e+11 3982.7\n",
      "- V2    1 1.0031e+10 2.7489e+11 3983.4\n",
      "- X6    1 1.4134e+10 2.7899e+11 3986.2\n",
      "- X4    1 4.2332e+10 3.0719e+11 4004.3\n",
      "- X3    1 4.7391e+10 3.1225e+11 4007.4\n",
      "\n",
      "Step:  AIC=3976.73\n",
      "X1 ~ X3 + X4 + X6 + V1 + V2 + E1 + R + O - 1\n",
      "\n",
      "       Df  Sum of Sq        RSS    AIC\n",
      "- E1    1 1.9834e+09 2.6728e+11 3976.1\n",
      "<none>               2.6530e+11 3976.7\n",
      "- V1    1 3.0619e+09 2.6836e+11 3976.9\n",
      "- R     1 4.9334e+09 2.7023e+11 3978.2\n",
      "- O     1 8.5610e+09 2.7386e+11 3980.7\n",
      "- V2    1 9.7148e+09 2.7502e+11 3981.5\n",
      "- X6    1 1.3700e+10 2.7900e+11 3984.2\n",
      "- X4    1 4.2767e+10 3.0807e+11 4002.8\n",
      "- X3    1 4.7182e+10 3.1248e+11 4005.5\n",
      "\n",
      "Step:  AIC=3976.13\n",
      "X1 ~ X3 + X4 + X6 + V1 + V2 + R + O - 1\n",
      "\n",
      "       Df  Sum of Sq        RSS    AIC\n",
      "<none>               2.6728e+11 3976.1\n",
      "- V1    1 3.5981e+09 2.7088e+11 3976.6\n",
      "- R     1 5.2449e+09 2.7253e+11 3977.8\n",
      "- V2    1 1.1050e+10 2.7833e+11 3981.7\n",
      "- O     1 1.3195e+10 2.8048e+11 3983.2\n",
      "- X6    1 1.5855e+10 2.8314e+11 3985.0\n",
      "- X4    1 4.2115e+10 3.0940e+11 4001.6\n",
      "- X3    1 4.9624e+10 3.1691e+11 4006.1\n"
     ]
    }
   ],
   "source": [
    "modeloSI_3 <- step(fitSI_1, direction= \"backward\")"
   ]
  },
  {
   "cell_type": "code",
   "execution_count": 46,
   "metadata": {},
   "outputs": [],
   "source": [
    "fitSI_3 <- lm(log(X1) ~ X2+X3+X4+X5+X6+V1+V2+Z1+E1+E2+R+O-1, data=casen)\n",
    "fitSI_4 <- lm((X1) ~ -1, data=casen)"
   ]
  },
  {
   "cell_type": "code",
   "execution_count": 47,
   "metadata": {},
   "outputs": [
    {
     "name": "stdout",
     "output_type": "stream",
     "text": [
      "Start:  AIC=4357.79\n",
      "(X1) ~ -1\n",
      "\n",
      "       Df  Sum of Sq        RSS    AIC\n",
      "+ X3    1 1.6377e+12 5.5502e+11 4101.5\n",
      "+ O     1 1.6242e+12 5.6856e+11 4106.0\n",
      "+ X4    1 1.5730e+12 6.1973e+11 4122.2\n",
      "+ X5    1 1.5198e+12 6.7294e+11 4137.7\n",
      "+ X2    1 1.4049e+12 7.8786e+11 4167.4\n",
      "+ X6    1 1.3517e+12 8.4104e+11 4179.6\n",
      "+ E1    1 1.2678e+12 9.2497e+11 4197.5\n",
      "+ Z1    1 1.2320e+12 9.6076e+11 4204.7\n",
      "+ V2    1 1.0992e+12 1.0935e+12 4229.0\n",
      "+ R     1 9.1955e+11 1.2732e+12 4257.6\n",
      "+ V1    1 3.9319e+11 1.7996e+12 4322.6\n",
      "+ E2    1 1.7917e+11 2.0136e+12 4343.8\n",
      "<none>               2.1927e+12 4357.8\n",
      "\n",
      "Step:  AIC=4101.49\n",
      "(X1) ~ X3 - 1\n",
      "\n",
      "       Df  Sum of Sq        RSS    AIC\n",
      "+ O     1 1.7841e+11 3.7660e+11 4030.6\n",
      "+ X4    1 1.6531e+11 3.8971e+11 4037.0\n",
      "+ X5    1 1.2333e+11 4.3168e+11 4056.2\n",
      "+ X2    1 1.2240e+11 4.3261e+11 4056.7\n",
      "+ X6    1 1.1673e+11 4.3828e+11 4059.1\n",
      "+ E1    1 1.0003e+11 4.5498e+11 4066.1\n",
      "+ V2    1 8.7516e+10 4.6750e+11 4071.2\n",
      "+ Z1    1 8.4069e+10 4.7095e+11 4072.6\n",
      "+ R     1 7.6576e+10 4.7844e+11 4075.6\n",
      "+ V1    1 2.9020e+10 5.2600e+11 4093.4\n",
      "+ E2    1 1.4703e+10 5.4031e+11 4098.4\n",
      "<none>               5.5502e+11 4101.5\n",
      "\n",
      "Step:  AIC=4030.59\n",
      "(X1) ~ X3 + O - 1\n",
      "\n",
      "       Df  Sum of Sq        RSS    AIC\n",
      "+ X4    1 6.2892e+10 3.1371e+11 3998.2\n",
      "+ X6    1 4.2739e+10 3.3387e+11 4009.9\n",
      "+ R     1 1.8018e+10 3.5859e+11 4023.4\n",
      "+ X5    1 1.6288e+10 3.6032e+11 4024.3\n",
      "+ V2    1 1.6267e+10 3.6034e+11 4024.3\n",
      "+ E1    1 9.6974e+09 3.6691e+11 4027.7\n",
      "+ X2    1 9.4988e+09 3.6711e+11 4027.8\n",
      "+ Z1    1 6.0012e+09 3.7060e+11 4029.6\n",
      "<none>               3.7660e+11 4030.6\n",
      "+ V1    1 1.3235e+09 3.7528e+11 4031.9\n",
      "+ E2    1 7.4558e+08 3.7586e+11 4032.2\n",
      "\n",
      "Step:  AIC=3998.24\n",
      "(X1) ~ X3 + O + X4 - 1\n",
      "\n",
      "       Df  Sum of Sq        RSS    AIC\n",
      "+ X6    1 2.7902e+10 2.8581e+11 3982.7\n",
      "+ R     1 1.4104e+10 2.9961e+11 3991.6\n",
      "+ V2    1 1.1241e+10 3.0247e+11 3993.4\n",
      "+ E1    1 9.1666e+09 3.0455e+11 3994.7\n",
      "+ Z1    1 4.3803e+09 3.0933e+11 3997.6\n",
      "+ X5    1 3.3466e+09 3.1037e+11 3998.2\n",
      "<none>               3.1371e+11 3998.2\n",
      "+ X2    1 2.7794e+09 3.1093e+11 3998.6\n",
      "+ V1    1 6.7108e+08 3.1304e+11 3999.8\n",
      "+ E2    1 2.9300e+07 3.1368e+11 4000.2\n",
      "\n",
      "Step:  AIC=3982.73\n",
      "(X1) ~ X3 + O + X4 + X6 - 1\n",
      "\n",
      "       Df  Sum of Sq        RSS    AIC\n",
      "+ V2    1 8459073206 2.7735e+11 3979.1\n",
      "+ R     1 7476472139 2.7833e+11 3979.7\n",
      "+ E1    1 3979761640 2.8183e+11 3982.1\n",
      "<none>               2.8581e+11 3982.7\n",
      "+ Z1    1 1751479923 2.8406e+11 3983.6\n",
      "+ X2    1  695422851 2.8512e+11 3984.3\n",
      "+ X5    1  335970782 2.8548e+11 3984.5\n",
      "+ E2    1  106647129 2.8570e+11 3984.7\n",
      "+ V1    1   22213327 2.8579e+11 3984.7\n",
      "\n",
      "Step:  AIC=3979.08\n",
      "(X1) ~ X3 + O + X4 + X6 + V2 - 1\n",
      "\n",
      "       Df  Sum of Sq        RSS    AIC\n",
      "+ R     1 6469996461 2.7088e+11 3976.6\n",
      "+ V1    1 4823142158 2.7253e+11 3977.8\n",
      "+ E1    1 3013030914 2.7434e+11 3979.0\n",
      "<none>               2.7735e+11 3979.1\n",
      "+ Z1    1 1884954770 2.7547e+11 3979.8\n",
      "+ X2    1  228155559 2.7712e+11 3980.9\n",
      "+ X5    1  205426375 2.7715e+11 3980.9\n",
      "+ E2    1   28398944 2.7732e+11 3981.1\n",
      "\n",
      "Step:  AIC=3976.64\n",
      "(X1) ~ X3 + O + X4 + X6 + V2 + R - 1\n",
      "\n",
      "       Df  Sum of Sq        RSS    AIC\n",
      "+ V1    1 3598085636 2.6728e+11 3976.1\n",
      "<none>               2.7088e+11 3976.6\n",
      "+ E1    1 2519584710 2.6836e+11 3976.9\n",
      "+ Z1    1  721101267 2.7016e+11 3978.1\n",
      "+ X5    1  278051417 2.7060e+11 3978.4\n",
      "+ X2    1  202649933 2.7068e+11 3978.5\n",
      "+ E2    1   74705950 2.7081e+11 3978.6\n",
      "\n",
      "Step:  AIC=3976.13\n",
      "(X1) ~ X3 + O + X4 + X6 + V2 + R + V1 - 1\n",
      "\n",
      "       Df  Sum of Sq        RSS    AIC\n",
      "<none>               2.6728e+11 3976.1\n",
      "+ E1    1 1983373554 2.6530e+11 3976.7\n",
      "+ X5    1  421176653 2.6686e+11 3977.8\n",
      "+ E2    1  252716703 2.6703e+11 3977.9\n",
      "+ Z1    1    8094418 2.6728e+11 3978.1\n",
      "+ X2    1     116727 2.6728e+11 3978.1\n"
     ]
    }
   ],
   "source": [
    "modeloSI_4 <- step(fitSI_4, direction=\"forward\", scope=list(upper=fitSI_1, lower=fitSI_2))"
   ]
  },
  {
   "cell_type": "code",
   "execution_count": 73,
   "metadata": {},
   "outputs": [
    {
     "name": "stdout",
     "output_type": "stream",
     "text": [
      "Start:  AIC=244.89\n",
      "log(X1) ~ X2 + X3 + X4 + X5 + X6 + V1 + V2 + Z1 + E1 + E2 + R + \n",
      "    O - 1\n",
      "\n",
      "       Df Sum of Sq    RSS    AIC\n",
      "- X5    1     4.384 613.13 244.24\n",
      "<none>              608.75 244.89\n",
      "- X6    1    14.051 622.80 247.18\n",
      "- R     1    32.524 641.27 252.68\n",
      "- Z1    1    37.906 646.65 254.25\n",
      "- X2    1    53.327 662.07 258.68\n",
      "- X4    1    55.998 664.74 259.44\n",
      "- E2    1    60.903 669.65 260.82\n",
      "- V1    1    68.628 677.37 262.98\n",
      "- E1    1   108.512 717.26 273.73\n",
      "- X3    1   115.630 724.38 275.59\n",
      "- V2    1   203.882 812.63 297.20\n",
      "- O     1   240.236 848.98 305.43\n",
      "\n",
      "Step:  AIC=244.24\n",
      "log(X1) ~ X2 + X3 + X4 + X6 + V1 + V2 + Z1 + E1 + E2 + R + O - \n",
      "    1\n",
      "\n",
      "       Df Sum of Sq    RSS    AIC\n",
      "<none>              613.13 244.24\n",
      "- X6    1    11.719 624.85 245.80\n",
      "- R     1    31.356 644.48 251.62\n",
      "- Z1    1    38.691 651.82 253.75\n",
      "- X4    1    51.941 665.07 257.53\n",
      "- E2    1    61.347 674.48 260.17\n",
      "- X2    1    62.247 675.38 260.42\n",
      "- V1    1    73.402 686.53 263.50\n",
      "- E1    1   109.817 722.95 273.22\n",
      "- X3    1   111.270 724.40 273.59\n",
      "- V2    1   200.673 813.80 295.47\n",
      "- O     1   238.696 851.82 304.06\n"
     ]
    }
   ],
   "source": [
    "modeloSI_5 <- step(fitSI_3, direction= \"backward\")"
   ]
  },
  {
   "cell_type": "code",
   "execution_count": 49,
   "metadata": {},
   "outputs": [],
   "source": [
    "fitSI_5 <- lm(log(X1) ~ log(X2)+log(X3)+log(X4)+log(X5)+log(X6)+V1+V2+Z1+E1+E2+R+O-1, data=casen)\n",
    "fitSI_6 <- lm(log(X1) ~ -1, data=casen)"
   ]
  },
  {
   "cell_type": "code",
   "execution_count": 50,
   "metadata": {},
   "outputs": [
    {
     "name": "stdout",
     "output_type": "stream",
     "text": [
      "Start:  AIC=914.81\n",
      "log(X1) ~ -1\n",
      "\n",
      "       Df Sum of Sq     RSS    AIC\n",
      "+ O     1   21799.0  2604.1 496.14\n",
      "+ X2    1   19512.1  4891.0 614.64\n",
      "+ X5    1   19403.0  5000.1 618.79\n",
      "+ X3    1   17897.8  6505.3 668.26\n",
      "+ Z1    1   17398.1  7005.0 682.17\n",
      "+ E1    1   17100.2  7302.9 690.00\n",
      "+ X4    1   16958.6  7444.5 693.61\n",
      "+ X6    1   15311.8  9091.3 731.18\n",
      "+ V2    1   14199.2 10203.9 752.89\n",
      "+ R     1   11516.6 12886.5 796.77\n",
      "+ V1    1    6022.0 18381.1 863.54\n",
      "+ E2    1    2939.4 21463.7 892.68\n",
      "<none>              24403.1 914.81\n",
      "\n",
      "Step:  AIC=496.14\n",
      "log(X1) ~ O - 1\n",
      "\n",
      "       Df Sum of Sq    RSS    AIC\n",
      "+ X3    1    720.11 1884.0 437.28\n",
      "+ X5    1    693.61 1910.5 439.91\n",
      "+ X2    1    658.11 1946.0 443.37\n",
      "+ Z1    1    618.00 1986.1 447.20\n",
      "+ X6    1    605.44 1998.6 448.39\n",
      "+ X4    1    552.72 2051.3 453.28\n",
      "+ E1    1    452.15 2151.9 462.28\n",
      "+ V2    1    418.50 2185.6 465.20\n",
      "+ R     1    318.64 2285.4 473.60\n",
      "+ V1    1     78.67 2525.4 492.37\n",
      "+ E2    1     50.25 2553.8 494.47\n",
      "<none>              2604.1 496.14\n",
      "\n",
      "Step:  AIC=437.28\n",
      "log(X1) ~ O + X3 - 1\n",
      "\n",
      "       Df Sum of Sq    RSS    AIC\n",
      "+ X2    1    431.66 1452.3 390.36\n",
      "+ Z1    1    386.25 1497.7 396.15\n",
      "+ X5    1    303.54 1580.4 406.25\n",
      "+ E1    1    273.08 1610.9 409.84\n",
      "+ X6    1    259.37 1624.6 411.43\n",
      "+ V2    1    251.53 1632.4 412.34\n",
      "+ R     1    199.25 1684.7 418.27\n",
      "+ X4    1    180.92 1703.0 420.30\n",
      "+ V1    1     88.06 1795.9 430.28\n",
      "+ E2    1     62.53 1821.4 432.94\n",
      "<none>              1884.0 437.28\n",
      "\n",
      "Step:  AIC=390.36\n",
      "log(X1) ~ O + X3 + X2 - 1\n",
      "\n",
      "       Df Sum of Sq    RSS    AIC\n",
      "+ Z1    1   271.411 1180.9 353.46\n",
      "+ E1    1   201.987 1250.3 364.20\n",
      "+ V2    1   166.810 1285.5 369.42\n",
      "+ R     1   165.434 1286.9 369.62\n",
      "+ X6    1   155.487 1296.8 371.07\n",
      "+ X4    1    96.731 1355.6 379.40\n",
      "+ V1    1    40.211 1412.1 387.08\n",
      "+ X5    1    18.693 1433.6 389.92\n",
      "<none>              1452.3 390.36\n",
      "+ E2    1     9.028 1443.3 391.19\n",
      "\n",
      "Step:  AIC=353.46\n",
      "log(X1) ~ O + X3 + X2 + Z1 - 1\n",
      "\n",
      "       Df Sum of Sq    RSS    AIC\n",
      "+ V2    1   177.670 1003.2 324.81\n",
      "+ X6    1   109.343 1071.5 337.20\n",
      "+ X4    1    91.651 1089.2 340.28\n",
      "+ E1    1    88.696 1092.2 340.79\n",
      "+ R     1    86.611 1094.3 341.14\n",
      "+ X5    1    27.624 1153.3 351.01\n",
      "+ E2    1    17.767 1163.1 352.61\n",
      "<none>              1180.9 353.46\n",
      "+ V1    1     0.359 1180.5 355.41\n",
      "\n",
      "Step:  AIC=324.81\n",
      "log(X1) ~ O + X3 + X2 + Z1 + V2 - 1\n",
      "\n",
      "       Df Sum of Sq     RSS    AIC\n",
      "+ V1    1   122.007  881.21 302.43\n",
      "+ X6    1    89.309  913.91 309.28\n",
      "+ X4    1    76.688  926.53 311.86\n",
      "+ R     1    66.554  936.66 313.91\n",
      "+ E1    1    64.921  938.30 314.23\n",
      "+ E2    1    27.885  975.33 321.51\n",
      "<none>              1003.22 324.81\n",
      "+ X5    1     0.195 1003.02 326.77\n",
      "\n",
      "Step:  AIC=302.43\n",
      "log(X1) ~ O + X3 + X2 + Z1 + V2 + V1 - 1\n",
      "\n",
      "       Df Sum of Sq    RSS    AIC\n",
      "+ E1    1    68.485 812.72 289.22\n",
      "+ X4    1    65.573 815.64 289.89\n",
      "+ X6    1    62.801 818.41 290.53\n",
      "+ R     1    55.026 826.18 292.31\n",
      "+ E2    1    15.181 866.03 301.17\n",
      "<none>              881.21 302.43\n",
      "+ X5    1     1.372 879.84 304.14\n",
      "\n",
      "Step:  AIC=289.22\n",
      "log(X1) ~ O + X3 + X2 + Z1 + V2 + V1 + E1 - 1\n",
      "\n",
      "       Df Sum of Sq    RSS    AIC\n",
      "+ E2    1    86.773 725.95 270.00\n",
      "+ X4    1    68.592 744.13 274.65\n",
      "+ R     1    52.818 759.91 278.59\n",
      "+ X6    1    45.568 767.16 280.37\n",
      "<none>              812.72 289.22\n",
      "+ X5    1     1.362 811.36 290.91\n",
      "\n",
      "Step:  AIC=270\n",
      "log(X1) ~ O + X3 + X2 + Z1 + V2 + V1 + E1 + E2 - 1\n",
      "\n",
      "       Df Sum of Sq    RSS    AIC\n",
      "+ X4    1    62.789 663.16 254.99\n",
      "+ R     1    42.075 683.88 260.77\n",
      "+ X6    1    27.981 697.97 264.61\n",
      "<none>              725.95 270.00\n",
      "+ X5    1     0.793 725.16 271.79\n",
      "\n",
      "Step:  AIC=254.99\n",
      "log(X1) ~ O + X3 + X2 + Z1 + V2 + V1 + E1 + E2 + X4 - 1\n",
      "\n",
      "       Df Sum of Sq    RSS    AIC\n",
      "+ R     1    38.315 624.85 245.80\n",
      "+ X6    1    18.678 644.48 251.62\n",
      "<none>              663.16 254.99\n",
      "+ X5    1     0.861 662.30 256.74\n",
      "\n",
      "Step:  AIC=245.8\n",
      "log(X1) ~ O + X3 + X2 + Z1 + V2 + V1 + E1 + E2 + X4 + R - 1\n",
      "\n",
      "       Df Sum of Sq    RSS    AIC\n",
      "+ X6    1   11.7189 613.13 244.24\n",
      "<none>              624.85 245.80\n",
      "+ X5    1    2.0514 622.80 247.18\n",
      "\n",
      "Step:  AIC=244.24\n",
      "log(X1) ~ O + X3 + X2 + Z1 + V2 + V1 + E1 + E2 + X4 + R + X6 - \n",
      "    1\n",
      "\n",
      "       Df Sum of Sq    RSS    AIC\n",
      "<none>              613.13 244.24\n",
      "+ X5    1    4.3838 608.75 244.89\n"
     ]
    }
   ],
   "source": [
    "modeloSI_6 <- step(fitSI_6, direction=\"forward\", scope=list(upper=fitSI_1, lower=fitSI_2))"
   ]
  },
  {
   "cell_type": "code",
   "execution_count": 72,
   "metadata": {},
   "outputs": [
    {
     "name": "stdout",
     "output_type": "stream",
     "text": [
      "Start:  AIC=-294.36\n",
      "log(X1) ~ log(X2) + log(X3) + log(X4) + log(X5) + log(X6) + V1 + \n",
      "    V2 + Z1 + E1 + E2 + R + O - 1\n",
      "\n",
      "          Df Sum of Sq    RSS     AIC\n",
      "- Z1       1    0.0001 34.573 -296.36\n",
      "- E2       1    0.0012 34.574 -296.35\n",
      "- log(X2)  1    0.1138 34.686 -295.74\n",
      "- log(X5)  1    0.1179 34.690 -295.72\n",
      "- E1       1    0.1588 34.731 -295.49\n",
      "- V1       1    0.2987 34.871 -294.74\n",
      "- O        1    0.3420 34.915 -294.50\n",
      "<none>                 34.573 -294.36\n",
      "- V2       1    0.7609 35.333 -292.26\n",
      "- R        1    0.8250 35.398 -291.92\n",
      "- log(X3)  1    2.1270 36.700 -285.13\n",
      "- log(X6)  1    2.6991 37.272 -282.22\n",
      "- log(X4)  1    8.8462 43.419 -253.52\n",
      "\n",
      "Step:  AIC=-296.36\n",
      "log(X1) ~ log(X2) + log(X3) + log(X4) + log(X5) + log(X6) + V1 + \n",
      "    V2 + E1 + E2 + R + O - 1\n",
      "\n",
      "          Df Sum of Sq    RSS     AIC\n",
      "- E2       1    0.0012 34.574 -298.35\n",
      "- log(X2)  1    0.1137 34.686 -297.74\n",
      "- log(X5)  1    0.1183 34.691 -297.71\n",
      "- E1       1    0.1639 34.737 -297.47\n",
      "- V1       1    0.3284 34.901 -296.58\n",
      "- O        1    0.3424 34.915 -296.50\n",
      "<none>                 34.573 -296.36\n",
      "- V2       1    0.7625 35.335 -294.25\n",
      "- R        1    0.8385 35.411 -293.85\n",
      "- log(X3)  1    2.1645 36.737 -286.94\n",
      "- log(X6)  1    2.7009 37.273 -284.21\n",
      "- log(X4)  1    8.8785 43.451 -255.38\n",
      "\n",
      "Step:  AIC=-298.35\n",
      "log(X1) ~ log(X2) + log(X3) + log(X4) + log(X5) + log(X6) + V1 + \n",
      "    V2 + E1 + R + O - 1\n",
      "\n",
      "          Df Sum of Sq    RSS     AIC\n",
      "- log(X2)  1    0.1128 34.687 -299.74\n",
      "- log(X5)  1    0.1173 34.691 -299.71\n",
      "- E1       1    0.2786 34.852 -298.84\n",
      "- V1       1    0.3281 34.902 -298.57\n",
      "- O        1    0.3436 34.917 -298.49\n",
      "<none>                 34.574 -298.35\n",
      "- V2       1    0.7839 35.358 -296.13\n",
      "- R        1    0.8392 35.413 -295.84\n",
      "- log(X3)  1    2.2379 36.812 -288.56\n",
      "- log(X6)  1    2.7175 37.291 -286.12\n",
      "- log(X4)  1    8.9320 43.506 -257.15\n",
      "\n",
      "Step:  AIC=-299.74\n",
      "log(X1) ~ log(X3) + log(X4) + log(X5) + log(X6) + V1 + V2 + E1 + \n",
      "    R + O - 1\n",
      "\n",
      "          Df Sum of Sq    RSS     AIC\n",
      "- E1       1    0.2723 34.959 -300.27\n",
      "- O        1    0.3681 35.055 -299.75\n",
      "<none>                 34.687 -299.74\n",
      "- V1       1    0.4413 35.128 -299.36\n",
      "- V2       1    0.7080 35.395 -297.94\n",
      "- R        1    0.7667 35.453 -297.63\n",
      "- log(X5)  1    1.0775 35.764 -295.99\n",
      "- log(X3)  1    2.1790 36.866 -290.28\n",
      "- log(X6)  1    2.6527 37.339 -287.88\n",
      "- log(X4)  1    8.8192 43.506 -259.15\n",
      "\n",
      "Step:  AIC=-300.27\n",
      "log(X1) ~ log(X3) + log(X4) + log(X5) + log(X6) + V1 + V2 + R + \n",
      "    O - 1\n",
      "\n",
      "          Df Sum of Sq    RSS     AIC\n",
      "<none>                 34.959 -300.27\n",
      "- V1       1    0.3988 35.358 -300.13\n",
      "- O        1    0.4012 35.360 -300.12\n",
      "- V2       1    0.6532 35.612 -298.79\n",
      "- R        1    0.7421 35.701 -298.32\n",
      "- log(X5)  1    1.0745 36.033 -296.57\n",
      "- log(X3)  1    2.1546 37.113 -291.02\n",
      "- log(X6)  1    3.1608 38.120 -285.99\n",
      "- log(X4)  1    8.5737 43.533 -261.03\n"
     ]
    }
   ],
   "source": [
    "modeloSI_7 <- step(fitSI_5, direction= \"backward\")"
   ]
  },
  {
   "cell_type": "code",
   "execution_count": 52,
   "metadata": {},
   "outputs": [],
   "source": [
    "res_SI <- ols_step_all_possible(modeloSI_1)"
   ]
  },
  {
   "cell_type": "markdown",
   "metadata": {},
   "source": [
    "---------------------\n",
    "# Comparacion de ajustes"
   ]
  },
  {
   "cell_type": "markdown",
   "metadata": {},
   "source": [
    "### Modelo Full Sin Intercepto"
   ]
  },
  {
   "cell_type": "code",
   "execution_count": 53,
   "metadata": {},
   "outputs": [
    {
     "data": {
      "text/plain": [
       "\n",
       "Call:\n",
       "lm(formula = X1 ~ X2 + X3 + X4 + X5 + X6 + V1 + V2 + Z1 + E1 + \n",
       "    E2 + R + O - 1, data = casen)\n",
       "\n",
       "Residuals:\n",
       "   Min     1Q Median     3Q    Max \n",
       "-88073 -24371   -219  22456 116659 \n",
       "\n",
       "Coefficients:\n",
       "     Estimate Std. Error t value Pr(>|t|)    \n",
       "X2  8.770e-03  2.477e-02   0.354  0.72375    \n",
       "X3  3.097e-02  5.502e-03   5.629 7.04e-08 ***\n",
       "X4  2.183e-01  4.107e-02   5.314 3.21e-07 ***\n",
       "X5 -5.507e-03  8.177e-03  -0.673  0.50152    \n",
       "X6  9.522e-02  3.161e-02   3.012  0.00298 ** \n",
       "V1  1.157e+04  8.982e+03   1.288  0.19946    \n",
       "V2  1.844e+04  7.154e+03   2.578  0.01075 *  \n",
       "Z1 -2.032e+03  6.620e+03  -0.307  0.75929    \n",
       "E1  8.068e+03  7.239e+03   1.115  0.26656    \n",
       "E2  2.391e+03  1.048e+04   0.228  0.81983    \n",
       "R   1.051e+04  5.691e+03   1.847  0.06645 .  \n",
       "O   1.759e+04  7.927e+03   2.220  0.02773 *  \n",
       "---\n",
       "Signif. codes:  0 '***' 0.001 '**' 0.01 '*' 0.05 '.' 0.1 ' ' 1\n",
       "\n",
       "Residual standard error: 38760 on 176 degrees of freedom\n",
       "Multiple R-squared:  0.8794,\tAdjusted R-squared:  0.8712 \n",
       "F-statistic:   107 on 12 and 176 DF,  p-value: < 2.2e-16\n"
      ]
     },
     "metadata": {},
     "output_type": "display_data"
    }
   ],
   "source": [
    "summary(modeloSI_1)"
   ]
  },
  {
   "cell_type": "code",
   "execution_count": 54,
   "metadata": {},
   "outputs": [
    {
     "data": {
      "text/plain": [
       "\n",
       "\tJarque-Bera test for normality\n",
       "\n",
       "data:  residuals(modeloSI_1)\n",
       "JB = 3.172, p-value = 0.141\n"
      ]
     },
     "metadata": {},
     "output_type": "display_data"
    }
   ],
   "source": [
    "jb.norm.test(residuals(modeloSI_1))"
   ]
  },
  {
   "cell_type": "code",
   "execution_count": 55,
   "metadata": {},
   "outputs": [
    {
     "data": {
      "text/plain": [
       "\n",
       "\tLilliefors (Kolmogorov-Smirnov) normality test\n",
       "\n",
       "data:  residuals(modeloSI_1)\n",
       "D = 0.039455, p-value = 0.6753\n"
      ]
     },
     "metadata": {},
     "output_type": "display_data"
    }
   ],
   "source": [
    "lillie.test(residuals(modeloSI_1))"
   ]
  },
  {
   "cell_type": "markdown",
   "metadata": {},
   "source": [
    "---------------------------------------\n",
    "### Modelo Lin-Lin con metodo ascendente sin Intercepto"
   ]
  },
  {
   "cell_type": "code",
   "execution_count": 56,
   "metadata": {},
   "outputs": [
    {
     "data": {
      "text/plain": [
       "\n",
       "Call:\n",
       "lm(formula = X1 ~ X3 + O + X4 + X6 + V2 + R + V1 - 1, data = casen)\n",
       "\n",
       "Residuals:\n",
       "   Min     1Q Median     3Q    Max \n",
       "-94294 -25196   1139  22171 112228 \n",
       "\n",
       "Coefficients:\n",
       "    Estimate Std. Error t value Pr(>|t|)    \n",
       "X3 3.065e-02  5.287e-03   5.797 2.95e-08 ***\n",
       "O  2.026e+04  6.777e+03   2.989  0.00319 ** \n",
       "X4 2.107e-01  3.945e-02   5.340 2.76e-07 ***\n",
       "X6 9.808e-02  2.993e-02   3.277  0.00126 ** \n",
       "V2 1.795e+04  6.561e+03   2.736  0.00685 ** \n",
       "R  1.042e+04  5.530e+03   1.885  0.06108 .  \n",
       "V1 1.228e+04  7.869e+03   1.561  0.12028    \n",
       "---\n",
       "Signif. codes:  0 '***' 0.001 '**' 0.01 '*' 0.05 '.' 0.1 ' ' 1\n",
       "\n",
       "Residual standard error: 38430 on 181 degrees of freedom\n",
       "Multiple R-squared:  0.8781,\tAdjusted R-squared:  0.8734 \n",
       "F-statistic: 186.3 on 7 and 181 DF,  p-value: < 2.2e-16\n"
      ]
     },
     "metadata": {},
     "output_type": "display_data"
    }
   ],
   "source": [
    "summary(modeloSI_2)"
   ]
  },
  {
   "cell_type": "code",
   "execution_count": 57,
   "metadata": {},
   "outputs": [
    {
     "data": {
      "text/plain": [
       "\n",
       "\tJarque-Bera test for normality\n",
       "\n",
       "data:  residuals(modeloSI_2)\n",
       "JB = 1.476, p-value = 0.424\n"
      ]
     },
     "metadata": {},
     "output_type": "display_data"
    }
   ],
   "source": [
    "jb.norm.test(residuals(modeloSI_2))"
   ]
  },
  {
   "cell_type": "code",
   "execution_count": 58,
   "metadata": {},
   "outputs": [
    {
     "data": {
      "text/plain": [
       "\n",
       "\tLilliefors (Kolmogorov-Smirnov) normality test\n",
       "\n",
       "data:  residuals(modeloSI_2)\n",
       "D = 0.047716, p-value = 0.371\n"
      ]
     },
     "metadata": {},
     "output_type": "display_data"
    }
   ],
   "source": [
    "lillie.test(residuals(modeloSI_2))"
   ]
  },
  {
   "cell_type": "markdown",
   "metadata": {},
   "source": [
    "---------------------------------------\n",
    "### Modelo Lin-Lin con metodo descendente sin Intercepto"
   ]
  },
  {
   "cell_type": "code",
   "execution_count": 59,
   "metadata": {},
   "outputs": [
    {
     "data": {
      "text/plain": [
       "\n",
       "Call:\n",
       "lm(formula = X1 ~ X3 + X4 + X6 + V1 + V2 + R + O - 1, data = casen)\n",
       "\n",
       "Residuals:\n",
       "   Min     1Q Median     3Q    Max \n",
       "-94294 -25196   1139  22171 112228 \n",
       "\n",
       "Coefficients:\n",
       "    Estimate Std. Error t value Pr(>|t|)    \n",
       "X3 3.065e-02  5.287e-03   5.797 2.95e-08 ***\n",
       "X4 2.107e-01  3.945e-02   5.340 2.76e-07 ***\n",
       "X6 9.808e-02  2.993e-02   3.277  0.00126 ** \n",
       "V1 1.228e+04  7.869e+03   1.561  0.12028    \n",
       "V2 1.795e+04  6.561e+03   2.736  0.00685 ** \n",
       "R  1.042e+04  5.530e+03   1.885  0.06108 .  \n",
       "O  2.026e+04  6.777e+03   2.989  0.00319 ** \n",
       "---\n",
       "Signif. codes:  0 '***' 0.001 '**' 0.01 '*' 0.05 '.' 0.1 ' ' 1\n",
       "\n",
       "Residual standard error: 38430 on 181 degrees of freedom\n",
       "Multiple R-squared:  0.8781,\tAdjusted R-squared:  0.8734 \n",
       "F-statistic: 186.3 on 7 and 181 DF,  p-value: < 2.2e-16\n"
      ]
     },
     "metadata": {},
     "output_type": "display_data"
    }
   ],
   "source": [
    "summary(modeloSI_3)"
   ]
  },
  {
   "cell_type": "code",
   "execution_count": 60,
   "metadata": {},
   "outputs": [
    {
     "data": {
      "text/plain": [
       "\n",
       "\tJarque-Bera test for normality\n",
       "\n",
       "data:  residuals(modeloSI_3)\n",
       "JB = 1.476, p-value = 0.432\n"
      ]
     },
     "metadata": {},
     "output_type": "display_data"
    }
   ],
   "source": [
    "jb.norm.test(residuals(modeloSI_3))"
   ]
  },
  {
   "cell_type": "code",
   "execution_count": 61,
   "metadata": {},
   "outputs": [
    {
     "data": {
      "text/plain": [
       "\n",
       "\tLilliefors (Kolmogorov-Smirnov) normality test\n",
       "\n",
       "data:  residuals(modeloSI_3)\n",
       "D = 0.047716, p-value = 0.371\n"
      ]
     },
     "metadata": {},
     "output_type": "display_data"
    }
   ],
   "source": [
    "lillie.test(residuals(modeloSI_3))"
   ]
  },
  {
   "cell_type": "markdown",
   "metadata": {},
   "source": [
    "---------------------------------------\n",
    "### Modelo Log-Lin con metodo Ascendente sin Intercepto"
   ]
  },
  {
   "cell_type": "code",
   "execution_count": 62,
   "metadata": {},
   "outputs": [
    {
     "data": {
      "text/plain": [
       "\n",
       "Call:\n",
       "lm(formula = (X1) ~ X3 + O + X4 + X6 + V2 + R + V1 - 1, data = casen)\n",
       "\n",
       "Residuals:\n",
       "   Min     1Q Median     3Q    Max \n",
       "-94294 -25196   1139  22171 112228 \n",
       "\n",
       "Coefficients:\n",
       "    Estimate Std. Error t value Pr(>|t|)    \n",
       "X3 3.065e-02  5.287e-03   5.797 2.95e-08 ***\n",
       "O  2.026e+04  6.777e+03   2.989  0.00319 ** \n",
       "X4 2.107e-01  3.945e-02   5.340 2.76e-07 ***\n",
       "X6 9.808e-02  2.993e-02   3.277  0.00126 ** \n",
       "V2 1.795e+04  6.561e+03   2.736  0.00685 ** \n",
       "R  1.042e+04  5.530e+03   1.885  0.06108 .  \n",
       "V1 1.228e+04  7.869e+03   1.561  0.12028    \n",
       "---\n",
       "Signif. codes:  0 '***' 0.001 '**' 0.01 '*' 0.05 '.' 0.1 ' ' 1\n",
       "\n",
       "Residual standard error: 38430 on 181 degrees of freedom\n",
       "Multiple R-squared:  0.8781,\tAdjusted R-squared:  0.8734 \n",
       "F-statistic: 186.3 on 7 and 181 DF,  p-value: < 2.2e-16\n"
      ]
     },
     "metadata": {},
     "output_type": "display_data"
    }
   ],
   "source": [
    "summary(modeloSI_4)"
   ]
  },
  {
   "cell_type": "code",
   "execution_count": 63,
   "metadata": {},
   "outputs": [
    {
     "data": {
      "text/plain": [
       "\n",
       "\tJarque-Bera test for normality\n",
       "\n",
       "data:  residuals(modeloSI_4)\n",
       "JB = 1.476, p-value = 0.4375\n"
      ]
     },
     "metadata": {},
     "output_type": "display_data"
    }
   ],
   "source": [
    "jb.norm.test(residuals(modeloSI_4))"
   ]
  },
  {
   "cell_type": "code",
   "execution_count": 64,
   "metadata": {},
   "outputs": [
    {
     "data": {
      "text/plain": [
       "\n",
       "\tLilliefors (Kolmogorov-Smirnov) normality test\n",
       "\n",
       "data:  residuals(modeloSI_4)\n",
       "D = 0.047716, p-value = 0.371\n"
      ]
     },
     "metadata": {},
     "output_type": "display_data"
    }
   ],
   "source": [
    "lillie.test(residuals(modeloSI_4))"
   ]
  },
  {
   "cell_type": "markdown",
   "metadata": {},
   "source": [
    "---------------------------------------\n",
    "### Modelo Log-Lin con metodo ascendente sin Intercepto"
   ]
  },
  {
   "cell_type": "code",
   "execution_count": 74,
   "metadata": {},
   "outputs": [
    {
     "data": {
      "text/plain": [
       "\n",
       "Call:\n",
       "lm(formula = log(X1) ~ X2 + X3 + X4 + X6 + V1 + V2 + Z1 + E1 + \n",
       "    E2 + R + O - 1, data = casen)\n",
       "\n",
       "Residuals:\n",
       "    Min      1Q  Median      3Q     Max \n",
       "-3.9742 -0.9237  0.1483  1.3109  5.1271 \n",
       "\n",
       "Coefficients:\n",
       "    Estimate Std. Error t value Pr(>|t|)    \n",
       "X2 3.782e-06  8.922e-07   4.239 3.61e-05 ***\n",
       "X3 1.473e-06  2.599e-07   5.668 5.78e-08 ***\n",
       "X4 7.475e-06  1.930e-06   3.872 0.000152 ***\n",
       "X6 2.745e-06  1.492e-06   1.839 0.067545 .  \n",
       "V1 1.973e+00  4.287e-01   4.603 7.91e-06 ***\n",
       "V2 2.550e+00  3.350e-01   7.611 1.55e-12 ***\n",
       "Z1 1.062e+00  3.177e-01   3.342 0.001015 ** \n",
       "E1 1.956e+00  3.475e-01   5.630 6.94e-08 ***\n",
       "E2 2.118e+00  5.033e-01   4.208 4.08e-05 ***\n",
       "R  8.210e-01  2.729e-01   3.009 0.003007 ** \n",
       "O  3.159e+00  3.805e-01   8.301 2.57e-14 ***\n",
       "---\n",
       "Signif. codes:  0 '***' 0.001 '**' 0.01 '*' 0.05 '.' 0.1 ' ' 1\n",
       "\n",
       "Residual standard error: 1.861 on 177 degrees of freedom\n",
       "Multiple R-squared:  0.9749,\tAdjusted R-squared:  0.9733 \n",
       "F-statistic: 624.3 on 11 and 177 DF,  p-value: < 2.2e-16\n"
      ]
     },
     "metadata": {},
     "output_type": "display_data"
    }
   ],
   "source": [
    "summary(modeloSI_5)"
   ]
  },
  {
   "cell_type": "code",
   "execution_count": 75,
   "metadata": {},
   "outputs": [
    {
     "data": {
      "text/plain": [
       "\n",
       "\tJarque-Bera test for normality\n",
       "\n",
       "data:  residuals(modeloSI_5)\n",
       "JB = 2.1365, p-value = 0.272\n"
      ]
     },
     "metadata": {},
     "output_type": "display_data"
    }
   ],
   "source": [
    "jb.norm.test(residuals(modeloSI_5))"
   ]
  },
  {
   "cell_type": "code",
   "execution_count": 76,
   "metadata": {},
   "outputs": [
    {
     "data": {
      "text/plain": [
       "\n",
       "\tLilliefors (Kolmogorov-Smirnov) normality test\n",
       "\n",
       "data:  residuals(modeloSI_5)\n",
       "D = 0.054606, p-value = 0.1866\n"
      ]
     },
     "metadata": {},
     "output_type": "display_data"
    }
   ],
   "source": [
    "lillie.test(residuals(modeloSI_5))"
   ]
  },
  {
   "cell_type": "markdown",
   "metadata": {},
   "source": [
    "---------------------------------------\n",
    "### Modelo Log-Log con metodo ascendente sin Intercepto"
   ]
  },
  {
   "cell_type": "code",
   "execution_count": 77,
   "metadata": {},
   "outputs": [
    {
     "data": {
      "text/plain": [
       "\n",
       "Call:\n",
       "lm(formula = log(X1) ~ O + X3 + X2 + Z1 + V2 + V1 + E1 + E2 + \n",
       "    X4 + R + X6 - 1, data = casen)\n",
       "\n",
       "Residuals:\n",
       "    Min      1Q  Median      3Q     Max \n",
       "-3.9742 -0.9237  0.1483  1.3109  5.1271 \n",
       "\n",
       "Coefficients:\n",
       "    Estimate Std. Error t value Pr(>|t|)    \n",
       "O  3.159e+00  3.805e-01   8.301 2.57e-14 ***\n",
       "X3 1.473e-06  2.599e-07   5.668 5.78e-08 ***\n",
       "X2 3.782e-06  8.922e-07   4.239 3.61e-05 ***\n",
       "Z1 1.062e+00  3.177e-01   3.342 0.001015 ** \n",
       "V2 2.550e+00  3.350e-01   7.611 1.55e-12 ***\n",
       "V1 1.973e+00  4.287e-01   4.603 7.91e-06 ***\n",
       "E1 1.956e+00  3.475e-01   5.630 6.94e-08 ***\n",
       "E2 2.118e+00  5.033e-01   4.208 4.08e-05 ***\n",
       "X4 7.475e-06  1.930e-06   3.872 0.000152 ***\n",
       "R  8.210e-01  2.729e-01   3.009 0.003007 ** \n",
       "X6 2.745e-06  1.492e-06   1.839 0.067545 .  \n",
       "---\n",
       "Signif. codes:  0 '***' 0.001 '**' 0.01 '*' 0.05 '.' 0.1 ' ' 1\n",
       "\n",
       "Residual standard error: 1.861 on 177 degrees of freedom\n",
       "Multiple R-squared:  0.9749,\tAdjusted R-squared:  0.9733 \n",
       "F-statistic: 624.3 on 11 and 177 DF,  p-value: < 2.2e-16\n"
      ]
     },
     "metadata": {},
     "output_type": "display_data"
    }
   ],
   "source": [
    "summary(modeloSI_6)"
   ]
  },
  {
   "cell_type": "code",
   "execution_count": 78,
   "metadata": {},
   "outputs": [
    {
     "data": {
      "text/plain": [
       "\n",
       "\tJarque-Bera test for normality\n",
       "\n",
       "data:  residuals(modeloSI_6)\n",
       "JB = 2.1365, p-value = 0.29\n"
      ]
     },
     "metadata": {},
     "output_type": "display_data"
    }
   ],
   "source": [
    "jb.norm.test(residuals(modeloSI_6))"
   ]
  },
  {
   "cell_type": "code",
   "execution_count": 79,
   "metadata": {},
   "outputs": [
    {
     "data": {
      "text/plain": [
       "\n",
       "\tLilliefors (Kolmogorov-Smirnov) normality test\n",
       "\n",
       "data:  residuals(modeloSI_6)\n",
       "D = 0.054606, p-value = 0.1866\n"
      ]
     },
     "metadata": {},
     "output_type": "display_data"
    }
   ],
   "source": [
    "lillie.test(residuals(modeloSI_6))"
   ]
  },
  {
   "cell_type": "markdown",
   "metadata": {},
   "source": [
    "---------------------------------------\n",
    "### Modelo Log-Log con metodo descendente sin Intercepto"
   ]
  },
  {
   "cell_type": "code",
   "execution_count": 80,
   "metadata": {},
   "outputs": [
    {
     "data": {
      "text/plain": [
       "\n",
       "Call:\n",
       "lm(formula = log(X1) ~ log(X3) + log(X4) + log(X5) + log(X6) + \n",
       "    V1 + V2 + R + O - 1, data = casen)\n",
       "\n",
       "Residuals:\n",
       "     Min       1Q   Median       3Q      Max \n",
       "-1.35025 -0.24955  0.03774  0.30074  0.81675 \n",
       "\n",
       "Coefficients:\n",
       "        Estimate Std. Error t value Pr(>|t|)    \n",
       "log(X3)  0.15392    0.04621   3.331  0.00105 ** \n",
       "log(X4)  0.37960    0.05713   6.644 3.50e-10 ***\n",
       "log(X5)  0.14311    0.06084   2.352  0.01975 *  \n",
       "log(X6)  0.23424    0.05806   4.034 8.09e-05 ***\n",
       "V1       0.14431    0.10071   1.433  0.15362    \n",
       "V2       0.16704    0.09109   1.834  0.06832 .  \n",
       "R        0.12638    0.06465   1.955  0.05217 .  \n",
       "O        0.15034    0.10461   1.437  0.15240    \n",
       "---\n",
       "Signif. codes:  0 '***' 0.001 '**' 0.01 '*' 0.05 '.' 0.1 ' ' 1\n",
       "\n",
       "Residual standard error: 0.4407 on 180 degrees of freedom\n",
       "Multiple R-squared:  0.9986,\tAdjusted R-squared:  0.9985 \n",
       "F-statistic: 1.568e+04 on 8 and 180 DF,  p-value: < 2.2e-16\n"
      ]
     },
     "metadata": {},
     "output_type": "display_data"
    }
   ],
   "source": [
    "summary(modeloSI_7)"
   ]
  },
  {
   "cell_type": "code",
   "execution_count": 81,
   "metadata": {},
   "outputs": [
    {
     "data": {
      "text/plain": [
       "\n",
       "\tJarque-Bera test for normality\n",
       "\n",
       "data:  residuals(modeloSI_7)\n",
       "JB = 15.271, p-value = 0.005\n"
      ]
     },
     "metadata": {},
     "output_type": "display_data"
    }
   ],
   "source": [
    "jb.norm.test(residuals(modeloSI_7))"
   ]
  },
  {
   "cell_type": "code",
   "execution_count": 82,
   "metadata": {},
   "outputs": [
    {
     "data": {
      "text/plain": [
       "\n",
       "\tLilliefors (Kolmogorov-Smirnov) normality test\n",
       "\n",
       "data:  residuals(modeloSI_7)\n",
       "D = 0.067116, p-value = 0.03848\n"
      ]
     },
     "metadata": {},
     "output_type": "display_data"
    }
   ],
   "source": [
    "lillie.test(residuals(modeloSI_7))"
   ]
  },
  {
   "cell_type": "markdown",
   "metadata": {},
   "source": [
    "---------------------------------------\n",
    "### Modelo Lin-Lin con metodo de mejores subconjuntos sin Intercepto"
   ]
  },
  {
   "cell_type": "code",
   "execution_count": 92,
   "metadata": {},
   "outputs": [],
   "source": [
    "RAJ <- res_SI$adjr"
   ]
  },
  {
   "cell_type": "code",
   "execution_count": 94,
   "metadata": {},
   "outputs": [
    {
     "data": {
      "text/plain": [
       "mejor\n",
       "FALSE  TRUE \n",
       " 4094     1 "
      ]
     },
     "metadata": {},
     "output_type": "display_data"
    }
   ],
   "source": [
    "mejor <- (RAJ == max(res_SI$adjr))\n",
    "table(mejor)"
   ]
  },
  {
   "cell_type": "code",
   "execution_count": 95,
   "metadata": {},
   "outputs": [
    {
     "data": {
      "text/html": [
       "<table class=\"dataframe\">\n",
       "<caption>A ols_step_all_possible: 1 × 14</caption>\n",
       "<thead>\n",
       "\t<tr><th></th><th scope=col>mindex</th><th scope=col>n</th><th scope=col>predictors</th><th scope=col>rsquare</th><th scope=col>adjr</th><th scope=col>predrsq</th><th scope=col>cp</th><th scope=col>aic</th><th scope=col>sbic</th><th scope=col>sbc</th><th scope=col>msep</th><th scope=col>fpe</th><th scope=col>apc</th><th scope=col>hsp</th></tr>\n",
       "\t<tr><th></th><th scope=col>&lt;int&gt;</th><th scope=col>&lt;int&gt;</th><th scope=col>&lt;chr&gt;</th><th scope=col>&lt;dbl&gt;</th><th scope=col>&lt;dbl&gt;</th><th scope=col>&lt;dbl&gt;</th><th scope=col>&lt;dbl&gt;</th><th scope=col>&lt;dbl&gt;</th><th scope=col>&lt;dbl&gt;</th><th scope=col>&lt;dbl&gt;</th><th scope=col>&lt;dbl&gt;</th><th scope=col>&lt;dbl&gt;</th><th scope=col>&lt;dbl&gt;</th><th scope=col>&lt;dbl&gt;</th></tr>\n",
       "</thead>\n",
       "<tbody>\n",
       "\t<tr><th scope=row>2128</th><td>1586</td><td>6</td><td>X3 X4 X6 V2 R O</td><td>0.3292508</td><td>0.307016</td><td>0.2470236</td><td>2.999086</td><td>4509.51</td><td>3976.851</td><td>4535.401</td><td>274524681202</td><td>1514381129</td><td>0.7226303</td><td>8111215</td></tr>\n",
       "</tbody>\n",
       "</table>\n"
      ],
      "text/latex": [
       "A ols\\_step\\_all\\_possible: 1 × 14\n",
       "\\begin{tabular}{r|llllllllllllll}\n",
       "  & mindex & n & predictors & rsquare & adjr & predrsq & cp & aic & sbic & sbc & msep & fpe & apc & hsp\\\\\n",
       "  & <int> & <int> & <chr> & <dbl> & <dbl> & <dbl> & <dbl> & <dbl> & <dbl> & <dbl> & <dbl> & <dbl> & <dbl> & <dbl>\\\\\n",
       "\\hline\n",
       "\t2128 & 1586 & 6 & X3 X4 X6 V2 R O & 0.3292508 & 0.307016 & 0.2470236 & 2.999086 & 4509.51 & 3976.851 & 4535.401 & 274524681202 & 1514381129 & 0.7226303 & 8111215\\\\\n",
       "\\end{tabular}\n"
      ],
      "text/markdown": [
       "\n",
       "A ols_step_all_possible: 1 × 14\n",
       "\n",
       "| <!--/--> | mindex &lt;int&gt; | n &lt;int&gt; | predictors &lt;chr&gt; | rsquare &lt;dbl&gt; | adjr &lt;dbl&gt; | predrsq &lt;dbl&gt; | cp &lt;dbl&gt; | aic &lt;dbl&gt; | sbic &lt;dbl&gt; | sbc &lt;dbl&gt; | msep &lt;dbl&gt; | fpe &lt;dbl&gt; | apc &lt;dbl&gt; | hsp &lt;dbl&gt; |\n",
       "|---|---|---|---|---|---|---|---|---|---|---|---|---|---|---|\n",
       "| 2128 | 1586 | 6 | X3 X4 X6 V2 R O | 0.3292508 | 0.307016 | 0.2470236 | 2.999086 | 4509.51 | 3976.851 | 4535.401 | 274524681202 | 1514381129 | 0.7226303 | 8111215 |\n",
       "\n"
      ],
      "text/plain": [
       "     mindex n predictors      rsquare   adjr     predrsq   cp       aic    \n",
       "2128 1586   6 X3 X4 X6 V2 R O 0.3292508 0.307016 0.2470236 2.999086 4509.51\n",
       "     sbic     sbc      msep         fpe        apc       hsp    \n",
       "2128 3976.851 4535.401 274524681202 1514381129 0.7226303 8111215"
      ]
     },
     "metadata": {},
     "output_type": "display_data"
    }
   ],
   "source": [
    "subset(res,mejor==TRUE)"
   ]
  },
  {
   "cell_type": "code",
   "execution_count": 96,
   "metadata": {},
   "outputs": [],
   "source": [
    "modeloSI_8 <- lm(X1 ~ X3 + X4 + X6 + V2 + R + O -1, data= casen)"
   ]
  },
  {
   "cell_type": "code",
   "execution_count": 97,
   "metadata": {},
   "outputs": [
    {
     "data": {
      "text/plain": [
       "\n",
       "Call:\n",
       "lm(formula = X1 ~ X3 + X4 + X6 + V2 + R + O - 1, data = casen)\n",
       "\n",
       "Residuals:\n",
       "    Min      1Q  Median      3Q     Max \n",
       "-102450  -24292    3237   23330  110070 \n",
       "\n",
       "Coefficients:\n",
       "    Estimate Std. Error t value Pr(>|t|)    \n",
       "X3 3.051e-02  5.307e-03   5.749 3.73e-08 ***\n",
       "X4 2.151e-01  3.950e-02   5.445 1.66e-07 ***\n",
       "X6 1.067e-01  2.953e-02   3.613 0.000392 ***\n",
       "V2 1.205e+04  5.384e+03   2.238 0.026454 *  \n",
       "R  1.149e+04  5.509e+03   2.085 0.038468 *  \n",
       "O  2.485e+04  6.129e+03   4.055 7.44e-05 ***\n",
       "---\n",
       "Signif. codes:  0 '***' 0.001 '**' 0.01 '*' 0.05 '.' 0.1 ' ' 1\n",
       "\n",
       "Residual standard error: 38580 on 182 degrees of freedom\n",
       "Multiple R-squared:  0.8765,\tAdjusted R-squared:  0.8724 \n",
       "F-statistic: 215.2 on 6 and 182 DF,  p-value: < 2.2e-16\n"
      ]
     },
     "metadata": {},
     "output_type": "display_data"
    }
   ],
   "source": [
    "summary(modeloSI_8)"
   ]
  },
  {
   "cell_type": "code",
   "execution_count": 100,
   "metadata": {},
   "outputs": [
    {
     "data": {
      "text/plain": [
       "\n",
       "\tJarque-Bera test for normality\n",
       "\n",
       "data:  residuals(modeloSI_8)\n",
       "JB = 1.2341, p-value = 0.4965\n"
      ]
     },
     "metadata": {},
     "output_type": "display_data"
    }
   ],
   "source": [
    "jb.norm.test(residuals(modeloSI_8))"
   ]
  },
  {
   "cell_type": "code",
   "execution_count": 102,
   "metadata": {},
   "outputs": [
    {
     "data": {
      "text/plain": [
       "\n",
       "\tLilliefors (Kolmogorov-Smirnov) normality test\n",
       "\n",
       "data:  residuals(modeloSI_8)\n",
       "D = 0.048823, p-value = 0.3357\n"
      ]
     },
     "metadata": {},
     "output_type": "display_data"
    }
   ],
   "source": [
    "lillie.test(residuals(modeloSI_8))"
   ]
  },
  {
   "cell_type": "code",
   "execution_count": null,
   "metadata": {},
   "outputs": [],
   "source": []
  }
 ],
 "metadata": {
  "kernelspec": {
   "display_name": "R",
   "language": "R",
   "name": "ir"
  },
  "language_info": {
   "codemirror_mode": "r",
   "file_extension": ".r",
   "mimetype": "text/x-r-source",
   "name": "R",
   "pygments_lexer": "r",
   "version": "4.1.1"
  }
 },
 "nbformat": 4,
 "nbformat_minor": 4
}
