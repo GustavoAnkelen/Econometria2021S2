{
 "cells": [
  {
   "cell_type": "code",
   "execution_count": 1,
   "metadata": {},
   "outputs": [
    {
     "name": "stderr",
     "output_type": "stream",
     "text": [
      "Installing package into 'C:/Users/gusta/Documents/R/win-library/4.1'\n",
      "(as 'lib' is unspecified)\n",
      "\n",
      "Warning message:\n",
      "\"package 'model' is not available for this version of R\n",
      "\n",
      "A version of this package for your version of R might be available elsewhere,\n",
      "see the ideas at\n",
      "https://cran.r-project.org/doc/manuals/r-patched/R-admin.html#Installing-packages\"\n",
      "Installing package into 'C:/Users/gusta/Documents/R/win-library/4.1'\n",
      "(as 'lib' is unspecified)\n",
      "\n"
     ]
    },
    {
     "name": "stdout",
     "output_type": "stream",
     "text": [
      "package 'readr' successfully unpacked and MD5 sums checked\n"
     ]
    },
    {
     "name": "stderr",
     "output_type": "stream",
     "text": [
      "Warning message:\n",
      "\"cannot remove prior installation of package 'readr'\"\n",
      "Warning message in file.copy(savedcopy, lib, recursive = TRUE):\n",
      "\"problema al copiar C:\\Users\\gusta\\Documents\\R\\win-library\\4.1\\00LOCK\\readr\\libs\\x64\\readr.dll  a C:\\Users\\gusta\\Documents\\R\\win-library\\4.1\\readr\\libs\\x64\\readr.dll: Permission denied\"\n",
      "Warning message:\n",
      "\"restored 'readr'\"\n"
     ]
    },
    {
     "name": "stdout",
     "output_type": "stream",
     "text": [
      "\n",
      "The downloaded binary packages are in\n",
      "\tC:\\Users\\gusta\\AppData\\Local\\Temp\\RtmpGOmzvV\\downloaded_packages\n"
     ]
    },
    {
     "name": "stderr",
     "output_type": "stream",
     "text": [
      "Installing package into 'C:/Users/gusta/Documents/R/win-library/4.1'\n",
      "(as 'lib' is unspecified)\n",
      "\n"
     ]
    },
    {
     "name": "stdout",
     "output_type": "stream",
     "text": [
      "package 'readxl' successfully unpacked and MD5 sums checked\n"
     ]
    },
    {
     "name": "stderr",
     "output_type": "stream",
     "text": [
      "Warning message:\n",
      "\"cannot remove prior installation of package 'readxl'\"\n",
      "Warning message in file.copy(savedcopy, lib, recursive = TRUE):\n",
      "\"problema al copiar C:\\Users\\gusta\\Documents\\R\\win-library\\4.1\\00LOCK\\readxl\\libs\\x64\\readxl.dll  a C:\\Users\\gusta\\Documents\\R\\win-library\\4.1\\readxl\\libs\\x64\\readxl.dll: Permission denied\"\n",
      "Warning message:\n",
      "\"restored 'readxl'\"\n"
     ]
    },
    {
     "name": "stdout",
     "output_type": "stream",
     "text": [
      "\n",
      "The downloaded binary packages are in\n",
      "\tC:\\Users\\gusta\\AppData\\Local\\Temp\\RtmpGOmzvV\\downloaded_packages\n"
     ]
    },
    {
     "name": "stderr",
     "output_type": "stream",
     "text": [
      "Installing package into 'C:/Users/gusta/Documents/R/win-library/4.1'\n",
      "(as 'lib' is unspecified)\n",
      "\n"
     ]
    },
    {
     "name": "stdout",
     "output_type": "stream",
     "text": [
      "package 'olsrr' successfully unpacked and MD5 sums checked\n"
     ]
    },
    {
     "name": "stderr",
     "output_type": "stream",
     "text": [
      "Warning message:\n",
      "\"cannot remove prior installation of package 'olsrr'\"\n",
      "Warning message in file.copy(savedcopy, lib, recursive = TRUE):\n",
      "\"problema al copiar C:\\Users\\gusta\\Documents\\R\\win-library\\4.1\\00LOCK\\olsrr\\libs\\x64\\olsrr.dll  a C:\\Users\\gusta\\Documents\\R\\win-library\\4.1\\olsrr\\libs\\x64\\olsrr.dll: Permission denied\"\n",
      "Warning message:\n",
      "\"restored 'olsrr'\"\n"
     ]
    },
    {
     "name": "stdout",
     "output_type": "stream",
     "text": [
      "\n",
      "The downloaded binary packages are in\n",
      "\tC:\\Users\\gusta\\AppData\\Local\\Temp\\RtmpGOmzvV\\downloaded_packages\n"
     ]
    }
   ],
   "source": [
    "install.packages(\"model\")\n",
    "install.packages(\"readr\")\n",
    "\n",
    "install.packages(\"readxl\")\n",
    "install.packages(\"olsrr\")"
   ]
  },
  {
   "cell_type": "code",
   "execution_count": 2,
   "metadata": {},
   "outputs": [
    {
     "name": "stderr",
     "output_type": "stream",
     "text": [
      "Installing package into 'C:/Users/gusta/Documents/R/win-library/4.1'\n",
      "(as 'lib' is unspecified)\n",
      "\n"
     ]
    },
    {
     "name": "stdout",
     "output_type": "stream",
     "text": [
      "package 'dplyr' successfully unpacked and MD5 sums checked\n"
     ]
    },
    {
     "name": "stderr",
     "output_type": "stream",
     "text": [
      "Warning message:\n",
      "\"cannot remove prior installation of package 'dplyr'\"\n",
      "Warning message in file.copy(savedcopy, lib, recursive = TRUE):\n",
      "\"problema al copiar C:\\Users\\gusta\\Documents\\R\\win-library\\4.1\\00LOCK\\dplyr\\libs\\x64\\dplyr.dll  a C:\\Users\\gusta\\Documents\\R\\win-library\\4.1\\dplyr\\libs\\x64\\dplyr.dll: Permission denied\"\n",
      "Warning message:\n",
      "\"restored 'dplyr'\"\n"
     ]
    },
    {
     "name": "stdout",
     "output_type": "stream",
     "text": [
      "\n",
      "The downloaded binary packages are in\n",
      "\tC:\\Users\\gusta\\AppData\\Local\\Temp\\RtmpGOmzvV\\downloaded_packages\n"
     ]
    }
   ],
   "source": [
    "install.packages('dplyr')"
   ]
  },
  {
   "cell_type": "code",
   "execution_count": 1,
   "metadata": {},
   "outputs": [
    {
     "name": "stderr",
     "output_type": "stream",
     "text": [
      "\n",
      "Attaching package: 'olsrr'\n",
      "\n",
      "\n",
      "The following object is masked from 'package:datasets':\n",
      "\n",
      "    rivers\n",
      "\n",
      "\n",
      "\n",
      "Attaching package: 'dplyr'\n",
      "\n",
      "\n",
      "The following objects are masked from 'package:stats':\n",
      "\n",
      "    filter, lag\n",
      "\n",
      "\n",
      "The following objects are masked from 'package:base':\n",
      "\n",
      "    intersect, setdiff, setequal, union\n",
      "\n",
      "\n"
     ]
    }
   ],
   "source": [
    "library(readr)\n",
    "library(readxl)\n",
    "library(olsrr)\n",
    "library(dplyr)"
   ]
  },
  {
   "cell_type": "code",
   "execution_count": 2,
   "metadata": {},
   "outputs": [],
   "source": [
    "datos <- read.csv('C:/Users/gusta/JupyterLab/Econometria/DataBase INSURANCE/insurance.csv', header= TRUE)"
   ]
  },
  {
   "cell_type": "code",
   "execution_count": 3,
   "metadata": {},
   "outputs": [],
   "source": [
    "datos$bmiSQ <- datos$bmi^2"
   ]
  },
  {
   "cell_type": "code",
   "execution_count": 4,
   "metadata": {},
   "outputs": [
    {
     "data": {
      "text/html": [
       "<style>\n",
       ".list-inline {list-style: none; margin:0; padding: 0}\n",
       ".list-inline>li {display: inline-block}\n",
       ".list-inline>li:not(:last-child)::after {content: \"\\00b7\"; padding: 0 .5ex}\n",
       "</style>\n",
       "<ol class=list-inline><li>'female'</li><li>'male'</li></ol>\n"
      ],
      "text/latex": [
       "\\begin{enumerate*}\n",
       "\\item 'female'\n",
       "\\item 'male'\n",
       "\\end{enumerate*}\n"
      ],
      "text/markdown": [
       "1. 'female'\n",
       "2. 'male'\n",
       "\n",
       "\n"
      ],
      "text/plain": [
       "[1] \"female\" \"male\"  "
      ]
     },
     "metadata": {},
     "output_type": "display_data"
    }
   ],
   "source": [
    "unique(datos$sex)"
   ]
  },
  {
   "cell_type": "code",
   "execution_count": 6,
   "metadata": {},
   "outputs": [
    {
     "ename": "ERROR",
     "evalue": "Error in hist.default(datos$sex): 'x' must be numeric\n",
     "output_type": "error",
     "traceback": [
      "Error in hist.default(datos$sex): 'x' must be numeric\nTraceback:\n",
      "1. hist(datos$sex)",
      "2. hist.default(datos$sex)",
      "3. stop(\"'x' must be numeric\")"
     ]
    }
   ],
   "source": [
    "datos[datos == \"male\"] <- \"0\"\n",
    "datos[datos == \"female\"] <- \"1\""
   ]
  },
  {
   "cell_type": "code",
   "execution_count": 8,
   "metadata": {},
   "outputs": [
    {
     "data": {
      "text/html": [
       "<style>\n",
       ".list-inline {list-style: none; margin:0; padding: 0}\n",
       ".list-inline>li {display: inline-block}\n",
       ".list-inline>li:not(:last-child)::after {content: \"\\00b7\"; padding: 0 .5ex}\n",
       "</style>\n",
       "<ol class=list-inline><li>'southwest'</li><li>'southeast'</li><li>'northwest'</li><li>'northeast'</li></ol>\n"
      ],
      "text/latex": [
       "\\begin{enumerate*}\n",
       "\\item 'southwest'\n",
       "\\item 'southeast'\n",
       "\\item 'northwest'\n",
       "\\item 'northeast'\n",
       "\\end{enumerate*}\n"
      ],
      "text/markdown": [
       "1. 'southwest'\n",
       "2. 'southeast'\n",
       "3. 'northwest'\n",
       "4. 'northeast'\n",
       "\n",
       "\n"
      ],
      "text/plain": [
       "[1] \"southwest\" \"southeast\" \"northwest\" \"northeast\""
      ]
     },
     "metadata": {},
     "output_type": "display_data"
    }
   ],
   "source": [
    "unique(datos$region)"
   ]
  },
  {
   "cell_type": "code",
   "execution_count": 9,
   "metadata": {},
   "outputs": [],
   "source": [
    "datos[datos == \"southwest\"] <- \"0\"\n",
    "datos[datos == \"southeast\"] <- \"1\"\n",
    "datos[datos == \"northwest\"] <- \"2\"\n",
    "datos[datos == \"northeast\"] <- \"3\""
   ]
  },
  {
   "cell_type": "code",
   "execution_count": 10,
   "metadata": {},
   "outputs": [
    {
     "data": {
      "text/html": [
       "<style>\n",
       ".list-inline {list-style: none; margin:0; padding: 0}\n",
       ".list-inline>li {display: inline-block}\n",
       ".list-inline>li:not(:last-child)::after {content: \"\\00b7\"; padding: 0 .5ex}\n",
       "</style>\n",
       "<ol class=list-inline><li>'yes'</li><li>'no'</li></ol>\n"
      ],
      "text/latex": [
       "\\begin{enumerate*}\n",
       "\\item 'yes'\n",
       "\\item 'no'\n",
       "\\end{enumerate*}\n"
      ],
      "text/markdown": [
       "1. 'yes'\n",
       "2. 'no'\n",
       "\n",
       "\n"
      ],
      "text/plain": [
       "[1] \"yes\" \"no\" "
      ]
     },
     "metadata": {},
     "output_type": "display_data"
    }
   ],
   "source": [
    "unique(datos$smoker)"
   ]
  },
  {
   "cell_type": "code",
   "execution_count": 11,
   "metadata": {},
   "outputs": [],
   "source": [
    "datos[datos == \"no\"] <- \"0\"\n",
    "datos[datos == \"yes\"] <- \"1\""
   ]
  },
  {
   "cell_type": "code",
   "execution_count": 12,
   "metadata": {},
   "outputs": [
    {
     "data": {
      "text/html": [
       "<table class=\"dataframe\">\n",
       "<caption>A data.frame: 6 × 8</caption>\n",
       "<thead>\n",
       "\t<tr><th></th><th scope=col>age</th><th scope=col>sex</th><th scope=col>bmi</th><th scope=col>children</th><th scope=col>smoker</th><th scope=col>region</th><th scope=col>charges</th><th scope=col>bmiSQ</th></tr>\n",
       "\t<tr><th></th><th scope=col>&lt;int&gt;</th><th scope=col>&lt;chr&gt;</th><th scope=col>&lt;dbl&gt;</th><th scope=col>&lt;int&gt;</th><th scope=col>&lt;chr&gt;</th><th scope=col>&lt;chr&gt;</th><th scope=col>&lt;dbl&gt;</th><th scope=col>&lt;dbl&gt;</th></tr>\n",
       "</thead>\n",
       "<tbody>\n",
       "\t<tr><th scope=row>1</th><td>19</td><td>1</td><td>27.900</td><td>0</td><td>1</td><td>0</td><td>16884.924</td><td> 778.4100</td></tr>\n",
       "\t<tr><th scope=row>2</th><td>18</td><td>0</td><td>33.770</td><td>1</td><td>0</td><td>1</td><td> 1725.552</td><td>1140.4129</td></tr>\n",
       "\t<tr><th scope=row>3</th><td>28</td><td>0</td><td>33.000</td><td>3</td><td>0</td><td>1</td><td> 4449.462</td><td>1089.0000</td></tr>\n",
       "\t<tr><th scope=row>4</th><td>33</td><td>0</td><td>22.705</td><td>0</td><td>0</td><td>2</td><td>21984.471</td><td> 515.5170</td></tr>\n",
       "\t<tr><th scope=row>5</th><td>32</td><td>0</td><td>28.880</td><td>0</td><td>0</td><td>2</td><td> 3866.855</td><td> 834.0544</td></tr>\n",
       "\t<tr><th scope=row>6</th><td>31</td><td>1</td><td>25.740</td><td>0</td><td>0</td><td>1</td><td> 3756.622</td><td> 662.5476</td></tr>\n",
       "</tbody>\n",
       "</table>\n"
      ],
      "text/latex": [
       "A data.frame: 6 × 8\n",
       "\\begin{tabular}{r|llllllll}\n",
       "  & age & sex & bmi & children & smoker & region & charges & bmiSQ\\\\\n",
       "  & <int> & <chr> & <dbl> & <int> & <chr> & <chr> & <dbl> & <dbl>\\\\\n",
       "\\hline\n",
       "\t1 & 19 & 1 & 27.900 & 0 & 1 & 0 & 16884.924 &  778.4100\\\\\n",
       "\t2 & 18 & 0 & 33.770 & 1 & 0 & 1 &  1725.552 & 1140.4129\\\\\n",
       "\t3 & 28 & 0 & 33.000 & 3 & 0 & 1 &  4449.462 & 1089.0000\\\\\n",
       "\t4 & 33 & 0 & 22.705 & 0 & 0 & 2 & 21984.471 &  515.5170\\\\\n",
       "\t5 & 32 & 0 & 28.880 & 0 & 0 & 2 &  3866.855 &  834.0544\\\\\n",
       "\t6 & 31 & 1 & 25.740 & 0 & 0 & 1 &  3756.622 &  662.5476\\\\\n",
       "\\end{tabular}\n"
      ],
      "text/markdown": [
       "\n",
       "A data.frame: 6 × 8\n",
       "\n",
       "| <!--/--> | age &lt;int&gt; | sex &lt;chr&gt; | bmi &lt;dbl&gt; | children &lt;int&gt; | smoker &lt;chr&gt; | region &lt;chr&gt; | charges &lt;dbl&gt; | bmiSQ &lt;dbl&gt; |\n",
       "|---|---|---|---|---|---|---|---|---|\n",
       "| 1 | 19 | 1 | 27.900 | 0 | 1 | 0 | 16884.924 |  778.4100 |\n",
       "| 2 | 18 | 0 | 33.770 | 1 | 0 | 1 |  1725.552 | 1140.4129 |\n",
       "| 3 | 28 | 0 | 33.000 | 3 | 0 | 1 |  4449.462 | 1089.0000 |\n",
       "| 4 | 33 | 0 | 22.705 | 0 | 0 | 2 | 21984.471 |  515.5170 |\n",
       "| 5 | 32 | 0 | 28.880 | 0 | 0 | 2 |  3866.855 |  834.0544 |\n",
       "| 6 | 31 | 1 | 25.740 | 0 | 0 | 1 |  3756.622 |  662.5476 |\n",
       "\n"
      ],
      "text/plain": [
       "  age sex bmi    children smoker region charges   bmiSQ    \n",
       "1 19  1   27.900 0        1      0      16884.924  778.4100\n",
       "2 18  0   33.770 1        0      1       1725.552 1140.4129\n",
       "3 28  0   33.000 3        0      1       4449.462 1089.0000\n",
       "4 33  0   22.705 0        0      2      21984.471  515.5170\n",
       "5 32  0   28.880 0        0      2       3866.855  834.0544\n",
       "6 31  1   25.740 0        0      1       3756.622  662.5476"
      ]
     },
     "metadata": {},
     "output_type": "display_data"
    }
   ],
   "source": [
    "head(datos)"
   ]
  },
  {
   "cell_type": "code",
   "execution_count": 13,
   "metadata": {},
   "outputs": [],
   "source": [
    "datos <- datos[, c(7,1,2,3,8,4,5,6)]"
   ]
  },
  {
   "cell_type": "code",
   "execution_count": 14,
   "metadata": {},
   "outputs": [],
   "source": [
    "write.csv(datos,file='Insurance_EDITADO')"
   ]
  }
 ],
 "metadata": {
  "kernelspec": {
   "display_name": "R",
   "language": "R",
   "name": "ir"
  },
  "language_info": {
   "codemirror_mode": "r",
   "file_extension": ".r",
   "mimetype": "text/x-r-source",
   "name": "R",
   "pygments_lexer": "r",
   "version": "4.1.1"
  }
 },
 "nbformat": 4,
 "nbformat_minor": 4
}
