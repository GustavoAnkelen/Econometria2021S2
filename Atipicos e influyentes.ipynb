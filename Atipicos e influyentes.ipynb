{
 "cells": [
  {
   "cell_type": "code",
   "execution_count": 29,
   "metadata": {},
   "outputs": [],
   "source": [
    "library(readr)\n",
    "library(readxl)\n",
    "library(olsrr)\n",
    "library(MASS)\n",
    "library(normtest)\n",
    "library(nortest)\n",
    "library(psych)\n",
    "library(fitdistrplus)\n",
    "library(lattice)\n",
    "library(survival)\n",
    "library(Formula)\n",
    "library(ggplot2)\n",
    "library(\"Hmisc\")\n",
    "library(dplyr)"
   ]
  },
  {
   "cell_type": "code",
   "execution_count": 30,
   "metadata": {},
   "outputs": [
    {
     "data": {
      "text/html": [
       "<table class=\"dataframe\">\n",
       "<caption>A tibble: 6 × 13</caption>\n",
       "<thead>\n",
       "\t<tr><th scope=col>X1</th><th scope=col>X2</th><th scope=col>X3</th><th scope=col>X4</th><th scope=col>X5</th><th scope=col>X6</th><th scope=col>V1</th><th scope=col>V2</th><th scope=col>Z1</th><th scope=col>E1</th><th scope=col>E2</th><th scope=col>R</th><th scope=col>O</th></tr>\n",
       "\t<tr><th scope=col>&lt;dbl&gt;</th><th scope=col>&lt;dbl&gt;</th><th scope=col>&lt;dbl&gt;</th><th scope=col>&lt;dbl&gt;</th><th scope=col>&lt;dbl&gt;</th><th scope=col>&lt;dbl&gt;</th><th scope=col>&lt;dbl&gt;</th><th scope=col>&lt;dbl&gt;</th><th scope=col>&lt;dbl&gt;</th><th scope=col>&lt;dbl&gt;</th><th scope=col>&lt;dbl&gt;</th><th scope=col>&lt;dbl&gt;</th><th scope=col>&lt;dbl&gt;</th></tr>\n",
       "</thead>\n",
       "<tbody>\n",
       "\t<tr><td>119410</td><td>260000</td><td>854170</td><td> 83340</td><td> 778376</td><td>100000</td><td>1</td><td>0</td><td>1</td><td>1</td><td>0</td><td>1</td><td>1</td></tr>\n",
       "\t<tr><td> 79610</td><td>100000</td><td>975000</td><td>125000</td><td> 585961</td><td>110000</td><td>0</td><td>1</td><td>1</td><td>1</td><td>0</td><td>0</td><td>0</td></tr>\n",
       "\t<tr><td> 39800</td><td>700000</td><td>662500</td><td>250000</td><td>2838385</td><td>120000</td><td>1</td><td>0</td><td>1</td><td>1</td><td>0</td><td>0</td><td>1</td></tr>\n",
       "\t<tr><td> 39800</td><td>700000</td><td>662500</td><td>250000</td><td>2838385</td><td>120000</td><td>1</td><td>0</td><td>1</td><td>1</td><td>0</td><td>0</td><td>1</td></tr>\n",
       "\t<tr><td>119410</td><td>320000</td><td>500000</td><td> 83330</td><td> 789907</td><td>100000</td><td>1</td><td>0</td><td>1</td><td>1</td><td>0</td><td>0</td><td>1</td></tr>\n",
       "\t<tr><td> 79610</td><td>700000</td><td>733330</td><td> 83330</td><td>1131115</td><td>120000</td><td>1</td><td>0</td><td>1</td><td>1</td><td>0</td><td>0</td><td>1</td></tr>\n",
       "</tbody>\n",
       "</table>\n"
      ],
      "text/latex": [
       "A tibble: 6 × 13\n",
       "\\begin{tabular}{lllllllllllll}\n",
       " X1 & X2 & X3 & X4 & X5 & X6 & V1 & V2 & Z1 & E1 & E2 & R & O\\\\\n",
       " <dbl> & <dbl> & <dbl> & <dbl> & <dbl> & <dbl> & <dbl> & <dbl> & <dbl> & <dbl> & <dbl> & <dbl> & <dbl>\\\\\n",
       "\\hline\n",
       "\t 119410 & 260000 & 854170 &  83340 &  778376 & 100000 & 1 & 0 & 1 & 1 & 0 & 1 & 1\\\\\n",
       "\t  79610 & 100000 & 975000 & 125000 &  585961 & 110000 & 0 & 1 & 1 & 1 & 0 & 0 & 0\\\\\n",
       "\t  39800 & 700000 & 662500 & 250000 & 2838385 & 120000 & 1 & 0 & 1 & 1 & 0 & 0 & 1\\\\\n",
       "\t  39800 & 700000 & 662500 & 250000 & 2838385 & 120000 & 1 & 0 & 1 & 1 & 0 & 0 & 1\\\\\n",
       "\t 119410 & 320000 & 500000 &  83330 &  789907 & 100000 & 1 & 0 & 1 & 1 & 0 & 0 & 1\\\\\n",
       "\t  79610 & 700000 & 733330 &  83330 & 1131115 & 120000 & 1 & 0 & 1 & 1 & 0 & 0 & 1\\\\\n",
       "\\end{tabular}\n"
      ],
      "text/markdown": [
       "\n",
       "A tibble: 6 × 13\n",
       "\n",
       "| X1 &lt;dbl&gt; | X2 &lt;dbl&gt; | X3 &lt;dbl&gt; | X4 &lt;dbl&gt; | X5 &lt;dbl&gt; | X6 &lt;dbl&gt; | V1 &lt;dbl&gt; | V2 &lt;dbl&gt; | Z1 &lt;dbl&gt; | E1 &lt;dbl&gt; | E2 &lt;dbl&gt; | R &lt;dbl&gt; | O &lt;dbl&gt; |\n",
       "|---|---|---|---|---|---|---|---|---|---|---|---|---|\n",
       "| 119410 | 260000 | 854170 |  83340 |  778376 | 100000 | 1 | 0 | 1 | 1 | 0 | 1 | 1 |\n",
       "|  79610 | 100000 | 975000 | 125000 |  585961 | 110000 | 0 | 1 | 1 | 1 | 0 | 0 | 0 |\n",
       "|  39800 | 700000 | 662500 | 250000 | 2838385 | 120000 | 1 | 0 | 1 | 1 | 0 | 0 | 1 |\n",
       "|  39800 | 700000 | 662500 | 250000 | 2838385 | 120000 | 1 | 0 | 1 | 1 | 0 | 0 | 1 |\n",
       "| 119410 | 320000 | 500000 |  83330 |  789907 | 100000 | 1 | 0 | 1 | 1 | 0 | 0 | 1 |\n",
       "|  79610 | 700000 | 733330 |  83330 | 1131115 | 120000 | 1 | 0 | 1 | 1 | 0 | 0 | 1 |\n",
       "\n"
      ],
      "text/plain": [
       "  X1     X2     X3     X4     X5      X6     V1 V2 Z1 E1 E2 R O\n",
       "1 119410 260000 854170  83340  778376 100000 1  0  1  1  0  1 1\n",
       "2  79610 100000 975000 125000  585961 110000 0  1  1  1  0  0 0\n",
       "3  39800 700000 662500 250000 2838385 120000 1  0  1  1  0  0 1\n",
       "4  39800 700000 662500 250000 2838385 120000 1  0  1  1  0  0 1\n",
       "5 119410 320000 500000  83330  789907 100000 1  0  1  1  0  0 1\n",
       "6  79610 700000 733330  83330 1131115 120000 1  0  1  1  0  0 1"
      ]
     },
     "metadata": {},
     "output_type": "display_data"
    }
   ],
   "source": [
    "casen <- read_excel('CASEN_DB.xlsx')\n",
    "head(casen)\n",
    "n = length(casen$X1)"
   ]
  },
  {
   "cell_type": "code",
   "execution_count": 31,
   "metadata": {},
   "outputs": [],
   "source": [
    "mod11 <- lm(X1 ~ X3 +X4+X6 +V1+V2+R+O-1, data=casen)\n",
    "mod12 <- lm(log(X1) ~X2 +X3+X4+X6+V1+V2+Z1+E1+E2+R+O-1, data= casen)\n",
    "mod14 <- lm(X1 ~ X3+X4+X6+V2+R+O-1, data=casen)"
   ]
  },
  {
   "cell_type": "markdown",
   "metadata": {},
   "source": [
    "------------------\n",
    "-------------------\n",
    "### Recuento de los ajustes y su normalidad de residuales\n",
    "---------------"
   ]
  },
  {
   "cell_type": "code",
   "execution_count": 32,
   "metadata": {},
   "outputs": [
    {
     "data": {
      "text/plain": [
       "\n",
       "Call:\n",
       "lm(formula = X1 ~ X3 + X4 + X6 + V1 + V2 + R + O - 1, data = casen)\n",
       "\n",
       "Residuals:\n",
       "   Min     1Q Median     3Q    Max \n",
       "-94294 -25196   1139  22171 112228 \n",
       "\n",
       "Coefficients:\n",
       "    Estimate Std. Error t value Pr(>|t|)    \n",
       "X3 3.065e-02  5.287e-03   5.797 2.95e-08 ***\n",
       "X4 2.107e-01  3.945e-02   5.340 2.76e-07 ***\n",
       "X6 9.808e-02  2.993e-02   3.277  0.00126 ** \n",
       "V1 1.228e+04  7.869e+03   1.561  0.12028    \n",
       "V2 1.795e+04  6.561e+03   2.736  0.00685 ** \n",
       "R  1.042e+04  5.530e+03   1.885  0.06108 .  \n",
       "O  2.026e+04  6.777e+03   2.989  0.00319 ** \n",
       "---\n",
       "Signif. codes:  0 '***' 0.001 '**' 0.01 '*' 0.05 '.' 0.1 ' ' 1\n",
       "\n",
       "Residual standard error: 38430 on 181 degrees of freedom\n",
       "Multiple R-squared:  0.8781,\tAdjusted R-squared:  0.8734 \n",
       "F-statistic: 186.3 on 7 and 181 DF,  p-value: < 2.2e-16\n"
      ]
     },
     "metadata": {},
     "output_type": "display_data"
    }
   ],
   "source": [
    "summary(mod11)"
   ]
  },
  {
   "cell_type": "code",
   "execution_count": 33,
   "metadata": {},
   "outputs": [
    {
     "data": {
      "text/plain": [
       "\n",
       "\tJarque-Bera test for normality\n",
       "\n",
       "data:  residuals(mod11)\n",
       "JB = 1.476, p-value = 0.4225\n"
      ]
     },
     "metadata": {},
     "output_type": "display_data"
    },
    {
     "data": {
      "text/plain": [
       "\n",
       "\tLilliefors (Kolmogorov-Smirnov) normality test\n",
       "\n",
       "data:  residuals(mod11)\n",
       "D = 0.047716, p-value = 0.371\n"
      ]
     },
     "metadata": {},
     "output_type": "display_data"
    }
   ],
   "source": [
    "jb.norm.test(residuals(mod11))\n",
    "lillie.test(residuals(mod11))"
   ]
  },
  {
   "cell_type": "code",
   "execution_count": 34,
   "metadata": {},
   "outputs": [
    {
     "data": {
      "text/plain": [
       "\n",
       "Call:\n",
       "lm(formula = log(X1) ~ X2 + X3 + X4 + X6 + V1 + V2 + Z1 + E1 + \n",
       "    E2 + R + O - 1, data = casen)\n",
       "\n",
       "Residuals:\n",
       "    Min      1Q  Median      3Q     Max \n",
       "-3.9742 -0.9237  0.1483  1.3109  5.1271 \n",
       "\n",
       "Coefficients:\n",
       "    Estimate Std. Error t value Pr(>|t|)    \n",
       "X2 3.782e-06  8.922e-07   4.239 3.61e-05 ***\n",
       "X3 1.473e-06  2.599e-07   5.668 5.78e-08 ***\n",
       "X4 7.475e-06  1.930e-06   3.872 0.000152 ***\n",
       "X6 2.745e-06  1.492e-06   1.839 0.067545 .  \n",
       "V1 1.973e+00  4.287e-01   4.603 7.91e-06 ***\n",
       "V2 2.550e+00  3.350e-01   7.611 1.55e-12 ***\n",
       "Z1 1.062e+00  3.177e-01   3.342 0.001015 ** \n",
       "E1 1.956e+00  3.475e-01   5.630 6.94e-08 ***\n",
       "E2 2.118e+00  5.033e-01   4.208 4.08e-05 ***\n",
       "R  8.210e-01  2.729e-01   3.009 0.003007 ** \n",
       "O  3.159e+00  3.805e-01   8.301 2.57e-14 ***\n",
       "---\n",
       "Signif. codes:  0 '***' 0.001 '**' 0.01 '*' 0.05 '.' 0.1 ' ' 1\n",
       "\n",
       "Residual standard error: 1.861 on 177 degrees of freedom\n",
       "Multiple R-squared:  0.9749,\tAdjusted R-squared:  0.9733 \n",
       "F-statistic: 624.3 on 11 and 177 DF,  p-value: < 2.2e-16\n"
      ]
     },
     "metadata": {},
     "output_type": "display_data"
    }
   ],
   "source": [
    "summary(mod12)"
   ]
  },
  {
   "cell_type": "code",
   "execution_count": 35,
   "metadata": {},
   "outputs": [
    {
     "data": {
      "text/plain": [
       "\n",
       "\tJarque-Bera test for normality\n",
       "\n",
       "data:  residuals(mod12)\n",
       "JB = 2.1365, p-value = 0.2715\n"
      ]
     },
     "metadata": {},
     "output_type": "display_data"
    },
    {
     "data": {
      "text/plain": [
       "\n",
       "\tLilliefors (Kolmogorov-Smirnov) normality test\n",
       "\n",
       "data:  residuals(mod12)\n",
       "D = 0.054606, p-value = 0.1866\n"
      ]
     },
     "metadata": {},
     "output_type": "display_data"
    }
   ],
   "source": [
    "jb.norm.test(residuals(mod12))\n",
    "lillie.test(residuals(mod12))"
   ]
  },
  {
   "cell_type": "code",
   "execution_count": 36,
   "metadata": {},
   "outputs": [
    {
     "data": {
      "text/plain": [
       "\n",
       "Call:\n",
       "lm(formula = X1 ~ X3 + X4 + X6 + V2 + R + O - 1, data = casen)\n",
       "\n",
       "Residuals:\n",
       "    Min      1Q  Median      3Q     Max \n",
       "-102450  -24292    3237   23330  110070 \n",
       "\n",
       "Coefficients:\n",
       "    Estimate Std. Error t value Pr(>|t|)    \n",
       "X3 3.051e-02  5.307e-03   5.749 3.73e-08 ***\n",
       "X4 2.151e-01  3.950e-02   5.445 1.66e-07 ***\n",
       "X6 1.067e-01  2.953e-02   3.613 0.000392 ***\n",
       "V2 1.205e+04  5.384e+03   2.238 0.026454 *  \n",
       "R  1.149e+04  5.509e+03   2.085 0.038468 *  \n",
       "O  2.485e+04  6.129e+03   4.055 7.44e-05 ***\n",
       "---\n",
       "Signif. codes:  0 '***' 0.001 '**' 0.01 '*' 0.05 '.' 0.1 ' ' 1\n",
       "\n",
       "Residual standard error: 38580 on 182 degrees of freedom\n",
       "Multiple R-squared:  0.8765,\tAdjusted R-squared:  0.8724 \n",
       "F-statistic: 215.2 on 6 and 182 DF,  p-value: < 2.2e-16\n"
      ]
     },
     "metadata": {},
     "output_type": "display_data"
    }
   ],
   "source": [
    "summary(mod14)"
   ]
  },
  {
   "cell_type": "code",
   "execution_count": 37,
   "metadata": {},
   "outputs": [
    {
     "data": {
      "text/plain": [
       "\n",
       "\tJarque-Bera test for normality\n",
       "\n",
       "data:  residuals(mod14)\n",
       "JB = 1.2341, p-value = 0.517\n"
      ]
     },
     "metadata": {},
     "output_type": "display_data"
    },
    {
     "data": {
      "text/plain": [
       "\n",
       "\tLilliefors (Kolmogorov-Smirnov) normality test\n",
       "\n",
       "data:  residuals(mod14)\n",
       "D = 0.048823, p-value = 0.3357\n"
      ]
     },
     "metadata": {},
     "output_type": "display_data"
    }
   ],
   "source": [
    "jb.norm.test(residuals(mod14))\n",
    "lillie.test(residuals(mod14))"
   ]
  },
  {
   "cell_type": "markdown",
   "metadata": {},
   "source": [
    "--------------------\n",
    "--------------------\n",
    "# Estudio de valores influyentes y atipicos"
   ]
  },
  {
   "cell_type": "markdown",
   "metadata": {},
   "source": [
    "--------\n",
    "### Influyentes\n",
    "--------"
   ]
  },
  {
   "cell_type": "code",
   "execution_count": 38,
   "metadata": {},
   "outputs": [],
   "source": [
    "distancia11 <- cooks.distance(mod11)\n",
    "distancia12 <- cooks.distance(mod12)\n",
    "distancia14 <- cooks.distance(mod14)"
   ]
  },
  {
   "cell_type": "code",
   "execution_count": 39,
   "metadata": {},
   "outputs": [],
   "source": [
    "write.csv(distancia11,file='Distancias de Cook modelo 11.csv')\n",
    "write.csv(distancia12,file='Distancias de Cook modelo 12.csv')\n",
    "write.csv(distancia14,file='Distancias de Cook modelo 14.csv')\n"
   ]
  },
  {
   "cell_type": "code",
   "execution_count": 40,
   "metadata": {},
   "outputs": [],
   "source": [
    "influyentes11 <- (distancia11 > 2*(7-1)/188)\n",
    "influyentes12 <- (distancia12 > 2*(10-1)/188)\n",
    "influyentes14 <- (distancia14 > 2*(6-1)/188)"
   ]
  },
  {
   "cell_type": "code",
   "execution_count": 41,
   "metadata": {},
   "outputs": [
    {
     "data": {
      "text/html": [
       "<style>\n",
       ".dl-inline {width: auto; margin:0; padding: 0}\n",
       ".dl-inline>dt, .dl-inline>dd {float: none; width: auto; display: inline-block}\n",
       ".dl-inline>dt::after {content: \":\\0020\"; padding-right: .5ex}\n",
       ".dl-inline>dt:not(:first-of-type) {padding-left: .5ex}\n",
       "</style><dl class=dl-inline><dt>29</dt><dd>TRUE</dd><dt>107</dt><dd>TRUE</dd><dt>162</dt><dd>TRUE</dd></dl>\n"
      ],
      "text/latex": [
       "\\begin{description*}\n",
       "\\item[29] TRUE\n",
       "\\item[107] TRUE\n",
       "\\item[162] TRUE\n",
       "\\end{description*}\n"
      ],
      "text/markdown": [
       "29\n",
       ":   TRUE107\n",
       ":   TRUE162\n",
       ":   TRUE\n",
       "\n"
      ],
      "text/plain": [
       "  29  107  162 \n",
       "TRUE TRUE TRUE "
      ]
     },
     "metadata": {},
     "output_type": "display_data"
    }
   ],
   "source": [
    "subset(influyentes11,influyentes11==TRUE)"
   ]
  },
  {
   "cell_type": "code",
   "execution_count": 42,
   "metadata": {},
   "outputs": [
    {
     "data": {
      "text/html": [
       "<style>\n",
       ".dl-inline {width: auto; margin:0; padding: 0}\n",
       ".dl-inline>dt, .dl-inline>dd {float: none; width: auto; display: inline-block}\n",
       ".dl-inline>dt::after {content: \":\\0020\"; padding-right: .5ex}\n",
       ".dl-inline>dt:not(:first-of-type) {padding-left: .5ex}\n",
       "</style><dl class=dl-inline><dt>29</dt><dd>TRUE</dd><dt>69</dt><dd>TRUE</dd></dl>\n"
      ],
      "text/latex": [
       "\\begin{description*}\n",
       "\\item[29] TRUE\n",
       "\\item[69] TRUE\n",
       "\\end{description*}\n"
      ],
      "text/markdown": [
       "29\n",
       ":   TRUE69\n",
       ":   TRUE\n",
       "\n"
      ],
      "text/plain": [
       "  29   69 \n",
       "TRUE TRUE "
      ]
     },
     "metadata": {},
     "output_type": "display_data"
    }
   ],
   "source": [
    "subset(influyentes12,influyentes12==TRUE)"
   ]
  },
  {
   "cell_type": "code",
   "execution_count": 43,
   "metadata": {},
   "outputs": [
    {
     "data": {
      "text/html": [
       "<style>\n",
       ".dl-inline {width: auto; margin:0; padding: 0}\n",
       ".dl-inline>dt, .dl-inline>dd {float: none; width: auto; display: inline-block}\n",
       ".dl-inline>dt::after {content: \":\\0020\"; padding-right: .5ex}\n",
       ".dl-inline>dt:not(:first-of-type) {padding-left: .5ex}\n",
       "</style><dl class=dl-inline><dt>29</dt><dd>TRUE</dd><dt>107</dt><dd>TRUE</dd><dt>131</dt><dd>TRUE</dd><dt>162</dt><dd>TRUE</dd></dl>\n"
      ],
      "text/latex": [
       "\\begin{description*}\n",
       "\\item[29] TRUE\n",
       "\\item[107] TRUE\n",
       "\\item[131] TRUE\n",
       "\\item[162] TRUE\n",
       "\\end{description*}\n"
      ],
      "text/markdown": [
       "29\n",
       ":   TRUE107\n",
       ":   TRUE131\n",
       ":   TRUE162\n",
       ":   TRUE\n",
       "\n"
      ],
      "text/plain": [
       "  29  107  131  162 \n",
       "TRUE TRUE TRUE TRUE "
      ]
     },
     "metadata": {},
     "output_type": "display_data"
    }
   ],
   "source": [
    "subset(influyentes14,influyentes14==TRUE)"
   ]
  },
  {
   "cell_type": "markdown",
   "metadata": {},
   "source": [
    "--------\n",
    "### Atípicos\n",
    "--------"
   ]
  },
  {
   "cell_type": "code",
   "execution_count": 44,
   "metadata": {},
   "outputs": [
    {
     "data": {
      "text/html": [
       "<style>\n",
       ".dl-inline {width: auto; margin:0; padding: 0}\n",
       ".dl-inline>dt, .dl-inline>dd {float: none; width: auto; display: inline-block}\n",
       ".dl-inline>dt::after {content: \":\\0020\"; padding-right: .5ex}\n",
       ".dl-inline>dt:not(:first-of-type) {padding-left: .5ex}\n",
       "</style><dl class=dl-inline><dt>3</dt><dd>3</dd><dt>4</dt><dd>4</dd><dt>20</dt><dd>20</dd><dt>29</dt><dd>29</dd><dt>87</dt><dd>87</dd><dt>98</dt><dd>98</dd><dt>106</dt><dd>106</dd><dt>107</dt><dd>107</dd><dt>131</dt><dd>131</dd><dt>132</dt><dd>132</dd><dt>135</dt><dd>135</dd><dt>144</dt><dd>144</dd></dl>\n"
      ],
      "text/latex": [
       "\\begin{description*}\n",
       "\\item[3] 3\n",
       "\\item[4] 4\n",
       "\\item[20] 20\n",
       "\\item[29] 29\n",
       "\\item[87] 87\n",
       "\\item[98] 98\n",
       "\\item[106] 106\n",
       "\\item[107] 107\n",
       "\\item[131] 131\n",
       "\\item[132] 132\n",
       "\\item[135] 135\n",
       "\\item[144] 144\n",
       "\\end{description*}\n"
      ],
      "text/markdown": [
       "3\n",
       ":   34\n",
       ":   420\n",
       ":   2029\n",
       ":   2987\n",
       ":   8798\n",
       ":   98106\n",
       ":   106107\n",
       ":   107131\n",
       ":   131132\n",
       ":   132135\n",
       ":   135144\n",
       ":   144\n",
       "\n"
      ],
      "text/plain": [
       "  3   4  20  29  87  98 106 107 131 132 135 144 \n",
       "  3   4  20  29  87  98 106 107 131 132 135 144 "
      ]
     },
     "metadata": {},
     "output_type": "display_data"
    }
   ],
   "source": [
    "#round(head(rstandard(mod11),n=188),d=1)\n",
    "t<-qt((1-0.025),n-7-1)\n",
    "atipicos11 = which(abs(rstandard(mod11))>t)\n",
    "atipicos11"
   ]
  },
  {
   "cell_type": "code",
   "execution_count": 46,
   "metadata": {},
   "outputs": [
    {
     "data": {
      "text/html": [
       "<style>\n",
       ".dl-inline {width: auto; margin:0; padding: 0}\n",
       ".dl-inline>dt, .dl-inline>dd {float: none; width: auto; display: inline-block}\n",
       ".dl-inline>dt::after {content: \":\\0020\"; padding-right: .5ex}\n",
       ".dl-inline>dt:not(:first-of-type) {padding-left: .5ex}\n",
       "</style><dl class=dl-inline><dt>15</dt><dd>15</dd><dt>42</dt><dd>42</dd><dt>61</dt><dd>61</dd><dt>65</dt><dd>65</dd><dt>69</dt><dd>69</dd><dt>73</dt><dd>73</dd><dt>85</dt><dd>85</dd><dt>117</dt><dd>117</dd><dt>123</dt><dd>123</dd><dt>150</dt><dd>150</dd><dt>180</dt><dd>180</dd><dt>186</dt><dd>186</dd></dl>\n"
      ],
      "text/latex": [
       "\\begin{description*}\n",
       "\\item[15] 15\n",
       "\\item[42] 42\n",
       "\\item[61] 61\n",
       "\\item[65] 65\n",
       "\\item[69] 69\n",
       "\\item[73] 73\n",
       "\\item[85] 85\n",
       "\\item[117] 117\n",
       "\\item[123] 123\n",
       "\\item[150] 150\n",
       "\\item[180] 180\n",
       "\\item[186] 186\n",
       "\\end{description*}\n"
      ],
      "text/markdown": [
       "15\n",
       ":   1542\n",
       ":   4261\n",
       ":   6165\n",
       ":   6569\n",
       ":   6973\n",
       ":   7385\n",
       ":   85117\n",
       ":   117123\n",
       ":   123150\n",
       ":   150180\n",
       ":   180186\n",
       ":   186\n",
       "\n"
      ],
      "text/plain": [
       " 15  42  61  65  69  73  85 117 123 150 180 186 \n",
       " 15  42  61  65  69  73  85 117 123 150 180 186 "
      ]
     },
     "metadata": {},
     "output_type": "display_data"
    }
   ],
   "source": [
    "#round(head(rstandard(mod12),n=188),d=1)\n",
    "t<-qt((1-0.025),n-10-1)\n",
    "atipicos12 = which(abs(rstandard(mod12))>t)\n",
    "atipicos12"
   ]
  },
  {
   "cell_type": "code",
   "execution_count": 48,
   "metadata": {},
   "outputs": [],
   "source": [
    "#round(head(rstandard(mod14),n=188),d=1)\n",
    "t<-qt((1-0.025),n-6-1)\n",
    "atipicos14 = which(abs(rstandard(mod14))>t)"
   ]
  },
  {
   "cell_type": "code",
   "execution_count": 49,
   "metadata": {},
   "outputs": [
    {
     "data": {
      "text/html": [
       "<style>\n",
       ".dl-inline {width: auto; margin:0; padding: 0}\n",
       ".dl-inline>dt, .dl-inline>dd {float: none; width: auto; display: inline-block}\n",
       ".dl-inline>dt::after {content: \":\\0020\"; padding-right: .5ex}\n",
       ".dl-inline>dt:not(:first-of-type) {padding-left: .5ex}\n",
       "</style><dl class=dl-inline><dt>29</dt><dd>TRUE</dd><dt>107</dt><dd>TRUE</dd><dt>131</dt><dd>TRUE</dd><dt>162</dt><dd>TRUE</dd></dl>\n"
      ],
      "text/latex": [
       "\\begin{description*}\n",
       "\\item[29] TRUE\n",
       "\\item[107] TRUE\n",
       "\\item[131] TRUE\n",
       "\\item[162] TRUE\n",
       "\\end{description*}\n"
      ],
      "text/markdown": [
       "29\n",
       ":   TRUE107\n",
       ":   TRUE131\n",
       ":   TRUE162\n",
       ":   TRUE\n",
       "\n"
      ],
      "text/plain": [
       "  29  107  131  162 \n",
       "TRUE TRUE TRUE TRUE "
      ]
     },
     "metadata": {},
     "output_type": "display_data"
    },
    {
     "data": {
      "text/html": [
       "<style>\n",
       ".dl-inline {width: auto; margin:0; padding: 0}\n",
       ".dl-inline>dt, .dl-inline>dd {float: none; width: auto; display: inline-block}\n",
       ".dl-inline>dt::after {content: \":\\0020\"; padding-right: .5ex}\n",
       ".dl-inline>dt:not(:first-of-type) {padding-left: .5ex}\n",
       "</style><dl class=dl-inline><dt>20</dt><dd>20</dd><dt>29</dt><dd>29</dd><dt>87</dt><dd>87</dd><dt>98</dt><dd>98</dd><dt>106</dt><dd>106</dd><dt>107</dt><dd>107</dd><dt>131</dt><dd>131</dd><dt>132</dt><dd>132</dd><dt>135</dt><dd>135</dd><dt>144</dt><dd>144</dd><dt>162</dt><dd>162</dd></dl>\n"
      ],
      "text/latex": [
       "\\begin{description*}\n",
       "\\item[20] 20\n",
       "\\item[29] 29\n",
       "\\item[87] 87\n",
       "\\item[98] 98\n",
       "\\item[106] 106\n",
       "\\item[107] 107\n",
       "\\item[131] 131\n",
       "\\item[132] 132\n",
       "\\item[135] 135\n",
       "\\item[144] 144\n",
       "\\item[162] 162\n",
       "\\end{description*}\n"
      ],
      "text/markdown": [
       "20\n",
       ":   2029\n",
       ":   2987\n",
       ":   8798\n",
       ":   98106\n",
       ":   106107\n",
       ":   107131\n",
       ":   131132\n",
       ":   132135\n",
       ":   135144\n",
       ":   144162\n",
       ":   162\n",
       "\n"
      ],
      "text/plain": [
       " 20  29  87  98 106 107 131 132 135 144 162 \n",
       " 20  29  87  98 106 107 131 132 135 144 162 "
      ]
     },
     "metadata": {},
     "output_type": "display_data"
    }
   ],
   "source": [
    "subset(influyentes14,influyentes14==TRUE)\n",
    "atipicos14"
   ]
  },
  {
   "cell_type": "markdown",
   "metadata": {},
   "source": [
    "-------------\n",
    "### Consideraremos los modelos anteriores eliminando de la DB el dato atipico influyente"
   ]
  },
  {
   "cell_type": "code",
   "execution_count": 50,
   "metadata": {},
   "outputs": [],
   "source": [
    "casen11 <- casen[-c(29),]\n",
    "casen12 <- casen[-c(69),]\n",
    "casen14_1 <- casen[-c(29),]"
   ]
  },
  {
   "cell_type": "code",
   "execution_count": 51,
   "metadata": {},
   "outputs": [],
   "source": [
    "EDIT_modelo11 <- lm(X1 ~ X3 +X4+X6 +V1+V2+R+O-1, data=casen11)\n",
    "EDIT_modelo12 <- lm(log(X1) ~X2 +X3+X4+X6+V1+V2+Z1+E1+E2+R+O-1, data= casen12)\n",
    "EDIT_modelo14_1 <- lm(X1 ~ X3+X4+X6+V2+R+O-1, data=casen14_1)"
   ]
  },
  {
   "cell_type": "code",
   "execution_count": 52,
   "metadata": {},
   "outputs": [
    {
     "data": {
      "text/plain": [
       "\n",
       "Call:\n",
       "lm(formula = X1 ~ X3 + X4 + X6 + V1 + V2 + R + O - 1, data = casen11)\n",
       "\n",
       "Residuals:\n",
       "   Min     1Q Median     3Q    Max \n",
       "-91147 -23799   1559  23426 114653 \n",
       "\n",
       "Coefficients:\n",
       "    Estimate Std. Error t value Pr(>|t|)    \n",
       "X3 2.782e-02  5.297e-03   5.251 4.23e-07 ***\n",
       "X4 2.529e-01  4.171e-02   6.062 7.69e-09 ***\n",
       "X6 9.451e-02  2.944e-02   3.210  0.00157 ** \n",
       "V1 9.129e+03  7.817e+03   1.168  0.24444    \n",
       "V2 1.490e+04  6.542e+03   2.277  0.02397 *  \n",
       "R  1.206e+04  5.466e+03   2.206  0.02862 *  \n",
       "O  2.105e+04  6.665e+03   3.158  0.00186 ** \n",
       "---\n",
       "Signif. codes:  0 '***' 0.001 '**' 0.01 '*' 0.05 '.' 0.1 ' ' 1\n",
       "\n",
       "Residual standard error: 37760 on 180 degrees of freedom\n",
       "Multiple R-squared:  0.8829,\tAdjusted R-squared:  0.8783 \n",
       "F-statistic: 193.9 on 7 and 180 DF,  p-value: < 2.2e-16\n"
      ]
     },
     "metadata": {},
     "output_type": "display_data"
    }
   ],
   "source": [
    "summary(EDIT_modelo11)"
   ]
  },
  {
   "cell_type": "code",
   "execution_count": 53,
   "metadata": {},
   "outputs": [
    {
     "data": {
      "text/plain": [
       "\n",
       "Call:\n",
       "lm(formula = X1 ~ X3 + X4 + X6 + V1 + V2 + R + O - 1, data = casen)\n",
       "\n",
       "Residuals:\n",
       "   Min     1Q Median     3Q    Max \n",
       "-94294 -25196   1139  22171 112228 \n",
       "\n",
       "Coefficients:\n",
       "    Estimate Std. Error t value Pr(>|t|)    \n",
       "X3 3.065e-02  5.287e-03   5.797 2.95e-08 ***\n",
       "X4 2.107e-01  3.945e-02   5.340 2.76e-07 ***\n",
       "X6 9.808e-02  2.993e-02   3.277  0.00126 ** \n",
       "V1 1.228e+04  7.869e+03   1.561  0.12028    \n",
       "V2 1.795e+04  6.561e+03   2.736  0.00685 ** \n",
       "R  1.042e+04  5.530e+03   1.885  0.06108 .  \n",
       "O  2.026e+04  6.777e+03   2.989  0.00319 ** \n",
       "---\n",
       "Signif. codes:  0 '***' 0.001 '**' 0.01 '*' 0.05 '.' 0.1 ' ' 1\n",
       "\n",
       "Residual standard error: 38430 on 181 degrees of freedom\n",
       "Multiple R-squared:  0.8781,\tAdjusted R-squared:  0.8734 \n",
       "F-statistic: 186.3 on 7 and 181 DF,  p-value: < 2.2e-16\n"
      ]
     },
     "metadata": {},
     "output_type": "display_data"
    }
   ],
   "source": [
    "summary(mod11)"
   ]
  },
  {
   "cell_type": "code",
   "execution_count": 54,
   "metadata": {},
   "outputs": [
    {
     "data": {
      "text/plain": [
       "\n",
       "\tJarque-Bera test for normality\n",
       "\n",
       "data:  residuals(EDIT_modelo11)\n",
       "JB = 2.6803, p-value = 0.211\n"
      ]
     },
     "metadata": {},
     "output_type": "display_data"
    }
   ],
   "source": [
    "jb.norm.test(residuals(EDIT_modelo11))"
   ]
  },
  {
   "cell_type": "markdown",
   "metadata": {},
   "source": [
    "#### Buscamos nuevos datos atipicos que sean influyentes"
   ]
  },
  {
   "cell_type": "code",
   "execution_count": 55,
   "metadata": {},
   "outputs": [
    {
     "data": {
      "text/html": [
       "<strong>161:</strong> TRUE"
      ],
      "text/latex": [
       "\\textbf{161:} TRUE"
      ],
      "text/markdown": [
       "**161:** TRUE"
      ],
      "text/plain": [
       " 161 \n",
       "TRUE "
      ]
     },
     "metadata": {},
     "output_type": "display_data"
    }
   ],
   "source": [
    "distancia11_1 <- cooks.distance(EDIT_modelo11)\n",
    "influyentes11_1 <- (distancia11_1 > 2*(10-1)/187)\n",
    "subset(influyentes11_1,influyentes11_1==TRUE)"
   ]
  },
  {
   "cell_type": "code",
   "execution_count": 81,
   "metadata": {},
   "outputs": [
    {
     "data": {
      "text/html": [
       "<style>\n",
       ".dl-inline {width: auto; margin:0; padding: 0}\n",
       ".dl-inline>dt, .dl-inline>dd {float: none; width: auto; display: inline-block}\n",
       ".dl-inline>dt::after {content: \":\\0020\"; padding-right: .5ex}\n",
       ".dl-inline>dt:not(:first-of-type) {padding-left: .5ex}\n",
       "</style><dl class=dl-inline><dt>3</dt><dd>3</dd><dt>4</dt><dd>4</dd><dt>20</dt><dd>20</dd><dt>86</dt><dd>86</dd><dt>97</dt><dd>97</dd><dt>105</dt><dd>105</dd><dt>106</dt><dd>106</dd><dt>130</dt><dd>130</dd><dt>131</dt><dd>131</dd><dt>134</dt><dd>134</dd><dt>143</dt><dd>143</dd></dl>\n"
      ],
      "text/latex": [
       "\\begin{description*}\n",
       "\\item[3] 3\n",
       "\\item[4] 4\n",
       "\\item[20] 20\n",
       "\\item[86] 86\n",
       "\\item[97] 97\n",
       "\\item[105] 105\n",
       "\\item[106] 106\n",
       "\\item[130] 130\n",
       "\\item[131] 131\n",
       "\\item[134] 134\n",
       "\\item[143] 143\n",
       "\\end{description*}\n"
      ],
      "text/markdown": [
       "3\n",
       ":   34\n",
       ":   420\n",
       ":   2086\n",
       ":   8697\n",
       ":   97105\n",
       ":   105106\n",
       ":   106130\n",
       ":   130131\n",
       ":   131134\n",
       ":   134143\n",
       ":   143\n",
       "\n"
      ],
      "text/plain": [
       "  3   4  20  86  97 105 106 130 131 134 143 \n",
       "  3   4  20  86  97 105 106 130 131 134 143 "
      ]
     },
     "metadata": {},
     "output_type": "display_data"
    }
   ],
   "source": [
    "t<-qt((1-0.025),n-7-1)\n",
    "atipicos11_1 = which(abs(rstandard(EDIT_modelo11))>t)\n",
    "atipicos11_1"
   ]
  },
  {
   "cell_type": "code",
   "execution_count": 82,
   "metadata": {},
   "outputs": [],
   "source": [
    "write.csv(distancia11_1,file='Distancias de Cook modelo 11 MODIFICADO.csv')"
   ]
  },
  {
   "cell_type": "markdown",
   "metadata": {},
   "source": [
    "### Resultados:\n",
    "#### 1. No se eliminarán mas datos, pues los datos atípicos restantes no son significativos.\n",
    "#### 2.  Se mejora el ajuste, con el cambio $R^2 =  0.8781$ --> $0.8829$, y se preserva la normalidad del error.\n",
    "-------------------------\n",
    "------------------------"
   ]
  },
  {
   "cell_type": "code",
   "execution_count": 57,
   "metadata": {},
   "outputs": [
    {
     "data": {
      "text/plain": [
       "\n",
       "Call:\n",
       "lm(formula = log(X1) ~ X2 + X3 + X4 + X6 + V1 + V2 + Z1 + E1 + \n",
       "    E2 + R + O - 1, data = casen12)\n",
       "\n",
       "Residuals:\n",
       "    Min      1Q  Median      3Q     Max \n",
       "-4.0705 -0.9257  0.1057  1.3042  5.0240 \n",
       "\n",
       "Coefficients:\n",
       "    Estimate Std. Error t value Pr(>|t|)    \n",
       "X2 3.459e-06  8.978e-07   3.853 0.000163 ***\n",
       "X3 1.368e-06  2.625e-07   5.212 5.19e-07 ***\n",
       "X4 9.779e-06  2.215e-06   4.414 1.76e-05 ***\n",
       "X6 2.636e-06  1.480e-06   1.782 0.076540 .  \n",
       "V1 1.940e+00  4.251e-01   4.564 9.37e-06 ***\n",
       "V2 2.562e+00  3.321e-01   7.717 8.56e-13 ***\n",
       "Z1 1.108e+00  3.157e-01   3.510 0.000570 ***\n",
       "E1 1.993e+00  3.448e-01   5.779 3.34e-08 ***\n",
       "E2 2.132e+00  4.988e-01   4.273 3.15e-05 ***\n",
       "R  7.579e-01  2.721e-01   2.785 0.005940 ** \n",
       "O  3.110e+00  3.778e-01   8.232 3.99e-14 ***\n",
       "---\n",
       "Signif. codes:  0 '***' 0.001 '**' 0.01 '*' 0.05 '.' 0.1 ' ' 1\n",
       "\n",
       "Residual standard error: 1.844 on 176 degrees of freedom\n",
       "Multiple R-squared:  0.9753,\tAdjusted R-squared:  0.9738 \n",
       "F-statistic: 632.2 on 11 and 176 DF,  p-value: < 2.2e-16\n"
      ]
     },
     "metadata": {},
     "output_type": "display_data"
    }
   ],
   "source": [
    "summary(EDIT_modelo12)"
   ]
  },
  {
   "cell_type": "code",
   "execution_count": 58,
   "metadata": {},
   "outputs": [
    {
     "data": {
      "text/plain": [
       "\n",
       "Call:\n",
       "lm(formula = log(X1) ~ X2 + X3 + X4 + X6 + V1 + V2 + Z1 + E1 + \n",
       "    E2 + R + O - 1, data = casen)\n",
       "\n",
       "Residuals:\n",
       "    Min      1Q  Median      3Q     Max \n",
       "-3.9742 -0.9237  0.1483  1.3109  5.1271 \n",
       "\n",
       "Coefficients:\n",
       "    Estimate Std. Error t value Pr(>|t|)    \n",
       "X2 3.782e-06  8.922e-07   4.239 3.61e-05 ***\n",
       "X3 1.473e-06  2.599e-07   5.668 5.78e-08 ***\n",
       "X4 7.475e-06  1.930e-06   3.872 0.000152 ***\n",
       "X6 2.745e-06  1.492e-06   1.839 0.067545 .  \n",
       "V1 1.973e+00  4.287e-01   4.603 7.91e-06 ***\n",
       "V2 2.550e+00  3.350e-01   7.611 1.55e-12 ***\n",
       "Z1 1.062e+00  3.177e-01   3.342 0.001015 ** \n",
       "E1 1.956e+00  3.475e-01   5.630 6.94e-08 ***\n",
       "E2 2.118e+00  5.033e-01   4.208 4.08e-05 ***\n",
       "R  8.210e-01  2.729e-01   3.009 0.003007 ** \n",
       "O  3.159e+00  3.805e-01   8.301 2.57e-14 ***\n",
       "---\n",
       "Signif. codes:  0 '***' 0.001 '**' 0.01 '*' 0.05 '.' 0.1 ' ' 1\n",
       "\n",
       "Residual standard error: 1.861 on 177 degrees of freedom\n",
       "Multiple R-squared:  0.9749,\tAdjusted R-squared:  0.9733 \n",
       "F-statistic: 624.3 on 11 and 177 DF,  p-value: < 2.2e-16\n"
      ]
     },
     "metadata": {},
     "output_type": "display_data"
    }
   ],
   "source": [
    "summary(mod12)"
   ]
  },
  {
   "cell_type": "code",
   "execution_count": 59,
   "metadata": {},
   "outputs": [
    {
     "data": {
      "text/plain": [
       "\n",
       "\tJarque-Bera test for normality\n",
       "\n",
       "data:  residuals(EDIT_modelo12)\n",
       "JB = 1.3975, p-value = 0.435\n"
      ]
     },
     "metadata": {},
     "output_type": "display_data"
    }
   ],
   "source": [
    "jb.norm.test(residuals(EDIT_modelo12))"
   ]
  },
  {
   "cell_type": "markdown",
   "metadata": {},
   "source": [
    "#### Buscamos nuevos datos atipicos que sean influyentes"
   ]
  },
  {
   "cell_type": "code",
   "execution_count": 72,
   "metadata": {},
   "outputs": [
    {
     "data": {
      "text/html": [
       "<strong>29:</strong> TRUE"
      ],
      "text/latex": [
       "\\textbf{29:} TRUE"
      ],
      "text/markdown": [
       "**29:** TRUE"
      ],
      "text/plain": [
       "  29 \n",
       "TRUE "
      ]
     },
     "metadata": {},
     "output_type": "display_data"
    }
   ],
   "source": [
    "distancia12_1 <- cooks.distance(EDIT_modelo12)\n",
    "influyentes12_1 <- (distancia12_1 > 2*(10-1)/187)\n",
    "subset(influyentes12_1,influyentes12_1==TRUE)"
   ]
  },
  {
   "cell_type": "code",
   "execution_count": 73,
   "metadata": {},
   "outputs": [
    {
     "data": {
      "text/html": [
       "<style>\n",
       ".dl-inline {width: auto; margin:0; padding: 0}\n",
       ".dl-inline>dt, .dl-inline>dd {float: none; width: auto; display: inline-block}\n",
       ".dl-inline>dt::after {content: \":\\0020\"; padding-right: .5ex}\n",
       ".dl-inline>dt:not(:first-of-type) {padding-left: .5ex}\n",
       "</style><dl class=dl-inline><dt>3</dt><dd>3</dd><dt>4</dt><dd>4</dd><dt>15</dt><dd>15</dd><dt>29</dt><dd>29</dd><dt>42</dt><dd>42</dd><dt>61</dt><dd>61</dd><dt>65</dt><dd>65</dd><dt>72</dt><dd>72</dd><dt>84</dt><dd>84</dd><dt>116</dt><dd>116</dd><dt>122</dt><dd>122</dd><dt>149</dt><dd>149</dd><dt>185</dt><dd>185</dd></dl>\n"
      ],
      "text/latex": [
       "\\begin{description*}\n",
       "\\item[3] 3\n",
       "\\item[4] 4\n",
       "\\item[15] 15\n",
       "\\item[29] 29\n",
       "\\item[42] 42\n",
       "\\item[61] 61\n",
       "\\item[65] 65\n",
       "\\item[72] 72\n",
       "\\item[84] 84\n",
       "\\item[116] 116\n",
       "\\item[122] 122\n",
       "\\item[149] 149\n",
       "\\item[185] 185\n",
       "\\end{description*}\n"
      ],
      "text/markdown": [
       "3\n",
       ":   34\n",
       ":   415\n",
       ":   1529\n",
       ":   2942\n",
       ":   4261\n",
       ":   6165\n",
       ":   6572\n",
       ":   7284\n",
       ":   84116\n",
       ":   116122\n",
       ":   122149\n",
       ":   149185\n",
       ":   185\n",
       "\n"
      ],
      "text/plain": [
       "  3   4  15  29  42  61  65  72  84 116 122 149 185 \n",
       "  3   4  15  29  42  61  65  72  84 116 122 149 185 "
      ]
     },
     "metadata": {},
     "output_type": "display_data"
    }
   ],
   "source": [
    "t<-qt((1-0.025),187-10-1)\n",
    "atipicos12_1 = which(abs(rstandard(EDIT_modelo12))>t)\n",
    "atipicos12_1"
   ]
  },
  {
   "cell_type": "markdown",
   "metadata": {},
   "source": [
    "### Eliminaremos el dato número 29, que es atípico e influyente."
   ]
  },
  {
   "cell_type": "code",
   "execution_count": 71,
   "metadata": {},
   "outputs": [
    {
     "data": {
      "text/html": [
       "<strong>29:</strong> TRUE"
      ],
      "text/latex": [
       "\\textbf{29:} TRUE"
      ],
      "text/markdown": [
       "**29:** TRUE"
      ],
      "text/plain": [
       "  29 \n",
       "TRUE "
      ]
     },
     "metadata": {},
     "output_type": "display_data"
    }
   ],
   "source": [
    "casen12 <- casen[-c(29,69),]\n",
    "EDIT_modelo12_1 <- lm(log(X1) ~X2 +X3+X4+X6+V1+V2+Z1+E1+E2+R+O-1, data= casen12)"
   ]
  },
  {
   "cell_type": "code",
   "execution_count": 76,
   "metadata": {},
   "outputs": [
    {
     "data": {
      "text/plain": [
       "\n",
       "Call:\n",
       "lm(formula = log(X1) ~ X2 + X3 + X4 + X6 + V1 + V2 + Z1 + E1 + \n",
       "    E2 + R + O - 1, data = casen12)\n",
       "\n",
       "Residuals:\n",
       "    Min      1Q  Median      3Q     Max \n",
       "-4.1130 -0.8967  0.1397  1.2462  4.8646 \n",
       "\n",
       "Coefficients:\n",
       "    Estimate Std. Error t value Pr(>|t|)    \n",
       "X2 3.791e-06  8.971e-07   4.226 3.82e-05 ***\n",
       "X3 1.211e-06  2.674e-07   4.528 1.10e-05 ***\n",
       "X4 1.201e-05  2.379e-06   5.048 1.11e-06 ***\n",
       "X6 2.361e-06  1.465e-06   1.611 0.108936    \n",
       "V1 1.682e+00  4.334e-01   3.880 0.000148 ***\n",
       "V2 2.371e+00  3.374e-01   7.027 4.52e-11 ***\n",
       "Z1 1.214e+00  3.147e-01   3.856 0.000162 ***\n",
       "E1 1.967e+00  3.405e-01   5.776 3.43e-08 ***\n",
       "E2 2.287e+00  4.966e-01   4.605 7.91e-06 ***\n",
       "R  8.032e-01  2.693e-01   2.983 0.003264 ** \n",
       "O  3.053e+00  3.737e-01   8.169 5.97e-14 ***\n",
       "---\n",
       "Signif. codes:  0 '***' 0.001 '**' 0.01 '*' 0.05 '.' 0.1 ' ' 1\n",
       "\n",
       "Residual standard error: 1.82 on 175 degrees of freedom\n",
       "Multiple R-squared:  0.976,\tAdjusted R-squared:  0.9745 \n",
       "F-statistic: 646.4 on 11 and 175 DF,  p-value: < 2.2e-16\n"
      ]
     },
     "metadata": {},
     "output_type": "display_data"
    }
   ],
   "source": [
    "summary(EDIT_modelo12_1)"
   ]
  },
  {
   "cell_type": "code",
   "execution_count": 79,
   "metadata": {},
   "outputs": [
    {
     "data": {
      "text/plain": [
       "\n",
       "\tJarque-Bera test for normality\n",
       "\n",
       "data:  residuals(EDIT_modelo12_1)\n",
       "JB = 0.78465, p-value = 0.649\n"
      ]
     },
     "metadata": {},
     "output_type": "display_data"
    }
   ],
   "source": [
    "jb.norm.test(residuals(EDIT_modelo12_1))"
   ]
  },
  {
   "cell_type": "code",
   "execution_count": 78,
   "metadata": {},
   "outputs": [],
   "source": [
    "distancia12_2 <- cooks.distance(EDIT_modelo12_1)\n",
    "influyentes12_2 <- (distancia12_2 > 2*(10-1)/186)\n",
    "subset(influyentes12_2,influyentes12_2==TRUE)"
   ]
  },
  {
   "cell_type": "code",
   "execution_count": 83,
   "metadata": {},
   "outputs": [],
   "source": [
    "write.csv(distancia12_2,file='Distancias de Cook modelo 12 MODIFICADO.csv')"
   ]
  },
  {
   "cell_type": "markdown",
   "metadata": {},
   "source": [
    "### Resultados\n",
    "#### 1. No se eliminarán mas datos, pues los datos atípicos restantes no son significativos\n",
    "#### 2. Se mejora el ajuste, con el cambio $R^2 =  0.9749$ ---> $0.9753$ ---> $0.976$, y se preserva la normalidad del error.\n",
    "--------------------\n",
    "----------------"
   ]
  },
  {
   "cell_type": "code",
   "execution_count": 63,
   "metadata": {},
   "outputs": [
    {
     "data": {
      "text/plain": [
       "\n",
       "Call:\n",
       "lm(formula = X1 ~ X3 + X4 + X6 + V2 + R + O - 1, data = casen)\n",
       "\n",
       "Residuals:\n",
       "    Min      1Q  Median      3Q     Max \n",
       "-102450  -24292    3237   23330  110070 \n",
       "\n",
       "Coefficients:\n",
       "    Estimate Std. Error t value Pr(>|t|)    \n",
       "X3 3.051e-02  5.307e-03   5.749 3.73e-08 ***\n",
       "X4 2.151e-01  3.950e-02   5.445 1.66e-07 ***\n",
       "X6 1.067e-01  2.953e-02   3.613 0.000392 ***\n",
       "V2 1.205e+04  5.384e+03   2.238 0.026454 *  \n",
       "R  1.149e+04  5.509e+03   2.085 0.038468 *  \n",
       "O  2.485e+04  6.129e+03   4.055 7.44e-05 ***\n",
       "---\n",
       "Signif. codes:  0 '***' 0.001 '**' 0.01 '*' 0.05 '.' 0.1 ' ' 1\n",
       "\n",
       "Residual standard error: 38580 on 182 degrees of freedom\n",
       "Multiple R-squared:  0.8765,\tAdjusted R-squared:  0.8724 \n",
       "F-statistic: 215.2 on 6 and 182 DF,  p-value: < 2.2e-16\n"
      ]
     },
     "metadata": {},
     "output_type": "display_data"
    }
   ],
   "source": [
    "summary(mod14)"
   ]
  },
  {
   "cell_type": "markdown",
   "metadata": {},
   "source": [
    "----------------------------------"
   ]
  },
  {
   "cell_type": "code",
   "execution_count": 64,
   "metadata": {},
   "outputs": [
    {
     "data": {
      "text/plain": [
       "\n",
       "Call:\n",
       "lm(formula = X1 ~ X3 + X4 + X6 + V2 + R + O - 1, data = casen14_1)\n",
       "\n",
       "Residuals:\n",
       "   Min     1Q Median     3Q    Max \n",
       "-91850 -25519   1894  24258 113236 \n",
       "\n",
       "Coefficients:\n",
       "    Estimate Std. Error t value Pr(>|t|)    \n",
       "X3 2.754e-02  5.297e-03   5.198 5.39e-07 ***\n",
       "X4 2.587e-01  4.145e-02   6.242 2.98e-09 ***\n",
       "X6 1.005e-01  2.901e-02   3.466  0.00066 ***\n",
       "V2 1.041e+04  5.304e+03   1.964  0.05110 .  \n",
       "R  1.294e+04  5.420e+03   2.387  0.01801 *  \n",
       "O  2.444e+04  6.006e+03   4.069 7.04e-05 ***\n",
       "---\n",
       "Signif. codes:  0 '***' 0.001 '**' 0.01 '*' 0.05 '.' 0.1 ' ' 1\n",
       "\n",
       "Residual standard error: 37790 on 181 degrees of freedom\n",
       "Multiple R-squared:  0.882,\tAdjusted R-squared:  0.8781 \n",
       "F-statistic: 225.5 on 6 and 181 DF,  p-value: < 2.2e-16\n"
      ]
     },
     "metadata": {},
     "output_type": "display_data"
    }
   ],
   "source": [
    "summary(EDIT_modelo14_1)"
   ]
  },
  {
   "cell_type": "code",
   "execution_count": 65,
   "metadata": {},
   "outputs": [
    {
     "data": {
      "text/plain": [
       "\n",
       "\tJarque-Bera test for normality\n",
       "\n",
       "data:  residuals(EDIT_modelo14_1)\n",
       "JB = 2.4647, p-value = 0.2365\n"
      ]
     },
     "metadata": {},
     "output_type": "display_data"
    }
   ],
   "source": [
    "jb.norm.test(residuals(EDIT_modelo14_1))"
   ]
  },
  {
   "cell_type": "markdown",
   "metadata": {},
   "source": [
    "#### Buscamos nuevos datos atipicos que sean influyentes"
   ]
  },
  {
   "cell_type": "code",
   "execution_count": 66,
   "metadata": {},
   "outputs": [
    {
     "data": {
      "text/html": [
       "<style>\n",
       ".dl-inline {width: auto; margin:0; padding: 0}\n",
       ".dl-inline>dt, .dl-inline>dd {float: none; width: auto; display: inline-block}\n",
       ".dl-inline>dt::after {content: \":\\0020\"; padding-right: .5ex}\n",
       ".dl-inline>dt:not(:first-of-type) {padding-left: .5ex}\n",
       "</style><dl class=dl-inline><dt>106</dt><dd>TRUE</dd><dt>130</dt><dd>TRUE</dd><dt>161</dt><dd>TRUE</dd></dl>\n"
      ],
      "text/latex": [
       "\\begin{description*}\n",
       "\\item[106] TRUE\n",
       "\\item[130] TRUE\n",
       "\\item[161] TRUE\n",
       "\\end{description*}\n"
      ],
      "text/markdown": [
       "106\n",
       ":   TRUE130\n",
       ":   TRUE161\n",
       ":   TRUE\n",
       "\n"
      ],
      "text/plain": [
       " 106  130  161 \n",
       "TRUE TRUE TRUE "
      ]
     },
     "metadata": {},
     "output_type": "display_data"
    }
   ],
   "source": [
    "distancia14_1 <- cooks.distance(EDIT_modelo14_1)\n",
    "influyentes14_1 <- (distancia14_1 > 2*(6-1)/187)\n",
    "subset(influyentes14_1,influyentes14_1==TRUE)"
   ]
  },
  {
   "cell_type": "code",
   "execution_count": 85,
   "metadata": {},
   "outputs": [
    {
     "data": {
      "text/html": [
       "<style>\n",
       ".dl-inline {width: auto; margin:0; padding: 0}\n",
       ".dl-inline>dt, .dl-inline>dd {float: none; width: auto; display: inline-block}\n",
       ".dl-inline>dt::after {content: \":\\0020\"; padding-right: .5ex}\n",
       ".dl-inline>dt:not(:first-of-type) {padding-left: .5ex}\n",
       "</style><dl class=dl-inline><dt>3</dt><dd>3</dd><dt>4</dt><dd>4</dd><dt>15</dt><dd>15</dd><dt>29</dt><dd>29</dd><dt>42</dt><dd>42</dd><dt>61</dt><dd>61</dd><dt>65</dt><dd>65</dd><dt>72</dt><dd>72</dd><dt>84</dt><dd>84</dd><dt>116</dt><dd>116</dd><dt>122</dt><dd>122</dd><dt>149</dt><dd>149</dd><dt>185</dt><dd>185</dd></dl>\n"
      ],
      "text/latex": [
       "\\begin{description*}\n",
       "\\item[3] 3\n",
       "\\item[4] 4\n",
       "\\item[15] 15\n",
       "\\item[29] 29\n",
       "\\item[42] 42\n",
       "\\item[61] 61\n",
       "\\item[65] 65\n",
       "\\item[72] 72\n",
       "\\item[84] 84\n",
       "\\item[116] 116\n",
       "\\item[122] 122\n",
       "\\item[149] 149\n",
       "\\item[185] 185\n",
       "\\end{description*}\n"
      ],
      "text/markdown": [
       "3\n",
       ":   34\n",
       ":   415\n",
       ":   1529\n",
       ":   2942\n",
       ":   4261\n",
       ":   6165\n",
       ":   6572\n",
       ":   7284\n",
       ":   84116\n",
       ":   116122\n",
       ":   122149\n",
       ":   149185\n",
       ":   185\n",
       "\n"
      ],
      "text/plain": [
       "  3   4  15  29  42  61  65  72  84 116 122 149 185 \n",
       "  3   4  15  29  42  61  65  72  84 116 122 149 185 "
      ]
     },
     "metadata": {},
     "output_type": "display_data"
    }
   ],
   "source": [
    "t<-qt((1-0.025),187-6-1)\n",
    "atipicos14_1 = which(abs(rstandard(EDIT_modelo12))>t)\n",
    "atipicos14_1"
   ]
  },
  {
   "cell_type": "code",
   "execution_count": 84,
   "metadata": {},
   "outputs": [],
   "source": [
    "write.csv(distancia14_1,file='Distancias de Cook modelo 14 MODIFICADO.csv')"
   ]
  },
  {
   "cell_type": "markdown",
   "metadata": {},
   "source": [
    "### Resultado:\n",
    "#### 1. No se eliminan mas datos, los atipicos restantes no son significativos.\n",
    "#### 2. Se mejora el ajuste con $R^2 = 0.8765$ ---> $0.882$ y se preserva la normalidad de los residuales."
   ]
  },
  {
   "cell_type": "code",
   "execution_count": null,
   "metadata": {},
   "outputs": [],
   "source": []
  }
 ],
 "metadata": {
  "kernelspec": {
   "display_name": "R",
   "language": "R",
   "name": "ir"
  },
  "language_info": {
   "codemirror_mode": "r",
   "file_extension": ".r",
   "mimetype": "text/x-r-source",
   "name": "R",
   "pygments_lexer": "r",
   "version": "4.1.1"
  }
 },
 "nbformat": 4,
 "nbformat_minor": 4
}
