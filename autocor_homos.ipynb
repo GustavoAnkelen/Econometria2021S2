{
 "cells": [
  {
   "cell_type": "code",
   "execution_count": 17,
   "metadata": {},
   "outputs": [],
   "source": [
    "library(readr)\n",
    "library(readxl)\n",
    "library(olsrr)\n",
    "library(MASS)\n",
    "library(normtest)\n",
    "library(nortest)\n",
    "library(psych)\n",
    "library(fitdistrplus)\n",
    "library(lattice)\n",
    "library(survival)\n",
    "library(Formula)\n",
    "library(ggplot2)\n",
    "library(\"Hmisc\")\n",
    "library(dplyr)\n",
    "library(lmtest)"
   ]
  },
  {
   "cell_type": "code",
   "execution_count": 18,
   "metadata": {},
   "outputs": [],
   "source": [
    "casen <- read_excel('CASEN_DB.xlsx')"
   ]
  },
  {
   "cell_type": "code",
   "execution_count": 19,
   "metadata": {},
   "outputs": [],
   "source": [
    "casen11 <- casen[-c(29),]\n",
    "casen12 <- casen[-c(29,69),] \n",
    "casen14 <- casen[-c(29),]"
   ]
  },
  {
   "cell_type": "code",
   "execution_count": 20,
   "metadata": {},
   "outputs": [],
   "source": [
    "modelo11 <- lm(X1 ~ X3 +X4+X6 +V1+V2+R+O-1, data=casen11)\n",
    "modelo12 <- lm(log(X1) ~X2 +X3+X4+X6+V1+V2+Z1+E1+E2+R+O-1, data= casen12)\n",
    "modelo14 <- lm(X1 ~ X3+X4+X6+V2+R+O-1, data=casen14)"
   ]
  },
  {
   "cell_type": "markdown",
   "metadata": {},
   "source": [
    "--------------\n",
    "### Realizamos la prueba de White (Breusch-Pagan) para buscar Heteroscedasticidad de los residuos de los modelos de regresión.\n",
    "-------------"
   ]
  },
  {
   "cell_type": "code",
   "execution_count": 33,
   "metadata": {},
   "outputs": [
    {
     "data": {
      "text/plain": [
       "\n",
       "\tstudentized Breusch-Pagan test\n",
       "\n",
       "data:  modelo11\n",
       "BP = 12.588, df = 6, p-value = 0.05007\n"
      ]
     },
     "metadata": {},
     "output_type": "display_data"
    },
    {
     "data": {
      "text/plain": [
       "\n",
       "\tGoldfeld-Quandt test\n",
       "\n",
       "data:  modelo11\n",
       "GQ = 1.4129, df1 = 87, df2 = 86, p-value = 0.05503\n",
       "alternative hypothesis: variance increases from segment 1 to 2\n"
      ]
     },
     "metadata": {},
     "output_type": "display_data"
    }
   ],
   "source": [
    "bptest(modelo11)\n",
    "gqtest(modelo11)"
   ]
  },
  {
   "cell_type": "code",
   "execution_count": 34,
   "metadata": {},
   "outputs": [
    {
     "data": {
      "text/plain": [
       "\n",
       "\tstudentized Breusch-Pagan test\n",
       "\n",
       "data:  modelo12\n",
       "BP = 38.387, df = 10, p-value = 3.249e-05\n"
      ]
     },
     "metadata": {},
     "output_type": "display_data"
    },
    {
     "data": {
      "text/plain": [
       "\n",
       "\tGoldfeld-Quandt test\n",
       "\n",
       "data:  modelo12\n",
       "GQ = 0.67021, df1 = 82, df2 = 82, p-value = 0.9641\n",
       "alternative hypothesis: variance increases from segment 1 to 2\n"
      ]
     },
     "metadata": {},
     "output_type": "display_data"
    }
   ],
   "source": [
    "bptest(modelo12)\n",
    "gqtest(modelo12)"
   ]
  },
  {
   "cell_type": "code",
   "execution_count": 35,
   "metadata": {},
   "outputs": [
    {
     "data": {
      "text/plain": [
       "\n",
       "\tstudentized Breusch-Pagan test\n",
       "\n",
       "data:  modelo14\n",
       "BP = 12.517, df = 5, p-value = 0.02835\n"
      ]
     },
     "metadata": {},
     "output_type": "display_data"
    },
    {
     "data": {
      "text/plain": [
       "\n",
       "\tGoldfeld-Quandt test\n",
       "\n",
       "data:  modelo14\n",
       "GQ = 1.459, df1 = 88, df2 = 87, p-value = 0.0396\n",
       "alternative hypothesis: variance increases from segment 1 to 2\n"
      ]
     },
     "metadata": {},
     "output_type": "display_data"
    }
   ],
   "source": [
    "bptest(modelo14)\n",
    "gqtest(modelo14)"
   ]
  },
  {
   "cell_type": "markdown",
   "metadata": {},
   "source": [
    "### Conclusiones:\n",
    "#### (Test de White)\n",
    "1. Con un p-valor < 0.05, se rechaza (H_0: Homoscedasticidad) para el modelo 12\n",
    "\n",
    "#### (Test de Goldfeld-Quandt)\n",
    "1. Con un p-valor < 0.05, se rechaza (H_0: Homoscedasticidad) para los modelos 12 y 14"
   ]
  },
  {
   "cell_type": "code",
   "execution_count": null,
   "metadata": {},
   "outputs": [],
   "source": []
  }
 ],
 "metadata": {
  "kernelspec": {
   "display_name": "R",
   "language": "R",
   "name": "ir"
  },
  "language_info": {
   "codemirror_mode": "r",
   "file_extension": ".r",
   "mimetype": "text/x-r-source",
   "name": "R",
   "pygments_lexer": "r",
   "version": "4.1.1"
  }
 },
 "nbformat": 4,
 "nbformat_minor": 4
}
