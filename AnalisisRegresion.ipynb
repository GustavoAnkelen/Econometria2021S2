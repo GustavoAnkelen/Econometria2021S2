{
 "cells": [
  {
   "cell_type": "code",
   "execution_count": 1,
   "metadata": {},
   "outputs": [],
   "source": [
    "#instalacion de paquetes\n",
    "\n"
   ]
  },
  {
   "cell_type": "code",
   "execution_count": 16,
   "metadata": {},
   "outputs": [],
   "source": [
    "library(readr)\n",
    "library(readxl)\n",
    "library(olsrr)\n",
    "library(dplyr)\n",
    "#library(mtcars)\n",
    "library(ggplot2)\n",
    "library(MASS)"
   ]
  },
  {
   "cell_type": "code",
   "execution_count": 17,
   "metadata": {},
   "outputs": [],
   "source": [
    "library(normtest)\n",
    "library(nortest)\n",
    "library(psych)\n",
    "library(fitdistrplus)"
   ]
  },
  {
   "cell_type": "code",
   "execution_count": 18,
   "metadata": {},
   "outputs": [],
   "source": [
    "library(timeDate)\n",
    "library(timeSeries)\n",
    "library(fBasics)"
   ]
  },
  {
   "cell_type": "code",
   "execution_count": 5,
   "metadata": {},
   "outputs": [],
   "source": [
    "InsData <- read.csv(\"Insurance_1\")\n",
    "InsData <- InsData[,c(2,3,4,5,6,7,8,9)]"
   ]
  },
  {
   "cell_type": "code",
   "execution_count": 6,
   "metadata": {},
   "outputs": [],
   "source": [
    "model1 <- lm(charges ~ age + sex + bmi + bmiSQ + children + smoker + region, data=InsData)\n",
    "model2 <- lm(log(charges) ~ age + sex + bmi + bmiSQ + children + smoker + region, data= InsData)\n",
    "model3 <- lm(log(charges) ~ log(age) + sex + log(bmi) + log(bmiSQ) + children + smoker + region, data= InsData)"
   ]
  },
  {
   "cell_type": "markdown",
   "metadata": {},
   "source": [
    "# Coeficientes y Tabla ANDEVA para Modelo LIN-LIN"
   ]
  },
  {
   "cell_type": "code",
   "execution_count": 7,
   "metadata": {},
   "outputs": [
    {
     "data": {
      "text/html": [
       "<table class=\"dataframe\">\n",
       "<caption>A anova: 8 × 5</caption>\n",
       "<thead>\n",
       "\t<tr><th></th><th scope=col>Df</th><th scope=col>Sum Sq</th><th scope=col>Mean Sq</th><th scope=col>F value</th><th scope=col>Pr(&gt;F)</th></tr>\n",
       "\t<tr><th></th><th scope=col>&lt;int&gt;</th><th scope=col>&lt;dbl&gt;</th><th scope=col>&lt;dbl&gt;</th><th scope=col>&lt;dbl&gt;</th><th scope=col>&lt;dbl&gt;</th></tr>\n",
       "</thead>\n",
       "<tbody>\n",
       "\t<tr><th scope=row>age</th><td>   1</td><td> 17530192183</td><td> 17530192183</td><td> 478.9314537</td><td>6.356881e-91</td></tr>\n",
       "\t<tr><th scope=row>sex</th><td>   1</td><td>   791665482</td><td>   791665482</td><td>  21.6285992</td><td>3.638270e-06</td></tr>\n",
       "\t<tr><th scope=row>bmi</th><td>   1</td><td>  5257642817</td><td>  5257642817</td><td> 143.6407822</td><td>1.672736e-31</td></tr>\n",
       "\t<tr><th scope=row>bmiSQ</th><td>   1</td><td>    26477501</td><td>    26477501</td><td>   0.7233753</td><td>3.951921e-01</td></tr>\n",
       "\t<tr><th scope=row>children</th><td>   1</td><td>   551366289</td><td>   551366289</td><td>  15.0635347</td><td>1.090464e-04</td></tr>\n",
       "\t<tr><th scope=row>smoker</th><td>   1</td><td>123028911672</td><td>123028911672</td><td>3361.1962093</td><td>0.000000e+00</td></tr>\n",
       "\t<tr><th scope=row>region</th><td>   1</td><td>   206352789</td><td>   206352789</td><td>   5.6376359</td><td>1.772014e-02</td></tr>\n",
       "\t<tr><th scope=row>Residuals</th><td>1330</td><td> 48681612835</td><td>    36602716</td><td>          NA</td><td>          NA</td></tr>\n",
       "</tbody>\n",
       "</table>\n"
      ],
      "text/latex": [
       "A anova: 8 × 5\n",
       "\\begin{tabular}{r|lllll}\n",
       "  & Df & Sum Sq & Mean Sq & F value & Pr(>F)\\\\\n",
       "  & <int> & <dbl> & <dbl> & <dbl> & <dbl>\\\\\n",
       "\\hline\n",
       "\tage &    1 &  17530192183 &  17530192183 &  478.9314537 & 6.356881e-91\\\\\n",
       "\tsex &    1 &    791665482 &    791665482 &   21.6285992 & 3.638270e-06\\\\\n",
       "\tbmi &    1 &   5257642817 &   5257642817 &  143.6407822 & 1.672736e-31\\\\\n",
       "\tbmiSQ &    1 &     26477501 &     26477501 &    0.7233753 & 3.951921e-01\\\\\n",
       "\tchildren &    1 &    551366289 &    551366289 &   15.0635347 & 1.090464e-04\\\\\n",
       "\tsmoker &    1 & 123028911672 & 123028911672 & 3361.1962093 & 0.000000e+00\\\\\n",
       "\tregion &    1 &    206352789 &    206352789 &    5.6376359 & 1.772014e-02\\\\\n",
       "\tResiduals & 1330 &  48681612835 &     36602716 &           NA &           NA\\\\\n",
       "\\end{tabular}\n"
      ],
      "text/markdown": [
       "\n",
       "A anova: 8 × 5\n",
       "\n",
       "| <!--/--> | Df &lt;int&gt; | Sum Sq &lt;dbl&gt; | Mean Sq &lt;dbl&gt; | F value &lt;dbl&gt; | Pr(&gt;F) &lt;dbl&gt; |\n",
       "|---|---|---|---|---|---|\n",
       "| age |    1 |  17530192183 |  17530192183 |  478.9314537 | 6.356881e-91 |\n",
       "| sex |    1 |    791665482 |    791665482 |   21.6285992 | 3.638270e-06 |\n",
       "| bmi |    1 |   5257642817 |   5257642817 |  143.6407822 | 1.672736e-31 |\n",
       "| bmiSQ |    1 |     26477501 |     26477501 |    0.7233753 | 3.951921e-01 |\n",
       "| children |    1 |    551366289 |    551366289 |   15.0635347 | 1.090464e-04 |\n",
       "| smoker |    1 | 123028911672 | 123028911672 | 3361.1962093 | 0.000000e+00 |\n",
       "| region |    1 |    206352789 |    206352789 |    5.6376359 | 1.772014e-02 |\n",
       "| Residuals | 1330 |  48681612835 |     36602716 |           NA |           NA |\n",
       "\n"
      ],
      "text/plain": [
       "          Df   Sum Sq       Mean Sq      F value      Pr(>F)      \n",
       "age          1  17530192183  17530192183  478.9314537 6.356881e-91\n",
       "sex          1    791665482    791665482   21.6285992 3.638270e-06\n",
       "bmi          1   5257642817   5257642817  143.6407822 1.672736e-31\n",
       "bmiSQ        1     26477501     26477501    0.7233753 3.951921e-01\n",
       "children     1    551366289    551366289   15.0635347 1.090464e-04\n",
       "smoker       1 123028911672 123028911672 3361.1962093 0.000000e+00\n",
       "region       1    206352789    206352789    5.6376359 1.772014e-02\n",
       "Residuals 1330  48681612835     36602716           NA           NA"
      ]
     },
     "metadata": {},
     "output_type": "display_data"
    }
   ],
   "source": [
    "anova(model1)"
   ]
  },
  {
   "cell_type": "code",
   "execution_count": 8,
   "metadata": {},
   "outputs": [
    {
     "data": {
      "text/plain": [
       "\n",
       "Call:\n",
       "lm(formula = charges ~ age + sex + bmi + bmiSQ + children + smoker + \n",
       "    region, data = InsData)\n",
       "\n",
       "Residuals:\n",
       "   Min     1Q Median     3Q    Max \n",
       "-10684  -2954  -1232   1633  29473 \n",
       "\n",
       "Coefficients:\n",
       "              Estimate Std. Error t value Pr(>|t|)    \n",
       "(Intercept) -20139.714   3275.107  -6.149 1.03e-09 ***\n",
       "age            255.701     11.887  21.511  < 2e-16 ***\n",
       "sex            132.447    332.280   0.399 0.690252    \n",
       "bmi            805.429    208.097   3.870 0.000114 ***\n",
       "bmiSQ           -7.490      3.267  -2.293 0.022023 *  \n",
       "children       479.736    137.425   3.491 0.000497 ***\n",
       "smoker       23843.054    411.304  57.969  < 2e-16 ***\n",
       "region         360.219    151.711   2.374 0.017720 *  \n",
       "---\n",
       "Signif. codes:  0 '***' 0.001 '**' 0.01 '*' 0.05 '.' 0.1 ' ' 1\n",
       "\n",
       "Residual standard error: 6050 on 1330 degrees of freedom\n",
       "Multiple R-squared:  0.7517,\tAdjusted R-squared:  0.7504 \n",
       "F-statistic: 575.3 on 7 and 1330 DF,  p-value: < 2.2e-16\n"
      ]
     },
     "metadata": {},
     "output_type": "display_data"
    }
   ],
   "source": [
    "summary(model1)"
   ]
  },
  {
   "cell_type": "markdown",
   "metadata": {},
   "source": [
    "# Coeficientes y Tabla ANDEVA para modelo LOG-LIN"
   ]
  },
  {
   "cell_type": "code",
   "execution_count": 9,
   "metadata": {},
   "outputs": [
    {
     "data": {
      "text/html": [
       "<table class=\"dataframe\">\n",
       "<caption>A anova: 8 × 5</caption>\n",
       "<thead>\n",
       "\t<tr><th></th><th scope=col>Df</th><th scope=col>Sum Sq</th><th scope=col>Mean Sq</th><th scope=col>F value</th><th scope=col>Pr(&gt;F)</th></tr>\n",
       "\t<tr><th></th><th scope=col>&lt;int&gt;</th><th scope=col>&lt;dbl&gt;</th><th scope=col>&lt;dbl&gt;</th><th scope=col>&lt;dbl&gt;</th><th scope=col>&lt;dbl&gt;</th></tr>\n",
       "</thead>\n",
       "<tbody>\n",
       "\t<tr><th scope=row>age</th><td>   1</td><td>314.9599184</td><td>314.9599184</td><td>1600.135749</td><td>2.249163e-230</td></tr>\n",
       "\t<tr><th scope=row>sex</th><td>   1</td><td>  0.3131640</td><td>  0.3131640</td><td>   1.591012</td><td> 2.074029e-01</td></tr>\n",
       "\t<tr><th scope=row>bmi</th><td>   1</td><td>  6.3112764</td><td>  6.3112764</td><td>  32.064076</td><td> 1.825550e-08</td></tr>\n",
       "\t<tr><th scope=row>bmiSQ</th><td>   1</td><td>  0.4648211</td><td>  0.4648211</td><td>   2.361497</td><td> 1.246006e-01</td></tr>\n",
       "\t<tr><th scope=row>children</th><td>   1</td><td> 21.6057901</td><td> 21.6057901</td><td> 109.766974</td><td> 9.817516e-25</td></tr>\n",
       "\t<tr><th scope=row>smoker</th><td>   1</td><td>521.3344383</td><td>521.3344383</td><td>2648.609625</td><td>9.292535e-319</td></tr>\n",
       "\t<tr><th scope=row>region</th><td>   1</td><td>  3.6961293</td><td>  3.6961293</td><td>  18.777972</td><td> 1.579025e-05</td></tr>\n",
       "\t<tr><th scope=row>Residuals</th><td>1330</td><td>261.7882214</td><td>  0.1968332</td><td>         NA</td><td>           NA</td></tr>\n",
       "</tbody>\n",
       "</table>\n"
      ],
      "text/latex": [
       "A anova: 8 × 5\n",
       "\\begin{tabular}{r|lllll}\n",
       "  & Df & Sum Sq & Mean Sq & F value & Pr(>F)\\\\\n",
       "  & <int> & <dbl> & <dbl> & <dbl> & <dbl>\\\\\n",
       "\\hline\n",
       "\tage &    1 & 314.9599184 & 314.9599184 & 1600.135749 & 2.249163e-230\\\\\n",
       "\tsex &    1 &   0.3131640 &   0.3131640 &    1.591012 &  2.074029e-01\\\\\n",
       "\tbmi &    1 &   6.3112764 &   6.3112764 &   32.064076 &  1.825550e-08\\\\\n",
       "\tbmiSQ &    1 &   0.4648211 &   0.4648211 &    2.361497 &  1.246006e-01\\\\\n",
       "\tchildren &    1 &  21.6057901 &  21.6057901 &  109.766974 &  9.817516e-25\\\\\n",
       "\tsmoker &    1 & 521.3344383 & 521.3344383 & 2648.609625 & 9.292535e-319\\\\\n",
       "\tregion &    1 &   3.6961293 &   3.6961293 &   18.777972 &  1.579025e-05\\\\\n",
       "\tResiduals & 1330 & 261.7882214 &   0.1968332 &          NA &            NA\\\\\n",
       "\\end{tabular}\n"
      ],
      "text/markdown": [
       "\n",
       "A anova: 8 × 5\n",
       "\n",
       "| <!--/--> | Df &lt;int&gt; | Sum Sq &lt;dbl&gt; | Mean Sq &lt;dbl&gt; | F value &lt;dbl&gt; | Pr(&gt;F) &lt;dbl&gt; |\n",
       "|---|---|---|---|---|---|\n",
       "| age |    1 | 314.9599184 | 314.9599184 | 1600.135749 | 2.249163e-230 |\n",
       "| sex |    1 |   0.3131640 |   0.3131640 |    1.591012 |  2.074029e-01 |\n",
       "| bmi |    1 |   6.3112764 |   6.3112764 |   32.064076 |  1.825550e-08 |\n",
       "| bmiSQ |    1 |   0.4648211 |   0.4648211 |    2.361497 |  1.246006e-01 |\n",
       "| children |    1 |  21.6057901 |  21.6057901 |  109.766974 |  9.817516e-25 |\n",
       "| smoker |    1 | 521.3344383 | 521.3344383 | 2648.609625 | 9.292535e-319 |\n",
       "| region |    1 |   3.6961293 |   3.6961293 |   18.777972 |  1.579025e-05 |\n",
       "| Residuals | 1330 | 261.7882214 |   0.1968332 |          NA |            NA |\n",
       "\n"
      ],
      "text/plain": [
       "          Df   Sum Sq      Mean Sq     F value     Pr(>F)       \n",
       "age          1 314.9599184 314.9599184 1600.135749 2.249163e-230\n",
       "sex          1   0.3131640   0.3131640    1.591012  2.074029e-01\n",
       "bmi          1   6.3112764   6.3112764   32.064076  1.825550e-08\n",
       "bmiSQ        1   0.4648211   0.4648211    2.361497  1.246006e-01\n",
       "children     1  21.6057901  21.6057901  109.766974  9.817516e-25\n",
       "smoker       1 521.3344383 521.3344383 2648.609625 9.292535e-319\n",
       "region       1   3.6961293   3.6961293   18.777972  1.579025e-05\n",
       "Residuals 1330 261.7882214   0.1968332          NA            NA"
      ]
     },
     "metadata": {},
     "output_type": "display_data"
    }
   ],
   "source": [
    "anova(model2)"
   ]
  },
  {
   "cell_type": "code",
   "execution_count": 10,
   "metadata": {},
   "outputs": [
    {
     "data": {
      "text/plain": [
       "\n",
       "Call:\n",
       "lm(formula = log(charges) ~ age + sex + bmi + bmiSQ + children + \n",
       "    smoker + region, data = InsData)\n",
       "\n",
       "Residuals:\n",
       "     Min       1Q   Median       3Q      Max \n",
       "-0.96996 -0.19484 -0.05364  0.06240  2.13000 \n",
       "\n",
       "Coefficients:\n",
       "              Estimate Std. Error t value Pr(>|t|)    \n",
       "(Intercept)  6.1720408  0.2401696  25.699  < 2e-16 ***\n",
       "age          0.0345101  0.0008717  39.590  < 2e-16 ***\n",
       "sex          0.0754639  0.0243667   3.097 0.001996 ** \n",
       "bmi          0.0556297  0.0152601   3.645 0.000277 ***\n",
       "bmiSQ       -0.0006866  0.0002396  -2.866 0.004222 ** \n",
       "children     0.1024286  0.0100776  10.164  < 2e-16 ***\n",
       "smoker       1.5519119  0.0301617  51.453  < 2e-16 ***\n",
       "region       0.0482098  0.0111253   4.333 1.58e-05 ***\n",
       "---\n",
       "Signif. codes:  0 '***' 0.001 '**' 0.01 '*' 0.05 '.' 0.1 ' ' 1\n",
       "\n",
       "Residual standard error: 0.4437 on 1330 degrees of freedom\n",
       "Multiple R-squared:  0.7684,\tAdjusted R-squared:  0.7672 \n",
       "F-statistic: 630.5 on 7 and 1330 DF,  p-value: < 2.2e-16\n"
      ]
     },
     "metadata": {},
     "output_type": "display_data"
    }
   ],
   "source": [
    "summary(model2)"
   ]
  },
  {
   "cell_type": "markdown",
   "metadata": {},
   "source": [
    "# Coeficientes y Tabla ANDEVA para modelo LOG-LOG"
   ]
  },
  {
   "cell_type": "code",
   "execution_count": 11,
   "metadata": {},
   "outputs": [
    {
     "data": {
      "text/html": [
       "<table class=\"dataframe\">\n",
       "<caption>A anova: 7 × 5</caption>\n",
       "<thead>\n",
       "\t<tr><th></th><th scope=col>Df</th><th scope=col>Sum Sq</th><th scope=col>Mean Sq</th><th scope=col>F value</th><th scope=col>Pr(&gt;F)</th></tr>\n",
       "\t<tr><th></th><th scope=col>&lt;int&gt;</th><th scope=col>&lt;dbl&gt;</th><th scope=col>&lt;dbl&gt;</th><th scope=col>&lt;dbl&gt;</th><th scope=col>&lt;dbl&gt;</th></tr>\n",
       "</thead>\n",
       "<tbody>\n",
       "\t<tr><th scope=row>log(age)</th><td>   1</td><td>323.6442911</td><td>323.6442911</td><td>1643.107502</td><td>1.230236e-234</td></tr>\n",
       "\t<tr><th scope=row>sex</th><td>   1</td><td>  0.3157827</td><td>  0.3157827</td><td>   1.603195</td><td> 2.056726e-01</td></tr>\n",
       "\t<tr><th scope=row>log(bmi)</th><td>   1</td><td>  7.0785123</td><td>  7.0785123</td><td>  35.936851</td><td> 2.620889e-09</td></tr>\n",
       "\t<tr><th scope=row>children</th><td>   1</td><td> 14.3958904</td><td> 14.3958904</td><td>  73.086398</td><td> 3.355099e-17</td></tr>\n",
       "\t<tr><th scope=row>smoker</th><td>   1</td><td>519.0625978</td><td>519.0625978</td><td>2635.225376</td><td>7.058765e-318</td></tr>\n",
       "\t<tr><th scope=row>region</th><td>   1</td><td>  3.8084755</td><td>  3.8084755</td><td>  19.335224</td><td> 1.183981e-05</td></tr>\n",
       "\t<tr><th scope=row>Residuals</th><td>1331</td><td>262.1682092</td><td>  0.1969709</td><td>         NA</td><td>           NA</td></tr>\n",
       "</tbody>\n",
       "</table>\n"
      ],
      "text/latex": [
       "A anova: 7 × 5\n",
       "\\begin{tabular}{r|lllll}\n",
       "  & Df & Sum Sq & Mean Sq & F value & Pr(>F)\\\\\n",
       "  & <int> & <dbl> & <dbl> & <dbl> & <dbl>\\\\\n",
       "\\hline\n",
       "\tlog(age) &    1 & 323.6442911 & 323.6442911 & 1643.107502 & 1.230236e-234\\\\\n",
       "\tsex &    1 &   0.3157827 &   0.3157827 &    1.603195 &  2.056726e-01\\\\\n",
       "\tlog(bmi) &    1 &   7.0785123 &   7.0785123 &   35.936851 &  2.620889e-09\\\\\n",
       "\tchildren &    1 &  14.3958904 &  14.3958904 &   73.086398 &  3.355099e-17\\\\\n",
       "\tsmoker &    1 & 519.0625978 & 519.0625978 & 2635.225376 & 7.058765e-318\\\\\n",
       "\tregion &    1 &   3.8084755 &   3.8084755 &   19.335224 &  1.183981e-05\\\\\n",
       "\tResiduals & 1331 & 262.1682092 &   0.1969709 &          NA &            NA\\\\\n",
       "\\end{tabular}\n"
      ],
      "text/markdown": [
       "\n",
       "A anova: 7 × 5\n",
       "\n",
       "| <!--/--> | Df &lt;int&gt; | Sum Sq &lt;dbl&gt; | Mean Sq &lt;dbl&gt; | F value &lt;dbl&gt; | Pr(&gt;F) &lt;dbl&gt; |\n",
       "|---|---|---|---|---|---|\n",
       "| log(age) |    1 | 323.6442911 | 323.6442911 | 1643.107502 | 1.230236e-234 |\n",
       "| sex |    1 |   0.3157827 |   0.3157827 |    1.603195 |  2.056726e-01 |\n",
       "| log(bmi) |    1 |   7.0785123 |   7.0785123 |   35.936851 |  2.620889e-09 |\n",
       "| children |    1 |  14.3958904 |  14.3958904 |   73.086398 |  3.355099e-17 |\n",
       "| smoker |    1 | 519.0625978 | 519.0625978 | 2635.225376 | 7.058765e-318 |\n",
       "| region |    1 |   3.8084755 |   3.8084755 |   19.335224 |  1.183981e-05 |\n",
       "| Residuals | 1331 | 262.1682092 |   0.1969709 |          NA |            NA |\n",
       "\n"
      ],
      "text/plain": [
       "          Df   Sum Sq      Mean Sq     F value     Pr(>F)       \n",
       "log(age)     1 323.6442911 323.6442911 1643.107502 1.230236e-234\n",
       "sex          1   0.3157827   0.3157827    1.603195  2.056726e-01\n",
       "log(bmi)     1   7.0785123   7.0785123   35.936851  2.620889e-09\n",
       "children     1  14.3958904  14.3958904   73.086398  3.355099e-17\n",
       "smoker       1 519.0625978 519.0625978 2635.225376 7.058765e-318\n",
       "region       1   3.8084755   3.8084755   19.335224  1.183981e-05\n",
       "Residuals 1331 262.1682092   0.1969709          NA            NA"
      ]
     },
     "metadata": {},
     "output_type": "display_data"
    }
   ],
   "source": [
    "anova(model3)"
   ]
  },
  {
   "cell_type": "code",
   "execution_count": 12,
   "metadata": {},
   "outputs": [
    {
     "data": {
      "text/plain": [
       "\n",
       "Call:\n",
       "lm(formula = log(charges) ~ log(age) + sex + log(bmi) + log(bmiSQ) + \n",
       "    children + smoker + region, data = InsData)\n",
       "\n",
       "Residuals:\n",
       "     Min       1Q   Median       3Q      Max \n",
       "-0.92029 -0.22132 -0.07212  0.07570  2.24114 \n",
       "\n",
       "Coefficients: (1 not defined because of singularities)\n",
       "            Estimate Std. Error t value Pr(>|t|)    \n",
       "(Intercept)  2.70924    0.22941  11.810  < 2e-16 ***\n",
       "log(age)     1.24797    0.03141  39.731  < 2e-16 ***\n",
       "sex          0.07517    0.02438   3.084  0.00209 ** \n",
       "log(bmi)     0.40631    0.06116   6.643 4.45e-11 ***\n",
       "log(bmiSQ)        NA         NA      NA       NA    \n",
       "children     0.08283    0.01011   8.190 6.05e-16 ***\n",
       "smoker       1.54801    0.03016  51.323  < 2e-16 ***\n",
       "region       0.04894    0.01113   4.397 1.18e-05 ***\n",
       "---\n",
       "Signif. codes:  0 '***' 0.001 '**' 0.01 '*' 0.05 '.' 0.1 ' ' 1\n",
       "\n",
       "Residual standard error: 0.4438 on 1331 degrees of freedom\n",
       "Multiple R-squared:  0.7681,\tAdjusted R-squared:  0.767 \n",
       "F-statistic: 734.7 on 6 and 1331 DF,  p-value: < 2.2e-16\n"
      ]
     },
     "metadata": {},
     "output_type": "display_data"
    }
   ],
   "source": [
    "summary(model3)"
   ]
  },
  {
   "cell_type": "markdown",
   "metadata": {},
   "source": [
    "# Estudiamos mejores ajustes posibles para variables Lineales"
   ]
  },
  {
   "cell_type": "markdown",
   "metadata": {},
   "source": [
    "### Método Ascendente"
   ]
  },
  {
   "cell_type": "code",
   "execution_count": 22,
   "metadata": {},
   "outputs": [
    {
     "name": "stdout",
     "output_type": "stream",
     "text": [
      "Start:  AIC=25160.18\n",
      "charges ~ 1\n",
      "\n",
      "           Df  Sum of Sq        RSS   AIC\n",
      "+ smoker    1 1.2152e+11 7.4554e+10 23868\n",
      "+ age       1 1.7530e+10 1.7854e+11 25037\n",
      "+ bmi       1 7.7134e+09 1.8836e+11 25109\n",
      "+ bmiSQ     1 7.3021e+09 1.8877e+11 25111\n",
      "+ children  1 9.0660e+08 1.9517e+11 25156\n",
      "+ sex       1 6.4359e+08 1.9543e+11 25158\n",
      "<none>                   1.9607e+11 25160\n",
      "+ region    1 7.5571e+06 1.9607e+11 25162\n",
      "\n",
      "Step:  AIC=23868.38\n",
      "charges ~ smoker\n",
      "\n",
      "           Df  Sum of Sq        RSS   AIC\n",
      "+ age       1 1.9928e+10 5.4626e+10 23454\n",
      "+ bmi       1 7.4856e+09 6.7069e+10 23729\n",
      "+ bmiSQ     1 6.8886e+09 6.7666e+10 23741\n",
      "+ children  1 7.5272e+08 7.3802e+10 23857\n",
      "<none>                   7.4554e+10 23868\n",
      "+ region    1 3.9555e+06 7.4550e+10 23870\n",
      "+ sex       1 1.4213e+06 7.4553e+10 23870\n",
      "\n",
      "Step:  AIC=23454.24\n",
      "charges ~ smoker + age\n",
      "\n",
      "           Df  Sum of Sq        RSS   AIC\n",
      "+ bmi       1 5112896646 4.9513e+10 23325\n",
      "+ bmiSQ     1 4775210993 4.9851e+10 23334\n",
      "+ children  1  459283727 5.4167e+10 23445\n",
      "<none>                   5.4626e+10 23454\n",
      "+ region    1    5205475 5.4621e+10 23456\n",
      "+ sex       1    2225509 5.4624e+10 23456\n",
      "\n",
      "Step:  AIC=23324.76\n",
      "charges ~ smoker + age + bmi\n",
      "\n",
      "           Df Sum of Sq        RSS   AIC\n",
      "+ children  1 434769398 4.9078e+10 23315\n",
      "+ region    1 189732314 4.9323e+10 23322\n",
      "+ bmiSQ     1 184412055 4.9329e+10 23322\n",
      "<none>                  4.9513e+10 23325\n",
      "+ sex       1   3942912 4.9509e+10 23327\n",
      "\n",
      "Step:  AIC=23314.96\n",
      "charges ~ smoker + age + bmi + children\n",
      "\n",
      "         Df Sum of Sq        RSS   AIC\n",
      "+ region  1 198742424 4.8880e+10 23312\n",
      "+ bmiSQ   1 184889991 4.8894e+10 23312\n",
      "<none>                4.9078e+10 23315\n",
      "+ sex     1   5486063 4.9073e+10 23317\n",
      "\n",
      "Step:  AIC=23311.53\n",
      "charges ~ smoker + age + bmi + children + region\n",
      "\n",
      "        Df Sum of Sq        RSS   AIC\n",
      "+ bmiSQ  1 192279330 4.8687e+10 23308\n",
      "<none>               4.8880e+10 23312\n",
      "+ sex    1   5698766 4.8874e+10 23313\n",
      "\n",
      "Step:  AIC=23308.25\n",
      "charges ~ smoker + age + bmi + children + region + bmiSQ\n",
      "\n",
      "       Df Sum of Sq        RSS   AIC\n",
      "<none>              4.8687e+10 23308\n",
      "+ sex   1   5815528 4.8682e+10 23310\n"
     ]
    },
    {
     "data": {
      "text/plain": [
       "\n",
       "Call:\n",
       "lm(formula = charges ~ smoker + age + bmi + children + region + \n",
       "    bmiSQ, data = InsData)\n",
       "\n",
       "Coefficients:\n",
       "(Intercept)       smoker          age          bmi     children       region  \n",
       " -20056.438    23830.701      255.819      804.751      478.798      360.024  \n",
       "      bmiSQ  \n",
       "     -7.487  \n"
      ]
     },
     "metadata": {},
     "output_type": "display_data"
    }
   ],
   "source": [
    "fit1 <-lm(charges ~ age + sex + bmi + bmiSQ + children + smoker + region, data=InsData)\n",
    "fit2 <-lm(charges ~ 1, data=InsData)\n",
    "step(fit2, direction=\"forward\", scope=list(upper=fit1, lower=fit2))"
   ]
  },
  {
   "cell_type": "markdown",
   "metadata": {},
   "source": [
    "### Método Descendente"
   ]
  },
  {
   "cell_type": "code",
   "execution_count": 23,
   "metadata": {},
   "outputs": [
    {
     "name": "stdout",
     "output_type": "stream",
     "text": [
      "Start:  AIC=23310.09\n",
      "charges ~ age + sex + bmi + bmiSQ + children + smoker + region\n",
      "\n",
      "           Df  Sum of Sq        RSS   AIC\n",
      "- sex       1 5.8155e+06 4.8687e+10 23308\n",
      "<none>                   4.8682e+10 23310\n",
      "- bmiSQ     1 1.9240e+08 4.8874e+10 23313\n",
      "- region    1 2.0635e+08 4.8888e+10 23314\n",
      "- children  1 4.4606e+08 4.9128e+10 23320\n",
      "- bmi       1 5.4832e+08 4.9230e+10 23323\n",
      "- age       1 1.6937e+10 6.5619e+10 23708\n",
      "- smoker    1 1.2300e+11 1.7168e+11 24994\n",
      "\n",
      "Step:  AIC=23308.25\n",
      "charges ~ age + bmi + bmiSQ + children + smoker + region\n",
      "\n",
      "           Df  Sum of Sq        RSS   AIC\n",
      "<none>                   4.8687e+10 23308\n",
      "- bmiSQ     1 1.9228e+08 4.8880e+10 23312\n",
      "- region    1 2.0613e+08 4.8894e+10 23312\n",
      "- children  1 4.4444e+08 4.9132e+10 23318\n",
      "- bmi       1 5.4744e+08 4.9235e+10 23321\n",
      "- age       1 1.6963e+10 6.5651e+10 23706\n",
      "- smoker    1 1.2358e+11 1.7226e+11 24997\n"
     ]
    },
    {
     "data": {
      "text/plain": [
       "\n",
       "Call:\n",
       "lm(formula = charges ~ age + bmi + bmiSQ + children + smoker + \n",
       "    region, data = InsData)\n",
       "\n",
       "Coefficients:\n",
       "(Intercept)          age          bmi        bmiSQ     children       smoker  \n",
       " -20056.438      255.819      804.751       -7.487      478.798    23830.701  \n",
       "     region  \n",
       "    360.024  \n"
      ]
     },
     "metadata": {},
     "output_type": "display_data"
    }
   ],
   "source": [
    "step(fit1, direction=\"backward\")"
   ]
  },
  {
   "cell_type": "code",
   "execution_count": 29,
   "metadata": {},
   "outputs": [
    {
     "data": {
      "text/html": [
       "<table class=\"dataframe\">\n",
       "<caption>A ols_step_all_possible: 127 × 14</caption>\n",
       "<thead>\n",
       "\t<tr><th></th><th scope=col>mindex</th><th scope=col>n</th><th scope=col>predictors</th><th scope=col>rsquare</th><th scope=col>adjr</th><th scope=col>predrsq</th><th scope=col>cp</th><th scope=col>aic</th><th scope=col>sbic</th><th scope=col>sbc</th><th scope=col>msep</th><th scope=col>fpe</th><th scope=col>apc</th><th scope=col>hsp</th></tr>\n",
       "\t<tr><th></th><th scope=col>&lt;int&gt;</th><th scope=col>&lt;int&gt;</th><th scope=col>&lt;chr&gt;</th><th scope=col>&lt;dbl&gt;</th><th scope=col>&lt;dbl&gt;</th><th scope=col>&lt;dbl&gt;</th><th scope=col>&lt;dbl&gt;</th><th scope=col>&lt;dbl&gt;</th><th scope=col>&lt;dbl&gt;</th><th scope=col>&lt;dbl&gt;</th><th scope=col>&lt;dbl&gt;</th><th scope=col>&lt;dbl&gt;</th><th scope=col>&lt;dbl&gt;</th><th scope=col>&lt;dbl&gt;</th></tr>\n",
       "</thead>\n",
       "<tbody>\n",
       "\t<tr><th scope=row>6</th><td> 1</td><td>1</td><td>smoker          </td><td>6.197648e-01</td><td> 0.619480208</td><td> 0.6180369630</td><td> 702.85205</td><td>27667.46</td><td>23868.78</td><td>27683.06</td><td> 74665926332</td><td> 55887544</td><td>0.3813736</td><td> 41800.85</td></tr>\n",
       "\t<tr><th scope=row>1</th><td> 2</td><td>1</td><td>age             </td><td>8.940590e-02</td><td> 0.088724317</td><td> 0.0866794766</td><td>3543.89014</td><td>28835.95</td><td>25034.91</td><td>28851.55</td><td>178811311166</td><td>133840503</td><td>0.9133204</td><td>100105.42</td></tr>\n",
       "\t<tr><th scope=row>3</th><td> 3</td><td>1</td><td>bmi             </td><td>3.933914e-02</td><td> 0.038620082</td><td> 0.0362113860</td><td>3812.08884</td><td>28907.56</td><td>25106.43</td><td>28923.16</td><td>188642807938</td><td>141199391</td><td>0.9635371</td><td>105609.47</td></tr>\n",
       "\t<tr><th scope=row>4</th><td> 4</td><td>1</td><td>bmiSQ           </td><td>3.724152e-02</td><td> 0.036520890</td><td> 0.0338627746</td><td>3823.32542</td><td>28910.48</td><td>25109.34</td><td>28926.08</td><td>189054713255</td><td>141507702</td><td>0.9656410</td><td>105840.07</td></tr>\n",
       "\t<tr><th scope=row>5</th><td> 5</td><td>1</td><td>children        </td><td>4.623759e-03</td><td> 0.003878717</td><td> 0.0017935950</td><td>3998.05294</td><td>28955.06</td><td>25153.86</td><td>28970.66</td><td>195459789076</td><td>146301910</td><td>0.9983564</td><td>109425.88</td></tr>\n",
       "\t<tr><th scope=row>2</th><td> 6</td><td>1</td><td>sex             </td><td>3.282380e-03</td><td> 0.002536334</td><td> 0.0003007149</td><td>4005.23846</td><td>28956.86</td><td>25155.66</td><td>28972.46</td><td>195723192541</td><td>146499068</td><td>0.9997018</td><td>109573.34</td></tr>\n",
       "\t<tr><th scope=row>7</th><td> 7</td><td>1</td><td>region          </td><td>3.854218e-05</td><td>-0.000709932</td><td>-0.0028213039</td><td>4022.61513</td><td>28961.21</td><td>25160.01</td><td>28976.81</td><td>196360177740</td><td>146975852</td><td>1.0029554</td><td>109929.95</td></tr>\n",
       "\t<tr><th scope=row>12</th><td> 8</td><td>2</td><td>age smoker      </td><td>7.214008e-01</td><td> 0.720983449</td><td> 0.7195887960</td><td> 160.40607</td><td>27253.32</td><td>23455.60</td><td>27274.12</td><td> 54748902289</td><td> 41010184</td><td>0.2798513</td><td> 30673.49</td></tr>\n",
       "\t<tr><th scope=row>21</th><td> 9</td><td>2</td><td>bmi smoker      </td><td>6.579420e-01</td><td> 0.657429548</td><td> 0.6560015549</td><td> 500.34371</td><td>27527.89</td><td>23729.05</td><td>27548.69</td><td> 67219511285</td><td> 50351412</td><td>0.3435953</td><td> 37660.25</td></tr>\n",
       "\t<tr><th scope=row>24</th><td>10</td><td>2</td><td>bmiSQ smoker    </td><td>6.548975e-01</td><td> 0.654380542</td><td> 0.6528668456</td><td> 516.65226</td><td>27539.75</td><td>23740.86</td><td>27560.54</td><td> 67817790270</td><td> 50799559</td><td>0.3466535</td><td> 37995.44</td></tr>\n",
       "\t<tr><th scope=row>26</th><td>11</td><td>2</td><td>children smoker </td><td>6.236038e-01</td><td> 0.623039890</td><td> 0.6213502551</td><td> 684.28740</td><td>27655.89</td><td>23856.56</td><td>27676.68</td><td> 73967483927</td><td> 55406045</td><td>0.3780879</td><td> 41440.85</td></tr>\n",
       "\t<tr><th scope=row>28</th><td>12</td><td>2</td><td>smoker region   </td><td>6.197850e-01</td><td> 0.619215378</td><td> 0.6175043532</td><td> 704.74398</td><td>27669.39</td><td>23870.02</td><td>27690.19</td><td> 74717933382</td><td> 55968177</td><td>0.3819238</td><td> 41861.30</td></tr>\n",
       "\t<tr><th scope=row>17</th><td>13</td><td>2</td><td>sex smoker      </td><td>6.197721e-01</td><td> 0.619202434</td><td> 0.6174696723</td><td> 704.81322</td><td>27669.44</td><td>23870.06</td><td>27690.23</td><td> 74720473284</td><td> 55970079</td><td>0.3819368</td><td> 41862.72</td></tr>\n",
       "\t<tr><th scope=row>9</th><td>14</td><td>2</td><td>age bmi         </td><td>1.171834e-01</td><td> 0.115860814</td><td> 0.1129280400</td><td>3397.09110</td><td>28796.50</td><td>24994.09</td><td>28817.29</td><td>173486661324</td><td>129951829</td><td>0.8867843</td><td> 97197.23</td></tr>\n",
       "\t<tr><th scope=row>10</th><td>15</td><td>2</td><td>age bmiSQ       </td><td>1.162028e-01</td><td> 0.114878801</td><td> 0.1117058379</td><td>3402.34370</td><td>28797.98</td><td>24995.57</td><td>28818.78</td><td>173679352976</td><td>130096166</td><td>0.8877693</td><td> 97305.19</td></tr>\n",
       "\t<tr><th scope=row>8</th><td>16</td><td>2</td><td>age sex         </td><td>9.344348e-02</td><td> 0.092085343</td><td> 0.0893678280</td><td>3524.26154</td><td>28832.00</td><td>25029.53</td><td>28852.80</td><td>178151907676</td><td>133446376</td><td>0.9106309</td><td> 99810.97</td></tr>\n",
       "\t<tr><th scope=row>11</th><td>17</td><td>2</td><td>age children    </td><td>9.246948e-02</td><td> 0.091109880</td><td> 0.0885594308</td><td>3529.47910</td><td>28833.44</td><td>25030.96</td><td>28854.24</td><td>178343314027</td><td>133589751</td><td>0.9116093</td><td> 99918.21</td></tr>\n",
       "\t<tr><th scope=row>13</th><td>18</td><td>2</td><td>age region      </td><td>8.945274e-02</td><td> 0.088088629</td><td> 0.0854678438</td><td>3545.63920</td><td>28837.88</td><td>25035.39</td><td>28858.68</td><td>178936146902</td><td>134033818</td><td>0.9146396</td><td>100250.35</td></tr>\n",
       "\t<tr><th scope=row>20</th><td>19</td><td>2</td><td>bmi children    </td><td>4.362585e-02</td><td> 0.042193076</td><td> 0.0392134420</td><td>3791.12572</td><td>28903.58</td><td>25100.98</td><td>28924.38</td><td>187941817466</td><td>140779601</td><td>0.9606725</td><td>105295.85</td></tr>\n",
       "\t<tr><th scope=row>14</th><td>20</td><td>2</td><td>sex bmi         </td><td>4.165723e-02</td><td> 0.040221511</td><td> 0.0370956676</td><td>3801.67124</td><td>28906.33</td><td>25103.72</td><td>28927.13</td><td>188328679844</td><td>141069384</td><td>0.9626499</td><td>105512.59</td></tr>\n",
       "\t<tr><th scope=row>23</th><td>21</td><td>2</td><td>bmiSQ children  </td><td>4.154447e-02</td><td> 0.040108581</td><td> 0.0368755912</td><td>3802.27528</td><td>28906.49</td><td>25103.88</td><td>28927.28</td><td>188350839103</td><td>141085982</td><td>0.9627632</td><td>105525.00</td></tr>\n",
       "\t<tr><th scope=row>22</th><td>22</td><td>2</td><td>bmi region      </td><td>4.077812e-02</td><td> 0.039341080</td><td> 0.0363639471</td><td>3806.38049</td><td>28907.56</td><td>25104.95</td><td>28928.35</td><td>188501438863</td><td>141198790</td><td>0.9635330</td><td>105609.38</td></tr>\n",
       "\t<tr><th scope=row>19</th><td>23</td><td>2</td><td>bmi bmiSQ       </td><td>4.011896e-02</td><td> 0.038680941</td><td> 0.0348706981</td><td>3809.91145</td><td>28908.48</td><td>25105.86</td><td>28929.27</td><td>188630972120</td><td>141295818</td><td>0.9641951</td><td>105681.95</td></tr>\n",
       "\t<tr><th scope=row>15</th><td>24</td><td>2</td><td>sex bmiSQ       </td><td>3.958698e-02</td><td> 0.038148160</td><td> 0.0347672260</td><td>3812.76120</td><td>28909.22</td><td>25106.60</td><td>28930.01</td><td>188735514835</td><td>141374127</td><td>0.9647295</td><td>105740.52</td></tr>\n",
       "\t<tr><th scope=row>25</th><td>25</td><td>2</td><td>bmiSQ region    </td><td>3.856189e-02</td><td> 0.037121538</td><td> 0.0338884237</td><td>3818.25240</td><td>28910.65</td><td>25108.03</td><td>28931.44</td><td>188936959633</td><td>141525021</td><td>0.9657592</td><td>105853.38</td></tr>\n",
       "\t<tr><th scope=row>16</th><td>26</td><td>2</td><td>sex children    </td><td>7.774704e-03</td><td> 0.006288224</td><td> 0.0034681899</td><td>3983.17389</td><td>28952.82</td><td>25150.13</td><td>28973.62</td><td>194987102876</td><td>146056938</td><td>0.9966847</td><td>109243.02</td></tr>\n",
       "\t<tr><th scope=row>27</th><td>27</td><td>2</td><td>children region </td><td>4.677575e-03</td><td> 0.003186455</td><td> 0.0004826046</td><td>3999.76466</td><td>28956.99</td><td>25154.29</td><td>28977.79</td><td>195595735020</td><td>146512840</td><td>0.9997958</td><td>109584.01</td></tr>\n",
       "\t<tr><th scope=row>18</th><td>28</td><td>2</td><td>sex region      </td><td>3.324257e-03</td><td> 0.001831109</td><td>-0.0010176394</td><td>4007.01414</td><td>28958.81</td><td>25156.11</td><td>28979.60</td><td>195861682280</td><td>146712050</td><td>1.0011552</td><td>109733.01</td></tr>\n",
       "\t<tr><th scope=row>36</th><td>29</td><td>3</td><td>age bmi smoker  </td><td>7.474772e-01</td><td> 0.746909266</td><td> 0.7455438272</td><td>  22.71981</td><td>27123.84</td><td>23326.67</td><td>27149.83</td><td> 49661740795</td><td> 37227317</td><td>0.2540372</td><td> 27844.23</td></tr>\n",
       "\t<tr><th scope=row>39</th><td>30</td><td>3</td><td>age bmiSQ smoker</td><td>7.457549e-01</td><td> 0.745183159</td><td> 0.7437628855</td><td>  31.94551</td><td>27132.93</td><td>23335.71</td><td>27158.92</td><td> 50000439379</td><td> 37481212</td><td>0.2557698</td><td> 28034.13</td></tr>\n",
       "\t<tr><th scope=row>...</th><td>...</td><td>...</td><td>...</td><td>...</td><td>...</td><td>...</td><td>...</td><td>...</td><td>...</td><td>...</td><td>...</td><td>...</td><td>...</td><td>...</td></tr>\n",
       "\t<tr><th scope=row>86</th><td> 98</td><td>4</td><td>sex bmi bmiSQ region                    </td><td>0.04390938</td><td>0.04104039</td><td>0.03591822</td><td>3793.606878</td><td>28907.18</td><td>25101.62</td><td>28938.38</td><td>188168210197</td><td>141159239</td><td>0.9632631</td><td>105580.86</td></tr>\n",
       "\t<tr><th scope=row>112</th><td> 99</td><td>5</td><td>age bmi children smoker region          </td><td>0.75070814</td><td>0.74977236</td><td>0.74808752</td><td>   9.412026</td><td>27110.61</td><td>23313.55</td><td>27147.00</td><td> 49099997086</td><td> 36861035</td><td>0.2515377</td><td> 27570.61</td></tr>\n",
       "\t<tr><th scope=row>109</th><td>100</td><td>5</td><td>age bmi bmiSQ children smoker           </td><td>0.75063749</td><td>0.74970144</td><td>0.74785456</td><td>   9.790480</td><td>27110.99</td><td>23313.93</td><td>27147.38</td><td> 49113911948</td><td> 36871482</td><td>0.2516090</td><td> 27578.42</td></tr>\n",
       "\t<tr><th scope=row>102</th><td>101</td><td>5</td><td>age sex bmi children smoker             </td><td>0.74972251</td><td>0.74878303</td><td>0.74707323</td><td>  14.691863</td><td>27115.89</td><td>23318.78</td><td>27152.28</td><td> 49294124407</td><td> 37006773</td><td>0.2525322</td><td> 27679.61</td></tr>\n",
       "\t<tr><th scope=row>111</th><td>102</td><td>5</td><td>age bmi bmiSQ smoker region             </td><td>0.74942208</td><td>0.74848147</td><td>0.74662144</td><td>  16.301212</td><td>27117.49</td><td>23320.37</td><td>27153.88</td><td> 49353296424</td><td> 37051196</td><td>0.2528354</td><td> 27712.84</td></tr>\n",
       "\t<tr><th scope=row>113</th><td>103</td><td>5</td><td>age bmiSQ children smoker region        </td><td>0.74889680</td><td>0.74795422</td><td>0.74620770</td><td>  19.115062</td><td>27120.29</td><td>23323.15</td><td>27156.69</td><td> 49456755165</td><td> 37128866</td><td>0.2533654</td><td> 27770.93</td></tr>\n",
       "\t<tr><th scope=row>104</th><td>104</td><td>5</td><td>age sex bmi smoker region               </td><td>0.74846575</td><td>0.74752155</td><td>0.74579210</td><td>  21.424111</td><td>27122.59</td><td>23325.42</td><td>27158.98</td><td> 49541653529</td><td> 37192602</td><td>0.2538003</td><td> 27818.61</td></tr>\n",
       "\t<tr><th scope=row>100</th><td>105</td><td>5</td><td>age sex bmi bmiSQ smoker                </td><td>0.74843825</td><td>0.74749395</td><td>0.74561024</td><td>  21.571390</td><td>27122.73</td><td>23325.57</td><td>27159.13</td><td> 49547068659</td><td> 37196667</td><td>0.2538281</td><td> 27821.65</td></tr>\n",
       "\t<tr><th scope=row>105</th><td>106</td><td>5</td><td>age sex bmiSQ children smoker           </td><td>0.74800012</td><td>0.74705417</td><td>0.74528507</td><td>  23.918405</td><td>27125.06</td><td>23327.88</td><td>27161.45</td><td> 49633362923</td><td> 37261451</td><td>0.2542702</td><td> 27870.10</td></tr>\n",
       "\t<tr><th scope=row>107</th><td>107</td><td>5</td><td>age sex bmiSQ smoker region             </td><td>0.74664965</td><td>0.74569864</td><td>0.74390981</td><td>  31.152625</td><td>27132.21</td><td>23334.96</td><td>27168.61</td><td> 49899348398</td><td> 37461136</td><td>0.2556328</td><td> 28019.46</td></tr>\n",
       "\t<tr><th scope=row>108</th><td>108</td><td>5</td><td>age sex children smoker region          </td><td>0.72378517</td><td>0.72274832</td><td>0.72078219</td><td> 153.633586</td><td>27247.82</td><td>23449.58</td><td>27284.22</td><td> 54402688718</td><td> 40841946</td><td>0.2787033</td><td> 30548.17</td></tr>\n",
       "\t<tr><th scope=row>119</th><td>109</td><td>5</td><td>bmi bmiSQ children smoker region        </td><td>0.66517392</td><td>0.66391706</td><td>0.66170835</td><td> 467.603595</td><td>27505.30</td><td>23705.04</td><td>27541.69</td><td> 65946636357</td><td> 49508380</td><td>0.3378425</td><td> 37030.32</td></tr>\n",
       "\t<tr><th scope=row>114</th><td>110</td><td>5</td><td>sex bmi bmiSQ children smoker           </td><td>0.66393105</td><td>0.66266953</td><td>0.66042560</td><td> 474.261388</td><td>27510.26</td><td>23709.96</td><td>27546.65</td><td> 66191427950</td><td> 49692153</td><td>0.3390966</td><td> 37167.78</td></tr>\n",
       "\t<tr><th scope=row>117</th><td>111</td><td>5</td><td>sex bmi children smoker region          </td><td>0.66298338</td><td>0.66171830</td><td>0.65959438</td><td> 479.337900</td><td>27514.02</td><td>23713.70</td><td>27550.42</td><td> 66378079484</td><td> 49832279</td><td>0.3400528</td><td> 37272.59</td></tr>\n",
       "\t<tr><th scope=row>116</th><td>112</td><td>5</td><td>sex bmi bmiSQ smoker region             </td><td>0.66172043</td><td>0.66045061</td><td>0.65820560</td><td> 486.103317</td><td>27519.03</td><td>23718.67</td><td>27555.42</td><td> 66626828154</td><td> 50019023</td><td>0.3413271</td><td> 37412.26</td></tr>\n",
       "\t<tr><th scope=row>118</th><td>113</td><td>5</td><td>sex bmiSQ children smoker region        </td><td>0.65980545</td><td>0.65852845</td><td>0.65630689</td><td> 496.361488</td><td>27526.58</td><td>23726.17</td><td>27562.97</td><td> 67003997264</td><td> 50302176</td><td>0.3432594</td><td> 37624.05</td></tr>\n",
       "\t<tr><th scope=row>103</th><td>114</td><td>5</td><td>age sex bmi children region             </td><td>0.12424505</td><td>0.12095768</td><td>0.11633258</td><td>3365.263006</td><td>28791.75</td><td>24985.07</td><td>28828.14</td><td>172486839594</td><td>129491729</td><td>0.8836446</td><td> 96854.73</td></tr>\n",
       "\t<tr><th scope=row>106</th><td>115</td><td>5</td><td>age sex bmiSQ children region           </td><td>0.12321360</td><td>0.11992236</td><td>0.11504426</td><td>3370.788302</td><td>28793.33</td><td>24986.64</td><td>28829.72</td><td>172689991874</td><td>129644242</td><td>0.8846854</td><td> 96968.80</td></tr>\n",
       "\t<tr><th scope=row>99</th><td>116</td><td>5</td><td>age sex bmi bmiSQ children              </td><td>0.12320510</td><td>0.11991383</td><td>0.11438305</td><td>3370.833845</td><td>28793.34</td><td>24986.66</td><td>28829.73</td><td>172691666394</td><td>129645499</td><td>0.8846940</td><td> 96969.74</td></tr>\n",
       "\t<tr><th scope=row>101</th><td>117</td><td>5</td><td>age sex bmi bmiSQ region                </td><td>0.12152877</td><td>0.11823121</td><td>0.11265542</td><td>3379.813649</td><td>28795.90</td><td>24989.20</td><td>28832.29</td><td>173021832900</td><td>129893366</td><td>0.8863854</td><td> 97155.14</td></tr>\n",
       "\t<tr><th scope=row>110</th><td>118</td><td>5</td><td>age bmi bmiSQ children region           </td><td>0.12143928</td><td>0.11814138</td><td>0.11274356</td><td>3380.293042</td><td>28796.03</td><td>24989.34</td><td>28832.42</td><td>173039459070</td><td>129906599</td><td>0.8864757</td><td> 97165.03</td></tr>\n",
       "\t<tr><th scope=row>115</th><td>119</td><td>5</td><td>sex bmi bmiSQ children region           </td><td>0.04816263</td><td>0.04458967</td><td>0.03890446</td><td>3772.822978</td><td>28903.22</td><td>25096.20</td><td>28939.61</td><td>187471872709</td><td>140741502</td><td>0.9604125</td><td>105269.11</td></tr>\n",
       "\t<tr><th scope=row>125</th><td>120</td><td>6</td><td>age bmi bmiSQ children smoker region    </td><td>0.75168878</td><td>0.75056942</td><td>0.74855472</td><td>   6.158882</td><td>27107.33</td><td>23310.34</td><td>27148.92</td><td> 48943623267</td><td> 36770959</td><td>0.2509231</td><td> 27503.45</td></tr>\n",
       "\t<tr><th scope=row>123</th><td>121</td><td>6</td><td>age sex bmi children smoker region      </td><td>0.75073720</td><td>0.74961355</td><td>0.74773612</td><td>  11.256334</td><td>27112.45</td><td>23315.40</td><td>27154.04</td><td> 49131185624</td><td> 36911873</td><td>0.2518846</td><td> 27608.85</td></tr>\n",
       "\t<tr><th scope=row>120</th><td>122</td><td>6</td><td>age sex bmi bmiSQ children smoker       </td><td>0.75066602</td><td>0.74954205</td><td>0.74750232</td><td>  11.637636</td><td>27112.83</td><td>23315.78</td><td>27154.42</td><td> 49145215762</td><td> 36922413</td><td>0.2519566</td><td> 27616.73</td></tr>\n",
       "\t<tr><th scope=row>122</th><td>123</td><td>6</td><td>age sex bmi bmiSQ smoker region         </td><td>0.74944351</td><td>0.74831403</td><td>0.74626092</td><td>  18.186399</td><td>27119.38</td><td>23322.25</td><td>27160.97</td><td> 49386179587</td><td> 37103448</td><td>0.2531919</td><td> 27752.14</td></tr>\n",
       "\t<tr><th scope=row>124</th><td>124</td><td>6</td><td>age sex bmiSQ children smoker region    </td><td>0.74892194</td><td>0.74779011</td><td>0.74584969</td><td>  20.980383</td><td>27122.16</td><td>23325.01</td><td>27163.75</td><td> 49488985134</td><td> 37180685</td><td>0.2537190</td><td> 27809.91</td></tr>\n",
       "\t<tr><th scope=row>126</th><td>125</td><td>6</td><td>sex bmi bmiSQ children smoker region    </td><td>0.66533799</td><td>0.66382937</td><td>0.66136803</td><td> 468.724699</td><td>27506.64</td><td>23705.88</td><td>27548.23</td><td> 65963881039</td><td> 49558144</td><td>0.3381821</td><td> 37067.84</td></tr>\n",
       "\t<tr><th scope=row>121</th><td>126</td><td>6</td><td>age sex bmi bmiSQ children region       </td><td>0.12439707</td><td>0.12044995</td><td>0.11437839</td><td>3366.448678</td><td>28793.52</td><td>24985.41</td><td>28835.11</td><td>172586565457</td><td>129662927</td><td>0.8848129</td><td> 96983.53</td></tr>\n",
       "\t<tr><th scope=row>127</th><td>127</td><td>7</td><td>age sex bmi bmiSQ children smoker region</td><td>0.75171844</td><td>0.75041170</td><td>0.74820481</td><td>   8.000000</td><td>27109.17</td><td>23312.19</td><td>27155.96</td><td> 48974600145</td><td> 36821567</td><td>0.2512684</td><td> 27541.55</td></tr>\n",
       "</tbody>\n",
       "</table>\n"
      ],
      "text/latex": [
       "A ols\\_step\\_all\\_possible: 127 × 14\n",
       "\\begin{tabular}{r|llllllllllllll}\n",
       "  & mindex & n & predictors & rsquare & adjr & predrsq & cp & aic & sbic & sbc & msep & fpe & apc & hsp\\\\\n",
       "  & <int> & <int> & <chr> & <dbl> & <dbl> & <dbl> & <dbl> & <dbl> & <dbl> & <dbl> & <dbl> & <dbl> & <dbl> & <dbl>\\\\\n",
       "\\hline\n",
       "\t6 &  1 & 1 & smoker           & 6.197648e-01 &  0.619480208 &  0.6180369630 &  702.85205 & 27667.46 & 23868.78 & 27683.06 &  74665926332 &  55887544 & 0.3813736 &  41800.85\\\\\n",
       "\t1 &  2 & 1 & age              & 8.940590e-02 &  0.088724317 &  0.0866794766 & 3543.89014 & 28835.95 & 25034.91 & 28851.55 & 178811311166 & 133840503 & 0.9133204 & 100105.42\\\\\n",
       "\t3 &  3 & 1 & bmi              & 3.933914e-02 &  0.038620082 &  0.0362113860 & 3812.08884 & 28907.56 & 25106.43 & 28923.16 & 188642807938 & 141199391 & 0.9635371 & 105609.47\\\\\n",
       "\t4 &  4 & 1 & bmiSQ            & 3.724152e-02 &  0.036520890 &  0.0338627746 & 3823.32542 & 28910.48 & 25109.34 & 28926.08 & 189054713255 & 141507702 & 0.9656410 & 105840.07\\\\\n",
       "\t5 &  5 & 1 & children         & 4.623759e-03 &  0.003878717 &  0.0017935950 & 3998.05294 & 28955.06 & 25153.86 & 28970.66 & 195459789076 & 146301910 & 0.9983564 & 109425.88\\\\\n",
       "\t2 &  6 & 1 & sex              & 3.282380e-03 &  0.002536334 &  0.0003007149 & 4005.23846 & 28956.86 & 25155.66 & 28972.46 & 195723192541 & 146499068 & 0.9997018 & 109573.34\\\\\n",
       "\t7 &  7 & 1 & region           & 3.854218e-05 & -0.000709932 & -0.0028213039 & 4022.61513 & 28961.21 & 25160.01 & 28976.81 & 196360177740 & 146975852 & 1.0029554 & 109929.95\\\\\n",
       "\t12 &  8 & 2 & age smoker       & 7.214008e-01 &  0.720983449 &  0.7195887960 &  160.40607 & 27253.32 & 23455.60 & 27274.12 &  54748902289 &  41010184 & 0.2798513 &  30673.49\\\\\n",
       "\t21 &  9 & 2 & bmi smoker       & 6.579420e-01 &  0.657429548 &  0.6560015549 &  500.34371 & 27527.89 & 23729.05 & 27548.69 &  67219511285 &  50351412 & 0.3435953 &  37660.25\\\\\n",
       "\t24 & 10 & 2 & bmiSQ smoker     & 6.548975e-01 &  0.654380542 &  0.6528668456 &  516.65226 & 27539.75 & 23740.86 & 27560.54 &  67817790270 &  50799559 & 0.3466535 &  37995.44\\\\\n",
       "\t26 & 11 & 2 & children smoker  & 6.236038e-01 &  0.623039890 &  0.6213502551 &  684.28740 & 27655.89 & 23856.56 & 27676.68 &  73967483927 &  55406045 & 0.3780879 &  41440.85\\\\\n",
       "\t28 & 12 & 2 & smoker region    & 6.197850e-01 &  0.619215378 &  0.6175043532 &  704.74398 & 27669.39 & 23870.02 & 27690.19 &  74717933382 &  55968177 & 0.3819238 &  41861.30\\\\\n",
       "\t17 & 13 & 2 & sex smoker       & 6.197721e-01 &  0.619202434 &  0.6174696723 &  704.81322 & 27669.44 & 23870.06 & 27690.23 &  74720473284 &  55970079 & 0.3819368 &  41862.72\\\\\n",
       "\t9 & 14 & 2 & age bmi          & 1.171834e-01 &  0.115860814 &  0.1129280400 & 3397.09110 & 28796.50 & 24994.09 & 28817.29 & 173486661324 & 129951829 & 0.8867843 &  97197.23\\\\\n",
       "\t10 & 15 & 2 & age bmiSQ        & 1.162028e-01 &  0.114878801 &  0.1117058379 & 3402.34370 & 28797.98 & 24995.57 & 28818.78 & 173679352976 & 130096166 & 0.8877693 &  97305.19\\\\\n",
       "\t8 & 16 & 2 & age sex          & 9.344348e-02 &  0.092085343 &  0.0893678280 & 3524.26154 & 28832.00 & 25029.53 & 28852.80 & 178151907676 & 133446376 & 0.9106309 &  99810.97\\\\\n",
       "\t11 & 17 & 2 & age children     & 9.246948e-02 &  0.091109880 &  0.0885594308 & 3529.47910 & 28833.44 & 25030.96 & 28854.24 & 178343314027 & 133589751 & 0.9116093 &  99918.21\\\\\n",
       "\t13 & 18 & 2 & age region       & 8.945274e-02 &  0.088088629 &  0.0854678438 & 3545.63920 & 28837.88 & 25035.39 & 28858.68 & 178936146902 & 134033818 & 0.9146396 & 100250.35\\\\\n",
       "\t20 & 19 & 2 & bmi children     & 4.362585e-02 &  0.042193076 &  0.0392134420 & 3791.12572 & 28903.58 & 25100.98 & 28924.38 & 187941817466 & 140779601 & 0.9606725 & 105295.85\\\\\n",
       "\t14 & 20 & 2 & sex bmi          & 4.165723e-02 &  0.040221511 &  0.0370956676 & 3801.67124 & 28906.33 & 25103.72 & 28927.13 & 188328679844 & 141069384 & 0.9626499 & 105512.59\\\\\n",
       "\t23 & 21 & 2 & bmiSQ children   & 4.154447e-02 &  0.040108581 &  0.0368755912 & 3802.27528 & 28906.49 & 25103.88 & 28927.28 & 188350839103 & 141085982 & 0.9627632 & 105525.00\\\\\n",
       "\t22 & 22 & 2 & bmi region       & 4.077812e-02 &  0.039341080 &  0.0363639471 & 3806.38049 & 28907.56 & 25104.95 & 28928.35 & 188501438863 & 141198790 & 0.9635330 & 105609.38\\\\\n",
       "\t19 & 23 & 2 & bmi bmiSQ        & 4.011896e-02 &  0.038680941 &  0.0348706981 & 3809.91145 & 28908.48 & 25105.86 & 28929.27 & 188630972120 & 141295818 & 0.9641951 & 105681.95\\\\\n",
       "\t15 & 24 & 2 & sex bmiSQ        & 3.958698e-02 &  0.038148160 &  0.0347672260 & 3812.76120 & 28909.22 & 25106.60 & 28930.01 & 188735514835 & 141374127 & 0.9647295 & 105740.52\\\\\n",
       "\t25 & 25 & 2 & bmiSQ region     & 3.856189e-02 &  0.037121538 &  0.0338884237 & 3818.25240 & 28910.65 & 25108.03 & 28931.44 & 188936959633 & 141525021 & 0.9657592 & 105853.38\\\\\n",
       "\t16 & 26 & 2 & sex children     & 7.774704e-03 &  0.006288224 &  0.0034681899 & 3983.17389 & 28952.82 & 25150.13 & 28973.62 & 194987102876 & 146056938 & 0.9966847 & 109243.02\\\\\n",
       "\t27 & 27 & 2 & children region  & 4.677575e-03 &  0.003186455 &  0.0004826046 & 3999.76466 & 28956.99 & 25154.29 & 28977.79 & 195595735020 & 146512840 & 0.9997958 & 109584.01\\\\\n",
       "\t18 & 28 & 2 & sex region       & 3.324257e-03 &  0.001831109 & -0.0010176394 & 4007.01414 & 28958.81 & 25156.11 & 28979.60 & 195861682280 & 146712050 & 1.0011552 & 109733.01\\\\\n",
       "\t36 & 29 & 3 & age bmi smoker   & 7.474772e-01 &  0.746909266 &  0.7455438272 &   22.71981 & 27123.84 & 23326.67 & 27149.83 &  49661740795 &  37227317 & 0.2540372 &  27844.23\\\\\n",
       "\t39 & 30 & 3 & age bmiSQ smoker & 7.457549e-01 &  0.745183159 &  0.7437628855 &   31.94551 & 27132.93 & 23335.71 & 27158.92 &  50000439379 &  37481212 & 0.2557698 &  28034.13\\\\\n",
       "\t... & ... & ... & ... & ... & ... & ... & ... & ... & ... & ... & ... & ... & ... & ...\\\\\n",
       "\t86 &  98 & 4 & sex bmi bmiSQ region                     & 0.04390938 & 0.04104039 & 0.03591822 & 3793.606878 & 28907.18 & 25101.62 & 28938.38 & 188168210197 & 141159239 & 0.9632631 & 105580.86\\\\\n",
       "\t112 &  99 & 5 & age bmi children smoker region           & 0.75070814 & 0.74977236 & 0.74808752 &    9.412026 & 27110.61 & 23313.55 & 27147.00 &  49099997086 &  36861035 & 0.2515377 &  27570.61\\\\\n",
       "\t109 & 100 & 5 & age bmi bmiSQ children smoker            & 0.75063749 & 0.74970144 & 0.74785456 &    9.790480 & 27110.99 & 23313.93 & 27147.38 &  49113911948 &  36871482 & 0.2516090 &  27578.42\\\\\n",
       "\t102 & 101 & 5 & age sex bmi children smoker              & 0.74972251 & 0.74878303 & 0.74707323 &   14.691863 & 27115.89 & 23318.78 & 27152.28 &  49294124407 &  37006773 & 0.2525322 &  27679.61\\\\\n",
       "\t111 & 102 & 5 & age bmi bmiSQ smoker region              & 0.74942208 & 0.74848147 & 0.74662144 &   16.301212 & 27117.49 & 23320.37 & 27153.88 &  49353296424 &  37051196 & 0.2528354 &  27712.84\\\\\n",
       "\t113 & 103 & 5 & age bmiSQ children smoker region         & 0.74889680 & 0.74795422 & 0.74620770 &   19.115062 & 27120.29 & 23323.15 & 27156.69 &  49456755165 &  37128866 & 0.2533654 &  27770.93\\\\\n",
       "\t104 & 104 & 5 & age sex bmi smoker region                & 0.74846575 & 0.74752155 & 0.74579210 &   21.424111 & 27122.59 & 23325.42 & 27158.98 &  49541653529 &  37192602 & 0.2538003 &  27818.61\\\\\n",
       "\t100 & 105 & 5 & age sex bmi bmiSQ smoker                 & 0.74843825 & 0.74749395 & 0.74561024 &   21.571390 & 27122.73 & 23325.57 & 27159.13 &  49547068659 &  37196667 & 0.2538281 &  27821.65\\\\\n",
       "\t105 & 106 & 5 & age sex bmiSQ children smoker            & 0.74800012 & 0.74705417 & 0.74528507 &   23.918405 & 27125.06 & 23327.88 & 27161.45 &  49633362923 &  37261451 & 0.2542702 &  27870.10\\\\\n",
       "\t107 & 107 & 5 & age sex bmiSQ smoker region              & 0.74664965 & 0.74569864 & 0.74390981 &   31.152625 & 27132.21 & 23334.96 & 27168.61 &  49899348398 &  37461136 & 0.2556328 &  28019.46\\\\\n",
       "\t108 & 108 & 5 & age sex children smoker region           & 0.72378517 & 0.72274832 & 0.72078219 &  153.633586 & 27247.82 & 23449.58 & 27284.22 &  54402688718 &  40841946 & 0.2787033 &  30548.17\\\\\n",
       "\t119 & 109 & 5 & bmi bmiSQ children smoker region         & 0.66517392 & 0.66391706 & 0.66170835 &  467.603595 & 27505.30 & 23705.04 & 27541.69 &  65946636357 &  49508380 & 0.3378425 &  37030.32\\\\\n",
       "\t114 & 110 & 5 & sex bmi bmiSQ children smoker            & 0.66393105 & 0.66266953 & 0.66042560 &  474.261388 & 27510.26 & 23709.96 & 27546.65 &  66191427950 &  49692153 & 0.3390966 &  37167.78\\\\\n",
       "\t117 & 111 & 5 & sex bmi children smoker region           & 0.66298338 & 0.66171830 & 0.65959438 &  479.337900 & 27514.02 & 23713.70 & 27550.42 &  66378079484 &  49832279 & 0.3400528 &  37272.59\\\\\n",
       "\t116 & 112 & 5 & sex bmi bmiSQ smoker region              & 0.66172043 & 0.66045061 & 0.65820560 &  486.103317 & 27519.03 & 23718.67 & 27555.42 &  66626828154 &  50019023 & 0.3413271 &  37412.26\\\\\n",
       "\t118 & 113 & 5 & sex bmiSQ children smoker region         & 0.65980545 & 0.65852845 & 0.65630689 &  496.361488 & 27526.58 & 23726.17 & 27562.97 &  67003997264 &  50302176 & 0.3432594 &  37624.05\\\\\n",
       "\t103 & 114 & 5 & age sex bmi children region              & 0.12424505 & 0.12095768 & 0.11633258 & 3365.263006 & 28791.75 & 24985.07 & 28828.14 & 172486839594 & 129491729 & 0.8836446 &  96854.73\\\\\n",
       "\t106 & 115 & 5 & age sex bmiSQ children region            & 0.12321360 & 0.11992236 & 0.11504426 & 3370.788302 & 28793.33 & 24986.64 & 28829.72 & 172689991874 & 129644242 & 0.8846854 &  96968.80\\\\\n",
       "\t99 & 116 & 5 & age sex bmi bmiSQ children               & 0.12320510 & 0.11991383 & 0.11438305 & 3370.833845 & 28793.34 & 24986.66 & 28829.73 & 172691666394 & 129645499 & 0.8846940 &  96969.74\\\\\n",
       "\t101 & 117 & 5 & age sex bmi bmiSQ region                 & 0.12152877 & 0.11823121 & 0.11265542 & 3379.813649 & 28795.90 & 24989.20 & 28832.29 & 173021832900 & 129893366 & 0.8863854 &  97155.14\\\\\n",
       "\t110 & 118 & 5 & age bmi bmiSQ children region            & 0.12143928 & 0.11814138 & 0.11274356 & 3380.293042 & 28796.03 & 24989.34 & 28832.42 & 173039459070 & 129906599 & 0.8864757 &  97165.03\\\\\n",
       "\t115 & 119 & 5 & sex bmi bmiSQ children region            & 0.04816263 & 0.04458967 & 0.03890446 & 3772.822978 & 28903.22 & 25096.20 & 28939.61 & 187471872709 & 140741502 & 0.9604125 & 105269.11\\\\\n",
       "\t125 & 120 & 6 & age bmi bmiSQ children smoker region     & 0.75168878 & 0.75056942 & 0.74855472 &    6.158882 & 27107.33 & 23310.34 & 27148.92 &  48943623267 &  36770959 & 0.2509231 &  27503.45\\\\\n",
       "\t123 & 121 & 6 & age sex bmi children smoker region       & 0.75073720 & 0.74961355 & 0.74773612 &   11.256334 & 27112.45 & 23315.40 & 27154.04 &  49131185624 &  36911873 & 0.2518846 &  27608.85\\\\\n",
       "\t120 & 122 & 6 & age sex bmi bmiSQ children smoker        & 0.75066602 & 0.74954205 & 0.74750232 &   11.637636 & 27112.83 & 23315.78 & 27154.42 &  49145215762 &  36922413 & 0.2519566 &  27616.73\\\\\n",
       "\t122 & 123 & 6 & age sex bmi bmiSQ smoker region          & 0.74944351 & 0.74831403 & 0.74626092 &   18.186399 & 27119.38 & 23322.25 & 27160.97 &  49386179587 &  37103448 & 0.2531919 &  27752.14\\\\\n",
       "\t124 & 124 & 6 & age sex bmiSQ children smoker region     & 0.74892194 & 0.74779011 & 0.74584969 &   20.980383 & 27122.16 & 23325.01 & 27163.75 &  49488985134 &  37180685 & 0.2537190 &  27809.91\\\\\n",
       "\t126 & 125 & 6 & sex bmi bmiSQ children smoker region     & 0.66533799 & 0.66382937 & 0.66136803 &  468.724699 & 27506.64 & 23705.88 & 27548.23 &  65963881039 &  49558144 & 0.3381821 &  37067.84\\\\\n",
       "\t121 & 126 & 6 & age sex bmi bmiSQ children region        & 0.12439707 & 0.12044995 & 0.11437839 & 3366.448678 & 28793.52 & 24985.41 & 28835.11 & 172586565457 & 129662927 & 0.8848129 &  96983.53\\\\\n",
       "\t127 & 127 & 7 & age sex bmi bmiSQ children smoker region & 0.75171844 & 0.75041170 & 0.74820481 &    8.000000 & 27109.17 & 23312.19 & 27155.96 &  48974600145 &  36821567 & 0.2512684 &  27541.55\\\\\n",
       "\\end{tabular}\n"
      ],
      "text/markdown": [
       "\n",
       "A ols_step_all_possible: 127 × 14\n",
       "\n",
       "| <!--/--> | mindex &lt;int&gt; | n &lt;int&gt; | predictors &lt;chr&gt; | rsquare &lt;dbl&gt; | adjr &lt;dbl&gt; | predrsq &lt;dbl&gt; | cp &lt;dbl&gt; | aic &lt;dbl&gt; | sbic &lt;dbl&gt; | sbc &lt;dbl&gt; | msep &lt;dbl&gt; | fpe &lt;dbl&gt; | apc &lt;dbl&gt; | hsp &lt;dbl&gt; |\n",
       "|---|---|---|---|---|---|---|---|---|---|---|---|---|---|---|\n",
       "| 6 |  1 | 1 | smoker           | 6.197648e-01 |  0.619480208 |  0.6180369630 |  702.85205 | 27667.46 | 23868.78 | 27683.06 |  74665926332 |  55887544 | 0.3813736 |  41800.85 |\n",
       "| 1 |  2 | 1 | age              | 8.940590e-02 |  0.088724317 |  0.0866794766 | 3543.89014 | 28835.95 | 25034.91 | 28851.55 | 178811311166 | 133840503 | 0.9133204 | 100105.42 |\n",
       "| 3 |  3 | 1 | bmi              | 3.933914e-02 |  0.038620082 |  0.0362113860 | 3812.08884 | 28907.56 | 25106.43 | 28923.16 | 188642807938 | 141199391 | 0.9635371 | 105609.47 |\n",
       "| 4 |  4 | 1 | bmiSQ            | 3.724152e-02 |  0.036520890 |  0.0338627746 | 3823.32542 | 28910.48 | 25109.34 | 28926.08 | 189054713255 | 141507702 | 0.9656410 | 105840.07 |\n",
       "| 5 |  5 | 1 | children         | 4.623759e-03 |  0.003878717 |  0.0017935950 | 3998.05294 | 28955.06 | 25153.86 | 28970.66 | 195459789076 | 146301910 | 0.9983564 | 109425.88 |\n",
       "| 2 |  6 | 1 | sex              | 3.282380e-03 |  0.002536334 |  0.0003007149 | 4005.23846 | 28956.86 | 25155.66 | 28972.46 | 195723192541 | 146499068 | 0.9997018 | 109573.34 |\n",
       "| 7 |  7 | 1 | region           | 3.854218e-05 | -0.000709932 | -0.0028213039 | 4022.61513 | 28961.21 | 25160.01 | 28976.81 | 196360177740 | 146975852 | 1.0029554 | 109929.95 |\n",
       "| 12 |  8 | 2 | age smoker       | 7.214008e-01 |  0.720983449 |  0.7195887960 |  160.40607 | 27253.32 | 23455.60 | 27274.12 |  54748902289 |  41010184 | 0.2798513 |  30673.49 |\n",
       "| 21 |  9 | 2 | bmi smoker       | 6.579420e-01 |  0.657429548 |  0.6560015549 |  500.34371 | 27527.89 | 23729.05 | 27548.69 |  67219511285 |  50351412 | 0.3435953 |  37660.25 |\n",
       "| 24 | 10 | 2 | bmiSQ smoker     | 6.548975e-01 |  0.654380542 |  0.6528668456 |  516.65226 | 27539.75 | 23740.86 | 27560.54 |  67817790270 |  50799559 | 0.3466535 |  37995.44 |\n",
       "| 26 | 11 | 2 | children smoker  | 6.236038e-01 |  0.623039890 |  0.6213502551 |  684.28740 | 27655.89 | 23856.56 | 27676.68 |  73967483927 |  55406045 | 0.3780879 |  41440.85 |\n",
       "| 28 | 12 | 2 | smoker region    | 6.197850e-01 |  0.619215378 |  0.6175043532 |  704.74398 | 27669.39 | 23870.02 | 27690.19 |  74717933382 |  55968177 | 0.3819238 |  41861.30 |\n",
       "| 17 | 13 | 2 | sex smoker       | 6.197721e-01 |  0.619202434 |  0.6174696723 |  704.81322 | 27669.44 | 23870.06 | 27690.23 |  74720473284 |  55970079 | 0.3819368 |  41862.72 |\n",
       "| 9 | 14 | 2 | age bmi          | 1.171834e-01 |  0.115860814 |  0.1129280400 | 3397.09110 | 28796.50 | 24994.09 | 28817.29 | 173486661324 | 129951829 | 0.8867843 |  97197.23 |\n",
       "| 10 | 15 | 2 | age bmiSQ        | 1.162028e-01 |  0.114878801 |  0.1117058379 | 3402.34370 | 28797.98 | 24995.57 | 28818.78 | 173679352976 | 130096166 | 0.8877693 |  97305.19 |\n",
       "| 8 | 16 | 2 | age sex          | 9.344348e-02 |  0.092085343 |  0.0893678280 | 3524.26154 | 28832.00 | 25029.53 | 28852.80 | 178151907676 | 133446376 | 0.9106309 |  99810.97 |\n",
       "| 11 | 17 | 2 | age children     | 9.246948e-02 |  0.091109880 |  0.0885594308 | 3529.47910 | 28833.44 | 25030.96 | 28854.24 | 178343314027 | 133589751 | 0.9116093 |  99918.21 |\n",
       "| 13 | 18 | 2 | age region       | 8.945274e-02 |  0.088088629 |  0.0854678438 | 3545.63920 | 28837.88 | 25035.39 | 28858.68 | 178936146902 | 134033818 | 0.9146396 | 100250.35 |\n",
       "| 20 | 19 | 2 | bmi children     | 4.362585e-02 |  0.042193076 |  0.0392134420 | 3791.12572 | 28903.58 | 25100.98 | 28924.38 | 187941817466 | 140779601 | 0.9606725 | 105295.85 |\n",
       "| 14 | 20 | 2 | sex bmi          | 4.165723e-02 |  0.040221511 |  0.0370956676 | 3801.67124 | 28906.33 | 25103.72 | 28927.13 | 188328679844 | 141069384 | 0.9626499 | 105512.59 |\n",
       "| 23 | 21 | 2 | bmiSQ children   | 4.154447e-02 |  0.040108581 |  0.0368755912 | 3802.27528 | 28906.49 | 25103.88 | 28927.28 | 188350839103 | 141085982 | 0.9627632 | 105525.00 |\n",
       "| 22 | 22 | 2 | bmi region       | 4.077812e-02 |  0.039341080 |  0.0363639471 | 3806.38049 | 28907.56 | 25104.95 | 28928.35 | 188501438863 | 141198790 | 0.9635330 | 105609.38 |\n",
       "| 19 | 23 | 2 | bmi bmiSQ        | 4.011896e-02 |  0.038680941 |  0.0348706981 | 3809.91145 | 28908.48 | 25105.86 | 28929.27 | 188630972120 | 141295818 | 0.9641951 | 105681.95 |\n",
       "| 15 | 24 | 2 | sex bmiSQ        | 3.958698e-02 |  0.038148160 |  0.0347672260 | 3812.76120 | 28909.22 | 25106.60 | 28930.01 | 188735514835 | 141374127 | 0.9647295 | 105740.52 |\n",
       "| 25 | 25 | 2 | bmiSQ region     | 3.856189e-02 |  0.037121538 |  0.0338884237 | 3818.25240 | 28910.65 | 25108.03 | 28931.44 | 188936959633 | 141525021 | 0.9657592 | 105853.38 |\n",
       "| 16 | 26 | 2 | sex children     | 7.774704e-03 |  0.006288224 |  0.0034681899 | 3983.17389 | 28952.82 | 25150.13 | 28973.62 | 194987102876 | 146056938 | 0.9966847 | 109243.02 |\n",
       "| 27 | 27 | 2 | children region  | 4.677575e-03 |  0.003186455 |  0.0004826046 | 3999.76466 | 28956.99 | 25154.29 | 28977.79 | 195595735020 | 146512840 | 0.9997958 | 109584.01 |\n",
       "| 18 | 28 | 2 | sex region       | 3.324257e-03 |  0.001831109 | -0.0010176394 | 4007.01414 | 28958.81 | 25156.11 | 28979.60 | 195861682280 | 146712050 | 1.0011552 | 109733.01 |\n",
       "| 36 | 29 | 3 | age bmi smoker   | 7.474772e-01 |  0.746909266 |  0.7455438272 |   22.71981 | 27123.84 | 23326.67 | 27149.83 |  49661740795 |  37227317 | 0.2540372 |  27844.23 |\n",
       "| 39 | 30 | 3 | age bmiSQ smoker | 7.457549e-01 |  0.745183159 |  0.7437628855 |   31.94551 | 27132.93 | 23335.71 | 27158.92 |  50000439379 |  37481212 | 0.2557698 |  28034.13 |\n",
       "| ... | ... | ... | ... | ... | ... | ... | ... | ... | ... | ... | ... | ... | ... | ... |\n",
       "| 86 |  98 | 4 | sex bmi bmiSQ region                     | 0.04390938 | 0.04104039 | 0.03591822 | 3793.606878 | 28907.18 | 25101.62 | 28938.38 | 188168210197 | 141159239 | 0.9632631 | 105580.86 |\n",
       "| 112 |  99 | 5 | age bmi children smoker region           | 0.75070814 | 0.74977236 | 0.74808752 |    9.412026 | 27110.61 | 23313.55 | 27147.00 |  49099997086 |  36861035 | 0.2515377 |  27570.61 |\n",
       "| 109 | 100 | 5 | age bmi bmiSQ children smoker            | 0.75063749 | 0.74970144 | 0.74785456 |    9.790480 | 27110.99 | 23313.93 | 27147.38 |  49113911948 |  36871482 | 0.2516090 |  27578.42 |\n",
       "| 102 | 101 | 5 | age sex bmi children smoker              | 0.74972251 | 0.74878303 | 0.74707323 |   14.691863 | 27115.89 | 23318.78 | 27152.28 |  49294124407 |  37006773 | 0.2525322 |  27679.61 |\n",
       "| 111 | 102 | 5 | age bmi bmiSQ smoker region              | 0.74942208 | 0.74848147 | 0.74662144 |   16.301212 | 27117.49 | 23320.37 | 27153.88 |  49353296424 |  37051196 | 0.2528354 |  27712.84 |\n",
       "| 113 | 103 | 5 | age bmiSQ children smoker region         | 0.74889680 | 0.74795422 | 0.74620770 |   19.115062 | 27120.29 | 23323.15 | 27156.69 |  49456755165 |  37128866 | 0.2533654 |  27770.93 |\n",
       "| 104 | 104 | 5 | age sex bmi smoker region                | 0.74846575 | 0.74752155 | 0.74579210 |   21.424111 | 27122.59 | 23325.42 | 27158.98 |  49541653529 |  37192602 | 0.2538003 |  27818.61 |\n",
       "| 100 | 105 | 5 | age sex bmi bmiSQ smoker                 | 0.74843825 | 0.74749395 | 0.74561024 |   21.571390 | 27122.73 | 23325.57 | 27159.13 |  49547068659 |  37196667 | 0.2538281 |  27821.65 |\n",
       "| 105 | 106 | 5 | age sex bmiSQ children smoker            | 0.74800012 | 0.74705417 | 0.74528507 |   23.918405 | 27125.06 | 23327.88 | 27161.45 |  49633362923 |  37261451 | 0.2542702 |  27870.10 |\n",
       "| 107 | 107 | 5 | age sex bmiSQ smoker region              | 0.74664965 | 0.74569864 | 0.74390981 |   31.152625 | 27132.21 | 23334.96 | 27168.61 |  49899348398 |  37461136 | 0.2556328 |  28019.46 |\n",
       "| 108 | 108 | 5 | age sex children smoker region           | 0.72378517 | 0.72274832 | 0.72078219 |  153.633586 | 27247.82 | 23449.58 | 27284.22 |  54402688718 |  40841946 | 0.2787033 |  30548.17 |\n",
       "| 119 | 109 | 5 | bmi bmiSQ children smoker region         | 0.66517392 | 0.66391706 | 0.66170835 |  467.603595 | 27505.30 | 23705.04 | 27541.69 |  65946636357 |  49508380 | 0.3378425 |  37030.32 |\n",
       "| 114 | 110 | 5 | sex bmi bmiSQ children smoker            | 0.66393105 | 0.66266953 | 0.66042560 |  474.261388 | 27510.26 | 23709.96 | 27546.65 |  66191427950 |  49692153 | 0.3390966 |  37167.78 |\n",
       "| 117 | 111 | 5 | sex bmi children smoker region           | 0.66298338 | 0.66171830 | 0.65959438 |  479.337900 | 27514.02 | 23713.70 | 27550.42 |  66378079484 |  49832279 | 0.3400528 |  37272.59 |\n",
       "| 116 | 112 | 5 | sex bmi bmiSQ smoker region              | 0.66172043 | 0.66045061 | 0.65820560 |  486.103317 | 27519.03 | 23718.67 | 27555.42 |  66626828154 |  50019023 | 0.3413271 |  37412.26 |\n",
       "| 118 | 113 | 5 | sex bmiSQ children smoker region         | 0.65980545 | 0.65852845 | 0.65630689 |  496.361488 | 27526.58 | 23726.17 | 27562.97 |  67003997264 |  50302176 | 0.3432594 |  37624.05 |\n",
       "| 103 | 114 | 5 | age sex bmi children region              | 0.12424505 | 0.12095768 | 0.11633258 | 3365.263006 | 28791.75 | 24985.07 | 28828.14 | 172486839594 | 129491729 | 0.8836446 |  96854.73 |\n",
       "| 106 | 115 | 5 | age sex bmiSQ children region            | 0.12321360 | 0.11992236 | 0.11504426 | 3370.788302 | 28793.33 | 24986.64 | 28829.72 | 172689991874 | 129644242 | 0.8846854 |  96968.80 |\n",
       "| 99 | 116 | 5 | age sex bmi bmiSQ children               | 0.12320510 | 0.11991383 | 0.11438305 | 3370.833845 | 28793.34 | 24986.66 | 28829.73 | 172691666394 | 129645499 | 0.8846940 |  96969.74 |\n",
       "| 101 | 117 | 5 | age sex bmi bmiSQ region                 | 0.12152877 | 0.11823121 | 0.11265542 | 3379.813649 | 28795.90 | 24989.20 | 28832.29 | 173021832900 | 129893366 | 0.8863854 |  97155.14 |\n",
       "| 110 | 118 | 5 | age bmi bmiSQ children region            | 0.12143928 | 0.11814138 | 0.11274356 | 3380.293042 | 28796.03 | 24989.34 | 28832.42 | 173039459070 | 129906599 | 0.8864757 |  97165.03 |\n",
       "| 115 | 119 | 5 | sex bmi bmiSQ children region            | 0.04816263 | 0.04458967 | 0.03890446 | 3772.822978 | 28903.22 | 25096.20 | 28939.61 | 187471872709 | 140741502 | 0.9604125 | 105269.11 |\n",
       "| 125 | 120 | 6 | age bmi bmiSQ children smoker region     | 0.75168878 | 0.75056942 | 0.74855472 |    6.158882 | 27107.33 | 23310.34 | 27148.92 |  48943623267 |  36770959 | 0.2509231 |  27503.45 |\n",
       "| 123 | 121 | 6 | age sex bmi children smoker region       | 0.75073720 | 0.74961355 | 0.74773612 |   11.256334 | 27112.45 | 23315.40 | 27154.04 |  49131185624 |  36911873 | 0.2518846 |  27608.85 |\n",
       "| 120 | 122 | 6 | age sex bmi bmiSQ children smoker        | 0.75066602 | 0.74954205 | 0.74750232 |   11.637636 | 27112.83 | 23315.78 | 27154.42 |  49145215762 |  36922413 | 0.2519566 |  27616.73 |\n",
       "| 122 | 123 | 6 | age sex bmi bmiSQ smoker region          | 0.74944351 | 0.74831403 | 0.74626092 |   18.186399 | 27119.38 | 23322.25 | 27160.97 |  49386179587 |  37103448 | 0.2531919 |  27752.14 |\n",
       "| 124 | 124 | 6 | age sex bmiSQ children smoker region     | 0.74892194 | 0.74779011 | 0.74584969 |   20.980383 | 27122.16 | 23325.01 | 27163.75 |  49488985134 |  37180685 | 0.2537190 |  27809.91 |\n",
       "| 126 | 125 | 6 | sex bmi bmiSQ children smoker region     | 0.66533799 | 0.66382937 | 0.66136803 |  468.724699 | 27506.64 | 23705.88 | 27548.23 |  65963881039 |  49558144 | 0.3381821 |  37067.84 |\n",
       "| 121 | 126 | 6 | age sex bmi bmiSQ children region        | 0.12439707 | 0.12044995 | 0.11437839 | 3366.448678 | 28793.52 | 24985.41 | 28835.11 | 172586565457 | 129662927 | 0.8848129 |  96983.53 |\n",
       "| 127 | 127 | 7 | age sex bmi bmiSQ children smoker region | 0.75171844 | 0.75041170 | 0.74820481 |    8.000000 | 27109.17 | 23312.19 | 27155.96 |  48974600145 |  36821567 | 0.2512684 |  27541.55 |\n",
       "\n"
      ],
      "text/plain": [
       "    mindex n   predictors                               rsquare     \n",
       "6    1     1   smoker                                   6.197648e-01\n",
       "1    2     1   age                                      8.940590e-02\n",
       "3    3     1   bmi                                      3.933914e-02\n",
       "4    4     1   bmiSQ                                    3.724152e-02\n",
       "5    5     1   children                                 4.623759e-03\n",
       "2    6     1   sex                                      3.282380e-03\n",
       "7    7     1   region                                   3.854218e-05\n",
       "12   8     2   age smoker                               7.214008e-01\n",
       "21   9     2   bmi smoker                               6.579420e-01\n",
       "24  10     2   bmiSQ smoker                             6.548975e-01\n",
       "26  11     2   children smoker                          6.236038e-01\n",
       "28  12     2   smoker region                            6.197850e-01\n",
       "17  13     2   sex smoker                               6.197721e-01\n",
       "9   14     2   age bmi                                  1.171834e-01\n",
       "10  15     2   age bmiSQ                                1.162028e-01\n",
       "8   16     2   age sex                                  9.344348e-02\n",
       "11  17     2   age children                             9.246948e-02\n",
       "13  18     2   age region                               8.945274e-02\n",
       "20  19     2   bmi children                             4.362585e-02\n",
       "14  20     2   sex bmi                                  4.165723e-02\n",
       "23  21     2   bmiSQ children                           4.154447e-02\n",
       "22  22     2   bmi region                               4.077812e-02\n",
       "19  23     2   bmi bmiSQ                                4.011896e-02\n",
       "15  24     2   sex bmiSQ                                3.958698e-02\n",
       "25  25     2   bmiSQ region                             3.856189e-02\n",
       "16  26     2   sex children                             7.774704e-03\n",
       "27  27     2   children region                          4.677575e-03\n",
       "18  28     2   sex region                               3.324257e-03\n",
       "36  29     3   age bmi smoker                           7.474772e-01\n",
       "39  30     3   age bmiSQ smoker                         7.457549e-01\n",
       "... ...    ... ...                                      ...         \n",
       "86   98    4   sex bmi bmiSQ region                     0.04390938  \n",
       "112  99    5   age bmi children smoker region           0.75070814  \n",
       "109 100    5   age bmi bmiSQ children smoker            0.75063749  \n",
       "102 101    5   age sex bmi children smoker              0.74972251  \n",
       "111 102    5   age bmi bmiSQ smoker region              0.74942208  \n",
       "113 103    5   age bmiSQ children smoker region         0.74889680  \n",
       "104 104    5   age sex bmi smoker region                0.74846575  \n",
       "100 105    5   age sex bmi bmiSQ smoker                 0.74843825  \n",
       "105 106    5   age sex bmiSQ children smoker            0.74800012  \n",
       "107 107    5   age sex bmiSQ smoker region              0.74664965  \n",
       "108 108    5   age sex children smoker region           0.72378517  \n",
       "119 109    5   bmi bmiSQ children smoker region         0.66517392  \n",
       "114 110    5   sex bmi bmiSQ children smoker            0.66393105  \n",
       "117 111    5   sex bmi children smoker region           0.66298338  \n",
       "116 112    5   sex bmi bmiSQ smoker region              0.66172043  \n",
       "118 113    5   sex bmiSQ children smoker region         0.65980545  \n",
       "103 114    5   age sex bmi children region              0.12424505  \n",
       "106 115    5   age sex bmiSQ children region            0.12321360  \n",
       "99  116    5   age sex bmi bmiSQ children               0.12320510  \n",
       "101 117    5   age sex bmi bmiSQ region                 0.12152877  \n",
       "110 118    5   age bmi bmiSQ children region            0.12143928  \n",
       "115 119    5   sex bmi bmiSQ children region            0.04816263  \n",
       "125 120    6   age bmi bmiSQ children smoker region     0.75168878  \n",
       "123 121    6   age sex bmi children smoker region       0.75073720  \n",
       "120 122    6   age sex bmi bmiSQ children smoker        0.75066602  \n",
       "122 123    6   age sex bmi bmiSQ smoker region          0.74944351  \n",
       "124 124    6   age sex bmiSQ children smoker region     0.74892194  \n",
       "126 125    6   sex bmi bmiSQ children smoker region     0.66533799  \n",
       "121 126    6   age sex bmi bmiSQ children region        0.12439707  \n",
       "127 127    7   age sex bmi bmiSQ children smoker region 0.75171844  \n",
       "    adjr         predrsq       cp          aic      sbic     sbc     \n",
       "6    0.619480208  0.6180369630  702.85205  27667.46 23868.78 27683.06\n",
       "1    0.088724317  0.0866794766 3543.89014  28835.95 25034.91 28851.55\n",
       "3    0.038620082  0.0362113860 3812.08884  28907.56 25106.43 28923.16\n",
       "4    0.036520890  0.0338627746 3823.32542  28910.48 25109.34 28926.08\n",
       "5    0.003878717  0.0017935950 3998.05294  28955.06 25153.86 28970.66\n",
       "2    0.002536334  0.0003007149 4005.23846  28956.86 25155.66 28972.46\n",
       "7   -0.000709932 -0.0028213039 4022.61513  28961.21 25160.01 28976.81\n",
       "12   0.720983449  0.7195887960  160.40607  27253.32 23455.60 27274.12\n",
       "21   0.657429548  0.6560015549  500.34371  27527.89 23729.05 27548.69\n",
       "24   0.654380542  0.6528668456  516.65226  27539.75 23740.86 27560.54\n",
       "26   0.623039890  0.6213502551  684.28740  27655.89 23856.56 27676.68\n",
       "28   0.619215378  0.6175043532  704.74398  27669.39 23870.02 27690.19\n",
       "17   0.619202434  0.6174696723  704.81322  27669.44 23870.06 27690.23\n",
       "9    0.115860814  0.1129280400 3397.09110  28796.50 24994.09 28817.29\n",
       "10   0.114878801  0.1117058379 3402.34370  28797.98 24995.57 28818.78\n",
       "8    0.092085343  0.0893678280 3524.26154  28832.00 25029.53 28852.80\n",
       "11   0.091109880  0.0885594308 3529.47910  28833.44 25030.96 28854.24\n",
       "13   0.088088629  0.0854678438 3545.63920  28837.88 25035.39 28858.68\n",
       "20   0.042193076  0.0392134420 3791.12572  28903.58 25100.98 28924.38\n",
       "14   0.040221511  0.0370956676 3801.67124  28906.33 25103.72 28927.13\n",
       "23   0.040108581  0.0368755912 3802.27528  28906.49 25103.88 28927.28\n",
       "22   0.039341080  0.0363639471 3806.38049  28907.56 25104.95 28928.35\n",
       "19   0.038680941  0.0348706981 3809.91145  28908.48 25105.86 28929.27\n",
       "15   0.038148160  0.0347672260 3812.76120  28909.22 25106.60 28930.01\n",
       "25   0.037121538  0.0338884237 3818.25240  28910.65 25108.03 28931.44\n",
       "16   0.006288224  0.0034681899 3983.17389  28952.82 25150.13 28973.62\n",
       "27   0.003186455  0.0004826046 3999.76466  28956.99 25154.29 28977.79\n",
       "18   0.001831109 -0.0010176394 4007.01414  28958.81 25156.11 28979.60\n",
       "36   0.746909266  0.7455438272   22.71981  27123.84 23326.67 27149.83\n",
       "39   0.745183159  0.7437628855   31.94551  27132.93 23335.71 27158.92\n",
       "... ...          ...           ...         ...      ...      ...     \n",
       "86  0.04104039   0.03591822    3793.606878 28907.18 25101.62 28938.38\n",
       "112 0.74977236   0.74808752       9.412026 27110.61 23313.55 27147.00\n",
       "109 0.74970144   0.74785456       9.790480 27110.99 23313.93 27147.38\n",
       "102 0.74878303   0.74707323      14.691863 27115.89 23318.78 27152.28\n",
       "111 0.74848147   0.74662144      16.301212 27117.49 23320.37 27153.88\n",
       "113 0.74795422   0.74620770      19.115062 27120.29 23323.15 27156.69\n",
       "104 0.74752155   0.74579210      21.424111 27122.59 23325.42 27158.98\n",
       "100 0.74749395   0.74561024      21.571390 27122.73 23325.57 27159.13\n",
       "105 0.74705417   0.74528507      23.918405 27125.06 23327.88 27161.45\n",
       "107 0.74569864   0.74390981      31.152625 27132.21 23334.96 27168.61\n",
       "108 0.72274832   0.72078219     153.633586 27247.82 23449.58 27284.22\n",
       "119 0.66391706   0.66170835     467.603595 27505.30 23705.04 27541.69\n",
       "114 0.66266953   0.66042560     474.261388 27510.26 23709.96 27546.65\n",
       "117 0.66171830   0.65959438     479.337900 27514.02 23713.70 27550.42\n",
       "116 0.66045061   0.65820560     486.103317 27519.03 23718.67 27555.42\n",
       "118 0.65852845   0.65630689     496.361488 27526.58 23726.17 27562.97\n",
       "103 0.12095768   0.11633258    3365.263006 28791.75 24985.07 28828.14\n",
       "106 0.11992236   0.11504426    3370.788302 28793.33 24986.64 28829.72\n",
       "99  0.11991383   0.11438305    3370.833845 28793.34 24986.66 28829.73\n",
       "101 0.11823121   0.11265542    3379.813649 28795.90 24989.20 28832.29\n",
       "110 0.11814138   0.11274356    3380.293042 28796.03 24989.34 28832.42\n",
       "115 0.04458967   0.03890446    3772.822978 28903.22 25096.20 28939.61\n",
       "125 0.75056942   0.74855472       6.158882 27107.33 23310.34 27148.92\n",
       "123 0.74961355   0.74773612      11.256334 27112.45 23315.40 27154.04\n",
       "120 0.74954205   0.74750232      11.637636 27112.83 23315.78 27154.42\n",
       "122 0.74831403   0.74626092      18.186399 27119.38 23322.25 27160.97\n",
       "124 0.74779011   0.74584969      20.980383 27122.16 23325.01 27163.75\n",
       "126 0.66382937   0.66136803     468.724699 27506.64 23705.88 27548.23\n",
       "121 0.12044995   0.11437839    3366.448678 28793.52 24985.41 28835.11\n",
       "127 0.75041170   0.74820481       8.000000 27109.17 23312.19 27155.96\n",
       "    msep         fpe       apc       hsp      \n",
       "6    74665926332  55887544 0.3813736  41800.85\n",
       "1   178811311166 133840503 0.9133204 100105.42\n",
       "3   188642807938 141199391 0.9635371 105609.47\n",
       "4   189054713255 141507702 0.9656410 105840.07\n",
       "5   195459789076 146301910 0.9983564 109425.88\n",
       "2   195723192541 146499068 0.9997018 109573.34\n",
       "7   196360177740 146975852 1.0029554 109929.95\n",
       "12   54748902289  41010184 0.2798513  30673.49\n",
       "21   67219511285  50351412 0.3435953  37660.25\n",
       "24   67817790270  50799559 0.3466535  37995.44\n",
       "26   73967483927  55406045 0.3780879  41440.85\n",
       "28   74717933382  55968177 0.3819238  41861.30\n",
       "17   74720473284  55970079 0.3819368  41862.72\n",
       "9   173486661324 129951829 0.8867843  97197.23\n",
       "10  173679352976 130096166 0.8877693  97305.19\n",
       "8   178151907676 133446376 0.9106309  99810.97\n",
       "11  178343314027 133589751 0.9116093  99918.21\n",
       "13  178936146902 134033818 0.9146396 100250.35\n",
       "20  187941817466 140779601 0.9606725 105295.85\n",
       "14  188328679844 141069384 0.9626499 105512.59\n",
       "23  188350839103 141085982 0.9627632 105525.00\n",
       "22  188501438863 141198790 0.9635330 105609.38\n",
       "19  188630972120 141295818 0.9641951 105681.95\n",
       "15  188735514835 141374127 0.9647295 105740.52\n",
       "25  188936959633 141525021 0.9657592 105853.38\n",
       "16  194987102876 146056938 0.9966847 109243.02\n",
       "27  195595735020 146512840 0.9997958 109584.01\n",
       "18  195861682280 146712050 1.0011552 109733.01\n",
       "36   49661740795  37227317 0.2540372  27844.23\n",
       "39   50000439379  37481212 0.2557698  28034.13\n",
       "... ...          ...       ...       ...      \n",
       "86  188168210197 141159239 0.9632631 105580.86\n",
       "112  49099997086  36861035 0.2515377  27570.61\n",
       "109  49113911948  36871482 0.2516090  27578.42\n",
       "102  49294124407  37006773 0.2525322  27679.61\n",
       "111  49353296424  37051196 0.2528354  27712.84\n",
       "113  49456755165  37128866 0.2533654  27770.93\n",
       "104  49541653529  37192602 0.2538003  27818.61\n",
       "100  49547068659  37196667 0.2538281  27821.65\n",
       "105  49633362923  37261451 0.2542702  27870.10\n",
       "107  49899348398  37461136 0.2556328  28019.46\n",
       "108  54402688718  40841946 0.2787033  30548.17\n",
       "119  65946636357  49508380 0.3378425  37030.32\n",
       "114  66191427950  49692153 0.3390966  37167.78\n",
       "117  66378079484  49832279 0.3400528  37272.59\n",
       "116  66626828154  50019023 0.3413271  37412.26\n",
       "118  67003997264  50302176 0.3432594  37624.05\n",
       "103 172486839594 129491729 0.8836446  96854.73\n",
       "106 172689991874 129644242 0.8846854  96968.80\n",
       "99  172691666394 129645499 0.8846940  96969.74\n",
       "101 173021832900 129893366 0.8863854  97155.14\n",
       "110 173039459070 129906599 0.8864757  97165.03\n",
       "115 187471872709 140741502 0.9604125 105269.11\n",
       "125  48943623267  36770959 0.2509231  27503.45\n",
       "123  49131185624  36911873 0.2518846  27608.85\n",
       "120  49145215762  36922413 0.2519566  27616.73\n",
       "122  49386179587  37103448 0.2531919  27752.14\n",
       "124  49488985134  37180685 0.2537190  27809.91\n",
       "126  65963881039  49558144 0.3381821  37067.84\n",
       "121 172586565457 129662927 0.8848129  96983.53\n",
       "127  48974600145  36821567 0.2512684  27541.55"
      ]
     },
     "metadata": {},
     "output_type": "display_data"
    }
   ],
   "source": [
    "res <- ols_step_all_possible(model1)\n",
    "write.csv(res,file='ajustes')\n",
    "res"
   ]
  },
  {
   "cell_type": "code",
   "execution_count": null,
   "metadata": {},
   "outputs": [],
   "source": []
  },
  {
   "cell_type": "code",
   "execution_count": null,
   "metadata": {},
   "outputs": [],
   "source": []
  },
  {
   "cell_type": "code",
   "execution_count": 41,
   "metadata": {},
   "outputs": [
    {
     "data": {
      "text/html": [
       "<table class=\"dataframe\">\n",
       "<caption>A ols_step_all_possible: 1 × 14</caption>\n",
       "<thead>\n",
       "\t<tr><th></th><th scope=col>mindex</th><th scope=col>n</th><th scope=col>predictors</th><th scope=col>rsquare</th><th scope=col>adjr</th><th scope=col>predrsq</th><th scope=col>cp</th><th scope=col>aic</th><th scope=col>sbic</th><th scope=col>sbc</th><th scope=col>msep</th><th scope=col>fpe</th><th scope=col>apc</th><th scope=col>hsp</th></tr>\n",
       "\t<tr><th></th><th scope=col>&lt;int&gt;</th><th scope=col>&lt;int&gt;</th><th scope=col>&lt;chr&gt;</th><th scope=col>&lt;dbl&gt;</th><th scope=col>&lt;dbl&gt;</th><th scope=col>&lt;dbl&gt;</th><th scope=col>&lt;dbl&gt;</th><th scope=col>&lt;dbl&gt;</th><th scope=col>&lt;dbl&gt;</th><th scope=col>&lt;dbl&gt;</th><th scope=col>&lt;dbl&gt;</th><th scope=col>&lt;dbl&gt;</th><th scope=col>&lt;dbl&gt;</th><th scope=col>&lt;dbl&gt;</th></tr>\n",
       "</thead>\n",
       "<tbody>\n",
       "\t<tr><th scope=row>NA</th><td>NA</td><td>NA</td><td>NA</td><td>NA</td><td>NA</td><td>NA</td><td>NA</td><td>NA</td><td>NA</td><td>NA</td><td>NA</td><td>NA</td><td>NA</td><td>NA</td></tr>\n",
       "</tbody>\n",
       "</table>\n"
      ],
      "text/latex": [
       "A ols\\_step\\_all\\_possible: 1 × 14\n",
       "\\begin{tabular}{r|llllllllllllll}\n",
       "  & mindex & n & predictors & rsquare & adjr & predrsq & cp & aic & sbic & sbc & msep & fpe & apc & hsp\\\\\n",
       "  & <int> & <int> & <chr> & <dbl> & <dbl> & <dbl> & <dbl> & <dbl> & <dbl> & <dbl> & <dbl> & <dbl> & <dbl> & <dbl>\\\\\n",
       "\\hline\n",
       "\tNA & NA & NA & NA & NA & NA & NA & NA & NA & NA & NA & NA & NA & NA & NA\\\\\n",
       "\\end{tabular}\n"
      ],
      "text/markdown": [
       "\n",
       "A ols_step_all_possible: 1 × 14\n",
       "\n",
       "| <!--/--> | mindex &lt;int&gt; | n &lt;int&gt; | predictors &lt;chr&gt; | rsquare &lt;dbl&gt; | adjr &lt;dbl&gt; | predrsq &lt;dbl&gt; | cp &lt;dbl&gt; | aic &lt;dbl&gt; | sbic &lt;dbl&gt; | sbc &lt;dbl&gt; | msep &lt;dbl&gt; | fpe &lt;dbl&gt; | apc &lt;dbl&gt; | hsp &lt;dbl&gt; |\n",
       "|---|---|---|---|---|---|---|---|---|---|---|---|---|---|---|\n",
       "| NA | NA | NA | NA | NA | NA | NA | NA | NA | NA | NA | NA | NA | NA | NA |\n",
       "\n"
      ],
      "text/plain": [
       "   mindex n  predictors rsquare adjr predrsq cp aic sbic sbc msep fpe apc hsp\n",
       "NA NA     NA NA         NA      NA   NA      NA NA  NA   NA  NA   NA  NA  NA "
      ]
     },
     "metadata": {},
     "output_type": "display_data"
    }
   ],
   "source": [
    "subset(res, res==max(res$cp))"
   ]
  },
  {
   "cell_type": "markdown",
   "metadata": {},
   "source": [
    "### Busqueda de datos atipicos"
   ]
  },
  {
   "cell_type": "code",
   "execution_count": 19,
   "metadata": {},
   "outputs": [
    {
     "data": {
      "text/plain": [
       "distancias\n",
       "FALSE  TRUE \n",
       " 1337     1 "
      ]
     },
     "metadata": {},
     "output_type": "display_data"
    }
   ],
   "source": [
    "distancia <- cooks.distance(model1)\n",
    "distancias<- (distancia > 0.0444444)\n",
    "table(distancias)"
   ]
  },
  {
   "cell_type": "code",
   "execution_count": 20,
   "metadata": {},
   "outputs": [
    {
     "data": {
      "text/html": [
       "<strong>544:</strong> TRUE"
      ],
      "text/latex": [
       "\\textbf{544:} TRUE"
      ],
      "text/markdown": [
       "**544:** TRUE"
      ],
      "text/plain": [
       " 544 \n",
       "TRUE "
      ]
     },
     "metadata": {},
     "output_type": "display_data"
    }
   ],
   "source": [
    "subset(distancias,distancias==TRUE)"
   ]
  },
  {
   "cell_type": "code",
   "execution_count": null,
   "metadata": {},
   "outputs": [],
   "source": []
  }
 ],
 "metadata": {
  "kernelspec": {
   "display_name": "R",
   "language": "R",
   "name": "ir"
  },
  "language_info": {
   "codemirror_mode": "r",
   "file_extension": ".r",
   "mimetype": "text/x-r-source",
   "name": "R",
   "pygments_lexer": "r",
   "version": "4.1.1"
  }
 },
 "nbformat": 4,
 "nbformat_minor": 4
}
