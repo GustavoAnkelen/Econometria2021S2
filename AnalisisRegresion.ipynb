{
 "cells": [
  {
   "cell_type": "code",
   "execution_count": 1,
   "metadata": {},
   "outputs": [],
   "source": [
    "#instalacion de paquetes\n",
    "\n"
   ]
  },
  {
   "cell_type": "code",
   "execution_count": 9,
   "metadata": {},
   "outputs": [],
   "source": [
    "library(readr)\n",
    "library(readxl)\n",
    "library(olsrr)\n",
    "library(dplyr)\n",
    "#library(mtcars)\n",
    "library(ggplot2)\n",
    "library(MASS)\n",
    "library(normtest)\n",
    "library(nortest)\n",
    "library(psych)\n",
    "library(fitdistrplus)"
   ]
  },
  {
   "cell_type": "code",
   "execution_count": 3,
   "metadata": {},
   "outputs": [],
   "source": [
    "InsData <- read.csv(\"Insurance_1\")\n",
    "InsData <- InsData[,c(2,3,4,5,6,7,8,9)]"
   ]
  },
  {
   "cell_type": "code",
   "execution_count": 4,
   "metadata": {},
   "outputs": [],
   "source": [
    "modelLIN <- lm(charges ~ age + sex + bmi + bmiSQ + children + smoker + region, data=InsData)\n",
    "modelLOGLIN <- lm(log(charges) ~ age + sex + bmi + bmiSQ + children + smoker + region, data= InsData)\n",
    "modelLOG <- lm(log(charges) ~ log(age) + sex + log(bmi) + log(bmiSQ) + children + smoker + region, data= InsData)"
   ]
  },
  {
   "cell_type": "code",
   "execution_count": 14,
   "metadata": {},
   "outputs": [
    {
     "name": "stdout",
     "output_type": "stream",
     "text": [
      "Analysis of Variance Table\n",
      "\n",
      "Response: charges\n",
      "            Df     Sum Sq    Mean Sq   F value    Pr(>F)    \n",
      "age          1 1.7530e+10 1.7530e+10  478.9315 < 2.2e-16 ***\n",
      "sex          1 7.9167e+08 7.9167e+08   21.6286 3.638e-06 ***\n",
      "bmi          1 5.2576e+09 5.2576e+09  143.6408 < 2.2e-16 ***\n",
      "bmiSQ        1 2.6478e+07 2.6478e+07    0.7234  0.395192    \n",
      "children     1 5.5137e+08 5.5137e+08   15.0635  0.000109 ***\n",
      "smoker       1 1.2303e+11 1.2303e+11 3361.1962 < 2.2e-16 ***\n",
      "region       1 2.0635e+08 2.0635e+08    5.6376  0.017720 *  \n",
      "Residuals 1330 4.8682e+10 3.6603e+07                        \n",
      "---\n",
      "Signif. codes:  0 '***' 0.001 '**' 0.01 '*' 0.05 '.' 0.1 ' ' 1\n"
     ]
    }
   ],
   "source": [
    "anovalin <- anova(modelLIN)\n",
    "print(anovalin)"
   ]
  },
  {
   "cell_type": "code",
   "execution_count": 11,
   "metadata": {},
   "outputs": [
    {
     "name": "stderr",
     "output_type": "stream",
     "text": [
      "Warning message in b * sx:\n",
      "\"longitud de objeto mayor no es múltiplo de la longitud de uno menor\"\n",
      "Warning message in b * sx:\n",
      "\"longitud de objeto mayor no es múltiplo de la longitud de uno menor\"\n",
      "Warning message in b * sx:\n",
      "\"longitud de objeto mayor no es múltiplo de la longitud de uno menor\"\n",
      "Warning message in b * sx:\n",
      "\"longitud de objeto mayor no es múltiplo de la longitud de uno menor\"\n",
      "Warning message in b * sx:\n",
      "\"longitud de objeto mayor no es múltiplo de la longitud de uno menor\"\n",
      "Warning message in b * sx:\n",
      "\"longitud de objeto mayor no es múltiplo de la longitud de uno menor\"\n",
      "Warning message in b * sx:\n",
      "\"longitud de objeto mayor no es múltiplo de la longitud de uno menor\"\n",
      "Warning message in b * sx:\n",
      "\"longitud de objeto mayor no es múltiplo de la longitud de uno menor\"\n",
      "Warning message in b * sx:\n",
      "\"longitud de objeto mayor no es múltiplo de la longitud de uno menor\"\n",
      "Warning message in b * sx:\n",
      "\"longitud de objeto mayor no es múltiplo de la longitud de uno menor\"\n",
      "Warning message in b * sx:\n",
      "\"longitud de objeto mayor no es múltiplo de la longitud de uno menor\"\n",
      "Warning message in b * sx:\n",
      "\"longitud de objeto mayor no es múltiplo de la longitud de uno menor\"\n",
      "Warning message in b * sx:\n",
      "\"longitud de objeto mayor no es múltiplo de la longitud de uno menor\"\n",
      "Warning message in b * sx:\n",
      "\"longitud de objeto mayor no es múltiplo de la longitud de uno menor\"\n",
      "Warning message in b * sx:\n",
      "\"longitud de objeto mayor no es múltiplo de la longitud de uno menor\"\n",
      "Warning message in b * sx:\n",
      "\"longitud de objeto mayor no es múltiplo de la longitud de uno menor\"\n",
      "Warning message in b * sx:\n",
      "\"longitud de objeto mayor no es múltiplo de la longitud de uno menor\"\n",
      "Warning message in b * sx:\n",
      "\"longitud de objeto mayor no es múltiplo de la longitud de uno menor\"\n",
      "Warning message in b * sx:\n",
      "\"longitud de objeto mayor no es múltiplo de la longitud de uno menor\"\n",
      "Warning message in b * sx:\n",
      "\"longitud de objeto mayor no es múltiplo de la longitud de uno menor\"\n",
      "Warning message in b * sx:\n",
      "\"longitud de objeto mayor no es múltiplo de la longitud de uno menor\"\n",
      "Warning message in b * sx:\n",
      "\"longitud de objeto mayor no es múltiplo de la longitud de uno menor\"\n",
      "Warning message in b * sx:\n",
      "\"longitud de objeto mayor no es múltiplo de la longitud de uno menor\"\n",
      "Warning message in b * sx:\n",
      "\"longitud de objeto mayor no es múltiplo de la longitud de uno menor\"\n",
      "Warning message in b * sx:\n",
      "\"longitud de objeto mayor no es múltiplo de la longitud de uno menor\"\n",
      "Warning message in b * sx:\n",
      "\"longitud de objeto mayor no es múltiplo de la longitud de uno menor\"\n",
      "Warning message in b * sx:\n",
      "\"longitud de objeto mayor no es múltiplo de la longitud de uno menor\"\n",
      "Warning message in b * sx:\n",
      "\"longitud de objeto mayor no es múltiplo de la longitud de uno menor\"\n",
      "Warning message in b * sx:\n",
      "\"longitud de objeto mayor no es múltiplo de la longitud de uno menor\"\n",
      "Warning message in b * sx:\n",
      "\"longitud de objeto mayor no es múltiplo de la longitud de uno menor\"\n",
      "Warning message in b * sx:\n",
      "\"longitud de objeto mayor no es múltiplo de la longitud de uno menor\"\n"
     ]
    }
   ],
   "source": [
    "res1 <- ols_step_all_possible(modelLIN)\n",
    "res2 <- ols_step_all_possible(modelLOGLIN)\n",
    "res3 <- ols_step_all_possible(modelLOG)"
   ]
  },
  {
   "cell_type": "code",
   "execution_count": 6,
   "metadata": {},
   "outputs": [
    {
     "data": {
      "text/plain": [
       "\n",
       "Call:\n",
       "lm(formula = charges ~ age + sex + bmi + bmiSQ + children + smoker + \n",
       "    region, data = InsData)\n",
       "\n",
       "Residuals:\n",
       "   Min     1Q Median     3Q    Max \n",
       "-10684  -2954  -1232   1633  29473 \n",
       "\n",
       "Coefficients:\n",
       "              Estimate Std. Error t value Pr(>|t|)    \n",
       "(Intercept) -20139.714   3275.107  -6.149 1.03e-09 ***\n",
       "age            255.701     11.887  21.511  < 2e-16 ***\n",
       "sex            132.447    332.280   0.399 0.690252    \n",
       "bmi            805.429    208.097   3.870 0.000114 ***\n",
       "bmiSQ           -7.490      3.267  -2.293 0.022023 *  \n",
       "children       479.736    137.425   3.491 0.000497 ***\n",
       "smoker       23843.054    411.304  57.969  < 2e-16 ***\n",
       "region         360.219    151.711   2.374 0.017720 *  \n",
       "---\n",
       "Signif. codes:  0 '***' 0.001 '**' 0.01 '*' 0.05 '.' 0.1 ' ' 1\n",
       "\n",
       "Residual standard error: 6050 on 1330 degrees of freedom\n",
       "Multiple R-squared:  0.7517,\tAdjusted R-squared:  0.7504 \n",
       "F-statistic: 575.3 on 7 and 1330 DF,  p-value: < 2.2e-16\n"
      ]
     },
     "metadata": {},
     "output_type": "display_data"
    }
   ],
   "source": [
    "summary(modelLIN)"
   ]
  },
  {
   "cell_type": "code",
   "execution_count": 7,
   "metadata": {},
   "outputs": [
    {
     "data": {
      "text/plain": [
       "\n",
       "Call:\n",
       "lm(formula = log(charges) ~ age + sex + bmi + bmiSQ + children + \n",
       "    smoker + region, data = InsData)\n",
       "\n",
       "Residuals:\n",
       "     Min       1Q   Median       3Q      Max \n",
       "-0.96996 -0.19484 -0.05364  0.06240  2.13000 \n",
       "\n",
       "Coefficients:\n",
       "              Estimate Std. Error t value Pr(>|t|)    \n",
       "(Intercept)  6.1720408  0.2401696  25.699  < 2e-16 ***\n",
       "age          0.0345101  0.0008717  39.590  < 2e-16 ***\n",
       "sex          0.0754639  0.0243667   3.097 0.001996 ** \n",
       "bmi          0.0556297  0.0152601   3.645 0.000277 ***\n",
       "bmiSQ       -0.0006866  0.0002396  -2.866 0.004222 ** \n",
       "children     0.1024286  0.0100776  10.164  < 2e-16 ***\n",
       "smoker       1.5519119  0.0301617  51.453  < 2e-16 ***\n",
       "region       0.0482098  0.0111253   4.333 1.58e-05 ***\n",
       "---\n",
       "Signif. codes:  0 '***' 0.001 '**' 0.01 '*' 0.05 '.' 0.1 ' ' 1\n",
       "\n",
       "Residual standard error: 0.4437 on 1330 degrees of freedom\n",
       "Multiple R-squared:  0.7684,\tAdjusted R-squared:  0.7672 \n",
       "F-statistic: 630.5 on 7 and 1330 DF,  p-value: < 2.2e-16\n"
      ]
     },
     "metadata": {},
     "output_type": "display_data"
    }
   ],
   "source": [
    "summary(modelLOGLIN)"
   ]
  },
  {
   "cell_type": "code",
   "execution_count": 8,
   "metadata": {},
   "outputs": [
    {
     "data": {
      "text/plain": [
       "\n",
       "Call:\n",
       "lm(formula = log(charges) ~ log(age) + sex + log(bmi) + log(bmiSQ) + \n",
       "    children + smoker + region, data = InsData)\n",
       "\n",
       "Residuals:\n",
       "     Min       1Q   Median       3Q      Max \n",
       "-0.92029 -0.22132 -0.07212  0.07570  2.24114 \n",
       "\n",
       "Coefficients: (1 not defined because of singularities)\n",
       "            Estimate Std. Error t value Pr(>|t|)    \n",
       "(Intercept)  2.70924    0.22941  11.810  < 2e-16 ***\n",
       "log(age)     1.24797    0.03141  39.731  < 2e-16 ***\n",
       "sex          0.07517    0.02438   3.084  0.00209 ** \n",
       "log(bmi)     0.40631    0.06116   6.643 4.45e-11 ***\n",
       "log(bmiSQ)        NA         NA      NA       NA    \n",
       "children     0.08283    0.01011   8.190 6.05e-16 ***\n",
       "smoker       1.54801    0.03016  51.323  < 2e-16 ***\n",
       "region       0.04894    0.01113   4.397 1.18e-05 ***\n",
       "---\n",
       "Signif. codes:  0 '***' 0.001 '**' 0.01 '*' 0.05 '.' 0.1 ' ' 1\n",
       "\n",
       "Residual standard error: 0.4438 on 1331 degrees of freedom\n",
       "Multiple R-squared:  0.7681,\tAdjusted R-squared:  0.767 \n",
       "F-statistic: 734.7 on 6 and 1331 DF,  p-value: < 2.2e-16\n"
      ]
     },
     "metadata": {},
     "output_type": "display_data"
    }
   ],
   "source": [
    "summary(modelLOG)"
   ]
  },
  {
   "cell_type": "code",
   "execution_count": null,
   "metadata": {},
   "outputs": [],
   "source": []
  }
 ],
 "metadata": {
  "kernelspec": {
   "display_name": "R",
   "language": "R",
   "name": "ir"
  },
  "language_info": {
   "codemirror_mode": "r",
   "file_extension": ".r",
   "mimetype": "text/x-r-source",
   "name": "R",
   "pygments_lexer": "r",
   "version": "4.1.1"
  }
 },
 "nbformat": 4,
 "nbformat_minor": 4
}
