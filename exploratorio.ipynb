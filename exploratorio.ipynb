{
 "cells": [
  {
   "cell_type": "code",
   "execution_count": 1,
   "metadata": {},
   "outputs": [
    {
     "name": "stderr",
     "output_type": "stream",
     "text": [
      "\n",
      "Attaching package: 'olsrr'\n",
      "\n",
      "\n",
      "The following object is masked from 'package:datasets':\n",
      "\n",
      "    rivers\n",
      "\n",
      "\n",
      "\n",
      "Attaching package: 'MASS'\n",
      "\n",
      "\n",
      "The following object is masked from 'package:olsrr':\n",
      "\n",
      "    cement\n",
      "\n",
      "\n",
      "Warning message:\n",
      "\"package 'psych' was built under R version 4.1.2\"\n",
      "Warning message:\n",
      "\"package 'fitdistrplus' was built under R version 4.1.2\"\n",
      "Loading required package: survival\n",
      "\n"
     ]
    }
   ],
   "source": [
    "library(readr)\n",
    "library(readxl)\n",
    "library(olsrr)\n",
    "library(MASS)\n",
    "library(normtest)\n",
    "library(nortest)\n",
    "library(psych)\n",
    "library(fitdistrplus)"
   ]
  },
  {
   "cell_type": "markdown",
   "metadata": {},
   "source": [
    "### Cargado de la base de datos"
   ]
  },
  {
   "cell_type": "code",
   "execution_count": 2,
   "metadata": {},
   "outputs": [],
   "source": [
    "casen <- read_excel('CASEN_DB.xlsx')"
   ]
  },
  {
   "cell_type": "code",
   "execution_count": 3,
   "metadata": {},
   "outputs": [
    {
     "data": {
      "text/html": [
       "<table class=\"dataframe\">\n",
       "<caption>A tibble: 6 × 13</caption>\n",
       "<thead>\n",
       "\t<tr><th scope=col>X1</th><th scope=col>X2</th><th scope=col>X3</th><th scope=col>X4</th><th scope=col>X5</th><th scope=col>X6</th><th scope=col>V1</th><th scope=col>V2</th><th scope=col>Z1</th><th scope=col>E1</th><th scope=col>E2</th><th scope=col>R</th><th scope=col>O</th></tr>\n",
       "\t<tr><th scope=col>&lt;dbl&gt;</th><th scope=col>&lt;dbl&gt;</th><th scope=col>&lt;dbl&gt;</th><th scope=col>&lt;dbl&gt;</th><th scope=col>&lt;dbl&gt;</th><th scope=col>&lt;dbl&gt;</th><th scope=col>&lt;dbl&gt;</th><th scope=col>&lt;dbl&gt;</th><th scope=col>&lt;dbl&gt;</th><th scope=col>&lt;dbl&gt;</th><th scope=col>&lt;dbl&gt;</th><th scope=col>&lt;dbl&gt;</th><th scope=col>&lt;dbl&gt;</th></tr>\n",
       "</thead>\n",
       "<tbody>\n",
       "\t<tr><td>119410</td><td>260000</td><td>854170</td><td> 83340</td><td> 778376</td><td>100000</td><td>1</td><td>0</td><td>1</td><td>1</td><td>0</td><td>1</td><td>1</td></tr>\n",
       "\t<tr><td> 79610</td><td>100000</td><td>975000</td><td>125000</td><td> 585961</td><td>110000</td><td>0</td><td>1</td><td>1</td><td>1</td><td>0</td><td>0</td><td>0</td></tr>\n",
       "\t<tr><td> 39800</td><td>700000</td><td>662500</td><td>250000</td><td>2838385</td><td>120000</td><td>1</td><td>0</td><td>1</td><td>1</td><td>0</td><td>0</td><td>1</td></tr>\n",
       "\t<tr><td> 39800</td><td>700000</td><td>662500</td><td>250000</td><td>2838385</td><td>120000</td><td>1</td><td>0</td><td>1</td><td>1</td><td>0</td><td>0</td><td>1</td></tr>\n",
       "\t<tr><td>119410</td><td>320000</td><td>500000</td><td> 83330</td><td> 789907</td><td>100000</td><td>1</td><td>0</td><td>1</td><td>1</td><td>0</td><td>0</td><td>1</td></tr>\n",
       "\t<tr><td> 79610</td><td>700000</td><td>733330</td><td> 83330</td><td>1131115</td><td>120000</td><td>1</td><td>0</td><td>1</td><td>1</td><td>0</td><td>0</td><td>1</td></tr>\n",
       "</tbody>\n",
       "</table>\n"
      ],
      "text/latex": [
       "A tibble: 6 × 13\n",
       "\\begin{tabular}{lllllllllllll}\n",
       " X1 & X2 & X3 & X4 & X5 & X6 & V1 & V2 & Z1 & E1 & E2 & R & O\\\\\n",
       " <dbl> & <dbl> & <dbl> & <dbl> & <dbl> & <dbl> & <dbl> & <dbl> & <dbl> & <dbl> & <dbl> & <dbl> & <dbl>\\\\\n",
       "\\hline\n",
       "\t 119410 & 260000 & 854170 &  83340 &  778376 & 100000 & 1 & 0 & 1 & 1 & 0 & 1 & 1\\\\\n",
       "\t  79610 & 100000 & 975000 & 125000 &  585961 & 110000 & 0 & 1 & 1 & 1 & 0 & 0 & 0\\\\\n",
       "\t  39800 & 700000 & 662500 & 250000 & 2838385 & 120000 & 1 & 0 & 1 & 1 & 0 & 0 & 1\\\\\n",
       "\t  39800 & 700000 & 662500 & 250000 & 2838385 & 120000 & 1 & 0 & 1 & 1 & 0 & 0 & 1\\\\\n",
       "\t 119410 & 320000 & 500000 &  83330 &  789907 & 100000 & 1 & 0 & 1 & 1 & 0 & 0 & 1\\\\\n",
       "\t  79610 & 700000 & 733330 &  83330 & 1131115 & 120000 & 1 & 0 & 1 & 1 & 0 & 0 & 1\\\\\n",
       "\\end{tabular}\n"
      ],
      "text/markdown": [
       "\n",
       "A tibble: 6 × 13\n",
       "\n",
       "| X1 &lt;dbl&gt; | X2 &lt;dbl&gt; | X3 &lt;dbl&gt; | X4 &lt;dbl&gt; | X5 &lt;dbl&gt; | X6 &lt;dbl&gt; | V1 &lt;dbl&gt; | V2 &lt;dbl&gt; | Z1 &lt;dbl&gt; | E1 &lt;dbl&gt; | E2 &lt;dbl&gt; | R &lt;dbl&gt; | O &lt;dbl&gt; |\n",
       "|---|---|---|---|---|---|---|---|---|---|---|---|---|\n",
       "| 119410 | 260000 | 854170 |  83340 |  778376 | 100000 | 1 | 0 | 1 | 1 | 0 | 1 | 1 |\n",
       "|  79610 | 100000 | 975000 | 125000 |  585961 | 110000 | 0 | 1 | 1 | 1 | 0 | 0 | 0 |\n",
       "|  39800 | 700000 | 662500 | 250000 | 2838385 | 120000 | 1 | 0 | 1 | 1 | 0 | 0 | 1 |\n",
       "|  39800 | 700000 | 662500 | 250000 | 2838385 | 120000 | 1 | 0 | 1 | 1 | 0 | 0 | 1 |\n",
       "| 119410 | 320000 | 500000 |  83330 |  789907 | 100000 | 1 | 0 | 1 | 1 | 0 | 0 | 1 |\n",
       "|  79610 | 700000 | 733330 |  83330 | 1131115 | 120000 | 1 | 0 | 1 | 1 | 0 | 0 | 1 |\n",
       "\n"
      ],
      "text/plain": [
       "  X1     X2     X3     X4     X5      X6     V1 V2 Z1 E1 E2 R O\n",
       "1 119410 260000 854170  83340  778376 100000 1  0  1  1  0  1 1\n",
       "2  79610 100000 975000 125000  585961 110000 0  1  1  1  0  0 0\n",
       "3  39800 700000 662500 250000 2838385 120000 1  0  1  1  0  0 1\n",
       "4  39800 700000 662500 250000 2838385 120000 1  0  1  1  0  0 1\n",
       "5 119410 320000 500000  83330  789907 100000 1  0  1  1  0  0 1\n",
       "6  79610 700000 733330  83330 1131115 120000 1  0  1  1  0  0 1"
      ]
     },
     "metadata": {},
     "output_type": "display_data"
    }
   ],
   "source": [
    "head(casen)"
   ]
  },
  {
   "cell_type": "markdown",
   "metadata": {},
   "source": [
    "### Analisis exploratorio de las variables del modelo"
   ]
  },
  {
   "cell_type": "code",
   "execution_count": 4,
   "metadata": {},
   "outputs": [
    {
     "name": "stderr",
     "output_type": "stream",
     "text": [
      "\n",
      "Attaching package: 'ggplot2'\n",
      "\n",
      "\n",
      "The following objects are masked from 'package:psych':\n",
      "\n",
      "    %+%, alpha\n",
      "\n",
      "\n",
      "Warning message:\n",
      "\"package 'Hmisc' was built under R version 4.1.2\"\n",
      "\n",
      "Attaching package: 'Hmisc'\n",
      "\n",
      "\n",
      "The following object is masked from 'package:psych':\n",
      "\n",
      "    describe\n",
      "\n",
      "\n",
      "The following objects are masked from 'package:base':\n",
      "\n",
      "    format.pval, units\n",
      "\n",
      "\n"
     ]
    }
   ],
   "source": [
    "library(lattice)\n",
    "library(survival)\n",
    "library(Formula)\n",
    "library(ggplot2)\n",
    "library(\"Hmisc\")"
   ]
  },
  {
   "cell_type": "code",
   "execution_count": 5,
   "metadata": {},
   "outputs": [
    {
     "data": {
      "text/html": [
       "<table class=\"dataframe\">\n",
       "<caption>A matrix: 13 × 13 of type dbl</caption>\n",
       "<thead>\n",
       "\t<tr><th></th><th scope=col>X1</th><th scope=col>X2</th><th scope=col>X3</th><th scope=col>X4</th><th scope=col>X5</th><th scope=col>X6</th><th scope=col>V1</th><th scope=col>V2</th><th scope=col>Z1</th><th scope=col>E1</th><th scope=col>E2</th><th scope=col>R</th><th scope=col>O</th></tr>\n",
       "</thead>\n",
       "<tbody>\n",
       "\t<tr><th scope=row>X1</th><td> 1.00000000</td><td>-0.062869435</td><td> 0.42459215</td><td> 0.412631910</td><td> 0.13138674</td><td> 0.278130329</td><td>-0.08010020</td><td> 0.06687793</td><td>-0.07972155</td><td> 0.00624102</td><td>-0.077924308</td><td> 0.09031390</td><td> 0.032239130</td></tr>\n",
       "\t<tr><th scope=row>X2</th><td>-0.06286944</td><td> 1.000000000</td><td>-0.07836024</td><td> 0.032179844</td><td> 0.58971856</td><td>-0.002065386</td><td> 0.05620153</td><td>-0.03551505</td><td>-0.08716564</td><td>-0.08689130</td><td> 0.178592000</td><td>-0.11152996</td><td> 0.059856846</td></tr>\n",
       "\t<tr><th scope=row>X3</th><td> 0.42459215</td><td>-0.078360244</td><td> 1.00000000</td><td> 0.269735655</td><td> 0.17102606</td><td> 0.173324829</td><td>-0.12801639</td><td>-0.01357153</td><td>-0.04480766</td><td>-0.02508577</td><td>-0.117885114</td><td>-0.02364027</td><td>-0.038944697</td></tr>\n",
       "\t<tr><th scope=row>X4</th><td> 0.41263191</td><td> 0.032179844</td><td> 0.26973566</td><td> 1.000000000</td><td> 0.23670322</td><td> 0.119927485</td><td>-0.05484338</td><td>-0.01686337</td><td>-0.10871117</td><td>-0.10933648</td><td> 0.003723566</td><td>-0.03200759</td><td> 0.009512226</td></tr>\n",
       "\t<tr><th scope=row>X5</th><td> 0.13138674</td><td> 0.589718562</td><td> 0.17102606</td><td> 0.236703217</td><td> 1.00000000</td><td> 0.175212042</td><td>-0.22295358</td><td> 0.24682193</td><td>-0.15419502</td><td>-0.07448631</td><td> 0.068446164</td><td>-0.02435903</td><td> 0.045259829</td></tr>\n",
       "\t<tr><th scope=row>X6</th><td> 0.27813033</td><td>-0.002065386</td><td> 0.17332483</td><td> 0.119927485</td><td> 0.17521204</td><td> 1.000000000</td><td> 0.03652295</td><td>-0.02532014</td><td>-0.01212653</td><td> 0.06997058</td><td> 0.027266183</td><td> 0.11511137</td><td>-0.101805954</td></tr>\n",
       "\t<tr><th scope=row>V1</th><td>-0.08010020</td><td> 0.056201526</td><td>-0.12801639</td><td>-0.054843379</td><td>-0.22295358</td><td> 0.036522952</td><td> 1.00000000</td><td>-0.67817078</td><td> 0.30714756</td><td>-0.02686077</td><td> 0.121836337</td><td> 0.02461830</td><td> 0.000000000</td></tr>\n",
       "\t<tr><th scope=row>V2</th><td> 0.06687793</td><td>-0.035515047</td><td>-0.01357153</td><td>-0.016863373</td><td> 0.24682193</td><td>-0.025320140</td><td>-0.67817078</td><td> 1.00000000</td><td>-0.19810652</td><td>-0.03609813</td><td>-0.109681872</td><td>-0.02205632</td><td>-0.049080332</td></tr>\n",
       "\t<tr><th scope=row>Z1</th><td>-0.07972155</td><td>-0.087165640</td><td>-0.04480766</td><td>-0.108711168</td><td>-0.15419502</td><td>-0.012126528</td><td> 0.30714756</td><td>-0.19810652</td><td> 1.00000000</td><td> 0.18645494</td><td>-0.126850081</td><td> 0.11392585</td><td>-0.062816865</td></tr>\n",
       "\t<tr><th scope=row>E1</th><td> 0.00624102</td><td>-0.086891298</td><td>-0.02508577</td><td>-0.109336484</td><td>-0.07448631</td><td> 0.069970582</td><td>-0.02686077</td><td>-0.03609813</td><td> 0.18645494</td><td> 1.00000000</td><td>-0.573211504</td><td>-0.01835014</td><td> 0.039328325</td></tr>\n",
       "\t<tr><th scope=row>E2</th><td>-0.07792431</td><td> 0.178592000</td><td>-0.11788511</td><td> 0.003723566</td><td> 0.06844616</td><td> 0.027266183</td><td> 0.12183634</td><td>-0.10968187</td><td>-0.12685008</td><td>-0.57321150</td><td> 1.000000000</td><td> 0.00761387</td><td>-0.029124455</td></tr>\n",
       "\t<tr><th scope=row>R</th><td> 0.09031390</td><td>-0.111529961</td><td>-0.02364027</td><td>-0.032007586</td><td>-0.02435903</td><td> 0.115111371</td><td> 0.02461830</td><td>-0.02205632</td><td> 0.11392585</td><td>-0.01835014</td><td> 0.007613870</td><td> 1.00000000</td><td>-0.056642152</td></tr>\n",
       "\t<tr><th scope=row>O</th><td> 0.03223913</td><td> 0.059856846</td><td>-0.03894470</td><td> 0.009512226</td><td> 0.04525983</td><td>-0.101805954</td><td> 0.00000000</td><td>-0.04908033</td><td>-0.06281687</td><td> 0.03932833</td><td>-0.029124455</td><td>-0.05664215</td><td> 1.000000000</td></tr>\n",
       "</tbody>\n",
       "</table>\n"
      ],
      "text/latex": [
       "A matrix: 13 × 13 of type dbl\n",
       "\\begin{tabular}{r|lllllllllllll}\n",
       "  & X1 & X2 & X3 & X4 & X5 & X6 & V1 & V2 & Z1 & E1 & E2 & R & O\\\\\n",
       "\\hline\n",
       "\tX1 &  1.00000000 & -0.062869435 &  0.42459215 &  0.412631910 &  0.13138674 &  0.278130329 & -0.08010020 &  0.06687793 & -0.07972155 &  0.00624102 & -0.077924308 &  0.09031390 &  0.032239130\\\\\n",
       "\tX2 & -0.06286944 &  1.000000000 & -0.07836024 &  0.032179844 &  0.58971856 & -0.002065386 &  0.05620153 & -0.03551505 & -0.08716564 & -0.08689130 &  0.178592000 & -0.11152996 &  0.059856846\\\\\n",
       "\tX3 &  0.42459215 & -0.078360244 &  1.00000000 &  0.269735655 &  0.17102606 &  0.173324829 & -0.12801639 & -0.01357153 & -0.04480766 & -0.02508577 & -0.117885114 & -0.02364027 & -0.038944697\\\\\n",
       "\tX4 &  0.41263191 &  0.032179844 &  0.26973566 &  1.000000000 &  0.23670322 &  0.119927485 & -0.05484338 & -0.01686337 & -0.10871117 & -0.10933648 &  0.003723566 & -0.03200759 &  0.009512226\\\\\n",
       "\tX5 &  0.13138674 &  0.589718562 &  0.17102606 &  0.236703217 &  1.00000000 &  0.175212042 & -0.22295358 &  0.24682193 & -0.15419502 & -0.07448631 &  0.068446164 & -0.02435903 &  0.045259829\\\\\n",
       "\tX6 &  0.27813033 & -0.002065386 &  0.17332483 &  0.119927485 &  0.17521204 &  1.000000000 &  0.03652295 & -0.02532014 & -0.01212653 &  0.06997058 &  0.027266183 &  0.11511137 & -0.101805954\\\\\n",
       "\tV1 & -0.08010020 &  0.056201526 & -0.12801639 & -0.054843379 & -0.22295358 &  0.036522952 &  1.00000000 & -0.67817078 &  0.30714756 & -0.02686077 &  0.121836337 &  0.02461830 &  0.000000000\\\\\n",
       "\tV2 &  0.06687793 & -0.035515047 & -0.01357153 & -0.016863373 &  0.24682193 & -0.025320140 & -0.67817078 &  1.00000000 & -0.19810652 & -0.03609813 & -0.109681872 & -0.02205632 & -0.049080332\\\\\n",
       "\tZ1 & -0.07972155 & -0.087165640 & -0.04480766 & -0.108711168 & -0.15419502 & -0.012126528 &  0.30714756 & -0.19810652 &  1.00000000 &  0.18645494 & -0.126850081 &  0.11392585 & -0.062816865\\\\\n",
       "\tE1 &  0.00624102 & -0.086891298 & -0.02508577 & -0.109336484 & -0.07448631 &  0.069970582 & -0.02686077 & -0.03609813 &  0.18645494 &  1.00000000 & -0.573211504 & -0.01835014 &  0.039328325\\\\\n",
       "\tE2 & -0.07792431 &  0.178592000 & -0.11788511 &  0.003723566 &  0.06844616 &  0.027266183 &  0.12183634 & -0.10968187 & -0.12685008 & -0.57321150 &  1.000000000 &  0.00761387 & -0.029124455\\\\\n",
       "\tR &  0.09031390 & -0.111529961 & -0.02364027 & -0.032007586 & -0.02435903 &  0.115111371 &  0.02461830 & -0.02205632 &  0.11392585 & -0.01835014 &  0.007613870 &  1.00000000 & -0.056642152\\\\\n",
       "\tO &  0.03223913 &  0.059856846 & -0.03894470 &  0.009512226 &  0.04525983 & -0.101805954 &  0.00000000 & -0.04908033 & -0.06281687 &  0.03932833 & -0.029124455 & -0.05664215 &  1.000000000\\\\\n",
       "\\end{tabular}\n"
      ],
      "text/markdown": [
       "\n",
       "A matrix: 13 × 13 of type dbl\n",
       "\n",
       "| <!--/--> | X1 | X2 | X3 | X4 | X5 | X6 | V1 | V2 | Z1 | E1 | E2 | R | O |\n",
       "|---|---|---|---|---|---|---|---|---|---|---|---|---|---|\n",
       "| X1 |  1.00000000 | -0.062869435 |  0.42459215 |  0.412631910 |  0.13138674 |  0.278130329 | -0.08010020 |  0.06687793 | -0.07972155 |  0.00624102 | -0.077924308 |  0.09031390 |  0.032239130 |\n",
       "| X2 | -0.06286944 |  1.000000000 | -0.07836024 |  0.032179844 |  0.58971856 | -0.002065386 |  0.05620153 | -0.03551505 | -0.08716564 | -0.08689130 |  0.178592000 | -0.11152996 |  0.059856846 |\n",
       "| X3 |  0.42459215 | -0.078360244 |  1.00000000 |  0.269735655 |  0.17102606 |  0.173324829 | -0.12801639 | -0.01357153 | -0.04480766 | -0.02508577 | -0.117885114 | -0.02364027 | -0.038944697 |\n",
       "| X4 |  0.41263191 |  0.032179844 |  0.26973566 |  1.000000000 |  0.23670322 |  0.119927485 | -0.05484338 | -0.01686337 | -0.10871117 | -0.10933648 |  0.003723566 | -0.03200759 |  0.009512226 |\n",
       "| X5 |  0.13138674 |  0.589718562 |  0.17102606 |  0.236703217 |  1.00000000 |  0.175212042 | -0.22295358 |  0.24682193 | -0.15419502 | -0.07448631 |  0.068446164 | -0.02435903 |  0.045259829 |\n",
       "| X6 |  0.27813033 | -0.002065386 |  0.17332483 |  0.119927485 |  0.17521204 |  1.000000000 |  0.03652295 | -0.02532014 | -0.01212653 |  0.06997058 |  0.027266183 |  0.11511137 | -0.101805954 |\n",
       "| V1 | -0.08010020 |  0.056201526 | -0.12801639 | -0.054843379 | -0.22295358 |  0.036522952 |  1.00000000 | -0.67817078 |  0.30714756 | -0.02686077 |  0.121836337 |  0.02461830 |  0.000000000 |\n",
       "| V2 |  0.06687793 | -0.035515047 | -0.01357153 | -0.016863373 |  0.24682193 | -0.025320140 | -0.67817078 |  1.00000000 | -0.19810652 | -0.03609813 | -0.109681872 | -0.02205632 | -0.049080332 |\n",
       "| Z1 | -0.07972155 | -0.087165640 | -0.04480766 | -0.108711168 | -0.15419502 | -0.012126528 |  0.30714756 | -0.19810652 |  1.00000000 |  0.18645494 | -0.126850081 |  0.11392585 | -0.062816865 |\n",
       "| E1 |  0.00624102 | -0.086891298 | -0.02508577 | -0.109336484 | -0.07448631 |  0.069970582 | -0.02686077 | -0.03609813 |  0.18645494 |  1.00000000 | -0.573211504 | -0.01835014 |  0.039328325 |\n",
       "| E2 | -0.07792431 |  0.178592000 | -0.11788511 |  0.003723566 |  0.06844616 |  0.027266183 |  0.12183634 | -0.10968187 | -0.12685008 | -0.57321150 |  1.000000000 |  0.00761387 | -0.029124455 |\n",
       "| R |  0.09031390 | -0.111529961 | -0.02364027 | -0.032007586 | -0.02435903 |  0.115111371 |  0.02461830 | -0.02205632 |  0.11392585 | -0.01835014 |  0.007613870 |  1.00000000 | -0.056642152 |\n",
       "| O |  0.03223913 |  0.059856846 | -0.03894470 |  0.009512226 |  0.04525983 | -0.101805954 |  0.00000000 | -0.04908033 | -0.06281687 |  0.03932833 | -0.029124455 | -0.05664215 |  1.000000000 |\n",
       "\n"
      ],
      "text/plain": [
       "   X1          X2           X3          X4           X5          X6          \n",
       "X1  1.00000000 -0.062869435  0.42459215  0.412631910  0.13138674  0.278130329\n",
       "X2 -0.06286944  1.000000000 -0.07836024  0.032179844  0.58971856 -0.002065386\n",
       "X3  0.42459215 -0.078360244  1.00000000  0.269735655  0.17102606  0.173324829\n",
       "X4  0.41263191  0.032179844  0.26973566  1.000000000  0.23670322  0.119927485\n",
       "X5  0.13138674  0.589718562  0.17102606  0.236703217  1.00000000  0.175212042\n",
       "X6  0.27813033 -0.002065386  0.17332483  0.119927485  0.17521204  1.000000000\n",
       "V1 -0.08010020  0.056201526 -0.12801639 -0.054843379 -0.22295358  0.036522952\n",
       "V2  0.06687793 -0.035515047 -0.01357153 -0.016863373  0.24682193 -0.025320140\n",
       "Z1 -0.07972155 -0.087165640 -0.04480766 -0.108711168 -0.15419502 -0.012126528\n",
       "E1  0.00624102 -0.086891298 -0.02508577 -0.109336484 -0.07448631  0.069970582\n",
       "E2 -0.07792431  0.178592000 -0.11788511  0.003723566  0.06844616  0.027266183\n",
       "R   0.09031390 -0.111529961 -0.02364027 -0.032007586 -0.02435903  0.115111371\n",
       "O   0.03223913  0.059856846 -0.03894470  0.009512226  0.04525983 -0.101805954\n",
       "   V1          V2          Z1          E1          E2           R          \n",
       "X1 -0.08010020  0.06687793 -0.07972155  0.00624102 -0.077924308  0.09031390\n",
       "X2  0.05620153 -0.03551505 -0.08716564 -0.08689130  0.178592000 -0.11152996\n",
       "X3 -0.12801639 -0.01357153 -0.04480766 -0.02508577 -0.117885114 -0.02364027\n",
       "X4 -0.05484338 -0.01686337 -0.10871117 -0.10933648  0.003723566 -0.03200759\n",
       "X5 -0.22295358  0.24682193 -0.15419502 -0.07448631  0.068446164 -0.02435903\n",
       "X6  0.03652295 -0.02532014 -0.01212653  0.06997058  0.027266183  0.11511137\n",
       "V1  1.00000000 -0.67817078  0.30714756 -0.02686077  0.121836337  0.02461830\n",
       "V2 -0.67817078  1.00000000 -0.19810652 -0.03609813 -0.109681872 -0.02205632\n",
       "Z1  0.30714756 -0.19810652  1.00000000  0.18645494 -0.126850081  0.11392585\n",
       "E1 -0.02686077 -0.03609813  0.18645494  1.00000000 -0.573211504 -0.01835014\n",
       "E2  0.12183634 -0.10968187 -0.12685008 -0.57321150  1.000000000  0.00761387\n",
       "R   0.02461830 -0.02205632  0.11392585 -0.01835014  0.007613870  1.00000000\n",
       "O   0.00000000 -0.04908033 -0.06281687  0.03932833 -0.029124455 -0.05664215\n",
       "   O           \n",
       "X1  0.032239130\n",
       "X2  0.059856846\n",
       "X3 -0.038944697\n",
       "X4  0.009512226\n",
       "X5  0.045259829\n",
       "X6 -0.101805954\n",
       "V1  0.000000000\n",
       "V2 -0.049080332\n",
       "Z1 -0.062816865\n",
       "E1  0.039328325\n",
       "E2 -0.029124455\n",
       "R  -0.056642152\n",
       "O   1.000000000"
      ]
     },
     "metadata": {},
     "output_type": "display_data"
    }
   ],
   "source": [
    "cor(casen) #Matriz de correlación"
   ]
  },
  {
   "cell_type": "code",
   "execution_count": 6,
   "metadata": {},
   "outputs": [
    {
     "name": "stderr",
     "output_type": "stream",
     "text": [
      "Warning message:\n",
      "\"package 'corrplot' was built under R version 4.1.2\"\n",
      "corrplot 0.92 loaded\n",
      "\n"
     ]
    },
    {
     "data": {
      "text/html": [
       "<strong>png:</strong> 2"
      ],
      "text/latex": [
       "\\textbf{png:} 2"
      ],
      "text/markdown": [
       "**png:** 2"
      ],
      "text/plain": [
       "png \n",
       "  2 "
      ]
     },
     "metadata": {},
     "output_type": "display_data"
    },
    {
     "data": {
      "image/png": "[encoded data removed]",
      "text/plain": [
       "Plot with title \"\""
      ]
     },
     "metadata": {
      "image/png": {
       "height": 420,
       "width": 420
      }
     },
     "output_type": "display_data"
    }
   ],
   "source": [
    "library(corrplot)\n",
    "pdf(\"Plot_Corr.pdf\")\n",
    "    mat_cor=cor(casen)\n",
    "    corrplot(mat_cor, type=\"upper\", order=\"hclust\", tl.col=\"black\", tl.srt=45)\n",
    "dev.off()\n",
    "mat_cor=cor(casen)\n",
    "corrplot(mat_cor, type=\"upper\", order=\"hclust\", tl.col=\"black\", tl.srt=45)"
   ]
  },
  {
   "cell_type": "markdown",
   "metadata": {},
   "source": [
    "# Histogramas y diagramas de caja de cada Variable"
   ]
  },
  {
   "cell_type": "markdown",
   "metadata": {},
   "source": [
    "## X1 : Aporte familiar permanente."
   ]
  },
  {
   "cell_type": "code",
   "execution_count": 7,
   "metadata": {},
   "outputs": [
    {
     "data": {
      "text/html": [
       "<strong>png:</strong> 2"
      ],
      "text/latex": [
       "\\textbf{png:} 2"
      ],
      "text/markdown": [
       "**png:** 2"
      ],
      "text/plain": [
       "png \n",
       "  2 "
      ]
     },
     "metadata": {},
     "output_type": "display_data"
    }
   ],
   "source": [
    "pdf(\"Histo_AporteFamiliarPermanente.pdf\")\n",
    "hist_X1 <- hist(casen$X1, main=\"Aporte familiar permanente\",\n",
    "        xlab=\"Aporte familiar recibido [$]\",\n",
    "        prob = TRUE)\n",
    "dev.off()"
   ]
  },
  {
   "cell_type": "code",
   "execution_count": 8,
   "metadata": {},
   "outputs": [
    {
     "data": {
      "image/png": "[encoded data removed]",
      "text/plain": [
       "Plot with title \"Aporte familiar permanente\""
      ]
     },
     "metadata": {
      "image/png": {
       "height": 420,
       "width": 420
      }
     },
     "output_type": "display_data"
    }
   ],
   "source": [
    "hist_X1 <- hist(casen$X1, main=\"Aporte familiar permanente\",\n",
    "        xlab=\"Aporte familiar recibido [$]\",\n",
    "        prob = TRUE)"
   ]
  },
  {
   "cell_type": "code",
   "execution_count": 9,
   "metadata": {},
   "outputs": [
    {
     "data": {
      "text/html": [
       "<strong>png:</strong> 2"
      ],
      "text/latex": [
       "\\textbf{png:} 2"
      ],
      "text/markdown": [
       "**png:** 2"
      ],
      "text/plain": [
       "png \n",
       "  2 "
      ]
     },
     "metadata": {},
     "output_type": "display_data"
    },
    {
     "data": {
      "image/png": "[encoded data removed]",
      "text/plain": [
       "Plot with title \"Aporte Familiar Permanente.\""
      ]
     },
     "metadata": {
      "image/png": {
       "height": 420,
       "width": 420
      }
     },
     "output_type": "display_data"
    }
   ],
   "source": [
    "pdf(\"Box_AporteFamiliarPermanente.pdf\")\n",
    "box_charge <- boxplot(casen$X1, main=\"Aporte Familiar Permanente.\",\n",
    "                      ylab= \"Aporte familiar recibido [$]\")\n",
    "dev.off()\n",
    "box_charge <- boxplot(casen$X1, main=\"Aporte Familiar Permanente.\",\n",
    "                      ylab= \"Aporte familiar recibido [$]\")"
   ]
  },
  {
   "cell_type": "markdown",
   "metadata": {},
   "source": [
    "## X2 : Sueldo del mes anterior."
   ]
  },
  {
   "cell_type": "code",
   "execution_count": 10,
   "metadata": {},
   "outputs": [
    {
     "data": {
      "text/html": [
       "<strong>png:</strong> 2"
      ],
      "text/latex": [
       "\\textbf{png:} 2"
      ],
      "text/markdown": [
       "**png:** 2"
      ],
      "text/plain": [
       "png \n",
       "  2 "
      ]
     },
     "metadata": {},
     "output_type": "display_data"
    }
   ],
   "source": [
    "pdf(\"Histo_SueldoAnterior.pdf\")\n",
    "hist_X1 <- hist(casen$X2, main=\"Sueldo del mes anterior\",\n",
    "        xlab=\"Sueldo del mes anterior [$]\",\n",
    "        prob = TRUE)\n",
    "dev.off()"
   ]
  },
  {
   "cell_type": "code",
   "execution_count": 11,
   "metadata": {},
   "outputs": [
    {
     "data": {
      "image/png": "[encoded data removed]",
      "text/plain": [
       "Plot with title \"Sueldo del mes anterior\""
      ]
     },
     "metadata": {
      "image/png": {
       "height": 420,
       "width": 420
      }
     },
     "output_type": "display_data"
    }
   ],
   "source": [
    "hist_X1 <- hist(casen$X2, main=\"Sueldo del mes anterior\",\n",
    "        xlab=\"Sueldo del mes anterior [$]\",\n",
    "        prob = TRUE)"
   ]
  },
  {
   "cell_type": "code",
   "execution_count": 12,
   "metadata": {},
   "outputs": [
    {
     "data": {
      "text/html": [
       "<strong>png:</strong> 2"
      ],
      "text/latex": [
       "\\textbf{png:} 2"
      ],
      "text/markdown": [
       "**png:** 2"
      ],
      "text/plain": [
       "png \n",
       "  2 "
      ]
     },
     "metadata": {},
     "output_type": "display_data"
    },
    {
     "data": {
      "image/png": "[encoded data removed]",
      "text/plain": [
       "Plot with title \"Sueldo del mes anterior.\""
      ]
     },
     "metadata": {
      "image/png": {
       "height": 420,
       "width": 420
      }
     },
     "output_type": "display_data"
    }
   ],
   "source": [
    "pdf(\"Box_SueldoAnterior.pdf\")\n",
    "box_charge <- boxplot(casen$X2, main=\"Sueldo del mes anterior.\",\n",
    "                      ylab= \"Sueldo del mes anterior [$]\")\n",
    "dev.off()\n",
    "box_charge <- boxplot(casen$X2, main=\"Sueldo del mes anterior.\",\n",
    "                      ylab= \"Sueldo del mes anterior [$]\")"
   ]
  },
  {
   "cell_type": "markdown",
   "metadata": {},
   "source": [
    "## X3 : Ingreso Familiar de Emergencia."
   ]
  },
  {
   "cell_type": "code",
   "execution_count": 13,
   "metadata": {},
   "outputs": [
    {
     "data": {
      "text/html": [
       "<strong>png:</strong> 2"
      ],
      "text/latex": [
       "\\textbf{png:} 2"
      ],
      "text/markdown": [
       "**png:** 2"
      ],
      "text/plain": [
       "png \n",
       "  2 "
      ]
     },
     "metadata": {},
     "output_type": "display_data"
    },
    {
     "data": {
      "image/png": "[encoded data removed]",
      "text/plain": [
       "Plot with title \"Ingreso Familiar de Emergencia recibido\""
      ]
     },
     "metadata": {
      "image/png": {
       "height": 420,
       "width": 420
      }
     },
     "output_type": "display_data"
    }
   ],
   "source": [
    "pdf(\"Histo_IFE.pdf\")\n",
    "hist_X1 <- hist(casen$X3, main=\"Ingreso Familiar de Emergencia recibido\",\n",
    "        xlab=\"Ingreso Familiar de Emergencia [$]\",\n",
    "        prob = TRUE)\n",
    "dev.off()\n",
    "hist_X1 <- hist(casen$X3, main=\"Ingreso Familiar de Emergencia recibido\",\n",
    "        xlab=\"Ingreso Familiar de Emergencia [$]\",\n",
    "        prob = TRUE)"
   ]
  },
  {
   "cell_type": "code",
   "execution_count": 14,
   "metadata": {},
   "outputs": [
    {
     "data": {
      "text/html": [
       "<strong>png:</strong> 2"
      ],
      "text/latex": [
       "\\textbf{png:} 2"
      ],
      "text/markdown": [
       "**png:** 2"
      ],
      "text/plain": [
       "png \n",
       "  2 "
      ]
     },
     "metadata": {},
     "output_type": "display_data"
    },
    {
     "data": {
      "image/png": "[encoded data removed]",
      "text/plain": [
       "Plot with title \"Ingreso Familiar de Emergencia recibido.\""
      ]
     },
     "metadata": {
      "image/png": {
       "height": 420,
       "width": 420
      }
     },
     "output_type": "display_data"
    }
   ],
   "source": [
    "pdf(\"Box_IFE.pdf\")\n",
    "box_charge <- boxplot(casen$X3, main=\"Ingreso Familiar de Emergencia recibido.\",\n",
    "                      ylab= \"Ingreso Familiar de Emergencia [$]\")\n",
    "dev.off()\n",
    "box_charge <- boxplot(casen$X3, main=\"Ingreso Familiar de Emergencia recibido.\",\n",
    "                      ylab= \"Ingreso Familiar de Emergencia [$]\")"
   ]
  },
  {
   "cell_type": "markdown",
   "metadata": {},
   "source": [
    "## X4 : Bono de Emergencia Covid19"
   ]
  },
  {
   "cell_type": "code",
   "execution_count": 15,
   "metadata": {},
   "outputs": [
    {
     "data": {
      "text/html": [
       "<strong>png:</strong> 2"
      ],
      "text/latex": [
       "\\textbf{png:} 2"
      ],
      "text/markdown": [
       "**png:** 2"
      ],
      "text/plain": [
       "png \n",
       "  2 "
      ]
     },
     "metadata": {},
     "output_type": "display_data"
    },
    {
     "data": {
      "image/png": "[encoded data removed]",
      "text/plain": [
       "Plot with title \"Bono de Emergencia Covid19.\""
      ]
     },
     "metadata": {
      "image/png": {
       "height": 420,
       "width": 420
      }
     },
     "output_type": "display_data"
    }
   ],
   "source": [
    "pdf(\"Histo_BonoCovid.pdf\")\n",
    "hist_X1 <- hist(casen$X4, main=\"Bono de Emergencia Covid19 recibido.\",\n",
    "        xlab=\"Bono de Emergencia Covid19 [$]\",\n",
    "        prob = TRUE)\n",
    "dev.off()\n",
    "hist_X1 <- hist(casen$X4, main=\"Bono de Emergencia Covid19.\",\n",
    "        xlab=\"Bono de Emergencia Covid19 [$]\",\n",
    "        prob = TRUE)"
   ]
  },
  {
   "cell_type": "code",
   "execution_count": 16,
   "metadata": {},
   "outputs": [
    {
     "data": {
      "text/html": [
       "<strong>png:</strong> 2"
      ],
      "text/latex": [
       "\\textbf{png:} 2"
      ],
      "text/markdown": [
       "**png:** 2"
      ],
      "text/plain": [
       "png \n",
       "  2 "
      ]
     },
     "metadata": {},
     "output_type": "display_data"
    },
    {
     "data": {
      "image/png": "[encoded data removed]",
      "text/plain": [
       "Plot with title \"Bono de Emergencia Covid19.\""
      ]
     },
     "metadata": {
      "image/png": {
       "height": 420,
       "width": 420
      }
     },
     "output_type": "display_data"
    }
   ],
   "source": [
    "pdf(\"Box_IFE.pdf\")\n",
    "box_charge <- boxplot(casen$X4, main=\"Bono de Emergencia Covid19.\",\n",
    "                      ylab= \"Bono de Emergencia Covid19 [$]\")\n",
    "dev.off()\n",
    "box_charge <- boxplot(casen$X4, main=\"Bono de Emergencia Covid19.\",\n",
    "                      ylab= \"Bono de Emergencia Covid19 [$]\")"
   ]
  },
  {
   "cell_type": "markdown",
   "metadata": {},
   "source": [
    "## X5 : Ingreso Total del Hogar"
   ]
  },
  {
   "cell_type": "code",
   "execution_count": 17,
   "metadata": {},
   "outputs": [
    {
     "data": {
      "text/html": [
       "<strong>png:</strong> 2"
      ],
      "text/latex": [
       "\\textbf{png:} 2"
      ],
      "text/markdown": [
       "**png:** 2"
      ],
      "text/plain": [
       "png \n",
       "  2 "
      ]
     },
     "metadata": {},
     "output_type": "display_data"
    },
    {
     "data": {
      "image/png": "[encoded data removed]",
      "text/plain": [
       "Plot with title \"Ingreso total del hogar.\""
      ]
     },
     "metadata": {
      "image/png": {
       "height": 420,
       "width": 420
      }
     },
     "output_type": "display_data"
    }
   ],
   "source": [
    "pdf(\"Histo_IngresoHogar.pdf\")\n",
    "hist_X1 <- hist(casen$X5, main=\"Ingreso total del hogar.\",\n",
    "        xlab=\"Ingreso total del hogar [$]\",\n",
    "        prob = TRUE)\n",
    "dev.off()\n",
    "hist_X1 <- hist(casen$X5, main=\"Ingreso total del hogar.\",\n",
    "        xlab=\"Ingreso total del hogar [$]\",\n",
    "        prob = TRUE)"
   ]
  },
  {
   "cell_type": "code",
   "execution_count": 18,
   "metadata": {},
   "outputs": [
    {
     "data": {
      "text/html": [
       "<strong>png:</strong> 2"
      ],
      "text/latex": [
       "\\textbf{png:} 2"
      ],
      "text/markdown": [
       "**png:** 2"
      ],
      "text/plain": [
       "png \n",
       "  2 "
      ]
     },
     "metadata": {},
     "output_type": "display_data"
    },
    {
     "data": {
      "image/png": "[encoded data removed]",
      "text/plain": [
       "Plot with title \"Ingreso total del hogar.\""
      ]
     },
     "metadata": {
      "image/png": {
       "height": 420,
       "width": 420
      }
     },
     "output_type": "display_data"
    }
   ],
   "source": [
    "pdf(\"Box_IngresoHogar.pdf\")\n",
    "box_charge <- boxplot(casen$X5, main=\"Ingreso total del hogar.\",\n",
    "                      ylab= \"Ingreso total del hogar [$]\")\n",
    "dev.off()\n",
    "box_charge <- boxplot(casen$X5, main=\"Ingreso total del hogar.\",\n",
    "                      ylab= \"Ingreso total del hogar [$]\")"
   ]
  },
  {
   "cell_type": "markdown",
   "metadata": {},
   "source": [
    "## X6 : Pensión Alimenticia"
   ]
  },
  {
   "cell_type": "code",
   "execution_count": 19,
   "metadata": {},
   "outputs": [
    {
     "data": {
      "text/html": [
       "<strong>png:</strong> 2"
      ],
      "text/latex": [
       "\\textbf{png:} 2"
      ],
      "text/markdown": [
       "**png:** 2"
      ],
      "text/plain": [
       "png \n",
       "  2 "
      ]
     },
     "metadata": {},
     "output_type": "display_data"
    },
    {
     "data": {
      "image/png": "[encoded data removed]",
      "text/plain": [
       "Plot with title \"Pensión Alimenticia recibida por el hogar.\""
      ]
     },
     "metadata": {
      "image/png": {
       "height": 420,
       "width": 420
      }
     },
     "output_type": "display_data"
    }
   ],
   "source": [
    "pdf(\"Histo_PensionAlimenticia.pdf\")\n",
    "hist_X1 <- hist(casen$X6, main=\"Pensión Alimenticia recibida por el hogar.\",\n",
    "        xlab=\"Pensión Alimenticia recibida [$]\",\n",
    "        prob = TRUE)\n",
    "dev.off()\n",
    "hist_X1 <- hist(casen$X6, main=\"Pensión Alimenticia recibida por el hogar.\",\n",
    "        xlab=\"Pensión Alimenticia recibida [$]\",\n",
    "        prob = TRUE)"
   ]
  },
  {
   "cell_type": "code",
   "execution_count": 20,
   "metadata": {},
   "outputs": [
    {
     "data": {
      "text/html": [
       "<strong>png:</strong> 2"
      ],
      "text/latex": [
       "\\textbf{png:} 2"
      ],
      "text/markdown": [
       "**png:** 2"
      ],
      "text/plain": [
       "png \n",
       "  2 "
      ]
     },
     "metadata": {},
     "output_type": "display_data"
    },
    {
     "data": {
      "image/png": "[encoded data removed]",
      "text/plain": [
       "Plot with title \"Pensión Alimenticia recibida por el hogar.\""
      ]
     },
     "metadata": {
      "image/png": {
       "height": 420,
       "width": 420
      }
     },
     "output_type": "display_data"
    }
   ],
   "source": [
    "pdf(\"Box_PensionAlimenticia.pdf\")\n",
    "box_charge <- boxplot(casen$X5, main=\"Pensión Alimenticia recibida por el hogar.\",\n",
    "                      ylab= \"Pensión Alimenticia recibida [$]\")\n",
    "dev.off()\n",
    "box_charge <- boxplot(casen$X5, main=\"Pensión Alimenticia recibida por el hogar.\",\n",
    "                      ylab= \"Pensión Alimenticia recibida [$]\")"
   ]
  },
  {
   "cell_type": "markdown",
   "metadata": {},
   "source": [
    "## VB : Situación Habitacional\n",
    "0: Cedida, v1: Arrendada, v2: Propia"
   ]
  },
  {
   "cell_type": "code",
   "execution_count": 21,
   "metadata": {},
   "outputs": [
    {
     "data": {
      "text/plain": [
       "\n",
       "  0   1 \n",
       "141  47 "
      ]
     },
     "metadata": {},
     "output_type": "display_data"
    },
    {
     "data": {
      "text/plain": [
       "\n",
       "  0   1 \n",
       " 79 109 "
      ]
     },
     "metadata": {},
     "output_type": "display_data"
    },
    {
     "data": {
      "text/plain": [
       "\n",
       "  0   1 \n",
       " 32 156 "
      ]
     },
     "metadata": {},
     "output_type": "display_data"
    }
   ],
   "source": [
    "table(casen$V1)\n",
    "table(casen$V2)\n",
    "table(casen$V1 + casen$V2)"
   ]
  },
  {
   "cell_type": "markdown",
   "metadata": {},
   "source": [
    "### 47 arriendan, 109 son propietarios y 32 viven en domicilios cedidos"
   ]
  },
  {
   "cell_type": "code",
   "execution_count": 22,
   "metadata": {},
   "outputs": [
    {
     "data": {
      "text/html": [
       "<strong>png:</strong> 2"
      ],
      "text/latex": [
       "\\textbf{png:} 2"
      ],
      "text/markdown": [
       "**png:** 2"
      ],
      "text/plain": [
       "png \n",
       "  2 "
      ]
     },
     "metadata": {},
     "output_type": "display_data"
    }
   ],
   "source": [
    "pdf(\"Histo_Vivienda.pdf\")\n",
    "barplot(c(32/188, 47/188,109/188),\n",
    "        main = 'Situacion Habitacional en porcentaje',\n",
    "        xlab='Propiedades, 0: Cedidas, 1: Arrendadas, 2: Propietario')\n",
    "dev.off()"
   ]
  },
  {
   "cell_type": "code",
   "execution_count": 23,
   "metadata": {},
   "outputs": [
    {
     "data": {
      "image/png": "[encoded data removed]",
      "text/plain": [
       "Plot with title \"Situacion Habitacional en porcentaje\""
      ]
     },
     "metadata": {
      "image/png": {
       "height": 420,
       "width": 420
      }
     },
     "output_type": "display_data"
    }
   ],
   "source": [
    "barplot(c(32/188, 47/188,109/188),\n",
    "        main = 'Situacion Habitacional en porcentaje',\n",
    "        xlab='Propiedades, 0: Cedidas, 1: Arrendadas, 2: Propietario')"
   ]
  },
  {
   "cell_type": "markdown",
   "metadata": {},
   "source": [
    "## Zona : Zona donde vive. \n",
    "0: Rural, z1: Urbana"
   ]
  },
  {
   "cell_type": "code",
   "execution_count": 24,
   "metadata": {},
   "outputs": [
    {
     "data": {
      "text/html": [
       "<strong>png:</strong> 2"
      ],
      "text/latex": [
       "\\textbf{png:} 2"
      ],
      "text/markdown": [
       "**png:** 2"
      ],
      "text/plain": [
       "png \n",
       "  2 "
      ]
     },
     "metadata": {},
     "output_type": "display_data"
    },
    {
     "data": {
      "image/png": "[encoded data removed]",
      "text/plain": [
       "Plot with title \"Zona en que se encuentra la vivienda.\""
      ]
     },
     "metadata": {
      "image/png": {
       "height": 420,
       "width": 420
      }
     },
     "output_type": "display_data"
    }
   ],
   "source": [
    "pdf(\"Histo_ZonaVivienda.pdf\")\n",
    "hist_Z1 <- barplot(table(casen$Z1), main=\"Zona en que se encuentra la vivienda.\",\n",
    "        xlab=\"0: Zona Rural , 1: Zona Urbana\")\n",
    "dev.off()\n",
    "hist_Z1 <- barplot(table(casen$Z1), main=\"Zona en que se encuentra la vivienda.\",\n",
    "        xlab=\"0: Zona Rural , 1: Zona Urbana\")"
   ]
  },
  {
   "cell_type": "code",
   "execution_count": null,
   "metadata": {},
   "outputs": [],
   "source": []
  },
  {
   "cell_type": "markdown",
   "metadata": {},
   "source": [
    "## Educ: Nivel educacional alcanzado\n",
    "0: Enseñanza básica, E1: Enseñanza media, E2: Educación Superior"
   ]
  },
  {
   "cell_type": "code",
   "execution_count": 25,
   "metadata": {},
   "outputs": [
    {
     "data": {
      "text/plain": [
       "\n",
       "  0   1 \n",
       " 56 132 "
      ]
     },
     "metadata": {},
     "output_type": "display_data"
    },
    {
     "data": {
      "text/plain": [
       "\n",
       "  0   1 \n",
       "165  23 "
      ]
     },
     "metadata": {},
     "output_type": "display_data"
    },
    {
     "data": {
      "text/plain": [
       "\n",
       "  0   1 \n",
       " 33 155 "
      ]
     },
     "metadata": {},
     "output_type": "display_data"
    }
   ],
   "source": [
    "table(casen$E1)\n",
    "table(casen$E2)\n",
    "table(casen$E1 + casen$E2)"
   ]
  },
  {
   "cell_type": "markdown",
   "metadata": {},
   "source": [
    "### 33 alcanzan E. Basica, 132 E. Media y 23 Estudios superiores"
   ]
  },
  {
   "cell_type": "code",
   "execution_count": 26,
   "metadata": {},
   "outputs": [
    {
     "data": {
      "text/html": [
       "<strong>png:</strong> 2"
      ],
      "text/latex": [
       "\\textbf{png:} 2"
      ],
      "text/markdown": [
       "**png:** 2"
      ],
      "text/plain": [
       "png \n",
       "  2 "
      ]
     },
     "metadata": {},
     "output_type": "display_data"
    }
   ],
   "source": [
    "pdf(\"Histo_NivelEduc.pdf\")\n",
    "barplot(c(33, 132,23),\n",
    "        main = 'Nivel de Estudios',\n",
    "        xlab='Nivel de estudios, 0: E. Básica, 1: E. Media, 2: Estudios Superiores')\n",
    "dev.off()"
   ]
  },
  {
   "cell_type": "code",
   "execution_count": 27,
   "metadata": {},
   "outputs": [
    {
     "data": {
      "image/png": "[encoded data removed]",
      "text/plain": [
       "Plot with title \"Nivel de Estudios\""
      ]
     },
     "metadata": {
      "image/png": {
       "height": 420,
       "width": 420
      }
     },
     "output_type": "display_data"
    }
   ],
   "source": [
    "barplot(c(33, 132,23),\n",
    "        main = 'Nivel de Estudios',\n",
    "        xlab='Nivel de estudios, 0: E. Básica, 1: E. Media, 2: Estudios Superiores')"
   ]
  },
  {
   "cell_type": "markdown",
   "metadata": {},
   "source": [
    "# VEAMOS GRAFICOS DE DISPERSION"
   ]
  },
  {
   "cell_type": "code",
   "execution_count": 49,
   "metadata": {},
   "outputs": [],
   "source": [
    "regresion_X2   <- lm(casen$X1 ~ casen$X2 , data = casen)\n",
    "regresion_X3   <- lm(casen$X1 ~ casen$X3 , data = casen)\n",
    "regresion_X4  <- lm(casen$X1 ~ casen$X4  , data = casen)\n",
    "regresion_X5   <- lm(casen$X1 ~ casen$X5  , data = casen)\n",
    "regresion_X6   <- lm(casen$X1 ~ casen$X6  , data = casen) "
   ]
  },
  {
   "cell_type": "code",
   "execution_count": 43,
   "metadata": {},
   "outputs": [
    {
     "data": {
      "text/html": [
       "<strong>png:</strong> 2"
      ],
      "text/latex": [
       "\\textbf{png:} 2"
      ],
      "text/markdown": [
       "**png:** 2"
      ],
      "text/plain": [
       "png \n",
       "  2 "
      ]
     },
     "metadata": {},
     "output_type": "display_data"
    },
    {
     "data": {
      "image/png": "[encoded data removed]",
      "text/plain": [
       "Plot with title \"Aporte Familiar vs Sueldo anterior\""
      ]
     },
     "metadata": {
      "image/png": {
       "height": 420,
       "width": 420
      }
     },
     "output_type": "display_data"
    }
   ],
   "source": [
    "pdf(\"AporteFamiliar_vs_Sueldo.pdf\")\n",
    "plot(casen$X2 , casen$X1, xlab='Sueldo recibido el mes anterior', ylab='Aporte Familiar recibido', main='Aporte Familiar vs Sueldo anterior')\n",
    "abline(regresion_X2, col=\"red\")\n",
    "dev.off()\n",
    "plot(casen$X2 , casen$X1, xlab='Sueldo recibido el mes anterior', ylab='Aporte Familiar recibido', main='Aporte Familiar vs Sueldo anterior')\n",
    "abline(regresion_X2, col=\"red\")"
   ]
  },
  {
   "cell_type": "code",
   "execution_count": 44,
   "metadata": {},
   "outputs": [
    {
     "data": {
      "text/plain": [
       "\n",
       "Call:\n",
       "lm(formula = casen$X1 ~ casen$X2 - 1, data = casen)\n",
       "\n",
       "Residuals:\n",
       "    Min      1Q  Median      3Q     Max \n",
       "-151108  -11867   16077   56268  231613 \n",
       "\n",
       "Coefficients:\n",
       "         Estimate Std. Error t value Pr(>|t|)    \n",
       "casen$X2  0.25833    0.01415   18.26   <2e-16 ***\n",
       "---\n",
       "Signif. codes:  0 '***' 0.001 '**' 0.01 '*' 0.05 '.' 0.1 ' ' 1\n",
       "\n",
       "Residual standard error: 64910 on 187 degrees of freedom\n",
       "Multiple R-squared:  0.6407,\tAdjusted R-squared:  0.6388 \n",
       "F-statistic: 333.5 on 1 and 187 DF,  p-value: < 2.2e-16\n"
      ]
     },
     "metadata": {},
     "output_type": "display_data"
    }
   ],
   "source": [
    "summary(regresion_X2)"
   ]
  },
  {
   "cell_type": "code",
   "execution_count": 45,
   "metadata": {},
   "outputs": [
    {
     "data": {
      "text/html": [
       "<strong>png:</strong> 2"
      ],
      "text/latex": [
       "\\textbf{png:} 2"
      ],
      "text/markdown": [
       "**png:** 2"
      ],
      "text/plain": [
       "png \n",
       "  2 "
      ]
     },
     "metadata": {},
     "output_type": "display_data"
    },
    {
     "data": {
      "image/png": "[encoded data removed]",
      "text/plain": [
       "Plot with title \"Aporte Familiar vs IFE\""
      ]
     },
     "metadata": {
      "image/png": {
       "height": 420,
       "width": 420
      }
     },
     "output_type": "display_data"
    }
   ],
   "source": [
    "pdf(\"AporteFamiliar_vs_IFE.pdf\")\n",
    "plot(casen$X3 , casen$X1, xlab='Ingreso Familiar de Emergencia recibido', ylab='Aporte Familiar recibido', main='Aporte Familiar vs IFE')\n",
    "abline(regresion_X3, col=\"red\")\n",
    "dev.off()\n",
    "plot(casen$X3 , casen$X1, xlab='Ingreso Familiar de Emergencia recibido', ylab='Aporte Familiar recibido', main='Aporte Familiar vs IFE')\n",
    "abline(regresion_X3, col=\"red\")"
   ]
  },
  {
   "cell_type": "code",
   "execution_count": 46,
   "metadata": {},
   "outputs": [
    {
     "data": {
      "text/plain": [
       "\n",
       "Call:\n",
       "lm(formula = casen$X1 ~ casen$X3 - 1, data = casen)\n",
       "\n",
       "Residuals:\n",
       "    Min      1Q  Median      3Q     Max \n",
       "-115882  -10891   17822   52139  142373 \n",
       "\n",
       "Coefficients:\n",
       "         Estimate Std. Error t value Pr(>|t|)    \n",
       "casen$X3 0.092484   0.003937   23.49   <2e-16 ***\n",
       "---\n",
       "Signif. codes:  0 '***' 0.001 '**' 0.01 '*' 0.05 '.' 0.1 ' ' 1\n",
       "\n",
       "Residual standard error: 54480 on 187 degrees of freedom\n",
       "Multiple R-squared:  0.7469,\tAdjusted R-squared:  0.7455 \n",
       "F-statistic: 551.8 on 1 and 187 DF,  p-value: < 2.2e-16\n"
      ]
     },
     "metadata": {},
     "output_type": "display_data"
    }
   ],
   "source": [
    "summary(regresion_X3)"
   ]
  },
  {
   "cell_type": "code",
   "execution_count": 47,
   "metadata": {},
   "outputs": [
    {
     "data": {
      "text/html": [
       "<strong>png:</strong> 2"
      ],
      "text/latex": [
       "\\textbf{png:} 2"
      ],
      "text/markdown": [
       "**png:** 2"
      ],
      "text/plain": [
       "png \n",
       "  2 "
      ]
     },
     "metadata": {},
     "output_type": "display_data"
    },
    {
     "data": {
      "image/png": "[encoded data removed]",
      "text/plain": [
       "Plot with title \"Aporte Familiar vs Bono Covid19\""
      ]
     },
     "metadata": {
      "image/png": {
       "height": 420,
       "width": 420
      }
     },
     "output_type": "display_data"
    }
   ],
   "source": [
    "pdf(\"AporteFamiliar_vs_BonoCovid.pdf\")\n",
    "plot(casen$X4 , casen$X1, xlab='Bono Covid19 recibido', ylab='Aporte Familiar recibido', main='Aporte Familiar vs Bono Covid19')\n",
    "abline(regresion_X4, col=\"red\")\n",
    "dev.off()\n",
    "plot(casen$X4 , casen$X1, xlab='Bono Covid19 recibido', ylab='Aporte Familiar recibido', main='Aporte Familiar vs Bono Covid19')\n",
    "abline(regresion_X4, col=\"red\")"
   ]
  },
  {
   "cell_type": "code",
   "execution_count": 48,
   "metadata": {},
   "outputs": [
    {
     "data": {
      "text/plain": [
       "\n",
       "Call:\n",
       "lm(formula = casen$X1 ~ casen$X4, data = casen)\n",
       "\n",
       "Residuals:\n",
       "    Min      1Q  Median      3Q     Max \n",
       "-139104  -23125  -12243   16675  175892 \n",
       "\n",
       "Coefficients:\n",
       "             Estimate Std. Error t value Pr(>|t|)    \n",
       "(Intercept) 7.009e+04  5.430e+03  12.908   <2e-16 ***\n",
       "casen$X4    2.611e-01  4.227e-02   6.178    4e-09 ***\n",
       "---\n",
       "Signif. codes:  0 '***' 0.001 '**' 0.01 '*' 0.05 '.' 0.1 ' ' 1\n",
       "\n",
       "Residual standard error: 41920 on 186 degrees of freedom\n",
       "Multiple R-squared:  0.1703,\tAdjusted R-squared:  0.1658 \n",
       "F-statistic: 38.17 on 1 and 186 DF,  p-value: 3.997e-09\n"
      ]
     },
     "metadata": {},
     "output_type": "display_data"
    }
   ],
   "source": [
    "summary(regresion_X4)"
   ]
  },
  {
   "cell_type": "code",
   "execution_count": 35,
   "metadata": {},
   "outputs": [
    {
     "data": {
      "text/html": [
       "<strong>png:</strong> 2"
      ],
      "text/latex": [
       "\\textbf{png:} 2"
      ],
      "text/markdown": [
       "**png:** 2"
      ],
      "text/plain": [
       "png \n",
       "  2 "
      ]
     },
     "metadata": {},
     "output_type": "display_data"
    },
    {
     "data": {
      "image/png": "[encoded data removed]",
      "text/plain": [
       "Plot with title \"Aporte Familiar vs Ingreso del Hogar\""
      ]
     },
     "metadata": {
      "image/png": {
       "height": 420,
       "width": 420
      }
     },
     "output_type": "display_data"
    }
   ],
   "source": [
    "pdf(\"AporteFamiliar_vs_IngresoTotal.pdf\")\n",
    "plot(casen$X5 , casen$X1, xlab='Ingreso Total del Hogar', ylab='Aporte Familiar recibido', main='Aporte Familiar vs Ingreso del Hogar')\n",
    "abline(regresion_X5, col=\"red\")\n",
    "dev.off()\n",
    "plot(casen$X5 , casen$X1, xlab='Ingreso Total del Hogar', ylab='Aporte Familiar recibido', main='Aporte Familiar vs Ingreso del Hogar')\n",
    "abline(regresion_X5, col=\"red\")"
   ]
  },
  {
   "cell_type": "code",
   "execution_count": 36,
   "metadata": {},
   "outputs": [
    {
     "data": {
      "text/plain": [
       "\n",
       "Call:\n",
       "lm(formula = casen$X1 ~ casen$X5, data = casen)\n",
       "\n",
       "Residuals:\n",
       "   Min     1Q Median     3Q    Max \n",
       "-80378 -19642 -13259  23940 168744 \n",
       "\n",
       "Coefficients:\n",
       "             Estimate Std. Error t value Pr(>|t|)    \n",
       "(Intercept) 8.599e+04  7.339e+03  11.716   <2e-16 ***\n",
       "casen$X5    1.205e-02  6.663e-03   1.808   0.0723 .  \n",
       "---\n",
       "Signif. codes:  0 '***' 0.001 '**' 0.01 '*' 0.05 '.' 0.1 ' ' 1\n",
       "\n",
       "Residual standard error: 45620 on 186 degrees of freedom\n",
       "Multiple R-squared:  0.01726,\tAdjusted R-squared:  0.01198 \n",
       "F-statistic: 3.267 on 1 and 186 DF,  p-value: 0.07229\n"
      ]
     },
     "metadata": {},
     "output_type": "display_data"
    }
   ],
   "source": [
    "summary(regresion_X5)"
   ]
  },
  {
   "cell_type": "code",
   "execution_count": 37,
   "metadata": {},
   "outputs": [
    {
     "data": {
      "text/html": [
       "<strong>png:</strong> 2"
      ],
      "text/latex": [
       "\\textbf{png:} 2"
      ],
      "text/markdown": [
       "**png:** 2"
      ],
      "text/plain": [
       "png \n",
       "  2 "
      ]
     },
     "metadata": {},
     "output_type": "display_data"
    },
    {
     "data": {
      "image/png": "[encoded data removed]",
      "text/plain": [
       "Plot with title \"Aporte Familiar vs Pensión Alimenticia\""
      ]
     },
     "metadata": {
      "image/png": {
       "height": 420,
       "width": 420
      }
     },
     "output_type": "display_data"
    }
   ],
   "source": [
    "pdf(\"AporteFamiliar_vs_PensionAlimenticia.pdf\")\n",
    "plot(casen$X6 , casen$X1, xlab='Pensión Alimenticia recibida', ylab='Aporte Familiar recibido', main='Aporte Familiar vs Pensión Alimenticia')\n",
    "abline(regresion_X6, col=\"red\")\n",
    "dev.off()\n",
    "plot(casen$X6 , casen$X1, xlab='Pensión Alimenticia recibida', ylab='Aporte Familiar recibido', main='Aporte Familiar vs Pensión Alimenticia')\n",
    "abline(regresion_X6, col=\"red\")"
   ]
  },
  {
   "cell_type": "code",
   "execution_count": 38,
   "metadata": {},
   "outputs": [
    {
     "data": {
      "text/plain": [
       "\n",
       "Call:\n",
       "lm(formula = casen$X1 ~ casen$X6, data = casen)\n",
       "\n",
       "Residuals:\n",
       "   Min     1Q Median     3Q    Max \n",
       "-96671 -20147 -11416  24696 163408 \n",
       "\n",
       "Coefficients:\n",
       "             Estimate Std. Error t value Pr(>|t|)    \n",
       "(Intercept) 8.160e+04  5.220e+03  15.632  < 2e-16 ***\n",
       "casen$X6    1.345e-01  3.405e-02   3.949 0.000111 ***\n",
       "---\n",
       "Signif. codes:  0 '***' 0.001 '**' 0.01 '*' 0.05 '.' 0.1 ' ' 1\n",
       "\n",
       "Residual standard error: 44210 on 186 degrees of freedom\n",
       "Multiple R-squared:  0.07736,\tAdjusted R-squared:  0.0724 \n",
       "F-statistic: 15.59 on 1 and 186 DF,  p-value: 0.0001113\n"
      ]
     },
     "metadata": {},
     "output_type": "display_data"
    }
   ],
   "source": [
    "summary(regresion_X6)"
   ]
  }
 ],
 "metadata": {
  "kernelspec": {
   "display_name": "R",
   "language": "R",
   "name": "ir"
  },
  "language_info": {
   "codemirror_mode": "r",
   "file_extension": ".r",
   "mimetype": "text/x-r-source",
   "name": "R",
   "pygments_lexer": "r",
   "version": "4.1.1"
  }
 },
 "nbformat": 4,
 "nbformat_minor": 4
}
